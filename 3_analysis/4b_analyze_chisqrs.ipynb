{
 "cells": [
  {
   "cell_type": "markdown",
   "metadata": {},
   "source": [
    "# Extract data from output files\n",
    "### Analyze the output from a single LBANN run\n",
    "March 9, 2020 \\\n",
    "April 6, 2020 : to store files in order of epochs \\\n",
    "April 21, 2020: added jupyter widgets to compare pixel intensity plots \\\n",
    "July 30, 2020: Perform analysis with stored histograms."
   ]
  },
  {
   "cell_type": "code",
   "execution_count": 1,
   "metadata": {},
   "outputs": [],
   "source": [
    "import numpy as np\n",
    "import matplotlib.pyplot as plt\n",
    "import seaborn as sns\n",
    "import pandas as pd\n",
    "\n",
    "import subprocess as sp\n",
    "import os\n",
    "import glob\n",
    "import sys\n",
    "\n",
    "import itertools\n",
    "import time\n",
    "\n",
    "from ipywidgets import *"
   ]
  },
  {
   "cell_type": "code",
   "execution_count": 2,
   "metadata": {},
   "outputs": [],
   "source": [
    "%matplotlib widget"
   ]
  },
  {
   "cell_type": "code",
   "execution_count": 3,
   "metadata": {},
   "outputs": [],
   "source": [
    "sys.path.append('/global/u1/v/vpa/project/jpt_notebooks/Cosmology/Cosmo_GAN/repositories/lbann_cosmogan/3_analysis')\n",
    "from modules_image_analysis import *"
   ]
  },
  {
   "cell_type": "code",
   "execution_count": 4,
   "metadata": {},
   "outputs": [],
   "source": [
    "### Transformation functions for image pixel values\n",
    "def f_transform(x):\n",
    "    return 2.*x/(x + 4. + 1e-8) - 1.\n",
    "\n",
    "def f_invtransform(s):\n",
    "    return 4.*(1. + s)/(1. - s + 1e-8)"
   ]
  },
  {
   "cell_type": "markdown",
   "metadata": {},
   "source": [
    "## Extract folder"
   ]
  },
  {
   "cell_type": "code",
   "execution_count": 5,
   "metadata": {},
   "outputs": [
    {
     "data": {
      "application/vnd.jupyter.widget-view+json": {
       "model_id": "fe506674199c4a5f9da7433d1b4d4323",
       "version_major": 2,
       "version_minor": 0
      },
      "text/plain": [
       "interactive(children=(Select(description='x', options=('scratch', 'proj'), value='scratch'), Output()), _dom_c…"
      ]
     },
     "metadata": {},
     "output_type": "display_data"
    }
   ],
   "source": [
    "dict1={'scratch':'/global/cscratch1/sd/vpa/proj/cosmogan/results_dir/128square/',\n",
    "    'proj':'/global/cfs/cdirs/m3363/vayyar/cosmogan_data/results_data/'}\n",
    "\n",
    "u=interactive(lambda x: dict1[x], x=Select(options=dict1.keys()))\n",
    "display(u)\n"
   ]
  },
  {
   "cell_type": "code",
   "execution_count": 6,
   "metadata": {},
   "outputs": [
    {
     "data": {
      "application/vnd.jupyter.widget-view+json": {
       "model_id": "0dbe15f8f0ff434e97f580b7e236efee",
       "version_major": 2,
       "version_minor": 0
      },
      "text/plain": [
       "interactive(children=(Dropdown(description='x', options=('20200911_083711_bsize64_spec_test_128_nospec', '2020…"
      ]
     },
     "metadata": {},
     "output_type": "display_data"
    }
   ],
   "source": [
    "parent_dir=u.result\n",
    "dir_lst=[i.split('/')[-1] for i in glob.glob(parent_dir+'20*')]\n",
    "w=interactive(lambda x: x, x=Dropdown(options=dir_lst))\n",
    "display(w)"
   ]
  },
  {
   "cell_type": "code",
   "execution_count": 7,
   "metadata": {},
   "outputs": [
    {
     "name": "stdout",
     "output_type": "stream",
     "text": [
      "/global/cscratch1/sd/vpa/proj/cosmogan/results_dir/128square/20201030_072640_bsize64_no_adv\n"
     ]
    }
   ],
   "source": [
    "result=w.result\n",
    "main_dir=parent_dir+result\n",
    "print(main_dir)"
   ]
  },
  {
   "cell_type": "markdown",
   "metadata": {},
   "source": [
    "## Extract metrics info from log file"
   ]
  },
  {
   "cell_type": "code",
   "execution_count": 8,
   "metadata": {},
   "outputs": [],
   "source": [
    "def f_extract_info(fname):\n",
    "    '''\n",
    "    Module to extract information from out.log files of Lbann training\n",
    "    Reads in file name\n",
    "    '''\n",
    "    strg_lst=['objective','d_real','d_fake','gen','spec_loss','run time','mini-batch']\n",
    "    keys=['training_'+strg for strg in strg_lst]\n",
    "    dict1={}\n",
    "    for category in ['training','validation']:\n",
    "        for strg in strg_lst:\n",
    "            try: \n",
    "                key=category+'_'+strg\n",
    "                cmd='grep \"{0}\" {1} | grep \"{2}\"'.format(category,fname,strg)\n",
    "        #         print(cmd)\n",
    "                op1=sp.check_output(cmd,shell=True).decode('utf-8').split('\\n')\n",
    "                obj=np.array([strg.split(':')[-1] for strg in op1 if strg])\n",
    "                dict1[key]=obj\n",
    "            except Exception as e:\n",
    "                print(e)\n",
    "                dict1[key]=np.nan\n",
    "    \n",
    "    df=pd.DataFrame([])\n",
    "    key_lst=['training_objective', 'training_d_real', 'training_d_fake', 'training_gen', 'training_spec_loss','validation_objective', 'validation_d_real', 'validation_d_fake', 'validation_gen','validation_spec_loss']\n",
    "    col_list=['train_obj','train_dreal','train_dfake','train_gen','train_spec','val_obj','val_dreal','val_dfake','val_gen','val_spec']\n",
    "    for col,key in zip(col_list,key_lst):\n",
    "        try: \n",
    "            df[col]=dict1[key].astype(np.float)\n",
    "        except: pass\n",
    "\n",
    "    ### Need to remove the trailing 's' in the timings\n",
    "    for col,key in zip(['train_time','val_time'],['training_run time','validation_run time']):\n",
    "        df[col]=np.array([i[:-1] for i in dict1[key]]).astype(np.float)\n",
    "\n",
    "    for col,key in zip(['train_batch_stats','val_batch_stats'],['training_mini-batch','validation_mini-batch']):\n",
    "        df[col]=dict1[key]\n",
    "        \n",
    "    return df\n",
    "\n",
    "def f_plot_metrics(df,col_list=['train_obj']):\n",
    "    '''\n",
    "    Plot multiple columns of the dataframe\n",
    "    '''\n",
    "    plt.figure()\n",
    "    \n",
    "    marker_lst=('o','*','H','D','.','x')\n",
    "    marker=itertools.cycle(marker_lst)\n",
    "    for col in col_list: plt.plot(df[col],linestyle='',marker=next(marker),label=col)\n",
    "    plt.legend()\n",
    "    plt.xlabel('Epoch')\n",
    "    "
   ]
  },
  {
   "cell_type": "code",
   "execution_count": 9,
   "metadata": {},
   "outputs": [],
   "source": [
    "strg=main_dir+'/out.log'\n",
    "df_metrics=f_extract_info(glob.glob(strg)[0])"
   ]
  },
  {
   "cell_type": "code",
   "execution_count": 10,
   "metadata": {},
   "outputs": [
    {
     "data": {
      "text/html": [
       "<div>\n",
       "<style scoped>\n",
       "    .dataframe tbody tr th:only-of-type {\n",
       "        vertical-align: middle;\n",
       "    }\n",
       "\n",
       "    .dataframe tbody tr th {\n",
       "        vertical-align: top;\n",
       "    }\n",
       "\n",
       "    .dataframe thead th {\n",
       "        text-align: right;\n",
       "    }\n",
       "</style>\n",
       "<table border=\"1\" class=\"dataframe\">\n",
       "  <thead>\n",
       "    <tr style=\"text-align: right;\">\n",
       "      <th></th>\n",
       "      <th>train_obj</th>\n",
       "      <th>train_dreal</th>\n",
       "      <th>train_dfake</th>\n",
       "      <th>train_gen</th>\n",
       "      <th>train_spec</th>\n",
       "      <th>val_obj</th>\n",
       "      <th>val_dreal</th>\n",
       "      <th>val_dfake</th>\n",
       "      <th>val_gen</th>\n",
       "      <th>val_spec</th>\n",
       "      <th>train_time</th>\n",
       "      <th>val_time</th>\n",
       "      <th>train_batch_stats</th>\n",
       "      <th>val_batch_stats</th>\n",
       "    </tr>\n",
       "  </thead>\n",
       "  <tbody>\n",
       "    <tr>\n",
       "      <th>0</th>\n",
       "      <td>40.8020</td>\n",
       "      <td>0.076274</td>\n",
       "      <td>0.091411</td>\n",
       "      <td>7.97377</td>\n",
       "      <td>5.07929</td>\n",
       "      <td>40.4323</td>\n",
       "      <td>0.062280</td>\n",
       "      <td>0.061174</td>\n",
       "      <td>0.146947</td>\n",
       "      <td>5.03860</td>\n",
       "      <td>174.956</td>\n",
       "      <td>18.6701</td>\n",
       "      <td>0.0495697s mean, 3.40507s max, 0.018013s min,...</td>\n",
       "      <td>0.0476893s mean, 1.80061s max, 0.0133379s min...</td>\n",
       "    </tr>\n",
       "    <tr>\n",
       "      <th>1</th>\n",
       "      <td>40.3618</td>\n",
       "      <td>0.062311</td>\n",
       "      <td>0.061893</td>\n",
       "      <td>5.09521</td>\n",
       "      <td>5.02970</td>\n",
       "      <td>40.3294</td>\n",
       "      <td>0.055859</td>\n",
       "      <td>0.055527</td>\n",
       "      <td>0.057676</td>\n",
       "      <td>5.02725</td>\n",
       "      <td>183.664</td>\n",
       "      <td>14.4007</td>\n",
       "      <td>0.0520436s mean, 1.04747s max, 0.0277937s min...</td>\n",
       "      <td>0.0367715s mean, 0.7699s max, 0.0142252s min,...</td>\n",
       "    </tr>\n",
       "    <tr>\n",
       "      <th>2</th>\n",
       "      <td>40.3187</td>\n",
       "      <td>0.061565</td>\n",
       "      <td>0.059525</td>\n",
       "      <td>4.92271</td>\n",
       "      <td>5.02470</td>\n",
       "      <td>40.3386</td>\n",
       "      <td>0.060451</td>\n",
       "      <td>0.059045</td>\n",
       "      <td>0.063521</td>\n",
       "      <td>5.02738</td>\n",
       "      <td>169.156</td>\n",
       "      <td>13.9162</td>\n",
       "      <td>0.0479191s mean, 0.7856s max, 0.0194172s min,...</td>\n",
       "      <td>0.0355324s mean, 0.417156s max, 0.011705s min...</td>\n",
       "    </tr>\n",
       "    <tr>\n",
       "      <th>3</th>\n",
       "      <td>40.3005</td>\n",
       "      <td>0.060006</td>\n",
       "      <td>0.060363</td>\n",
       "      <td>4.86138</td>\n",
       "      <td>5.02252</td>\n",
       "      <td>40.3004</td>\n",
       "      <td>0.061581</td>\n",
       "      <td>0.061746</td>\n",
       "      <td>0.043963</td>\n",
       "      <td>5.02213</td>\n",
       "      <td>170.507</td>\n",
       "      <td>12.5547</td>\n",
       "      <td>0.0483025s mean, 1.01236s max, 0.0186408s min...</td>\n",
       "      <td>0.0320475s mean, 0.900836s max, 0.0118082s mi...</td>\n",
       "    </tr>\n",
       "    <tr>\n",
       "      <th>4</th>\n",
       "      <td>40.2807</td>\n",
       "      <td>0.055643</td>\n",
       "      <td>0.055290</td>\n",
       "      <td>4.84553</td>\n",
       "      <td>5.02122</td>\n",
       "      <td>40.2946</td>\n",
       "      <td>0.059355</td>\n",
       "      <td>0.056690</td>\n",
       "      <td>0.012427</td>\n",
       "      <td>5.02232</td>\n",
       "      <td>174.757</td>\n",
       "      <td>13.3806</td>\n",
       "      <td>0.0495121s mean, 0.96741s max, 0.0278907s min...</td>\n",
       "      <td>0.0341637s mean, 0.471293s max, 0.0119462s mi...</td>\n",
       "    </tr>\n",
       "  </tbody>\n",
       "</table>\n",
       "</div>"
      ],
      "text/plain": [
       "   train_obj  train_dreal  train_dfake  train_gen  train_spec  val_obj  \\\n",
       "0    40.8020     0.076274     0.091411    7.97377     5.07929  40.4323   \n",
       "1    40.3618     0.062311     0.061893    5.09521     5.02970  40.3294   \n",
       "2    40.3187     0.061565     0.059525    4.92271     5.02470  40.3386   \n",
       "3    40.3005     0.060006     0.060363    4.86138     5.02252  40.3004   \n",
       "4    40.2807     0.055643     0.055290    4.84553     5.02122  40.2946   \n",
       "\n",
       "   val_dreal  val_dfake   val_gen  val_spec  train_time  val_time  \\\n",
       "0   0.062280   0.061174  0.146947   5.03860     174.956   18.6701   \n",
       "1   0.055859   0.055527  0.057676   5.02725     183.664   14.4007   \n",
       "2   0.060451   0.059045  0.063521   5.02738     169.156   13.9162   \n",
       "3   0.061581   0.061746  0.043963   5.02213     170.507   12.5547   \n",
       "4   0.059355   0.056690  0.012427   5.02232     174.757   13.3806   \n",
       "\n",
       "                                   train_batch_stats  \\\n",
       "0   0.0495697s mean, 3.40507s max, 0.018013s min,...   \n",
       "1   0.0520436s mean, 1.04747s max, 0.0277937s min...   \n",
       "2   0.0479191s mean, 0.7856s max, 0.0194172s min,...   \n",
       "3   0.0483025s mean, 1.01236s max, 0.0186408s min...   \n",
       "4   0.0495121s mean, 0.96741s max, 0.0278907s min...   \n",
       "\n",
       "                                     val_batch_stats  \n",
       "0   0.0476893s mean, 1.80061s max, 0.0133379s min...  \n",
       "1   0.0367715s mean, 0.7699s max, 0.0142252s min,...  \n",
       "2   0.0355324s mean, 0.417156s max, 0.011705s min...  \n",
       "3   0.0320475s mean, 0.900836s max, 0.0118082s mi...  \n",
       "4   0.0341637s mean, 0.471293s max, 0.0119462s mi...  "
      ]
     },
     "execution_count": 10,
     "metadata": {},
     "output_type": "execute_result"
    }
   ],
   "source": [
    "df_metrics.head()"
   ]
  },
  {
   "cell_type": "code",
   "execution_count": 11,
   "metadata": {},
   "outputs": [
    {
     "data": {
      "application/vnd.jupyter.widget-view+json": {
       "model_id": "367f8765e0e74ac2bfaae2f1c576feec",
       "version_major": 2,
       "version_minor": 0
      },
      "text/plain": [
       "interactive(children=(SelectMultiple(description='col_list', options=('train_obj', 'train_dreal', 'train_dfake…"
      ]
     },
     "metadata": {},
     "output_type": "display_data"
    },
    {
     "data": {
      "text/plain": [
       "<function __main__.f_plot_metrics(df, col_list=['train_obj'])>"
      ]
     },
     "execution_count": 11,
     "metadata": {},
     "output_type": "execute_result"
    }
   ],
   "source": [
    "col_list=df_metrics.columns[~df_metrics.columns.str.endswith('stats')]\n",
    "interact_manual(f_plot_metrics,col_list=SelectMultiple(options=col_list),df=fixed(df_metrics))\n",
    "\n"
   ]
  },
  {
   "cell_type": "markdown",
   "metadata": {},
   "source": [
    "## Extract data from stored dataframe"
   ]
  },
  {
   "cell_type": "code",
   "execution_count": 12,
   "metadata": {},
   "outputs": [],
   "source": [
    "### Load data\n",
    "df=pd.read_pickle(main_dir+'/df_processed.pkle')\n",
    "df[['epoch','step']]=df[['epoch','step']].astype(int)\n",
    "df['label']=df.epoch.astype(str)+'-'+df.step.astype(str) # Add label column for plotting"
   ]
  },
  {
   "cell_type": "code",
   "execution_count": 13,
   "metadata": {},
   "outputs": [
    {
     "name": "stdout",
     "output_type": "stream",
     "text": [
      "(105480, 20)\n"
     ]
    },
    {
     "data": {
      "text/html": [
       "<div>\n",
       "<style scoped>\n",
       "    .dataframe tbody tr th:only-of-type {\n",
       "        vertical-align: middle;\n",
       "    }\n",
       "\n",
       "    .dataframe tbody tr th {\n",
       "        vertical-align: top;\n",
       "    }\n",
       "\n",
       "    .dataframe thead th {\n",
       "        text-align: right;\n",
       "    }\n",
       "</style>\n",
       "<table border=\"1\" class=\"dataframe\">\n",
       "  <thead>\n",
       "    <tr style=\"text-align: right;\">\n",
       "      <th></th>\n",
       "      <th>epoch</th>\n",
       "      <th>step</th>\n",
       "      <th>img_type</th>\n",
       "      <th>fname</th>\n",
       "      <th>chi_1a</th>\n",
       "      <th>chi_1b</th>\n",
       "      <th>chi_1c</th>\n",
       "      <th>chi_1</th>\n",
       "      <th>chi_2</th>\n",
       "      <th>chi_imgvar</th>\n",
       "      <th>chi_spec1</th>\n",
       "      <th>chi_spec2</th>\n",
       "      <th>num_large</th>\n",
       "      <th>num_vlarge</th>\n",
       "      <th>hist_val</th>\n",
       "      <th>hist_err</th>\n",
       "      <th>hist_bin_centers</th>\n",
       "      <th>spec_val</th>\n",
       "      <th>spec_err</th>\n",
       "      <th>label</th>\n",
       "    </tr>\n",
       "  </thead>\n",
       "  <tbody>\n",
       "    <tr>\n",
       "      <th>0</th>\n",
       "      <td>0</td>\n",
       "      <td>0</td>\n",
       "      <td>train_gen</td>\n",
       "      <td>/global/cscratch1/sd/vpa/proj/cosmogan/results...</td>\n",
       "      <td>188.919404</td>\n",
       "      <td>4.752520</td>\n",
       "      <td>0.013036</td>\n",
       "      <td>193.684960</td>\n",
       "      <td>12.402488</td>\n",
       "      <td>26.132530</td>\n",
       "      <td>17729.620094</td>\n",
       "      <td>2.068158e+07</td>\n",
       "      <td>0</td>\n",
       "      <td>0</td>\n",
       "      <td>[0.00021404027994051573, 0.05836540469577179, ...</td>\n",
       "      <td>[5.26696921090502e-05, 0.00262919138735563, 0....</td>\n",
       "      <td>[-1.031746031584782, -0.6161616169043975, -0.3...</td>\n",
       "      <td>[2266.70275271032, 1044.6298010309226, 826.267...</td>\n",
       "      <td>[68.58417320455962, 37.496178009155265, 32.861...</td>\n",
       "      <td>0-0</td>\n",
       "    </tr>\n",
       "    <tr>\n",
       "      <th>1</th>\n",
       "      <td>0</td>\n",
       "      <td>1</td>\n",
       "      <td>train_gen</td>\n",
       "      <td>/global/cscratch1/sd/vpa/proj/cosmogan/results...</td>\n",
       "      <td>238.507563</td>\n",
       "      <td>5.333524</td>\n",
       "      <td>0.013186</td>\n",
       "      <td>243.854272</td>\n",
       "      <td>14.271373</td>\n",
       "      <td>31.088954</td>\n",
       "      <td>8926.736292</td>\n",
       "      <td>1.104989e+07</td>\n",
       "      <td>0</td>\n",
       "      <td>0</td>\n",
       "      <td>[5.0693750512227395e-05, 0.02997636799661518, ...</td>\n",
       "      <td>[1.2111174322443983e-05, 0.0016252022154385672...</td>\n",
       "      <td>[-1.031746031584782, -0.6161616169043975, -0.3...</td>\n",
       "      <td>[5380.415806778707, 1882.6894395637264, 1255.5...</td>\n",
       "      <td>[173.33113652735864, 60.374580587056485, 39.78...</td>\n",
       "      <td>0-1</td>\n",
       "    </tr>\n",
       "    <tr>\n",
       "      <th>2</th>\n",
       "      <td>0</td>\n",
       "      <td>2</td>\n",
       "      <td>train_gen</td>\n",
       "      <td>/global/cscratch1/sd/vpa/proj/cosmogan/results...</td>\n",
       "      <td>306.525973</td>\n",
       "      <td>6.977621</td>\n",
       "      <td>0.013186</td>\n",
       "      <td>313.516780</td>\n",
       "      <td>16.628523</td>\n",
       "      <td>35.783426</td>\n",
       "      <td>5553.641825</td>\n",
       "      <td>8.492108e+06</td>\n",
       "      <td>0</td>\n",
       "      <td>0</td>\n",
       "      <td>[7.510185261070727e-06, 0.013816863319699692, ...</td>\n",
       "      <td>[3.635852805382416e-06, 0.0007983249998404476,...</td>\n",
       "      <td>[-1.031746031584782, -0.6161616169043975, -0.3...</td>\n",
       "      <td>[12367.983792795334, 3665.5671864400974, 2255....</td>\n",
       "      <td>[301.26794961431574, 97.75754271703867, 64.377...</td>\n",
       "      <td>0-2</td>\n",
       "    </tr>\n",
       "    <tr>\n",
       "      <th>3</th>\n",
       "      <td>0</td>\n",
       "      <td>3</td>\n",
       "      <td>train_gen</td>\n",
       "      <td>/global/cscratch1/sd/vpa/proj/cosmogan/results...</td>\n",
       "      <td>407.756221</td>\n",
       "      <td>10.432857</td>\n",
       "      <td>0.013186</td>\n",
       "      <td>418.202263</td>\n",
       "      <td>19.775777</td>\n",
       "      <td>39.637780</td>\n",
       "      <td>4773.594189</td>\n",
       "      <td>1.100151e+07</td>\n",
       "      <td>0</td>\n",
       "      <td>0</td>\n",
       "      <td>[0.0, 0.0050806403238357585, 0.128989845624795...</td>\n",
       "      <td>[0.0, 0.0003324106489253007, 0.002421003735140...</td>\n",
       "      <td>[-1.031746031584782, -0.6161616169043975, -0.3...</td>\n",
       "      <td>[21902.86684275791, 6149.352097958418, 3553.02...</td>\n",
       "      <td>[524.5239781223627, 152.36700498473846, 83.203...</td>\n",
       "      <td>0-3</td>\n",
       "    </tr>\n",
       "    <tr>\n",
       "      <th>4</th>\n",
       "      <td>0</td>\n",
       "      <td>4</td>\n",
       "      <td>train_gen</td>\n",
       "      <td>/global/cscratch1/sd/vpa/proj/cosmogan/results...</td>\n",
       "      <td>558.621431</td>\n",
       "      <td>17.987106</td>\n",
       "      <td>0.013186</td>\n",
       "      <td>576.621723</td>\n",
       "      <td>24.191412</td>\n",
       "      <td>44.686587</td>\n",
       "      <td>5043.314563</td>\n",
       "      <td>1.393265e+07</td>\n",
       "      <td>0</td>\n",
       "      <td>0</td>\n",
       "      <td>[0.0, 0.0009736418739058081, 0.061062097601746...</td>\n",
       "      <td>[0.0, 7.408091242751353e-05, 0.001451086926648...</td>\n",
       "      <td>[-1.031746031584782, -0.6161616169043975, -0.3...</td>\n",
       "      <td>[32610.217919546645, 8960.136380770708, 5103.8...</td>\n",
       "      <td>[638.5630870288279, 174.40569575426963, 113.26...</td>\n",
       "      <td>0-4</td>\n",
       "    </tr>\n",
       "  </tbody>\n",
       "</table>\n",
       "</div>"
      ],
      "text/plain": [
       "   epoch  step   img_type                                              fname  \\\n",
       "0      0     0  train_gen  /global/cscratch1/sd/vpa/proj/cosmogan/results...   \n",
       "1      0     1  train_gen  /global/cscratch1/sd/vpa/proj/cosmogan/results...   \n",
       "2      0     2  train_gen  /global/cscratch1/sd/vpa/proj/cosmogan/results...   \n",
       "3      0     3  train_gen  /global/cscratch1/sd/vpa/proj/cosmogan/results...   \n",
       "4      0     4  train_gen  /global/cscratch1/sd/vpa/proj/cosmogan/results...   \n",
       "\n",
       "       chi_1a     chi_1b    chi_1c       chi_1      chi_2  chi_imgvar  \\\n",
       "0  188.919404   4.752520  0.013036  193.684960  12.402488   26.132530   \n",
       "1  238.507563   5.333524  0.013186  243.854272  14.271373   31.088954   \n",
       "2  306.525973   6.977621  0.013186  313.516780  16.628523   35.783426   \n",
       "3  407.756221  10.432857  0.013186  418.202263  19.775777   39.637780   \n",
       "4  558.621431  17.987106  0.013186  576.621723  24.191412   44.686587   \n",
       "\n",
       "      chi_spec1     chi_spec2  num_large  num_vlarge  \\\n",
       "0  17729.620094  2.068158e+07          0           0   \n",
       "1   8926.736292  1.104989e+07          0           0   \n",
       "2   5553.641825  8.492108e+06          0           0   \n",
       "3   4773.594189  1.100151e+07          0           0   \n",
       "4   5043.314563  1.393265e+07          0           0   \n",
       "\n",
       "                                            hist_val  \\\n",
       "0  [0.00021404027994051573, 0.05836540469577179, ...   \n",
       "1  [5.0693750512227395e-05, 0.02997636799661518, ...   \n",
       "2  [7.510185261070727e-06, 0.013816863319699692, ...   \n",
       "3  [0.0, 0.0050806403238357585, 0.128989845624795...   \n",
       "4  [0.0, 0.0009736418739058081, 0.061062097601746...   \n",
       "\n",
       "                                            hist_err  \\\n",
       "0  [5.26696921090502e-05, 0.00262919138735563, 0....   \n",
       "1  [1.2111174322443983e-05, 0.0016252022154385672...   \n",
       "2  [3.635852805382416e-06, 0.0007983249998404476,...   \n",
       "3  [0.0, 0.0003324106489253007, 0.002421003735140...   \n",
       "4  [0.0, 7.408091242751353e-05, 0.001451086926648...   \n",
       "\n",
       "                                    hist_bin_centers  \\\n",
       "0  [-1.031746031584782, -0.6161616169043975, -0.3...   \n",
       "1  [-1.031746031584782, -0.6161616169043975, -0.3...   \n",
       "2  [-1.031746031584782, -0.6161616169043975, -0.3...   \n",
       "3  [-1.031746031584782, -0.6161616169043975, -0.3...   \n",
       "4  [-1.031746031584782, -0.6161616169043975, -0.3...   \n",
       "\n",
       "                                            spec_val  \\\n",
       "0  [2266.70275271032, 1044.6298010309226, 826.267...   \n",
       "1  [5380.415806778707, 1882.6894395637264, 1255.5...   \n",
       "2  [12367.983792795334, 3665.5671864400974, 2255....   \n",
       "3  [21902.86684275791, 6149.352097958418, 3553.02...   \n",
       "4  [32610.217919546645, 8960.136380770708, 5103.8...   \n",
       "\n",
       "                                            spec_err label  \n",
       "0  [68.58417320455962, 37.496178009155265, 32.861...   0-0  \n",
       "1  [173.33113652735864, 60.374580587056485, 39.78...   0-1  \n",
       "2  [301.26794961431574, 97.75754271703867, 64.377...   0-2  \n",
       "3  [524.5239781223627, 152.36700498473846, 83.203...   0-3  \n",
       "4  [638.5630870288279, 174.40569575426963, 113.26...   0-4  "
      ]
     },
     "execution_count": 13,
     "metadata": {},
     "output_type": "execute_result"
    }
   ],
   "source": [
    "print(df.shape)\n",
    "df.head()\n"
   ]
  },
  {
   "cell_type": "code",
   "execution_count": null,
   "metadata": {},
   "outputs": [],
   "source": []
  },
  {
   "cell_type": "markdown",
   "metadata": {},
   "source": [
    "### View best epochs"
   ]
  },
  {
   "cell_type": "markdown",
   "metadata": {},
   "source": [
    "#### Locations with best chi_sqr"
   ]
  },
  {
   "cell_type": "code",
   "execution_count": 14,
   "metadata": {},
   "outputs": [
    {
     "data": {
      "text/html": [
       "<div>\n",
       "<style scoped>\n",
       "    .dataframe tbody tr th:only-of-type {\n",
       "        vertical-align: middle;\n",
       "    }\n",
       "\n",
       "    .dataframe tbody tr th {\n",
       "        vertical-align: top;\n",
       "    }\n",
       "\n",
       "    .dataframe thead th {\n",
       "        text-align: right;\n",
       "    }\n",
       "</style>\n",
       "<table border=\"1\" class=\"dataframe\">\n",
       "  <thead>\n",
       "    <tr style=\"text-align: right;\">\n",
       "      <th></th>\n",
       "      <th>epoch</th>\n",
       "      <th>step</th>\n",
       "      <th>chi_1a</th>\n",
       "      <th>chi_1b</th>\n",
       "      <th>chi_1c</th>\n",
       "      <th>chi_1</th>\n",
       "      <th>chi_2</th>\n",
       "      <th>chi_imgvar</th>\n",
       "      <th>chi_spec1</th>\n",
       "      <th>chi_spec2</th>\n",
       "    </tr>\n",
       "  </thead>\n",
       "  <tbody>\n",
       "    <tr>\n",
       "      <th>335</th>\n",
       "      <td>0</td>\n",
       "      <td>335</td>\n",
       "      <td>8.501149</td>\n",
       "      <td>10678.354143</td>\n",
       "      <td>0.009205</td>\n",
       "      <td>10686.864497</td>\n",
       "      <td>139.695985</td>\n",
       "      <td>45.541814</td>\n",
       "      <td>13.488987</td>\n",
       "      <td>2.128461e+06</td>\n",
       "    </tr>\n",
       "    <tr>\n",
       "      <th>0</th>\n",
       "      <td>0</td>\n",
       "      <td>0</td>\n",
       "      <td>188.919404</td>\n",
       "      <td>4.752520</td>\n",
       "      <td>0.013036</td>\n",
       "      <td>193.684960</td>\n",
       "      <td>12.402488</td>\n",
       "      <td>26.132530</td>\n",
       "      <td>17729.620094</td>\n",
       "      <td>2.068158e+07</td>\n",
       "    </tr>\n",
       "    <tr>\n",
       "      <th>23</th>\n",
       "      <td>0</td>\n",
       "      <td>23</td>\n",
       "      <td>427.925090</td>\n",
       "      <td>4040.671493</td>\n",
       "      <td>0.007937</td>\n",
       "      <td>4468.604520</td>\n",
       "      <td>84.483457</td>\n",
       "      <td>126.359903</td>\n",
       "      <td>771.070322</td>\n",
       "      <td>1.868281e+07</td>\n",
       "    </tr>\n",
       "    <tr>\n",
       "      <th>0</th>\n",
       "      <td>0</td>\n",
       "      <td>0</td>\n",
       "      <td>188.919404</td>\n",
       "      <td>4.752520</td>\n",
       "      <td>0.013036</td>\n",
       "      <td>193.684960</td>\n",
       "      <td>12.402488</td>\n",
       "      <td>26.132530</td>\n",
       "      <td>17729.620094</td>\n",
       "      <td>2.068158e+07</td>\n",
       "    </tr>\n",
       "    <tr>\n",
       "      <th>0</th>\n",
       "      <td>0</td>\n",
       "      <td>0</td>\n",
       "      <td>188.919404</td>\n",
       "      <td>4.752520</td>\n",
       "      <td>0.013036</td>\n",
       "      <td>193.684960</td>\n",
       "      <td>12.402488</td>\n",
       "      <td>26.132530</td>\n",
       "      <td>17729.620094</td>\n",
       "      <td>2.068158e+07</td>\n",
       "    </tr>\n",
       "    <tr>\n",
       "      <th>100634</th>\n",
       "      <td>28</td>\n",
       "      <td>100634</td>\n",
       "      <td>15.846818</td>\n",
       "      <td>14438.491124</td>\n",
       "      <td>0.013186</td>\n",
       "      <td>14454.351129</td>\n",
       "      <td>209.857797</td>\n",
       "      <td>4.826868</td>\n",
       "      <td>5.446888</td>\n",
       "      <td>8.171082e+07</td>\n",
       "    </tr>\n",
       "    <tr>\n",
       "      <th>17065</th>\n",
       "      <td>4</td>\n",
       "      <td>17065</td>\n",
       "      <td>21.642005</td>\n",
       "      <td>13249.915085</td>\n",
       "      <td>0.013186</td>\n",
       "      <td>13271.570277</td>\n",
       "      <td>189.563377</td>\n",
       "      <td>12.592422</td>\n",
       "      <td>4.795904</td>\n",
       "      <td>6.111066e+06</td>\n",
       "    </tr>\n",
       "    <tr>\n",
       "      <th>145</th>\n",
       "      <td>0</td>\n",
       "      <td>145</td>\n",
       "      <td>15.710029</td>\n",
       "      <td>9412.134922</td>\n",
       "      <td>0.494352</td>\n",
       "      <td>9428.339304</td>\n",
       "      <td>125.418594</td>\n",
       "      <td>94.308695</td>\n",
       "      <td>13.577529</td>\n",
       "      <td>6.262141e+05</td>\n",
       "    </tr>\n",
       "  </tbody>\n",
       "</table>\n",
       "</div>"
      ],
      "text/plain": [
       "        epoch    step      chi_1a        chi_1b    chi_1c         chi_1  \\\n",
       "335         0     335    8.501149  10678.354143  0.009205  10686.864497   \n",
       "0           0       0  188.919404      4.752520  0.013036    193.684960   \n",
       "23          0      23  427.925090   4040.671493  0.007937   4468.604520   \n",
       "0           0       0  188.919404      4.752520  0.013036    193.684960   \n",
       "0           0       0  188.919404      4.752520  0.013036    193.684960   \n",
       "100634     28  100634   15.846818  14438.491124  0.013186  14454.351129   \n",
       "17065       4   17065   21.642005  13249.915085  0.013186  13271.570277   \n",
       "145         0     145   15.710029   9412.134922  0.494352   9428.339304   \n",
       "\n",
       "             chi_2  chi_imgvar     chi_spec1     chi_spec2  \n",
       "335     139.695985   45.541814     13.488987  2.128461e+06  \n",
       "0        12.402488   26.132530  17729.620094  2.068158e+07  \n",
       "23       84.483457  126.359903    771.070322  1.868281e+07  \n",
       "0        12.402488   26.132530  17729.620094  2.068158e+07  \n",
       "0        12.402488   26.132530  17729.620094  2.068158e+07  \n",
       "100634  209.857797    4.826868      5.446888  8.171082e+07  \n",
       "17065   189.563377   12.592422      4.795904  6.111066e+06  \n",
       "145     125.418594   94.308695     13.577529  6.262141e+05  "
      ]
     },
     "execution_count": 14,
     "metadata": {},
     "output_type": "execute_result"
    }
   ],
   "source": [
    "chi_sqr_keys=['epoch','step','chi_1a','chi_1b','chi_1c','chi_1','chi_2','chi_imgvar','chi_spec1','chi_spec2']\n",
    "# index location of min/max values of chi squares\n",
    "inds=[]\n",
    "for key in ['chi_1a','chi_1b','chi_1c','chi_1','chi_2','chi_imgvar','chi_spec1','chi_spec2']:\n",
    "    inds.append(df[key].idxmin(axis=1))\n",
    "inds=np.array(inds)\n",
    "df.loc[inds][chi_sqr_keys]"
   ]
  },
  {
   "cell_type": "code",
   "execution_count": 15,
   "metadata": {},
   "outputs": [],
   "source": [
    "def f_get_best_chisqr_models(df,cutoff=0.2):\n",
    "    '''\n",
    "    Pick models with lowest 20% chi-square for multiple categories\n",
    "    '''\n",
    "    chi_sqr_keys=[ 'chi_1', 'chi_spec1']\n",
    "    q_dict=dict(df.quantile(q=cutoff,axis=0)[chi_sqr_keys])\n",
    "#     print(q_dict)\n",
    "    \n",
    "    df_sliced=df.query('chi_1 < {0} & chi_spec1 < {1}'.format(q_dict['chi_1'],q_dict['chi_spec1']))\n",
    "    \n",
    "    return df_sliced"
   ]
  },
  {
   "cell_type": "code",
   "execution_count": 16,
   "metadata": {},
   "outputs": [
    {
     "name": "stdout",
     "output_type": "stream",
     "text": [
      "(31709, 20)\n"
     ]
    }
   ],
   "source": [
    "df_sliced=f_get_best_chisqr_models(df,cutoff=0.5)\n",
    "print(df_sliced.shape)"
   ]
  },
  {
   "cell_type": "code",
   "execution_count": 17,
   "metadata": {},
   "outputs": [
    {
     "data": {
      "text/html": [
       "<div>\n",
       "<style scoped>\n",
       "    .dataframe tbody tr th:only-of-type {\n",
       "        vertical-align: middle;\n",
       "    }\n",
       "\n",
       "    .dataframe tbody tr th {\n",
       "        vertical-align: top;\n",
       "    }\n",
       "\n",
       "    .dataframe thead th {\n",
       "        text-align: right;\n",
       "    }\n",
       "</style>\n",
       "<table border=\"1\" class=\"dataframe\">\n",
       "  <thead>\n",
       "    <tr style=\"text-align: right;\">\n",
       "      <th></th>\n",
       "      <th>epoch</th>\n",
       "      <th>step</th>\n",
       "      <th>chi_1</th>\n",
       "      <th>chi_spec1</th>\n",
       "    </tr>\n",
       "  </thead>\n",
       "  <tbody>\n",
       "    <tr>\n",
       "      <th>1233</th>\n",
       "      <td>0</td>\n",
       "      <td>1233</td>\n",
       "      <td>8734.705439</td>\n",
       "      <td>6.142266</td>\n",
       "    </tr>\n",
       "    <tr>\n",
       "      <th>1646</th>\n",
       "      <td>0</td>\n",
       "      <td>1646</td>\n",
       "      <td>9100.211169</td>\n",
       "      <td>6.057698</td>\n",
       "    </tr>\n",
       "    <tr>\n",
       "      <th>3611</th>\n",
       "      <td>1</td>\n",
       "      <td>3611</td>\n",
       "      <td>9126.174529</td>\n",
       "      <td>5.162732</td>\n",
       "    </tr>\n",
       "    <tr>\n",
       "      <th>1519</th>\n",
       "      <td>0</td>\n",
       "      <td>1519</td>\n",
       "      <td>9255.177282</td>\n",
       "      <td>6.009847</td>\n",
       "    </tr>\n",
       "    <tr>\n",
       "      <th>2299</th>\n",
       "      <td>0</td>\n",
       "      <td>2299</td>\n",
       "      <td>9293.971427</td>\n",
       "      <td>5.781311</td>\n",
       "    </tr>\n",
       "  </tbody>\n",
       "</table>\n",
       "</div>"
      ],
      "text/plain": [
       "      epoch  step        chi_1  chi_spec1\n",
       "1233      0  1233  8734.705439   6.142266\n",
       "1646      0  1646  9100.211169   6.057698\n",
       "3611      1  3611  9126.174529   5.162732\n",
       "1519      0  1519  9255.177282   6.009847\n",
       "2299      0  2299  9293.971427   5.781311"
      ]
     },
     "execution_count": 17,
     "metadata": {},
     "output_type": "execute_result"
    }
   ],
   "source": [
    "df_sliced.sort_values(by=['chi_1','chi_spec1'])[['epoch','step','chi_1','chi_spec1']].head(5)"
   ]
  },
  {
   "cell_type": "code",
   "execution_count": 18,
   "metadata": {},
   "outputs": [
    {
     "data": {
      "application/vnd.jupyter.widget-view+json": {
       "model_id": "12263f4dce4f442c97fa031e139d2de4",
       "version_major": 2,
       "version_minor": 0
      },
      "text/plain": [
       "Canvas(toolbar=Toolbar(toolitems=[('Home', 'Reset original view', 'home', 'home'), ('Back', 'Back to previous …"
      ]
     },
     "metadata": {},
     "output_type": "display_data"
    },
    {
     "data": {
      "text/plain": [
       "<matplotlib.axes._subplots.AxesSubplot at 0x2aaadf379048>"
      ]
     },
     "execution_count": 18,
     "metadata": {},
     "output_type": "execute_result"
    }
   ],
   "source": [
    "### Plot chi-sqr values\n",
    "df_sliced.plot(x=\"step\", y=[\"chi_1\", \"chi_imgvar\", \"chi_spec1\"],style='.',marker='*')"
   ]
  },
  {
   "cell_type": "markdown",
   "metadata": {},
   "source": [
    "### High Pixel images"
   ]
  },
  {
   "cell_type": "code",
   "execution_count": 19,
   "metadata": {},
   "outputs": [
    {
     "data": {
      "application/vnd.jupyter.widget-view+json": {
       "model_id": "b58bbffdfcd940a7bfcc9da17d2270d2",
       "version_major": 2,
       "version_minor": 0
      },
      "text/plain": [
       "Canvas(toolbar=Toolbar(toolitems=[('Home', 'Reset original view', 'home', 'home'), ('Back', 'Back to previous …"
      ]
     },
     "metadata": {},
     "output_type": "display_data"
    },
    {
     "data": {
      "text/plain": [
       "Text(0, 0.5, 'Number of very large pixel images from a batch of images')"
      ]
     },
     "execution_count": 19,
     "metadata": {},
     "output_type": "execute_result"
    }
   ],
   "source": [
    "### Plot number of very high pixel images\n",
    "plt.figure()\n",
    "plt.plot(df[df.img_type=='train_gen'].step,df[df.img_type=='train_gen'].num_vlarge,linestyle='',marker='*')\n",
    "plt.xlabel('Steps in Epochs')\n",
    "plt.ylabel('Number of very large pixel images from a batch of images')"
   ]
  },
  {
   "cell_type": "code",
   "execution_count": 20,
   "metadata": {},
   "outputs": [],
   "source": [
    "# df[df.num_vlarge>10].tail()"
   ]
  },
  {
   "cell_type": "markdown",
   "metadata": {},
   "source": [
    "## Compare samples"
   ]
  },
  {
   "cell_type": "code",
   "execution_count": 21,
   "metadata": {},
   "outputs": [],
   "source": [
    "# df_sliced.sort_values(by=['chi_spec1','chi_1']).head(5)\n",
    "# df_sliced.sort_values(by=['chi_1','chi_spec1']).head(5)"
   ]
  },
  {
   "cell_type": "code",
   "execution_count": 28,
   "metadata": {},
   "outputs": [
    {
     "name": "stdout",
     "output_type": "stream",
     "text": [
      "[1233, 1646, 17065, 19957]\n"
     ]
    }
   ],
   "source": [
    "best_idx=[]\n",
    "best_idx.append(df_sliced.sort_values(by=['chi_1','chi_spec1']).head(2).index)\n",
    "best_idx.append(df_sliced.sort_values(by=['chi_spec1','chi_1']).head(2).index)\n",
    "\n",
    "best_idx=[i for j in best_idx for i in j]\n",
    "print(best_idx)"
   ]
  },
  {
   "cell_type": "code",
   "execution_count": 32,
   "metadata": {},
   "outputs": [
    {
     "name": "stdout",
     "output_type": "stream",
     "text": [
      "[(28, 100634), (4, 17065)]\n"
     ]
    },
    {
     "data": {
      "text/html": [
       "<div>\n",
       "<style scoped>\n",
       "    .dataframe tbody tr th:only-of-type {\n",
       "        vertical-align: middle;\n",
       "    }\n",
       "\n",
       "    .dataframe tbody tr th {\n",
       "        vertical-align: top;\n",
       "    }\n",
       "\n",
       "    .dataframe thead th {\n",
       "        text-align: right;\n",
       "    }\n",
       "</style>\n",
       "<table border=\"1\" class=\"dataframe\">\n",
       "  <thead>\n",
       "    <tr style=\"text-align: right;\">\n",
       "      <th></th>\n",
       "      <th>epoch</th>\n",
       "      <th>step</th>\n",
       "      <th>img_type</th>\n",
       "      <th>fname</th>\n",
       "      <th>chi_1a</th>\n",
       "      <th>chi_1b</th>\n",
       "      <th>chi_1c</th>\n",
       "      <th>chi_1</th>\n",
       "      <th>chi_2</th>\n",
       "      <th>chi_imgvar</th>\n",
       "      <th>chi_spec1</th>\n",
       "      <th>chi_spec2</th>\n",
       "      <th>num_large</th>\n",
       "      <th>num_vlarge</th>\n",
       "      <th>hist_val</th>\n",
       "      <th>hist_err</th>\n",
       "      <th>hist_bin_centers</th>\n",
       "      <th>spec_val</th>\n",
       "      <th>spec_err</th>\n",
       "      <th>label</th>\n",
       "    </tr>\n",
       "  </thead>\n",
       "  <tbody>\n",
       "    <tr>\n",
       "      <th>100634</th>\n",
       "      <td>28</td>\n",
       "      <td>100634</td>\n",
       "      <td>train_gen</td>\n",
       "      <td>/global/cscratch1/sd/vpa/proj/cosmogan/results...</td>\n",
       "      <td>15.846818</td>\n",
       "      <td>14438.491124</td>\n",
       "      <td>0.013186</td>\n",
       "      <td>14454.351129</td>\n",
       "      <td>209.857797</td>\n",
       "      <td>4.826868</td>\n",
       "      <td>5.446888</td>\n",
       "      <td>8.171082e+07</td>\n",
       "      <td>0</td>\n",
       "      <td>0</td>\n",
       "      <td>[0.022468596754808362, 0.012468516845836183, 0...</td>\n",
       "      <td>[1.8628202344514676e-06, 4.106824642190773e-06...</td>\n",
       "      <td>[-1.031746031584782, -0.6161616169043975, -0.3...</td>\n",
       "      <td>[66643.16493225098, 46131.23129272461, 33550.9...</td>\n",
       "      <td>[11.868603777924712, 6.807562746768907, 4.8901...</td>\n",
       "      <td>28-100634</td>\n",
       "    </tr>\n",
       "    <tr>\n",
       "      <th>17065</th>\n",
       "      <td>4</td>\n",
       "      <td>17065</td>\n",
       "      <td>train_gen</td>\n",
       "      <td>/global/cscratch1/sd/vpa/proj/cosmogan/results...</td>\n",
       "      <td>21.642005</td>\n",
       "      <td>13249.915085</td>\n",
       "      <td>0.013186</td>\n",
       "      <td>13271.570277</td>\n",
       "      <td>189.563377</td>\n",
       "      <td>12.592422</td>\n",
       "      <td>4.795904</td>\n",
       "      <td>6.111066e+06</td>\n",
       "      <td>0</td>\n",
       "      <td>0</td>\n",
       "      <td>[0.02097970252680108, 0.015041291736884257, 0....</td>\n",
       "      <td>[3.448953438735106e-05, 3.8291704352752016e-05...</td>\n",
       "      <td>[-1.031746031584782, -0.6161616169043975, -0.3...</td>\n",
       "      <td>[69439.77669525146, 46262.48702697754, 33519.4...</td>\n",
       "      <td>[40.96777767704382, 18.74720983984627, 15.8040...</td>\n",
       "      <td>4-17065</td>\n",
       "    </tr>\n",
       "  </tbody>\n",
       "</table>\n",
       "</div>"
      ],
      "text/plain": [
       "        epoch    step   img_type  \\\n",
       "100634     28  100634  train_gen   \n",
       "17065       4   17065  train_gen   \n",
       "\n",
       "                                                    fname     chi_1a  \\\n",
       "100634  /global/cscratch1/sd/vpa/proj/cosmogan/results...  15.846818   \n",
       "17065   /global/cscratch1/sd/vpa/proj/cosmogan/results...  21.642005   \n",
       "\n",
       "              chi_1b    chi_1c         chi_1       chi_2  chi_imgvar  \\\n",
       "100634  14438.491124  0.013186  14454.351129  209.857797    4.826868   \n",
       "17065   13249.915085  0.013186  13271.570277  189.563377   12.592422   \n",
       "\n",
       "        chi_spec1     chi_spec2  num_large  num_vlarge  \\\n",
       "100634   5.446888  8.171082e+07          0           0   \n",
       "17065    4.795904  6.111066e+06          0           0   \n",
       "\n",
       "                                                 hist_val  \\\n",
       "100634  [0.022468596754808362, 0.012468516845836183, 0...   \n",
       "17065   [0.02097970252680108, 0.015041291736884257, 0....   \n",
       "\n",
       "                                                 hist_err  \\\n",
       "100634  [1.8628202344514676e-06, 4.106824642190773e-06...   \n",
       "17065   [3.448953438735106e-05, 3.8291704352752016e-05...   \n",
       "\n",
       "                                         hist_bin_centers  \\\n",
       "100634  [-1.031746031584782, -0.6161616169043975, -0.3...   \n",
       "17065   [-1.031746031584782, -0.6161616169043975, -0.3...   \n",
       "\n",
       "                                                 spec_val  \\\n",
       "100634  [66643.16493225098, 46131.23129272461, 33550.9...   \n",
       "17065   [69439.77669525146, 46262.48702697754, 33519.4...   \n",
       "\n",
       "                                                 spec_err      label  \n",
       "100634  [11.868603777924712, 6.807562746768907, 4.8901...  28-100634  \n",
       "17065   [40.96777767704382, 18.74720983984627, 15.8040...    4-17065  "
      ]
     },
     "execution_count": 32,
     "metadata": {},
     "output_type": "execute_result"
    }
   ],
   "source": [
    "best_idx=np.arange(40130,40135).astype(int)\n",
    "best_idx=[100634,17065]\n",
    "df_best=df.loc[best_idx]\n",
    "print([(df_best.loc[idx].epoch,df_best.loc[idx].step) for idx in best_idx])\n",
    "df_best"
   ]
  },
  {
   "cell_type": "code",
   "execution_count": null,
   "metadata": {},
   "outputs": [],
   "source": []
  },
  {
   "cell_type": "code",
   "execution_count": 29,
   "metadata": {},
   "outputs": [
    {
     "name": "stdout",
     "output_type": "stream",
     "text": [
      "[(0, 1233), (0, 1646), (4, 17065), (5, 19957)]\n"
     ]
    },
    {
     "data": {
      "text/html": [
       "<div>\n",
       "<style scoped>\n",
       "    .dataframe tbody tr th:only-of-type {\n",
       "        vertical-align: middle;\n",
       "    }\n",
       "\n",
       "    .dataframe tbody tr th {\n",
       "        vertical-align: top;\n",
       "    }\n",
       "\n",
       "    .dataframe thead th {\n",
       "        text-align: right;\n",
       "    }\n",
       "</style>\n",
       "<table border=\"1\" class=\"dataframe\">\n",
       "  <thead>\n",
       "    <tr style=\"text-align: right;\">\n",
       "      <th></th>\n",
       "      <th>epoch</th>\n",
       "      <th>step</th>\n",
       "      <th>img_type</th>\n",
       "      <th>fname</th>\n",
       "      <th>chi_1a</th>\n",
       "      <th>chi_1b</th>\n",
       "      <th>chi_1c</th>\n",
       "      <th>chi_1</th>\n",
       "      <th>chi_2</th>\n",
       "      <th>chi_imgvar</th>\n",
       "      <th>chi_spec1</th>\n",
       "      <th>chi_spec2</th>\n",
       "      <th>num_large</th>\n",
       "      <th>num_vlarge</th>\n",
       "      <th>hist_val</th>\n",
       "      <th>hist_err</th>\n",
       "      <th>hist_bin_centers</th>\n",
       "      <th>spec_val</th>\n",
       "      <th>spec_err</th>\n",
       "      <th>label</th>\n",
       "    </tr>\n",
       "  </thead>\n",
       "  <tbody>\n",
       "    <tr>\n",
       "      <th>1233</th>\n",
       "      <td>0</td>\n",
       "      <td>1233</td>\n",
       "      <td>train_gen</td>\n",
       "      <td>/global/cscratch1/sd/vpa/proj/cosmogan/results...</td>\n",
       "      <td>20.326478</td>\n",
       "      <td>8714.365775</td>\n",
       "      <td>0.013186</td>\n",
       "      <td>8734.705439</td>\n",
       "      <td>120.674105</td>\n",
       "      <td>34.142874</td>\n",
       "      <td>6.142266</td>\n",
       "      <td>2.890788e+06</td>\n",
       "      <td>0</td>\n",
       "      <td>0</td>\n",
       "      <td>[0.017938077496067427, 0.018151044873541, 0.01...</td>\n",
       "      <td>[3.616104973333107e-05, 6.656473307701632e-05,...</td>\n",
       "      <td>[-1.031746031584782, -0.6161616169043975, -0.3...</td>\n",
       "      <td>[80042.68093109131, 48069.597332763675, 33042....</td>\n",
       "      <td>[117.79682520485683, 74.2415925352025, 53.6527...</td>\n",
       "      <td>0-1233</td>\n",
       "    </tr>\n",
       "    <tr>\n",
       "      <th>1646</th>\n",
       "      <td>0</td>\n",
       "      <td>1646</td>\n",
       "      <td>train_gen</td>\n",
       "      <td>/global/cscratch1/sd/vpa/proj/cosmogan/results...</td>\n",
       "      <td>17.177538</td>\n",
       "      <td>9083.020446</td>\n",
       "      <td>0.013186</td>\n",
       "      <td>9100.211169</td>\n",
       "      <td>126.228545</td>\n",
       "      <td>32.426835</td>\n",
       "      <td>6.057698</td>\n",
       "      <td>3.572045e+06</td>\n",
       "      <td>0</td>\n",
       "      <td>0</td>\n",
       "      <td>[0.019064605285228034, 0.017389833953941926, 0...</td>\n",
       "      <td>[3.0876219184607585e-05, 6.254894035937549e-05...</td>\n",
       "      <td>[-1.031746031584782, -0.6161616169043975, -0.3...</td>\n",
       "      <td>[84637.69305419922, 49571.25069732667, 34465.5...</td>\n",
       "      <td>[157.9988083042326, 78.38822487065389, 45.0606...</td>\n",
       "      <td>0-1646</td>\n",
       "    </tr>\n",
       "    <tr>\n",
       "      <th>17065</th>\n",
       "      <td>4</td>\n",
       "      <td>17065</td>\n",
       "      <td>train_gen</td>\n",
       "      <td>/global/cscratch1/sd/vpa/proj/cosmogan/results...</td>\n",
       "      <td>21.642005</td>\n",
       "      <td>13249.915085</td>\n",
       "      <td>0.013186</td>\n",
       "      <td>13271.570277</td>\n",
       "      <td>189.563377</td>\n",
       "      <td>12.592422</td>\n",
       "      <td>4.795904</td>\n",
       "      <td>6.111066e+06</td>\n",
       "      <td>0</td>\n",
       "      <td>0</td>\n",
       "      <td>[0.02097970252680108, 0.015041291736884257, 0....</td>\n",
       "      <td>[3.448953438735106e-05, 3.8291704352752016e-05...</td>\n",
       "      <td>[-1.031746031584782, -0.6161616169043975, -0.3...</td>\n",
       "      <td>[69439.77669525146, 46262.48702697754, 33519.4...</td>\n",
       "      <td>[40.96777767704382, 18.74720983984627, 15.8040...</td>\n",
       "      <td>4-17065</td>\n",
       "    </tr>\n",
       "    <tr>\n",
       "      <th>19957</th>\n",
       "      <td>5</td>\n",
       "      <td>19957</td>\n",
       "      <td>train_gen</td>\n",
       "      <td>/global/cscratch1/sd/vpa/proj/cosmogan/results...</td>\n",
       "      <td>22.388823</td>\n",
       "      <td>13133.668428</td>\n",
       "      <td>0.013186</td>\n",
       "      <td>13156.070437</td>\n",
       "      <td>189.519817</td>\n",
       "      <td>11.126015</td>\n",
       "      <td>4.931669</td>\n",
       "      <td>8.726183e+06</td>\n",
       "      <td>0</td>\n",
       "      <td>0</td>\n",
       "      <td>[0.021430313642465323, 0.013094007989072644, 0...</td>\n",
       "      <td>[1.7455880401643642e-05, 5.411747214082419e-05...</td>\n",
       "      <td>[-1.031746031584782, -0.6161616169043975, -0.3...</td>\n",
       "      <td>[68311.12114715576, 46774.15375823976, 33732.7...</td>\n",
       "      <td>[41.317014255248324, 19.035190457245605, 13.69...</td>\n",
       "      <td>5-19957</td>\n",
       "    </tr>\n",
       "  </tbody>\n",
       "</table>\n",
       "</div>"
      ],
      "text/plain": [
       "       epoch   step   img_type  \\\n",
       "1233       0   1233  train_gen   \n",
       "1646       0   1646  train_gen   \n",
       "17065      4  17065  train_gen   \n",
       "19957      5  19957  train_gen   \n",
       "\n",
       "                                                   fname     chi_1a  \\\n",
       "1233   /global/cscratch1/sd/vpa/proj/cosmogan/results...  20.326478   \n",
       "1646   /global/cscratch1/sd/vpa/proj/cosmogan/results...  17.177538   \n",
       "17065  /global/cscratch1/sd/vpa/proj/cosmogan/results...  21.642005   \n",
       "19957  /global/cscratch1/sd/vpa/proj/cosmogan/results...  22.388823   \n",
       "\n",
       "             chi_1b    chi_1c         chi_1       chi_2  chi_imgvar  \\\n",
       "1233    8714.365775  0.013186   8734.705439  120.674105   34.142874   \n",
       "1646    9083.020446  0.013186   9100.211169  126.228545   32.426835   \n",
       "17065  13249.915085  0.013186  13271.570277  189.563377   12.592422   \n",
       "19957  13133.668428  0.013186  13156.070437  189.519817   11.126015   \n",
       "\n",
       "       chi_spec1     chi_spec2  num_large  num_vlarge  \\\n",
       "1233    6.142266  2.890788e+06          0           0   \n",
       "1646    6.057698  3.572045e+06          0           0   \n",
       "17065   4.795904  6.111066e+06          0           0   \n",
       "19957   4.931669  8.726183e+06          0           0   \n",
       "\n",
       "                                                hist_val  \\\n",
       "1233   [0.017938077496067427, 0.018151044873541, 0.01...   \n",
       "1646   [0.019064605285228034, 0.017389833953941926, 0...   \n",
       "17065  [0.02097970252680108, 0.015041291736884257, 0....   \n",
       "19957  [0.021430313642465323, 0.013094007989072644, 0...   \n",
       "\n",
       "                                                hist_err  \\\n",
       "1233   [3.616104973333107e-05, 6.656473307701632e-05,...   \n",
       "1646   [3.0876219184607585e-05, 6.254894035937549e-05...   \n",
       "17065  [3.448953438735106e-05, 3.8291704352752016e-05...   \n",
       "19957  [1.7455880401643642e-05, 5.411747214082419e-05...   \n",
       "\n",
       "                                        hist_bin_centers  \\\n",
       "1233   [-1.031746031584782, -0.6161616169043975, -0.3...   \n",
       "1646   [-1.031746031584782, -0.6161616169043975, -0.3...   \n",
       "17065  [-1.031746031584782, -0.6161616169043975, -0.3...   \n",
       "19957  [-1.031746031584782, -0.6161616169043975, -0.3...   \n",
       "\n",
       "                                                spec_val  \\\n",
       "1233   [80042.68093109131, 48069.597332763675, 33042....   \n",
       "1646   [84637.69305419922, 49571.25069732667, 34465.5...   \n",
       "17065  [69439.77669525146, 46262.48702697754, 33519.4...   \n",
       "19957  [68311.12114715576, 46774.15375823976, 33732.7...   \n",
       "\n",
       "                                                spec_err    label  \n",
       "1233   [117.79682520485683, 74.2415925352025, 53.6527...   0-1233  \n",
       "1646   [157.9988083042326, 78.38822487065389, 45.0606...   0-1646  \n",
       "17065  [40.96777767704382, 18.74720983984627, 15.8040...  4-17065  \n",
       "19957  [41.317014255248324, 19.035190457245605, 13.69...  5-19957  "
      ]
     },
     "execution_count": 29,
     "metadata": {},
     "output_type": "execute_result"
    }
   ],
   "source": [
    "df_best=df_sliced.loc[best_idx]\n",
    "print([(df_best.loc[idx].epoch,df_best.loc[idx].step) for idx in best_idx])\n",
    "df_best"
   ]
  },
  {
   "cell_type": "markdown",
   "metadata": {},
   "source": [
    "## Plot pixel intensity and spectrum"
   ]
  },
  {
   "cell_type": "code",
   "execution_count": 30,
   "metadata": {},
   "outputs": [
    {
     "name": "stdout",
     "output_type": "stream",
     "text": [
      "(100, 128, 128)\n"
     ]
    }
   ],
   "source": [
    "def f_plot_hist_spec_combined(df,dict_bkg):\n",
    "\n",
    "    fig=plt.figure(figsize=(6,6))\n",
    "    ax1=fig.add_subplot(121)\n",
    "    ax2=fig.add_subplot(122)\n",
    "    for (i,row),marker in zip(df.iterrows(),itertools.cycle('>^*sDHPdpx_')):\n",
    "\n",
    "        x1=row.hist_bin_centers\n",
    "        y1=row.hist_val\n",
    "        yerr1=row.hist_err\n",
    "        x1=f_invtransform(x1)\n",
    "\n",
    "        y2=row.spec_val\n",
    "        yerr2=row.spec_err\n",
    "        x2=np.arange(len(y2))\n",
    "\n",
    "        label='{0}_{1}_{2}'.format(i,row.epoch,row.step)\n",
    "        ax1.errorbar(x1,y1,yerr1,marker=marker,markersize=5,linestyle='',label=label)\n",
    "    #     ax2.errorbar(x2,y2,yerr2,marker=marker,markersize=5,linestyle='',label='{0}-{1}'.format(epoch,step))\n",
    "\n",
    "        ax2.fill_between(x2, y2 - yerr2, y2 + yerr2, alpha=0.4)\n",
    "        ax2.plot(x2, y2, marker=marker, linestyle=':',label=label)\n",
    "\n",
    "    ### Plot input data\n",
    "    x,y,yerr=dict_bkg['hist_bin_centers'],dict_bkg['hist_val'],dict_bkg['hist_err']\n",
    "    x=f_invtransform(x)\n",
    "    ax1.errorbar(x, y,yerr,color='k',linestyle='-',label='bkgnd')   \n",
    "\n",
    "    y,yerr=dict_bkg['spec_val'],dict_bkg['spec_err']\n",
    "    x=np.arange(len(y))\n",
    "    ax2.fill_between(x, y - yerr, y + yerr, color='k',alpha=0.8)\n",
    "\n",
    "    plt.legend()\n",
    "    # plt.yscale('log')\n",
    "    ax1.set_xscale('symlog',linthreshx=50)\n",
    "    ax1.set_yscale('log')\n",
    "    ax2.set_yscale('log')\n",
    "    \n",
    "    \n",
    "    \n",
    "def f_compute_hist_spect(sample,bins):\n",
    "    ''' Compute pixel intensity histograms and radial spectrum for 2D arrays\n",
    "    Input : Image arrays and bins\n",
    "    Output: dictionary with 5 arrays : Histogram values, errors and bin centers, Spectrum values and errors.\n",
    "    '''\n",
    "    ### Compute pixel histogram for row\n",
    "    gen_hist,gen_err,hist_bins=f_batch_histogram(sample,bins=bins,norm=True,hist_range=None)\n",
    "    ### Compute spectrum for row\n",
    "    spec,spec_err=f_compute_spectrum(sample,plot=False)\n",
    "\n",
    "    dict1={'hist_val':gen_hist,'hist_err':gen_err,'hist_bin_centers':hist_bins,'spec_val':spec,'spec_err':spec_err }\n",
    "    return dict1\n",
    "\n",
    "\n",
    "### Extract validation data\n",
    "fname='/global/cfs/cdirs/m3363/vayyar/cosmogan_data/raw_data/128_square/dataset_2_smoothing_200k/norm_1_train_val.npy'\n",
    "s_val=np.load(fname,mmap_mode='r')[:4000][:,0,:,:][200:300]\n",
    "print(s_val.shape)\n",
    "\n",
    "bins=np.concatenate([np.array([-0.5]),np.arange(0.5,20.5,1),np.arange(20.5,100.5,5),np.arange(100.5,1000.5,50),np.array([2000])]) #bin edges to use\n",
    "bins=f_transform(bins)   ### scale to (-1,1) \n",
    "### Compute histogram and spectrum of raw data \n",
    "dict_val=f_compute_hist_spect(s_val,bins)"
   ]
  },
  {
   "cell_type": "code",
   "execution_count": 33,
   "metadata": {},
   "outputs": [
    {
     "data": {
      "application/vnd.jupyter.widget-view+json": {
       "model_id": "284b7966c6064a888eb198eab5f6d3d3",
       "version_major": 2,
       "version_minor": 0
      },
      "text/plain": [
       "Canvas(toolbar=Toolbar(toolitems=[('Home', 'Reset original view', 'home', 'home'), ('Back', 'Back to previous …"
      ]
     },
     "metadata": {},
     "output_type": "display_data"
    }
   ],
   "source": [
    "f_plot_hist_spec_combined(df_best,dict_val)\n"
   ]
  },
  {
   "cell_type": "code",
   "execution_count": null,
   "metadata": {},
   "outputs": [],
   "source": [
    "df[(df.step>40100)& (df.step<40150)].plot(kind='line',x='step',y=['chi_1','chi_spec1'])"
   ]
  },
  {
   "cell_type": "markdown",
   "metadata": {},
   "source": [
    "## View image block"
   ]
  },
  {
   "cell_type": "code",
   "execution_count": null,
   "metadata": {},
   "outputs": [],
   "source": [
    "def f_get_img(df,epoch,step):\n",
    "    df_temp=df[(df.epoch==epoch)&(df.step==step)]\n",
    "    images=np.load(df_temp.fname.values[0])[:,0,:,:]\n",
    "    return images\n",
    "\n",
    "img_arr=f_get_img(df,11,40129)"
   ]
  },
  {
   "cell_type": "code",
   "execution_count": null,
   "metadata": {},
   "outputs": [],
   "source": [
    "f_plot_grid(img_arr[:18],cols=6,fig_size=(10,6))"
   ]
  },
  {
   "cell_type": "code",
   "execution_count": null,
   "metadata": {},
   "outputs": [],
   "source": [
    "f_plot_grid(s_val[100:118],cols=6,fig_size=(10,6))"
   ]
  },
  {
   "cell_type": "code",
   "execution_count": null,
   "metadata": {},
   "outputs": [],
   "source": [
    "# df_sliced[df_sliced.epoch==4]['step'].values"
   ]
  },
  {
   "cell_type": "code",
   "execution_count": null,
   "metadata": {},
   "outputs": [],
   "source": [
    "df[(df.epoch==18)&(df.step>=15975)&(df.step<=15983)][['epoch','step','chi_1','chi_spec1','num_vlarge']]"
   ]
  },
  {
   "cell_type": "code",
   "execution_count": null,
   "metadata": {},
   "outputs": [],
   "source": []
  }
 ],
 "metadata": {
  "kernelspec": {
   "display_name": "v_py3",
   "language": "python",
   "name": "v_jpt_py3"
  },
  "language_info": {
   "codemirror_mode": {
    "name": "ipython",
    "version": 3
   },
   "file_extension": ".py",
   "mimetype": "text/x-python",
   "name": "python",
   "nbconvert_exporter": "python",
   "pygments_lexer": "ipython3",
   "version": "3.6.8"
  },
  "toc-autonumbering": false,
  "toc-showcode": false,
  "toc-showmarkdowntxt": true,
  "toc-showtags": false
 },
 "nbformat": 4,
 "nbformat_minor": 4
}
