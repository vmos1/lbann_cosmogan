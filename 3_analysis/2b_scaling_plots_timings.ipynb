{
 "cells": [
  {
   "cell_type": "markdown",
   "metadata": {},
   "source": [
    "# Extract data from output files\n",
    "\n",
    "### Code to extract timing information from output files of Lbann code\n",
    "March 9, 2020"
   ]
  },
  {
   "cell_type": "code",
   "execution_count": 7,
   "metadata": {},
   "outputs": [],
   "source": [
    "import numpy as np\n",
    "import matplotlib.pyplot as plt\n",
    "import pandas as pd\n",
    "\n",
    "import subprocess as sp\n",
    "import os\n",
    "import glob"
   ]
  },
  {
   "cell_type": "markdown",
   "metadata": {},
   "source": [
    "## Extract training times"
   ]
  },
  {
   "cell_type": "code",
   "execution_count": 8,
   "metadata": {},
   "outputs": [],
   "source": [
    "def f_get_output(fname):\n",
    "    ''' Use grep to get run times from output files\n",
    "    '''\n",
    "    cmd='grep \"run time\" {0}| grep \"training\"'.format(fname)\n",
    "    op1=sp.check_output(cmd,shell=True).decode('utf-8').split('\\n')[:-1]\n",
    "    # print(op1)\n",
    "\n",
    "    cmd='grep \"run time\" {0}| grep \"validation\"'.format(fname)\n",
    "    op2=sp.check_output(cmd,shell=True).decode('utf-8').split('\\n')[:-1]\n",
    "    \n",
    "    return op1,op2\n",
    "\n",
    "def f_get_run_times(op_arr):\n",
    "    '''\n",
    "    Get run times from output file out.log\n",
    "    '''\n",
    "    run_times=np.array([np.float(i.split(':')[-1][:-1]) for i in op_arr])\n",
    "    return run_times\n",
    "\n",
    "def f_print_run_times(fname):\n",
    "    \n",
    "    ### Get output \n",
    "    op1,op2=f_get_output(fname)\n",
    "    ### Get arrays from outputs for training and validation\n",
    "    arr1=f_get_run_times(op1)\n",
    "    arr2=f_get_run_times(op2)\n",
    "    ### Print times\n",
    "    print(\"Training times: {0}\\nValidation times: {1}\".format(arr1,arr2))\n",
    "    print(\"Number of epochs\",len(arr1))\n",
    "    print(\"Mean times:\",np.mean(arr1),np.mean(arr2),'\\n')\n",
    "    \n"
   ]
  },
  {
   "cell_type": "code",
   "execution_count": 9,
   "metadata": {},
   "outputs": [],
   "source": [
    "\n",
    "def f_store_run_times(fname):\n",
    "    \n",
    "    ### Get output \n",
    "    op1,op2=f_get_output(fname)\n",
    "    ### Get arrays from outputs for training and validation\n",
    "    arr1=f_get_run_times(op1)\n",
    "    arr2=f_get_run_times(op2)\n",
    "    ### Print times\n",
    "    size=len(arr1) ### Number of epochs\n",
    "    ### Compute mean and errors of times\n",
    "    train_mean,train_err=np.mean(arr1),np.std(arr1)/np.sqrt(size)\n",
    "    val_mean,val_err=np.mean(arr2),np.std(arr2)/np.sqrt(size)\n",
    "    \n",
    "    \n",
    "    ### Extract processor info from the file name\n",
    "    try:\n",
    "        lst=fname.split('/')[-1].split('.')[0].split('_')\n",
    "        nodes,procs,cpus=int(lst[1]),int(lst[2]),int(lst[3])\n",
    "    except Exception as e:\n",
    "        print(e,fle)\n",
    "        nodes,procs,cpus=None,None,None\n",
    "        pass\n",
    "    \n",
    "    job_strg='_'.join(fname.split('/')[-1].split('.')[0].split('-')[-1].split('_')[1:])\n",
    "    \n",
    "    keys=['train_arr','val_arr','train_mean','train_err','val_mean','val_err','num_epochs','nodes','GPUs_per_node','cpus','job_strg']\n",
    "    values=[arr1,arr2,train_mean,train_err,val_mean,val_err,size,nodes,procs,cpus,job_strg]\n",
    "    info_dict=dict(zip(keys,values))\n",
    "    \n",
    "#     print(info_dict)\n",
    "    return info_dict\n"
   ]
  },
  {
   "cell_type": "code",
   "execution_count": 10,
   "metadata": {},
   "outputs": [],
   "source": [
    "# fname=main_dir+'20200309_161923_exagan/out.log'\n",
    "# f_store_run_times(fname)"
   ]
  },
  {
   "cell_type": "code",
   "execution_count": 11,
   "metadata": {},
   "outputs": [],
   "source": [
    "# main_dir='/global/cfs/cdirs/m3363/vayyar/cosmogan_data/results_data/'\n",
    "# for fldr in glob.glob(main_dir+'20200309_*'):\n",
    "#     print(fldr.split('/')[-1])\n",
    "#     fname=fldr+'/out.log'\n",
    "#     f_print_run_times(fname)"
   ]
  },
  {
   "cell_type": "code",
   "execution_count": 13,
   "metadata": {},
   "outputs": [
    {
     "data": {
      "text/html": [
       "<div>\n",
       "<style scoped>\n",
       "    .dataframe tbody tr th:only-of-type {\n",
       "        vertical-align: middle;\n",
       "    }\n",
       "\n",
       "    .dataframe tbody tr th {\n",
       "        vertical-align: top;\n",
       "    }\n",
       "\n",
       "    .dataframe thead th {\n",
       "        text-align: right;\n",
       "    }\n",
       "</style>\n",
       "<table border=\"1\" class=\"dataframe\">\n",
       "  <thead>\n",
       "    <tr style=\"text-align: right;\">\n",
       "      <th></th>\n",
       "      <th>GPUs_per_node</th>\n",
       "      <th>cpus</th>\n",
       "      <th>job_strg</th>\n",
       "      <th>nodes</th>\n",
       "      <th>num_epochs</th>\n",
       "      <th>train_arr</th>\n",
       "      <th>train_err</th>\n",
       "      <th>train_mean</th>\n",
       "      <th>val_arr</th>\n",
       "      <th>val_err</th>\n",
       "      <th>val_mean</th>\n",
       "    </tr>\n",
       "  </thead>\n",
       "  <tbody>\n",
       "    <tr>\n",
       "      <th>0</th>\n",
       "      <td>1.0</td>\n",
       "      <td>4.0</td>\n",
       "      <td>1_1_4</td>\n",
       "      <td>1.0</td>\n",
       "      <td>44.0</td>\n",
       "      <td>[128.278, 123.93, 120.289, 126.682, 118.146, 1...</td>\n",
       "      <td>5.206914</td>\n",
       "      <td>143.954091</td>\n",
       "      <td>[12.0308, 11.9269, 12.1272, 12.2889, 11.8425, ...</td>\n",
       "      <td>0.630360</td>\n",
       "      <td>13.850602</td>\n",
       "    </tr>\n",
       "    <tr>\n",
       "      <th>1</th>\n",
       "      <td>6.0</td>\n",
       "      <td>4.0</td>\n",
       "      <td>1_6_4</td>\n",
       "      <td>1.0</td>\n",
       "      <td>50.0</td>\n",
       "      <td>[24.1425, 21.3741, 20.9364, 23.347, 20.7767, 2...</td>\n",
       "      <td>0.164008</td>\n",
       "      <td>21.499262</td>\n",
       "      <td>[2.45518, 2.40473, 2.33281, 2.2795, 1.85884, 2...</td>\n",
       "      <td>0.036657</td>\n",
       "      <td>2.235682</td>\n",
       "    </tr>\n",
       "    <tr>\n",
       "      <th>2</th>\n",
       "      <td>3.0</td>\n",
       "      <td>4.0</td>\n",
       "      <td>2_3_4</td>\n",
       "      <td>2.0</td>\n",
       "      <td>15.0</td>\n",
       "      <td>[35.0176, 32.9311, 32.9584, 32.4283, 33.5589, ...</td>\n",
       "      <td>0.348965</td>\n",
       "      <td>33.202093</td>\n",
       "      <td>[2.7057, 2.64797, 2.65958, 2.74747, 2.45336, 2...</td>\n",
       "      <td>0.020844</td>\n",
       "      <td>2.626582</td>\n",
       "    </tr>\n",
       "    <tr>\n",
       "      <th>3</th>\n",
       "      <td>2.0</td>\n",
       "      <td>4.0</td>\n",
       "      <td>3_2_4</td>\n",
       "      <td>3.0</td>\n",
       "      <td>50.0</td>\n",
       "      <td>[35.494, 33.0734, 32.3848, 32.2004, 32.4618, 3...</td>\n",
       "      <td>0.284716</td>\n",
       "      <td>33.028820</td>\n",
       "      <td>[2.75194, 2.68445, 2.64307, 2.64256, 2.57462, ...</td>\n",
       "      <td>0.012149</td>\n",
       "      <td>2.621958</td>\n",
       "    </tr>\n",
       "  </tbody>\n",
       "</table>\n",
       "</div>"
      ],
      "text/plain": [
       "   GPUs_per_node  cpus job_strg  nodes  num_epochs  \\\n",
       "0            1.0   4.0    1_1_4    1.0        44.0   \n",
       "1            6.0   4.0    1_6_4    1.0        50.0   \n",
       "2            3.0   4.0    2_3_4    2.0        15.0   \n",
       "3            2.0   4.0    3_2_4    3.0        50.0   \n",
       "\n",
       "                                           train_arr  train_err  train_mean  \\\n",
       "0  [128.278, 123.93, 120.289, 126.682, 118.146, 1...   5.206914  143.954091   \n",
       "1  [24.1425, 21.3741, 20.9364, 23.347, 20.7767, 2...   0.164008   21.499262   \n",
       "2  [35.0176, 32.9311, 32.9584, 32.4283, 33.5589, ...   0.348965   33.202093   \n",
       "3  [35.494, 33.0734, 32.3848, 32.2004, 32.4618, 3...   0.284716   33.028820   \n",
       "\n",
       "                                             val_arr   val_err   val_mean  \n",
       "0  [12.0308, 11.9269, 12.1272, 12.2889, 11.8425, ...  0.630360  13.850602  \n",
       "1  [2.45518, 2.40473, 2.33281, 2.2795, 1.85884, 2...  0.036657   2.235682  \n",
       "2  [2.7057, 2.64797, 2.65958, 2.74747, 2.45336, 2...  0.020844   2.626582  \n",
       "3  [2.75194, 2.68445, 2.64307, 2.64256, 2.57462, ...  0.012149   2.621958  "
      ]
     },
     "execution_count": 13,
     "metadata": {},
     "output_type": "execute_result"
    }
   ],
   "source": [
    "main_dir='/global/cfs/cdirs/m3363/vayyar/cosmogan_data/results_data/20200318_131818_exagan/collected_outputs/'\n",
    "main_dir='/global/cfs/cdirs/m3363/vayyar/cosmogan_data/results_data/20200327_102448_exagan/collected_outputs/'\n",
    "df=pd.DataFrame([])\n",
    "\n",
    "for fle in glob.glob(main_dir+'slurm-*_*.out'):\n",
    "#     print(fle)\n",
    "    info_dict=f_store_run_times(fle)\n",
    "    df=df.append(info_dict,ignore_index=True)\n",
    "    \n",
    "df=df.sort_values(by=['nodes','GPUs_per_node']).reset_index(drop=True)\n",
    "df"
   ]
  },
  {
   "cell_type": "code",
   "execution_count": 15,
   "metadata": {},
   "outputs": [
    {
     "data": {
      "text/html": [
       "<div>\n",
       "<style scoped>\n",
       "    .dataframe tbody tr th:only-of-type {\n",
       "        vertical-align: middle;\n",
       "    }\n",
       "\n",
       "    .dataframe tbody tr th {\n",
       "        vertical-align: top;\n",
       "    }\n",
       "\n",
       "    .dataframe thead th {\n",
       "        text-align: right;\n",
       "    }\n",
       "</style>\n",
       "<table border=\"1\" class=\"dataframe\">\n",
       "  <thead>\n",
       "    <tr style=\"text-align: right;\">\n",
       "      <th></th>\n",
       "      <th>job_strg</th>\n",
       "      <th>GPUs_per_node</th>\n",
       "      <th>nodes</th>\n",
       "      <th>train_mean</th>\n",
       "      <th>train_err</th>\n",
       "    </tr>\n",
       "  </thead>\n",
       "  <tbody>\n",
       "    <tr>\n",
       "      <th>0</th>\n",
       "      <td>1_1_4</td>\n",
       "      <td>1.0</td>\n",
       "      <td>1.0</td>\n",
       "      <td>143.954091</td>\n",
       "      <td>5.206914</td>\n",
       "    </tr>\n",
       "    <tr>\n",
       "      <th>1</th>\n",
       "      <td>1_6_4</td>\n",
       "      <td>6.0</td>\n",
       "      <td>1.0</td>\n",
       "      <td>21.499262</td>\n",
       "      <td>0.164008</td>\n",
       "    </tr>\n",
       "    <tr>\n",
       "      <th>2</th>\n",
       "      <td>2_3_4</td>\n",
       "      <td>3.0</td>\n",
       "      <td>2.0</td>\n",
       "      <td>33.202093</td>\n",
       "      <td>0.348965</td>\n",
       "    </tr>\n",
       "    <tr>\n",
       "      <th>3</th>\n",
       "      <td>3_2_4</td>\n",
       "      <td>2.0</td>\n",
       "      <td>3.0</td>\n",
       "      <td>33.028820</td>\n",
       "      <td>0.284716</td>\n",
       "    </tr>\n",
       "  </tbody>\n",
       "</table>\n",
       "</div>"
      ],
      "text/plain": [
       "  job_strg  GPUs_per_node  nodes  train_mean  train_err\n",
       "0    1_1_4            1.0    1.0  143.954091   5.206914\n",
       "1    1_6_4            6.0    1.0   21.499262   0.164008\n",
       "2    2_3_4            3.0    2.0   33.202093   0.348965\n",
       "3    3_2_4            2.0    3.0   33.028820   0.284716"
      ]
     },
     "execution_count": 15,
     "metadata": {},
     "output_type": "execute_result"
    }
   ],
   "source": [
    "col_list=['job_strg','GPUs_per_node','nodes','train_mean','train_err']\n",
    "df[col_list]"
   ]
  },
  {
   "cell_type": "code",
   "execution_count": 18,
   "metadata": {},
   "outputs": [
    {
     "data": {
      "text/plain": [
       "Text(0.5, 1.0, 'Plot of Training time vs number of GPUs per node')"
      ]
     },
     "execution_count": 18,
     "metadata": {},
     "output_type": "execute_result"
    },
    {
     "data": {
      "image/png": "[encoded data removed]",
      "text/plain": [
       "<Figure size 432x288 with 1 Axes>"
      ]
     },
     "metadata": {
      "needs_background": "light"
     },
     "output_type": "display_data"
    }
   ],
   "source": [
    "### Scaling plot 1\n",
    "plt.figure()\n",
    "for i,j in df.iterrows():\n",
    "    x,y,yerr=j.GPUs_per_node,j.train_mean,j.train_err\n",
    "    markers_dict={'1':'*','2':'s','3':'D','4':'h'}\n",
    "    marker=markers_dict[str(int(j.nodes))]\n",
    "    plt.errorbar(x=x,y=y,yerr=yerr,label=j.job_strg,markersize=5,marker=marker)\n",
    "    \n",
    "### Comparison with expected scaling\n",
    "x=np.linspace(1,8,num=50)\n",
    "plt.plot(x,140.0/x,color='y',label='y=60/x')\n",
    "plt.xlabel('GPUs per node')\n",
    "plt.ylabel('Training time \\nin seconds')\n",
    "plt.title('Plot of Training time vs number of GPUs per node')\n",
    "plt.legend()\n",
    "plt.title('Plot of Training time vs number of GPUs per node')\n",
    "\n",
    "# plt.savefig('scalingplot1.png')"
   ]
  },
  {
   "cell_type": "code",
   "execution_count": 22,
   "metadata": {},
   "outputs": [
    {
     "data": {
      "image/png": "[encoded data removed]",
      "text/plain": [
       "<Figure size 432x288 with 1 Axes>"
      ]
     },
     "metadata": {
      "needs_background": "light"
     },
     "output_type": "display_data"
    }
   ],
   "source": [
    "### Scaling plot 2\n",
    "plt.figure()\n",
    "for i,j in df.iterrows():\n",
    "    x,y,yerr=j.GPUs_per_node*j.nodes,j.train_mean,j.train_err\n",
    "    \n",
    "    markers_dict={'1':'*','2':'s','3':'D','4':'h'}\n",
    "    marker=markers_dict[str(int(j.nodes))]\n",
    "    plt.errorbar(x=x,y=y,yerr=yerr,label=j.job_strg,markersize=5,marker=marker)\n",
    "    \n",
    "### Comparison with expected scaling\n",
    "x=np.linspace(1,8,num=50)\n",
    "plt.plot(x,60.0/x,color='y',label='y=60/x')\n",
    "plt.xlabel('total GPUs')\n",
    "plt.ylabel('Training time \\nin seconds')\n",
    "plt.title('Plot of Training time vs number of GPUs per node')\n",
    "plt.legend()\n",
    "plt.title('Plot of Training time vs total number of GPUs ')\n",
    "\n",
    "plt.savefig('scalingplot2.png')"
   ]
  },
  {
   "cell_type": "code",
   "execution_count": 34,
   "metadata": {},
   "outputs": [
    {
     "data": {
      "text/plain": [
       "<matplotlib.lines.Line2D at 0x2aaaddc19908>"
      ]
     },
     "execution_count": 34,
     "metadata": {},
     "output_type": "execute_result"
    },
    {
     "data": {
      "image/png": "[encoded data removed]",
      "text/plain": [
       "<Figure size 432x288 with 1 Axes>"
      ]
     },
     "metadata": {
      "needs_background": "light"
     },
     "output_type": "display_data"
    }
   ],
   "source": [
    "### Plot individual times\n",
    "plt.figure()\n",
    "y=df[df.job_strg=='1_4_4'].train_arr.values[0]\n",
    "plt.plot(y,linestyle='',marker='*')\n",
    "plt.axhline(np.mean(y),color='y')"
   ]
  },
  {
   "cell_type": "markdown",
   "metadata": {},
   "source": [
    "### Scaling plots after doubling samples"
   ]
  },
  {
   "cell_type": "code",
   "execution_count": 25,
   "metadata": {},
   "outputs": [
    {
     "data": {
      "image/png": "[encoded data removed]",
      "text/plain": [
       "<Figure size 432x288 with 1 Axes>"
      ]
     },
     "metadata": {
      "needs_background": "light"
     },
     "output_type": "display_data"
    }
   ],
   "source": [
    "### Scaling plot 2\n",
    "plt.figure()\n",
    "for i,j in df.iterrows():\n",
    "    x,y,yerr=j.GPUs_per_node*j.nodes,j.train_mean,j.train_err\n",
    "    \n",
    "    markers_dict={'1':'*','2':'s','3':'D','4':'h'}\n",
    "    marker=markers_dict[str(int(j.nodes))]\n",
    "    plt.errorbar(x=x,y=y,yerr=yerr,label=j.job_strg,markersize=5,marker=marker)\n",
    "    \n",
    "### Comparison with expected scaling\n",
    "x=np.linspace(1,8,num=50)\n",
    "plt.plot(x,140.0/x,color='y',label='y=140/x')\n",
    "plt.xlabel('total GPUs')\n",
    "plt.ylabel('Training time \\nin seconds')\n",
    "plt.title('Plot of Training time vs number of GPUs per node')\n",
    "plt.legend()\n",
    "plt.title('Plot of Training time vs total number of GPUs ')\n",
    "\n",
    "plt.savefig('scalingplot3.png')"
   ]
  },
  {
   "cell_type": "code",
   "execution_count": null,
   "metadata": {},
   "outputs": [],
   "source": []
  }
 ],
 "metadata": {
  "kernelspec": {
   "display_name": "v_py3",
   "language": "python",
   "name": "v_jpt_py3"
  },
  "language_info": {
   "codemirror_mode": {
    "name": "ipython",
    "version": 3
   },
   "file_extension": ".py",
   "mimetype": "text/x-python",
   "name": "python",
   "nbconvert_exporter": "python",
   "pygments_lexer": "ipython3",
   "version": "3.6.8"
  }
 },
 "nbformat": 4,
 "nbformat_minor": 4
}
