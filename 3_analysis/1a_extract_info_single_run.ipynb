{
 "cells": [
  {
   "cell_type": "markdown",
   "metadata": {},
   "source": [
    "# Extract data from output files\n",
    "\n",
    "### Code to extract timing information from output files of Lbann code\n",
    "March 9, 2020"
   ]
  },
  {
   "cell_type": "code",
   "execution_count": 3,
   "metadata": {},
   "outputs": [],
   "source": [
    "import numpy as np\n",
    "import matplotlib.pyplot as plt\n",
    "import pandas as pd\n",
    "\n",
    "import subprocess as sp\n",
    "import os\n",
    "import glob\n",
    "import itertools\n",
    "\n",
    "from ipywidgets import *"
   ]
  },
  {
   "cell_type": "code",
   "execution_count": 4,
   "metadata": {},
   "outputs": [],
   "source": [
    "%matplotlib widget"
   ]
  },
  {
   "cell_type": "markdown",
   "metadata": {},
   "source": [
    "## Extract training times"
   ]
  },
  {
   "cell_type": "code",
   "execution_count": 5,
   "metadata": {},
   "outputs": [],
   "source": [
    "def f_extract_info(fname):\n",
    "    '''\n",
    "    Module to extract information from out.log files of Lbann training\n",
    "    Reads in file name\n",
    "    '''\n",
    "    strg_lst=['objective','d_real','d_fake','gen','spec_loss','run time','mini-batch']\n",
    "    keys=['training_'+strg for strg in strg_lst]\n",
    "    dict1={}\n",
    "    for category in ['training','validation']:\n",
    "        for strg in strg_lst:\n",
    "            try: \n",
    "                key=category+'_'+strg\n",
    "                cmd='grep \"{0}\" {1} | grep \"{2}\"'.format(category,fname,strg)\n",
    "        #         print(cmd)\n",
    "                op1=sp.check_output(cmd,shell=True).decode('utf-8').split('\\n')\n",
    "                obj=np.array([strg.split(':')[-1] for strg in op1 if strg])\n",
    "                dict1[key]=obj\n",
    "            except Exception as e:\n",
    "                print(e)\n",
    "                dict1[key]=np.nan\n",
    "    \n",
    "    df=pd.DataFrame([])\n",
    "    key_lst=['training_objective', 'training_d_real', 'training_d_fake', 'training_gen', 'training_spec_loss','validation_objective', 'validation_d_real', 'validation_d_fake', 'validation_gen','validation_spec_loss']\n",
    "    col_list=['train_obj','train_dreal','train_dfake','train_gen','train_spec','val_obj','val_dreal','val_dfake','val_gen','val_spec']\n",
    "    for col,key in zip(col_list,key_lst):\n",
    "        try: \n",
    "            df[col]=dict1[key].astype(np.float)\n",
    "        except: pass\n",
    "\n",
    "    ### Need to remove the trailing 's' in the timings\n",
    "    for col,key in zip(['train_time','val_time'],['training_run time','validation_run time']):\n",
    "        df[col]=np.array([i[:-1] for i in dict1[key]]).astype(np.float)\n",
    "\n",
    "    for col,key in zip(['train_batch_stats','val_batch_stats'],['training_mini-batch','validation_mini-batch']):\n",
    "        df[col]=dict1[key]\n",
    "        \n",
    "    return df\n",
    "\n",
    "def f_plot_metrics(df,col_list=['train_obj']):\n",
    "    '''\n",
    "    Plot multiple columns of the dataframe\n",
    "    '''\n",
    "    plt.figure()\n",
    "    \n",
    "    marker_lst=('o','*','H','D','.','x')\n",
    "    marker=itertools.cycle(marker_lst)\n",
    "    for col in col_list: plt.plot(df[col],linestyle='',marker=next(marker),label=col)\n",
    "    plt.legend()\n",
    "    plt.xlabel('Epoch')"
   ]
  },
  {
   "cell_type": "code",
   "execution_count": 1,
   "metadata": {},
   "outputs": [],
   "source": [
    "# ### Extract information from log file\n",
    "\n",
    "# parent_dir='/global/cscratch1/sd/vpa/proj/cosmogan/results_dir/128square/'\n",
    "# fldr_name='20201029_164804_bsize64_with_spec'\n",
    "# strg=parent_dir+'{0}/out.log'.format(fldr_name)\n",
    "# fname=glob.glob(strg)[0]\n",
    "# print(fname)\n",
    "# df=f_extract_info(fname)"
   ]
  },
  {
   "cell_type": "code",
   "execution_count": 6,
   "metadata": {},
   "outputs": [
    {
     "data": {
      "application/vnd.jupyter.widget-view+json": {
       "model_id": "3cc4ecde92d941dcaf4a1cdf19219023",
       "version_major": 2,
       "version_minor": 0
      },
      "text/plain": [
       "interactive(children=(Select(description='x', options=('scratch', 'proj'), value='scratch'), Output()), _dom_c…"
      ]
     },
     "metadata": {},
     "output_type": "display_data"
    }
   ],
   "source": [
    "dict1={'scratch':'/global/cscratch1/sd/vpa/proj/cosmogan/results_dir/128square/',\n",
    "    'proj':'/global/cfs/cdirs/m3363/vayyar/cosmogan_data/results_data/'}\n",
    "\n",
    "u=interactive(lambda x: dict1[x], x=Select(options=dict1.keys()))\n",
    "display(u)\n"
   ]
  },
  {
   "cell_type": "code",
   "execution_count": 7,
   "metadata": {},
   "outputs": [
    {
     "data": {
      "application/vnd.jupyter.widget-view+json": {
       "model_id": "f7918222dfe9409f9d295b35afad9bb8",
       "version_major": 2,
       "version_minor": 0
      },
      "text/plain": [
       "interactive(children=(Dropdown(description='x', options=('20200911_083711_bsize64_spec_test_128_nospec', '2020…"
      ]
     },
     "metadata": {},
     "output_type": "display_data"
    }
   ],
   "source": [
    "parent_dir=u.result\n",
    "dir_lst=[i.split('/')[-1] for i in glob.glob(parent_dir+'20*')]\n",
    "w=interactive(lambda x: x, x=Dropdown(options=dir_lst))\n",
    "display(w)"
   ]
  },
  {
   "cell_type": "code",
   "execution_count": 8,
   "metadata": {},
   "outputs": [
    {
     "name": "stdout",
     "output_type": "stream",
     "text": [
      "/global/cscratch1/sd/vpa/proj/cosmogan/results_dir/128square/20200911_083711_bsize64_spec_test_128_nospec\n",
      "Command 'grep \"training\" /global/cscratch1/sd/vpa/proj/cosmogan/results_dir/128square/20200911_083711_bsize64_spec_test_128_nospec/out.log | grep \"spec_loss\"' returned non-zero exit status 1.\n",
      "Command 'grep \"validation\" /global/cscratch1/sd/vpa/proj/cosmogan/results_dir/128square/20200911_083711_bsize64_spec_test_128_nospec/out.log | grep \"spec_loss\"' returned non-zero exit status 1.\n"
     ]
    }
   ],
   "source": [
    "result=w.result\n",
    "main_dir=parent_dir+result\n",
    "print(main_dir)\n",
    "\n",
    "strg=main_dir+'/out.log'\n",
    "df=f_extract_info(glob.glob(strg)[0])"
   ]
  },
  {
   "cell_type": "code",
   "execution_count": 9,
   "metadata": {},
   "outputs": [
    {
     "data": {
      "text/html": [
       "<div>\n",
       "<style scoped>\n",
       "    .dataframe tbody tr th:only-of-type {\n",
       "        vertical-align: middle;\n",
       "    }\n",
       "\n",
       "    .dataframe tbody tr th {\n",
       "        vertical-align: top;\n",
       "    }\n",
       "\n",
       "    .dataframe thead th {\n",
       "        text-align: right;\n",
       "    }\n",
       "</style>\n",
       "<table border=\"1\" class=\"dataframe\">\n",
       "  <thead>\n",
       "    <tr style=\"text-align: right;\">\n",
       "      <th></th>\n",
       "      <th>train_obj</th>\n",
       "      <th>train_dreal</th>\n",
       "      <th>train_dfake</th>\n",
       "      <th>train_gen</th>\n",
       "      <th>val_obj</th>\n",
       "      <th>val_dreal</th>\n",
       "      <th>val_dfake</th>\n",
       "      <th>val_gen</th>\n",
       "      <th>train_time</th>\n",
       "      <th>val_time</th>\n",
       "      <th>train_batch_stats</th>\n",
       "      <th>val_batch_stats</th>\n",
       "    </tr>\n",
       "  </thead>\n",
       "  <tbody>\n",
       "    <tr>\n",
       "      <th>0</th>\n",
       "      <td>4.19567</td>\n",
       "      <td>0.578883</td>\n",
       "      <td>0.680755</td>\n",
       "      <td>2.93603</td>\n",
       "      <td>1.72152</td>\n",
       "      <td>0.611710</td>\n",
       "      <td>0.223336</td>\n",
       "      <td>0.886478</td>\n",
       "      <td>498.322</td>\n",
       "      <td>50.3682</td>\n",
       "      <td>0.141527s mean, 4.11059s max, 0.0289866s min,...</td>\n",
       "      <td>0.128774s mean, 3.11338s max, 0.0121465s min,...</td>\n",
       "    </tr>\n",
       "    <tr>\n",
       "      <th>1</th>\n",
       "      <td>2.66707</td>\n",
       "      <td>0.596432</td>\n",
       "      <td>0.591708</td>\n",
       "      <td>1.47893</td>\n",
       "      <td>2.52958</td>\n",
       "      <td>0.153765</td>\n",
       "      <td>2.306330</td>\n",
       "      <td>0.069492</td>\n",
       "      <td>531.914</td>\n",
       "      <td>56.5173</td>\n",
       "      <td>0.151097s mean, 5.35489s max, 0.0256271s min,...</td>\n",
       "      <td>0.144478s mean, 5.11157s max, 0.0108759s min,...</td>\n",
       "    </tr>\n",
       "    <tr>\n",
       "      <th>2</th>\n",
       "      <td>2.64776</td>\n",
       "      <td>0.536288</td>\n",
       "      <td>0.524679</td>\n",
       "      <td>1.58679</td>\n",
       "      <td>1.91999</td>\n",
       "      <td>0.105960</td>\n",
       "      <td>1.689250</td>\n",
       "      <td>0.124774</td>\n",
       "      <td>539.267</td>\n",
       "      <td>65.8870</td>\n",
       "      <td>0.153193s mean, 5.70697s max, 0.0245995s min,...</td>\n",
       "      <td>0.168431s mean, 5.3597s max, 0.012339s min, 0...</td>\n",
       "    </tr>\n",
       "    <tr>\n",
       "      <th>3</th>\n",
       "      <td>2.73190</td>\n",
       "      <td>0.512756</td>\n",
       "      <td>0.499889</td>\n",
       "      <td>1.71926</td>\n",
       "      <td>2.25605</td>\n",
       "      <td>0.305098</td>\n",
       "      <td>0.276168</td>\n",
       "      <td>1.674780</td>\n",
       "      <td>496.604</td>\n",
       "      <td>45.7232</td>\n",
       "      <td>0.141057s mean, 5.2066s max, 0.0287161s min, ...</td>\n",
       "      <td>0.116875s mean, 3.44983s max, 0.0436821s min,...</td>\n",
       "    </tr>\n",
       "    <tr>\n",
       "      <th>4</th>\n",
       "      <td>2.81688</td>\n",
       "      <td>0.494211</td>\n",
       "      <td>0.480797</td>\n",
       "      <td>1.84187</td>\n",
       "      <td>1.63642</td>\n",
       "      <td>0.247458</td>\n",
       "      <td>0.425313</td>\n",
       "      <td>0.963650</td>\n",
       "      <td>578.781</td>\n",
       "      <td>69.7616</td>\n",
       "      <td>0.164427s mean, 6.04391s max, 0.0244762s min,...</td>\n",
       "      <td>0.178374s mean, 5.81138s max, 0.0111102s min,...</td>\n",
       "    </tr>\n",
       "  </tbody>\n",
       "</table>\n",
       "</div>"
      ],
      "text/plain": [
       "   train_obj  train_dreal  train_dfake  train_gen  val_obj  val_dreal  \\\n",
       "0    4.19567     0.578883     0.680755    2.93603  1.72152   0.611710   \n",
       "1    2.66707     0.596432     0.591708    1.47893  2.52958   0.153765   \n",
       "2    2.64776     0.536288     0.524679    1.58679  1.91999   0.105960   \n",
       "3    2.73190     0.512756     0.499889    1.71926  2.25605   0.305098   \n",
       "4    2.81688     0.494211     0.480797    1.84187  1.63642   0.247458   \n",
       "\n",
       "   val_dfake   val_gen  train_time  val_time  \\\n",
       "0   0.223336  0.886478     498.322   50.3682   \n",
       "1   2.306330  0.069492     531.914   56.5173   \n",
       "2   1.689250  0.124774     539.267   65.8870   \n",
       "3   0.276168  1.674780     496.604   45.7232   \n",
       "4   0.425313  0.963650     578.781   69.7616   \n",
       "\n",
       "                                   train_batch_stats  \\\n",
       "0   0.141527s mean, 4.11059s max, 0.0289866s min,...   \n",
       "1   0.151097s mean, 5.35489s max, 0.0256271s min,...   \n",
       "2   0.153193s mean, 5.70697s max, 0.0245995s min,...   \n",
       "3   0.141057s mean, 5.2066s max, 0.0287161s min, ...   \n",
       "4   0.164427s mean, 6.04391s max, 0.0244762s min,...   \n",
       "\n",
       "                                     val_batch_stats  \n",
       "0   0.128774s mean, 3.11338s max, 0.0121465s min,...  \n",
       "1   0.144478s mean, 5.11157s max, 0.0108759s min,...  \n",
       "2   0.168431s mean, 5.3597s max, 0.012339s min, 0...  \n",
       "3   0.116875s mean, 3.44983s max, 0.0436821s min,...  \n",
       "4   0.178374s mean, 5.81138s max, 0.0111102s min,...  "
      ]
     },
     "execution_count": 9,
     "metadata": {},
     "output_type": "execute_result"
    }
   ],
   "source": [
    "# df.columns\n",
    "df.head()\n"
   ]
  },
  {
   "cell_type": "code",
   "execution_count": 10,
   "metadata": {},
   "outputs": [
    {
     "data": {
      "application/vnd.jupyter.widget-view+json": {
       "model_id": "3fcefed854174e6393c4977fae4da9e8",
       "version_major": 2,
       "version_minor": 0
      },
      "text/plain": [
       "Canvas(toolbar=Toolbar(toolitems=[('Home', 'Reset original view', 'home', 'home'), ('Back', 'Back to previous …"
      ]
     },
     "metadata": {},
     "output_type": "display_data"
    }
   ],
   "source": [
    "\n",
    "\n",
    "f_plot_metrics(df,col_list=['train_obj','train_dfake','train_dreal','train_gen'])\n",
    "\n",
    "# plt.savefig('fig2.png')"
   ]
  },
  {
   "cell_type": "code",
   "execution_count": 11,
   "metadata": {},
   "outputs": [
    {
     "data": {
      "application/vnd.jupyter.widget-view+json": {
       "model_id": "6b2358b8dbe0409d9acae4b92d79c0dc",
       "version_major": 2,
       "version_minor": 0
      },
      "text/plain": [
       "interactive(children=(SelectMultiple(description='col_list', options=('train_obj', 'train_dreal', 'train_dfake…"
      ]
     },
     "metadata": {},
     "output_type": "display_data"
    },
    {
     "data": {
      "text/plain": [
       "<function __main__.f_plot_metrics(df, col_list=['train_obj'])>"
      ]
     },
     "execution_count": 11,
     "metadata": {},
     "output_type": "execute_result"
    }
   ],
   "source": [
    "### Compare different quantities\n",
    "col_list=['train_obj', 'train_dreal', 'train_dfake', 'train_gen', 'val_obj',\n",
    "       'val_dreal', 'val_dfake', 'val_gen', 'train_time', 'val_time']\n",
    "interact_manual(f_plot_metrics,col_list=SelectMultiple(options=col_list),df=fixed(df))\n"
   ]
  },
  {
   "cell_type": "code",
   "execution_count": null,
   "metadata": {},
   "outputs": [],
   "source": []
  },
  {
   "cell_type": "code",
   "execution_count": null,
   "metadata": {},
   "outputs": [],
   "source": []
  },
  {
   "cell_type": "code",
   "execution_count": null,
   "metadata": {},
   "outputs": [],
   "source": []
  }
 ],
 "metadata": {
  "kernelspec": {
   "display_name": "v_py3",
   "language": "python",
   "name": "v_jpt_py3"
  },
  "language_info": {
   "codemirror_mode": {
    "name": "ipython",
    "version": 3
   },
   "file_extension": ".py",
   "mimetype": "text/x-python",
   "name": "python",
   "nbconvert_exporter": "python",
   "pygments_lexer": "ipython3",
   "version": "3.6.8"
  }
 },
 "nbformat": 4,
 "nbformat_minor": 4
}
