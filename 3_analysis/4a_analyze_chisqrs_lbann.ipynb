{
 "cells": [
  {
   "cell_type": "markdown",
   "metadata": {},
   "source": [
    "# Extract data from output files\n",
    "### Analyze the output from a single LBANN run\n",
    "March 9, 2020 \\\n",
    "April 6, 2020 : to store files in order of epochs \\\n",
    "April 21, 2020: added jupyter widgets to compare pixel intensity plots \\\n",
    "July 30, 2020: Perform analysis with stored histograms."
   ]
  },
  {
   "cell_type": "code",
   "execution_count": 1,
   "metadata": {},
   "outputs": [],
   "source": [
    "import numpy as np\n",
    "import matplotlib.pyplot as plt\n",
    "import seaborn as sns\n",
    "import pandas as pd\n",
    "\n",
    "import subprocess as sp\n",
    "import os\n",
    "import glob\n",
    "import sys\n",
    "\n",
    "import itertools\n",
    "import time\n",
    "\n",
    "from ipywidgets import *"
   ]
  },
  {
   "cell_type": "code",
   "execution_count": 2,
   "metadata": {},
   "outputs": [],
   "source": [
    "%matplotlib widget"
   ]
  },
  {
   "cell_type": "code",
   "execution_count": 3,
   "metadata": {},
   "outputs": [],
   "source": [
    "sys.path.append('/global/u1/v/vpa/project/jpt_notebooks/Cosmology/Cosmo_GAN/repositories/lbann_cosmogan/3_analysis')\n",
    "from modules_image_analysis import *"
   ]
  },
  {
   "cell_type": "code",
   "execution_count": 4,
   "metadata": {},
   "outputs": [],
   "source": [
    "### Transformation functions for image pixel values\n",
    "def f_transform(x):\n",
    "    return 2.*x/(x + 4. + 1e-8) - 1.\n",
    "\n",
    "def f_invtransform(s):\n",
    "    return 4.*(1. + s)/(1. - s + 1e-8)"
   ]
  },
  {
   "cell_type": "markdown",
   "metadata": {},
   "source": [
    "## Extract folder"
   ]
  },
  {
   "cell_type": "code",
   "execution_count": 5,
   "metadata": {},
   "outputs": [
    {
     "data": {
      "application/vnd.jupyter.widget-view+json": {
       "model_id": "4db71dceca5241c5acb1f7cd569f4bf8",
       "version_major": 2,
       "version_minor": 0
      },
      "text/plain": [
       "interactive(children=(Select(description='x', options=('scratch', 'proj'), value='scratch'), Output()), _dom_c…"
      ]
     },
     "metadata": {},
     "output_type": "display_data"
    }
   ],
   "source": [
    "img_size=128\n",
    "dict1={'scratch':'/global/cscratch1/sd/vpa/proj/cosmogan/results_dir/{0}square/'.format(img_size),\n",
    "    'proj':'/global/cfs/cdirs/m3363/vayyar/cosmogan_data/results_data/'}\n",
    "\n",
    "u=interactive(lambda x: dict1[x], x=Select(options=dict1.keys()))\n",
    "display(u)\n"
   ]
  },
  {
   "cell_type": "code",
   "execution_count": 6,
   "metadata": {},
   "outputs": [
    {
     "data": {
      "application/vnd.jupyter.widget-view+json": {
       "model_id": "94e1652397af4618ba653e2d1aad0e93",
       "version_major": 2,
       "version_minor": 0
      },
      "text/plain": [
       "interactive(children=(Dropdown(description='x', options=('20200911_083711_bsize64_spec_test_128_nospec', '2020…"
      ]
     },
     "metadata": {},
     "output_type": "display_data"
    }
   ],
   "source": [
    "parent_dir=u.result\n",
    "dir_lst=[i.split('/')[-1] for i in glob.glob(parent_dir+'202*')]\n",
    "w=interactive(lambda x: x, x=Dropdown(options=dir_lst))\n",
    "display(w)"
   ]
  },
  {
   "cell_type": "code",
   "execution_count": 7,
   "metadata": {},
   "outputs": [
    {
     "name": "stdout",
     "output_type": "stream",
     "text": [
      "/global/cscratch1/sd/vpa/proj/cosmogan/results_dir/128square/20210226_175209_bsize256_scale0.1_deterministic_off\n"
     ]
    }
   ],
   "source": [
    "result=w.result\n",
    "main_dir=parent_dir+result\n",
    "print(main_dir)"
   ]
  },
  {
   "cell_type": "code",
   "execution_count": 8,
   "metadata": {},
   "outputs": [],
   "source": [
    "# Get location for validation data\n",
    "raw_data_dir='/global/cfs/cdirs/m3363/vayyar/cosmogan_data/raw_data/'\n",
    "input_files_dict={'128':raw_data_dir+'128_square/dataset_2_smoothing_200k/norm_1_train_val.npy',\n",
    "                 '512':raw_data_dir+'512_square/dataset1_smoothing_single_universe/norm_1_train_val.npy'}"
   ]
  },
  {
   "cell_type": "code",
   "execution_count": 9,
   "metadata": {},
   "outputs": [
    {
     "name": "stdout",
     "output_type": "stream",
     "text": [
      "(1000, 128, 128)\n"
     ]
    },
    {
     "name": "stderr",
     "output_type": "stream",
     "text": [
      "/global/u1/v/vpa/project/jpt_notebooks/Cosmology/Cosmo_GAN/repositories/lbann_cosmogan/3_analysis/modules_image_analysis.py:85: VisibleDeprecationWarning: Creating an ndarray from ragged nested sequences (which is a list-or-tuple of lists-or-tuples-or ndarrays with different lengths or shapes) is deprecated. If you meant to do this, you must specify 'dtype=object' when creating the ndarray\n",
      "  hist_arr=np.array([np.histogram(arr.flatten(), bins=bins, range=(llim,ulim), density=norm) for arr in img_arr]) ## range is important\n"
     ]
    }
   ],
   "source": [
    "def f_compute_hist_spect(sample,bins):\n",
    "    ''' Compute pixel intensity histograms and radial spectrum for 2D arrays\n",
    "    Input : Image arrays and bins\n",
    "    Output: dictionary with 5 arrays : Histogram values, errors and bin centers, Spectrum values and errors.\n",
    "    '''\n",
    "    ### Compute pixel histogram for row\n",
    "    gen_hist,gen_err,hist_bins=f_batch_histogram(sample,bins=bins,norm=True,hist_range=None)\n",
    "    ### Compute spectrum for row\n",
    "    spec,spec_sdev=f_compute_spectrum(sample,plot=False)\n",
    "\n",
    "    dict1={'hist_val':gen_hist,'hist_err':gen_err,'hist_bin_centers':hist_bins,'spec_val':spec,'spec_sdev':spec_sdev }\n",
    "    return dict1\n",
    "\n",
    "\n",
    "### Extract validation data\n",
    "num_bkgnd=1000\n",
    "fname=input_files_dict[str(img_size)]\n",
    "s_val=np.load(fname,mmap_mode='r')[:num_bkgnd][:,0,:,:]\n",
    "print(s_val.shape)\n",
    "\n",
    "bins=np.concatenate([np.array([-0.5]),np.arange(0.5,100.5,5),np.arange(100.5,300.5,20),np.arange(300.5,1000.5,50),np.array([2000])]) #bin edges to use\n",
    "bins=f_transform(bins)   ### scale to (-1,1) \n",
    "### Compute histogram and spectrum of raw data \n",
    "dict_val=f_compute_hist_spect(s_val,bins)"
   ]
  },
  {
   "cell_type": "code",
   "execution_count": 10,
   "metadata": {},
   "outputs": [],
   "source": [
    "# main_dir='/global/cscratch1/sd/vpa/proj/cosmogan/results_dir/128square/scaling_runs/20201031_205304_bsize512_scaling_2_8'"
   ]
  },
  {
   "cell_type": "markdown",
   "metadata": {},
   "source": [
    "## Extract metrics info from log file"
   ]
  },
  {
   "cell_type": "code",
   "execution_count": 11,
   "metadata": {},
   "outputs": [],
   "source": [
    "def f_extract_info(fname):\n",
    "    '''\n",
    "    Module to extract information from out.log files of Lbann training\n",
    "    Reads in file name\n",
    "    '''\n",
    "    strg_lst=['objective','d_real','d_fake','gen','spec_loss','run time','mini-batch']\n",
    "    keys=['training_'+strg for strg in strg_lst]\n",
    "    dict1={}\n",
    "    for category in ['training','validation']:\n",
    "        for strg in strg_lst:\n",
    "            try: \n",
    "                key=category+'_'+strg\n",
    "                cmd='grep \"{0}\" {1} | grep \"{2}\"'.format(category,fname,strg)\n",
    "        #         print(cmd)\n",
    "                op1=sp.check_output(cmd,shell=True).decode('utf-8').split('\\n')\n",
    "                obj=np.array([strg.split(':')[-1] for strg in op1 if strg])\n",
    "                dict1[key]=obj\n",
    "            except Exception as e:\n",
    "                print(e)\n",
    "                dict1[key]=np.nan\n",
    "    \n",
    "    df=pd.DataFrame([])\n",
    "    key_lst=['training_objective', 'training_d_real', 'training_d_fake', 'training_gen', 'training_spec_loss','validation_objective', 'validation_d_real', 'validation_d_fake', 'validation_gen','validation_spec_loss']\n",
    "    col_list=['train_obj','train_dreal','train_dfake','train_gen','train_spec','val_obj','val_dreal','val_dfake','val_gen','val_spec']\n",
    "    for col,key in zip(col_list,key_lst):\n",
    "        try: \n",
    "            df[col]=dict1[key].astype(np.float)\n",
    "        except: pass\n",
    "\n",
    "    ### Need to remove the trailing 's' in the timings\n",
    "    for col,key in zip(['train_time','val_time'],['training_run time','validation_run time']):\n",
    "        df[col]=np.array([i[:-1] for i in dict1[key]]).astype(np.float)\n",
    "\n",
    "    for col,key in zip(['train_batch_stats','val_batch_stats'],['training_mini-batch','validation_mini-batch']):\n",
    "        df[col]=dict1[key]\n",
    "        \n",
    "    return df\n",
    "\n",
    "def f_plot_metrics(df,col_list=['train_obj']):\n",
    "    '''\n",
    "    Plot multiple columns of the dataframe\n",
    "    '''\n",
    "    plt.figure()\n",
    "    \n",
    "    marker_lst=('o','*','H','D','.','x')\n",
    "    marker=itertools.cycle(marker_lst)\n",
    "    for col in col_list: plt.plot(df[col],linestyle='',marker=next(marker),label=col)\n",
    "    plt.legend()\n",
    "    plt.xlabel('Epoch')\n",
    "    "
   ]
  },
  {
   "cell_type": "code",
   "execution_count": 12,
   "metadata": {},
   "outputs": [],
   "source": [
    "strg=main_dir+'/out.log'\n",
    "df_metrics=f_extract_info(glob.glob(strg)[0])"
   ]
  },
  {
   "cell_type": "code",
   "execution_count": 13,
   "metadata": {},
   "outputs": [
    {
     "data": {
      "text/html": [
       "<div>\n",
       "<style scoped>\n",
       "    .dataframe tbody tr th:only-of-type {\n",
       "        vertical-align: middle;\n",
       "    }\n",
       "\n",
       "    .dataframe tbody tr th {\n",
       "        vertical-align: top;\n",
       "    }\n",
       "\n",
       "    .dataframe thead th {\n",
       "        text-align: right;\n",
       "    }\n",
       "</style>\n",
       "<table border=\"1\" class=\"dataframe\">\n",
       "  <thead>\n",
       "    <tr style=\"text-align: right;\">\n",
       "      <th></th>\n",
       "      <th>train_obj</th>\n",
       "      <th>train_dreal</th>\n",
       "      <th>train_dfake</th>\n",
       "      <th>train_gen</th>\n",
       "      <th>train_spec</th>\n",
       "      <th>val_obj</th>\n",
       "      <th>val_dreal</th>\n",
       "      <th>val_dfake</th>\n",
       "      <th>val_gen</th>\n",
       "      <th>val_spec</th>\n",
       "      <th>train_time</th>\n",
       "      <th>val_time</th>\n",
       "      <th>train_batch_stats</th>\n",
       "      <th>val_batch_stats</th>\n",
       "    </tr>\n",
       "  </thead>\n",
       "  <tbody>\n",
       "    <tr>\n",
       "      <th>0</th>\n",
       "      <td>11.66370</td>\n",
       "      <td>1.121530</td>\n",
       "      <td>1.025180</td>\n",
       "      <td>8.20232</td>\n",
       "      <td>13.1471</td>\n",
       "      <td>6.07607</td>\n",
       "      <td>0.189825</td>\n",
       "      <td>0.261554</td>\n",
       "      <td>4.360130</td>\n",
       "      <td>12.6456</td>\n",
       "      <td>477.023</td>\n",
       "      <td>4.89749</td>\n",
       "      <td>0.542463s mean, 13.2366s max, 0.0266994s min,...</td>\n",
       "      <td>0.0499295s mean, 0.674377s max, 0.0212096s mi...</td>\n",
       "    </tr>\n",
       "    <tr>\n",
       "      <th>1</th>\n",
       "      <td>6.64313</td>\n",
       "      <td>0.488296</td>\n",
       "      <td>0.447395</td>\n",
       "      <td>4.50567</td>\n",
       "      <td>12.0177</td>\n",
       "      <td>15.37270</td>\n",
       "      <td>0.762649</td>\n",
       "      <td>0.065537</td>\n",
       "      <td>13.394000</td>\n",
       "      <td>11.5045</td>\n",
       "      <td>470.660</td>\n",
       "      <td>5.88349</td>\n",
       "      <td>0.535233s mean, 12.4597s max, 0.028455s min, ...</td>\n",
       "      <td>0.0599905s mean, 0.749879s max, 0.016318s min...</td>\n",
       "    </tr>\n",
       "    <tr>\n",
       "      <th>2</th>\n",
       "      <td>5.80714</td>\n",
       "      <td>0.370653</td>\n",
       "      <td>0.351939</td>\n",
       "      <td>3.92026</td>\n",
       "      <td>11.6428</td>\n",
       "      <td>3.11646</td>\n",
       "      <td>0.349514</td>\n",
       "      <td>0.175034</td>\n",
       "      <td>1.446930</td>\n",
       "      <td>11.4498</td>\n",
       "      <td>440.906</td>\n",
       "      <td>4.09537</td>\n",
       "      <td>0.50138s mean, 9.7302s max, 0.0270251s min, 1...</td>\n",
       "      <td>0.0417448s mean, 0.434532s max, 0.0163489s mi...</td>\n",
       "    </tr>\n",
       "    <tr>\n",
       "      <th>3</th>\n",
       "      <td>5.30511</td>\n",
       "      <td>0.340484</td>\n",
       "      <td>0.334236</td>\n",
       "      <td>3.47730</td>\n",
       "      <td>11.5309</td>\n",
       "      <td>11.15500</td>\n",
       "      <td>1.122940</td>\n",
       "      <td>0.080311</td>\n",
       "      <td>8.792970</td>\n",
       "      <td>11.5874</td>\n",
       "      <td>402.083</td>\n",
       "      <td>9.56473</td>\n",
       "      <td>0.457215s mean, 11.3769s max, 0.026943s min, ...</td>\n",
       "      <td>0.0975533s mean, 3.51449s max, 0.0168001s min...</td>\n",
       "    </tr>\n",
       "    <tr>\n",
       "      <th>4</th>\n",
       "      <td>4.95641</td>\n",
       "      <td>0.360317</td>\n",
       "      <td>0.353641</td>\n",
       "      <td>3.08922</td>\n",
       "      <td>11.5323</td>\n",
       "      <td>3.28328</td>\n",
       "      <td>0.135238</td>\n",
       "      <td>1.153760</td>\n",
       "      <td>0.841275</td>\n",
       "      <td>11.5301</td>\n",
       "      <td>422.864</td>\n",
       "      <td>4.94935</td>\n",
       "      <td>0.480856s mean, 7.91464s max, 0.0272264s min,...</td>\n",
       "      <td>0.0504375s mean, 0.50381s max, 0.0159224s min...</td>\n",
       "    </tr>\n",
       "  </tbody>\n",
       "</table>\n",
       "</div>"
      ],
      "text/plain": [
       "   train_obj  train_dreal  train_dfake  train_gen  train_spec   val_obj  \\\n",
       "0   11.66370     1.121530     1.025180    8.20232     13.1471   6.07607   \n",
       "1    6.64313     0.488296     0.447395    4.50567     12.0177  15.37270   \n",
       "2    5.80714     0.370653     0.351939    3.92026     11.6428   3.11646   \n",
       "3    5.30511     0.340484     0.334236    3.47730     11.5309  11.15500   \n",
       "4    4.95641     0.360317     0.353641    3.08922     11.5323   3.28328   \n",
       "\n",
       "   val_dreal  val_dfake    val_gen  val_spec  train_time  val_time  \\\n",
       "0   0.189825   0.261554   4.360130   12.6456     477.023   4.89749   \n",
       "1   0.762649   0.065537  13.394000   11.5045     470.660   5.88349   \n",
       "2   0.349514   0.175034   1.446930   11.4498     440.906   4.09537   \n",
       "3   1.122940   0.080311   8.792970   11.5874     402.083   9.56473   \n",
       "4   0.135238   1.153760   0.841275   11.5301     422.864   4.94935   \n",
       "\n",
       "                                   train_batch_stats  \\\n",
       "0   0.542463s mean, 13.2366s max, 0.0266994s min,...   \n",
       "1   0.535233s mean, 12.4597s max, 0.028455s min, ...   \n",
       "2   0.50138s mean, 9.7302s max, 0.0270251s min, 1...   \n",
       "3   0.457215s mean, 11.3769s max, 0.026943s min, ...   \n",
       "4   0.480856s mean, 7.91464s max, 0.0272264s min,...   \n",
       "\n",
       "                                     val_batch_stats  \n",
       "0   0.0499295s mean, 0.674377s max, 0.0212096s mi...  \n",
       "1   0.0599905s mean, 0.749879s max, 0.016318s min...  \n",
       "2   0.0417448s mean, 0.434532s max, 0.0163489s mi...  \n",
       "3   0.0975533s mean, 3.51449s max, 0.0168001s min...  \n",
       "4   0.0504375s mean, 0.50381s max, 0.0159224s min...  "
      ]
     },
     "execution_count": 13,
     "metadata": {},
     "output_type": "execute_result"
    }
   ],
   "source": [
    "df_metrics.head()"
   ]
  },
  {
   "cell_type": "code",
   "execution_count": 14,
   "metadata": {},
   "outputs": [
    {
     "data": {
      "application/vnd.jupyter.widget-view+json": {
       "model_id": "5df964feb354473b9a2e7c17d85d473a",
       "version_major": 2,
       "version_minor": 0
      },
      "text/plain": [
       "interactive(children=(SelectMultiple(description='col_list', options=('train_obj', 'train_dreal', 'train_dfake…"
      ]
     },
     "metadata": {},
     "output_type": "display_data"
    },
    {
     "data": {
      "text/plain": [
       "<function __main__.f_plot_metrics(df, col_list=['train_obj'])>"
      ]
     },
     "execution_count": 14,
     "metadata": {},
     "output_type": "execute_result"
    }
   ],
   "source": [
    "col_list=df_metrics.columns[~df_metrics.columns.str.endswith('stats')]\n",
    "interact_manual(f_plot_metrics,col_list=SelectMultiple(options=col_list),df=fixed(df_metrics))\n"
   ]
  },
  {
   "cell_type": "markdown",
   "metadata": {},
   "source": [
    "## Extract data from stored dataframe"
   ]
  },
  {
   "cell_type": "code",
   "execution_count": 15,
   "metadata": {},
   "outputs": [],
   "source": [
    "### Load data\n",
    "df=pd.read_pickle(main_dir+'/df_processed.pkle')\n",
    "df[['epoch','step']]=df[['epoch','step']].astype(int)\n",
    "df['label']=df.epoch.astype(str)+'-'+df.step.astype(str) # Add label column for plotting\n",
    "\n",
    "col_list=['label','chi_1','chi_spec1', 'chi_spec3', 'chi_1a', 'chi_1b', 'chi_1c', 'chi_2','chi_imgvar', 'chi_spec2','epoch','step']\n"
   ]
  },
  {
   "cell_type": "code",
   "execution_count": 16,
   "metadata": {},
   "outputs": [
    {
     "name": "stdout",
     "output_type": "stream",
     "text": [
      "(1758, 22)\n"
     ]
    },
    {
     "data": {
      "text/html": [
       "<div>\n",
       "<style scoped>\n",
       "    .dataframe tbody tr th:only-of-type {\n",
       "        vertical-align: middle;\n",
       "    }\n",
       "\n",
       "    .dataframe tbody tr th {\n",
       "        vertical-align: top;\n",
       "    }\n",
       "\n",
       "    .dataframe thead th {\n",
       "        text-align: right;\n",
       "    }\n",
       "</style>\n",
       "<table border=\"1\" class=\"dataframe\">\n",
       "  <thead>\n",
       "    <tr style=\"text-align: right;\">\n",
       "      <th></th>\n",
       "      <th>epoch</th>\n",
       "      <th>step</th>\n",
       "      <th>img_type</th>\n",
       "      <th>fname</th>\n",
       "      <th>chi_1a</th>\n",
       "      <th>chi_1b</th>\n",
       "      <th>chi_1c</th>\n",
       "      <th>chi_1</th>\n",
       "      <th>chi_2</th>\n",
       "      <th>chi_imgvar</th>\n",
       "      <th>...</th>\n",
       "      <th>chi_spec3</th>\n",
       "      <th>num_imgs</th>\n",
       "      <th>num_large</th>\n",
       "      <th>num_vlarge</th>\n",
       "      <th>hist_val</th>\n",
       "      <th>hist_err</th>\n",
       "      <th>hist_bin_centers</th>\n",
       "      <th>spec_val</th>\n",
       "      <th>spec_sdev</th>\n",
       "      <th>label</th>\n",
       "    </tr>\n",
       "  </thead>\n",
       "  <tbody>\n",
       "    <tr>\n",
       "      <th>1753</th>\n",
       "      <td>19</td>\n",
       "      <td>17530</td>\n",
       "      <td>train_gen</td>\n",
       "      <td>/global/cscratch1/sd/vpa/proj/cosmogan/results...</td>\n",
       "      <td>0.016795</td>\n",
       "      <td>0.001091</td>\n",
       "      <td>0.058260</td>\n",
       "      <td>0.076147</td>\n",
       "      <td>0.013404</td>\n",
       "      <td>6.087511</td>\n",
       "      <td>...</td>\n",
       "      <td>25.438133</td>\n",
       "      <td>256</td>\n",
       "      <td>4</td>\n",
       "      <td>0</td>\n",
       "      <td>[1.015959556041075, 0.49171524383975546, 0.049...</td>\n",
       "      <td>[0.0033494240627420665, 0.001533796090566746, ...</td>\n",
       "      <td>[-1.031746031584782, -0.3099415213241682, 0.30...</td>\n",
       "      <td>[84338.63431543857, 58676.65387212038, 42728.1...</td>\n",
       "      <td>[43309.3794359084, 20898.61386535446, 14417.03...</td>\n",
       "      <td>19-17530</td>\n",
       "    </tr>\n",
       "    <tr>\n",
       "      <th>1754</th>\n",
       "      <td>19</td>\n",
       "      <td>17540</td>\n",
       "      <td>train_gen</td>\n",
       "      <td>/global/cscratch1/sd/vpa/proj/cosmogan/results...</td>\n",
       "      <td>0.010847</td>\n",
       "      <td>0.002474</td>\n",
       "      <td>0.159623</td>\n",
       "      <td>0.172943</td>\n",
       "      <td>0.008171</td>\n",
       "      <td>7.094986</td>\n",
       "      <td>...</td>\n",
       "      <td>31.615143</td>\n",
       "      <td>256</td>\n",
       "      <td>9</td>\n",
       "      <td>0</td>\n",
       "      <td>[1.0380432558012525, 0.47864579148425707, 0.05...</td>\n",
       "      <td>[0.003885703094345541, 0.0017754137606646328, ...</td>\n",
       "      <td>[-1.031746031584782, -0.3099415213241682, 0.30...</td>\n",
       "      <td>[111035.27460477129, 77283.4571272507, 51290.9...</td>\n",
       "      <td>[59874.85916587743, 29369.757913888134, 18153....</td>\n",
       "      <td>19-17540</td>\n",
       "    </tr>\n",
       "    <tr>\n",
       "      <th>1755</th>\n",
       "      <td>19</td>\n",
       "      <td>17550</td>\n",
       "      <td>train_gen</td>\n",
       "      <td>/global/cscratch1/sd/vpa/proj/cosmogan/results...</td>\n",
       "      <td>0.029363</td>\n",
       "      <td>0.036083</td>\n",
       "      <td>0.022350</td>\n",
       "      <td>0.087796</td>\n",
       "      <td>0.002866</td>\n",
       "      <td>4.764689</td>\n",
       "      <td>...</td>\n",
       "      <td>30.012879</td>\n",
       "      <td>256</td>\n",
       "      <td>4</td>\n",
       "      <td>0</td>\n",
       "      <td>[1.16100517214787, 0.4203802052417338, 0.03626...</td>\n",
       "      <td>[0.0035102543106102202, 0.0016756886190460673,...</td>\n",
       "      <td>[-1.031746031584782, -0.3099415213241682, 0.30...</td>\n",
       "      <td>[74767.48379244469, 53472.70199472668, 38472.6...</td>\n",
       "      <td>[35761.33483664293, 20320.52995603113, 12322.6...</td>\n",
       "      <td>19-17550</td>\n",
       "    </tr>\n",
       "    <tr>\n",
       "      <th>1756</th>\n",
       "      <td>19</td>\n",
       "      <td>17560</td>\n",
       "      <td>train_gen</td>\n",
       "      <td>/global/cscratch1/sd/vpa/proj/cosmogan/results...</td>\n",
       "      <td>0.029918</td>\n",
       "      <td>0.042707</td>\n",
       "      <td>0.005229</td>\n",
       "      <td>0.077855</td>\n",
       "      <td>0.004295</td>\n",
       "      <td>3.946270</td>\n",
       "      <td>...</td>\n",
       "      <td>30.552298</td>\n",
       "      <td>256</td>\n",
       "      <td>1</td>\n",
       "      <td>0</td>\n",
       "      <td>[1.0670748157010785, 0.4694204006256112, 0.041...</td>\n",
       "      <td>[0.0033437414877736274, 0.0015812673782240607,...</td>\n",
       "      <td>[-1.031746031584782, -0.3099415213241682, 0.30...</td>\n",
       "      <td>[71789.49536034092, 49444.251543575614, 33598....</td>\n",
       "      <td>[39651.10258336275, 17046.035196000055, 10301....</td>\n",
       "      <td>19-17560</td>\n",
       "    </tr>\n",
       "    <tr>\n",
       "      <th>1757</th>\n",
       "      <td>19</td>\n",
       "      <td>17570</td>\n",
       "      <td>train_gen</td>\n",
       "      <td>/global/cscratch1/sd/vpa/proj/cosmogan/results...</td>\n",
       "      <td>0.001874</td>\n",
       "      <td>0.003002</td>\n",
       "      <td>0.043742</td>\n",
       "      <td>0.048618</td>\n",
       "      <td>0.000451</td>\n",
       "      <td>6.092245</td>\n",
       "      <td>...</td>\n",
       "      <td>27.866128</td>\n",
       "      <td>256</td>\n",
       "      <td>8</td>\n",
       "      <td>1</td>\n",
       "      <td>[1.1003865338664094, 0.44727925981879935, 0.04...</td>\n",
       "      <td>[0.0031520897999214835, 0.001411843573512864, ...</td>\n",
       "      <td>[-1.031746031584782, -0.3099415213241682, 0.30...</td>\n",
       "      <td>[88485.26257414743, 59611.31071579913, 40434.2...</td>\n",
       "      <td>[53961.63840664043, 24471.44813873732, 13975.6...</td>\n",
       "      <td>19-17570</td>\n",
       "    </tr>\n",
       "  </tbody>\n",
       "</table>\n",
       "<p>5 rows × 22 columns</p>\n",
       "</div>"
      ],
      "text/plain": [
       "      epoch   step   img_type  \\\n",
       "1753     19  17530  train_gen   \n",
       "1754     19  17540  train_gen   \n",
       "1755     19  17550  train_gen   \n",
       "1756     19  17560  train_gen   \n",
       "1757     19  17570  train_gen   \n",
       "\n",
       "                                                  fname    chi_1a    chi_1b  \\\n",
       "1753  /global/cscratch1/sd/vpa/proj/cosmogan/results...  0.016795  0.001091   \n",
       "1754  /global/cscratch1/sd/vpa/proj/cosmogan/results...  0.010847  0.002474   \n",
       "1755  /global/cscratch1/sd/vpa/proj/cosmogan/results...  0.029363  0.036083   \n",
       "1756  /global/cscratch1/sd/vpa/proj/cosmogan/results...  0.029918  0.042707   \n",
       "1757  /global/cscratch1/sd/vpa/proj/cosmogan/results...  0.001874  0.003002   \n",
       "\n",
       "        chi_1c     chi_1     chi_2  chi_imgvar  ...  chi_spec3  num_imgs  \\\n",
       "1753  0.058260  0.076147  0.013404    6.087511  ...  25.438133       256   \n",
       "1754  0.159623  0.172943  0.008171    7.094986  ...  31.615143       256   \n",
       "1755  0.022350  0.087796  0.002866    4.764689  ...  30.012879       256   \n",
       "1756  0.005229  0.077855  0.004295    3.946270  ...  30.552298       256   \n",
       "1757  0.043742  0.048618  0.000451    6.092245  ...  27.866128       256   \n",
       "\n",
       "      num_large  num_vlarge  \\\n",
       "1753          4           0   \n",
       "1754          9           0   \n",
       "1755          4           0   \n",
       "1756          1           0   \n",
       "1757          8           1   \n",
       "\n",
       "                                               hist_val  \\\n",
       "1753  [1.015959556041075, 0.49171524383975546, 0.049...   \n",
       "1754  [1.0380432558012525, 0.47864579148425707, 0.05...   \n",
       "1755  [1.16100517214787, 0.4203802052417338, 0.03626...   \n",
       "1756  [1.0670748157010785, 0.4694204006256112, 0.041...   \n",
       "1757  [1.1003865338664094, 0.44727925981879935, 0.04...   \n",
       "\n",
       "                                               hist_err  \\\n",
       "1753  [0.0033494240627420665, 0.001533796090566746, ...   \n",
       "1754  [0.003885703094345541, 0.0017754137606646328, ...   \n",
       "1755  [0.0035102543106102202, 0.0016756886190460673,...   \n",
       "1756  [0.0033437414877736274, 0.0015812673782240607,...   \n",
       "1757  [0.0031520897999214835, 0.001411843573512864, ...   \n",
       "\n",
       "                                       hist_bin_centers  \\\n",
       "1753  [-1.031746031584782, -0.3099415213241682, 0.30...   \n",
       "1754  [-1.031746031584782, -0.3099415213241682, 0.30...   \n",
       "1755  [-1.031746031584782, -0.3099415213241682, 0.30...   \n",
       "1756  [-1.031746031584782, -0.3099415213241682, 0.30...   \n",
       "1757  [-1.031746031584782, -0.3099415213241682, 0.30...   \n",
       "\n",
       "                                               spec_val  \\\n",
       "1753  [84338.63431543857, 58676.65387212038, 42728.1...   \n",
       "1754  [111035.27460477129, 77283.4571272507, 51290.9...   \n",
       "1755  [74767.48379244469, 53472.70199472668, 38472.6...   \n",
       "1756  [71789.49536034092, 49444.251543575614, 33598....   \n",
       "1757  [88485.26257414743, 59611.31071579913, 40434.2...   \n",
       "\n",
       "                                              spec_sdev     label  \n",
       "1753  [43309.3794359084, 20898.61386535446, 14417.03...  19-17530  \n",
       "1754  [59874.85916587743, 29369.757913888134, 18153....  19-17540  \n",
       "1755  [35761.33483664293, 20320.52995603113, 12322.6...  19-17550  \n",
       "1756  [39651.10258336275, 17046.035196000055, 10301....  19-17560  \n",
       "1757  [53961.63840664043, 24471.44813873732, 13975.6...  19-17570  \n",
       "\n",
       "[5 rows x 22 columns]"
      ]
     },
     "execution_count": 16,
     "metadata": {},
     "output_type": "execute_result"
    }
   ],
   "source": [
    "print(df.shape)\n",
    "df.tail()\n"
   ]
  },
  {
   "cell_type": "code",
   "execution_count": 17,
   "metadata": {},
   "outputs": [
    {
     "data": {
      "text/plain": [
       "Index(['epoch', 'step', 'img_type', 'fname', 'chi_1a', 'chi_1b', 'chi_1c',\n",
       "       'chi_1', 'chi_2', 'chi_imgvar', 'chi_spec1', 'chi_spec2', 'chi_spec3',\n",
       "       'num_imgs', 'num_large', 'num_vlarge', 'hist_val', 'hist_err',\n",
       "       'hist_bin_centers', 'spec_val', 'spec_sdev', 'label'],\n",
       "      dtype='object')"
      ]
     },
     "execution_count": 17,
     "metadata": {},
     "output_type": "execute_result"
    }
   ],
   "source": [
    "df.columns"
   ]
  },
  {
   "cell_type": "markdown",
   "metadata": {},
   "source": [
    "### View best epochs"
   ]
  },
  {
   "cell_type": "markdown",
   "metadata": {},
   "source": [
    "#### Locations with best chi_sqr"
   ]
  },
  {
   "cell_type": "code",
   "execution_count": 18,
   "metadata": {},
   "outputs": [
    {
     "data": {
      "text/html": [
       "<div>\n",
       "<style scoped>\n",
       "    .dataframe tbody tr th:only-of-type {\n",
       "        vertical-align: middle;\n",
       "    }\n",
       "\n",
       "    .dataframe tbody tr th {\n",
       "        vertical-align: top;\n",
       "    }\n",
       "\n",
       "    .dataframe thead th {\n",
       "        text-align: right;\n",
       "    }\n",
       "</style>\n",
       "<table border=\"1\" class=\"dataframe\">\n",
       "  <thead>\n",
       "    <tr style=\"text-align: right;\">\n",
       "      <th></th>\n",
       "      <th>epoch</th>\n",
       "      <th>step</th>\n",
       "      <th>chi_1a</th>\n",
       "      <th>chi_1b</th>\n",
       "      <th>chi_1c</th>\n",
       "      <th>chi_1</th>\n",
       "      <th>chi_2</th>\n",
       "      <th>chi_imgvar</th>\n",
       "      <th>chi_spec1</th>\n",
       "      <th>chi_spec2</th>\n",
       "    </tr>\n",
       "  </thead>\n",
       "  <tbody>\n",
       "    <tr>\n",
       "      <th>681</th>\n",
       "      <td>7</td>\n",
       "      <td>6810</td>\n",
       "      <td>0.000389</td>\n",
       "      <td>0.001770</td>\n",
       "      <td>0.033989</td>\n",
       "      <td>0.036148</td>\n",
       "      <td>0.000116</td>\n",
       "      <td>6.664384</td>\n",
       "      <td>9.878868e-01</td>\n",
       "      <td>2.143855e+02</td>\n",
       "    </tr>\n",
       "    <tr>\n",
       "      <th>647</th>\n",
       "      <td>7</td>\n",
       "      <td>6470</td>\n",
       "      <td>0.013618</td>\n",
       "      <td>0.000711</td>\n",
       "      <td>0.069868</td>\n",
       "      <td>0.084198</td>\n",
       "      <td>0.008890</td>\n",
       "      <td>7.092261</td>\n",
       "      <td>1.258402e+00</td>\n",
       "      <td>7.140978e+01</td>\n",
       "    </tr>\n",
       "    <tr>\n",
       "      <th>624</th>\n",
       "      <td>7</td>\n",
       "      <td>6240</td>\n",
       "      <td>0.009065</td>\n",
       "      <td>0.020873</td>\n",
       "      <td>0.000582</td>\n",
       "      <td>0.030520</td>\n",
       "      <td>0.002751</td>\n",
       "      <td>5.006674</td>\n",
       "      <td>1.204620e+00</td>\n",
       "      <td>7.541957e+01</td>\n",
       "    </tr>\n",
       "    <tr>\n",
       "      <th>857</th>\n",
       "      <td>9</td>\n",
       "      <td>8570</td>\n",
       "      <td>0.003747</td>\n",
       "      <td>0.006825</td>\n",
       "      <td>0.000795</td>\n",
       "      <td>0.011366</td>\n",
       "      <td>0.001003</td>\n",
       "      <td>5.232429</td>\n",
       "      <td>5.408509e-01</td>\n",
       "      <td>5.474589e+01</td>\n",
       "    </tr>\n",
       "    <tr>\n",
       "      <th>793</th>\n",
       "      <td>9</td>\n",
       "      <td>7930</td>\n",
       "      <td>0.000791</td>\n",
       "      <td>0.003742</td>\n",
       "      <td>0.037148</td>\n",
       "      <td>0.041681</td>\n",
       "      <td>0.000073</td>\n",
       "      <td>6.385770</td>\n",
       "      <td>3.936523e-01</td>\n",
       "      <td>3.357695e+01</td>\n",
       "    </tr>\n",
       "    <tr>\n",
       "      <th>8</th>\n",
       "      <td>0</td>\n",
       "      <td>80</td>\n",
       "      <td>0.846258</td>\n",
       "      <td>0.108368</td>\n",
       "      <td>0.003864</td>\n",
       "      <td>0.958489</td>\n",
       "      <td>0.622217</td>\n",
       "      <td>0.497681</td>\n",
       "      <td>1.181336e+07</td>\n",
       "      <td>7.160662e+08</td>\n",
       "    </tr>\n",
       "    <tr>\n",
       "      <th>1396</th>\n",
       "      <td>15</td>\n",
       "      <td>13960</td>\n",
       "      <td>0.011831</td>\n",
       "      <td>0.023147</td>\n",
       "      <td>0.008171</td>\n",
       "      <td>0.043150</td>\n",
       "      <td>0.005629</td>\n",
       "      <td>4.914970</td>\n",
       "      <td>1.853094e-01</td>\n",
       "      <td>2.191053e+01</td>\n",
       "    </tr>\n",
       "    <tr>\n",
       "      <th>1471</th>\n",
       "      <td>16</td>\n",
       "      <td>14710</td>\n",
       "      <td>0.010240</td>\n",
       "      <td>0.009103</td>\n",
       "      <td>0.025903</td>\n",
       "      <td>0.045246</td>\n",
       "      <td>0.006257</td>\n",
       "      <td>5.989348</td>\n",
       "      <td>2.279620e-01</td>\n",
       "      <td>1.696681e+01</td>\n",
       "    </tr>\n",
       "  </tbody>\n",
       "</table>\n",
       "</div>"
      ],
      "text/plain": [
       "      epoch   step    chi_1a    chi_1b    chi_1c     chi_1     chi_2  \\\n",
       "681       7   6810  0.000389  0.001770  0.033989  0.036148  0.000116   \n",
       "647       7   6470  0.013618  0.000711  0.069868  0.084198  0.008890   \n",
       "624       7   6240  0.009065  0.020873  0.000582  0.030520  0.002751   \n",
       "857       9   8570  0.003747  0.006825  0.000795  0.011366  0.001003   \n",
       "793       9   7930  0.000791  0.003742  0.037148  0.041681  0.000073   \n",
       "8         0     80  0.846258  0.108368  0.003864  0.958489  0.622217   \n",
       "1396     15  13960  0.011831  0.023147  0.008171  0.043150  0.005629   \n",
       "1471     16  14710  0.010240  0.009103  0.025903  0.045246  0.006257   \n",
       "\n",
       "      chi_imgvar     chi_spec1     chi_spec2  \n",
       "681     6.664384  9.878868e-01  2.143855e+02  \n",
       "647     7.092261  1.258402e+00  7.140978e+01  \n",
       "624     5.006674  1.204620e+00  7.541957e+01  \n",
       "857     5.232429  5.408509e-01  5.474589e+01  \n",
       "793     6.385770  3.936523e-01  3.357695e+01  \n",
       "8       0.497681  1.181336e+07  7.160662e+08  \n",
       "1396    4.914970  1.853094e-01  2.191053e+01  \n",
       "1471    5.989348  2.279620e-01  1.696681e+01  "
      ]
     },
     "execution_count": 18,
     "metadata": {},
     "output_type": "execute_result"
    }
   ],
   "source": [
    "def f_get_best_chisqr_models(df,cutoff=0.2):\n",
    "    '''\n",
    "    Pick models with lowest 20% chi-square for multiple categories\n",
    "    '''\n",
    "    chi_sqr_keys=[ 'chi_1', 'chi_spec1']\n",
    "    q_dict=dict(df.quantile(q=cutoff,axis=0)[chi_sqr_keys])\n",
    "#     print(q_dict)\n",
    "    \n",
    "    df_sliced=df.query('chi_1 < {0} & chi_spec1 < {1}'.format(q_dict['chi_1'],q_dict['chi_spec1']))\n",
    "    \n",
    "    return df_sliced\n",
    "\n",
    "chi_sqr_keys=['epoch','step','chi_1a','chi_1b','chi_1c','chi_1','chi_2','chi_imgvar','chi_spec1','chi_spec2']\n",
    "# index location of min/max values of chi squares\n",
    "inds=[]\n",
    "for key in ['chi_1a','chi_1b','chi_1c','chi_1','chi_2','chi_imgvar','chi_spec1','chi_spec2']:\n",
    "    inds.append(df[key].idxmin(axis=1))\n",
    "inds=np.array(inds)\n",
    "df.loc[inds][chi_sqr_keys]\n"
   ]
  },
  {
   "cell_type": "code",
   "execution_count": 19,
   "metadata": {},
   "outputs": [],
   "source": [
    "### Plot chi-sqr values\n",
    "# _=df_sliced.plot(x=\"step\", y=[\"chi_1\", \"chi_imgvar\", \"chi_spec1\"],style='.',marker='*')"
   ]
  },
  {
   "cell_type": "code",
   "execution_count": 20,
   "metadata": {},
   "outputs": [
    {
     "data": {
      "application/vnd.jupyter.widget-view+json": {
       "model_id": "b8da045a93a84fd99d4836d39236720c",
       "version_major": 2,
       "version_minor": 0
      },
      "text/plain": [
       "Canvas(toolbar=Toolbar(toolitems=[('Home', 'Reset original view', 'home', 'home'), ('Back', 'Back to previous …"
      ]
     },
     "metadata": {},
     "output_type": "display_data"
    },
    {
     "data": {
      "text/plain": [
       "Text(0, 0.5, 'Number of very large pixel images from a batch of images')"
      ]
     },
     "execution_count": 20,
     "metadata": {},
     "output_type": "execute_result"
    }
   ],
   "source": [
    "### Plot number of very high pixel images\n",
    "plt.figure()\n",
    "plt.plot(df[df.img_type=='train_gen'].step,df[df.img_type=='train_gen'].num_vlarge,linestyle='',marker='*')\n",
    "plt.xlabel('Steps in Epochs')\n",
    "plt.ylabel('Number of very large pixel images from a batch of images')\n",
    "\n",
    "# df[df.num_vlarge>10].tail()"
   ]
  },
  {
   "cell_type": "markdown",
   "metadata": {},
   "source": [
    "### View best steps"
   ]
  },
  {
   "cell_type": "code",
   "execution_count": 21,
   "metadata": {},
   "outputs": [],
   "source": [
    "def f_slice_df(df,cutoff=0.2,sort_col='chi_1',col_mode='all',head=10,epoch_range=[0,None],display_flag=False):\n",
    "    ''' View dataframe after slicing\n",
    "    '''\n",
    "    col_list=['label','chi_1','chi_spec1', 'chi_spec3', 'chi_1a', 'chi_1b', 'chi_1c', 'chi_2','chi_imgvar', 'chi_spec2','epoch','step']\n",
    "    if (col_mode=='short'): col_list=['label','chi_1','chi_spec1']\n",
    "        \n",
    "    print(epoch_range)\n",
    "    if epoch_range[1]==None: epoch_range[1]=df.max()['epoch']\n",
    "    df=df[(df.epoch<=epoch_range[1])&(df.epoch>=epoch_range[0])]\n",
    "\n",
    "    ## Apply cutoff to keep reasonable chi1 and chispec1\n",
    "    best_keys=[ 'chi_1', 'chi_spec1']\n",
    "    q_dict=dict(df.quantile(q=cutoff,axis=0)[best_keys])   \n",
    "    print(q_dict)\n",
    "    df=df.query('chi_1 < {0} & chi_spec1 < {1}'.format(q_dict['chi_1'],q_dict['chi_spec1']))\n",
    "    \n",
    "    # Sort dataframe\n",
    "    df1=df[df.epoch>0].sort_values(by=sort_col)\n",
    "        \n",
    "    df2=df1.head(head)[col_list]\n",
    "\n",
    "    if display_flag:   # Display df\n",
    "        display_cols=['label','chi_1','chi_spec1', 'chi_spec3', 'chi_1a', 'chi_1b', 'chi_1c', 'chi_2','chi_imgvar', 'chi_spec2']\n",
    "        display(df2)\n",
    "    \n",
    "    return df2"
   ]
  },
  {
   "cell_type": "code",
   "execution_count": 22,
   "metadata": {},
   "outputs": [
    {
     "data": {
      "application/vnd.jupyter.widget-view+json": {
       "model_id": "ca92429d39af4f3eac8894ba78b8129b",
       "version_major": 2,
       "version_minor": 0
      },
      "text/plain": [
       "interactive(children=(FloatSlider(value=0.2, description='cutoff', max=1.0, step=0.01), Dropdown(description='…"
      ]
     },
     "metadata": {},
     "output_type": "display_data"
    }
   ],
   "source": [
    "w=interactive(f_slice_df,df=fixed(df),\n",
    "cutoff=widgets.FloatSlider(value=0.2, min=0, max=1.0, step=0.01), \n",
    "col_mode=['all','short'], display_flag=widgets.Checkbox(value=False),\n",
    "head=widgets.IntSlider(value=10,min=1,max=20,step=1),\n",
    "epoch_range=widgets.IntRangeSlider(value=[0,np.max(df.epoch.values)],min=0,max=np.max(df.epoch.values),step=1),\n",
    "sort_col=['chi_1','chi_spec1', 'chi_spec3', 'chi_1a', 'chi_1b', 'chi_1c', 'chi_2','chi_imgvar', 'chi_spec2'],\n",
    ")\n",
    "display(w)"
   ]
  },
  {
   "cell_type": "code",
   "execution_count": 23,
   "metadata": {},
   "outputs": [],
   "source": [
    "df_sliced=w.result\n",
    "# df_sliced"
   ]
  },
  {
   "cell_type": "markdown",
   "metadata": {},
   "source": [
    "### Pick best steps"
   ]
  },
  {
   "cell_type": "code",
   "execution_count": 24,
   "metadata": {},
   "outputs": [
    {
     "name": "stdout",
     "output_type": "stream",
     "text": [
      "[0, None]\n",
      "{'chi_1': 0.04282909502458844, 'chi_spec1': 0.6533325854721304}\n",
      "[0, 19]\n",
      "{'chi_1': 0.18868450002012596, 'chi_spec1': 3.5489015309356264}\n",
      "[0, 19]\n",
      "{'chi_1': 0.04282909502458844, 'chi_spec1': 0.6533325854721304}\n",
      "[ 6470  7150  8570  9840 10290 10680 10930 11130 11980 12460]\n"
     ]
    }
   ],
   "source": [
    "best_step=[]\n",
    "best_step.append(f_slice_df(df,cutoff=0.2,sort_col='chi_1',head=4,display_flag=False).step.values)\n",
    "best_step.append(f_slice_df(df,cutoff=0.8,sort_col='chi_1b',head=2,display_flag=False).step.values)\n",
    "best_step.append(f_slice_df(df,cutoff=0.2,sort_col='chi_spec1',head=4,display_flag=False).step.values)\n",
    "\n",
    "best_step=np.unique([i for j in best_step for i in j])\n",
    "print(best_step)"
   ]
  },
  {
   "cell_type": "code",
   "execution_count": 25,
   "metadata": {},
   "outputs": [],
   "source": [
    "# best_step=[3430,  6460,  7215,  9610, 11725, 14635, 9475]\n",
    "# best_step=np.arange(40130,40135).astype(int)"
   ]
  },
  {
   "cell_type": "code",
   "execution_count": 26,
   "metadata": {},
   "outputs": [
    {
     "name": "stdout",
     "output_type": "stream",
     "text": [
      "(10, 22)\n",
      "[(7, 6470), (8, 7150), (9, 8570), (11, 9840), (11, 10290), (12, 10680), (12, 10930), (12, 11130), (13, 11980), (14, 12460)]\n"
     ]
    }
   ],
   "source": [
    "df_best=df[df.step.isin(best_step)]\n",
    "print(df_best.shape)\n",
    "print([(df_best[df_best.step==step].epoch.values[0],df_best[df_best.step==step].step.values[0]) for step in best_step])\n",
    "# print([(df_best.loc[idx].epoch,df_best.loc[idx].step) for idx in best_idx])"
   ]
  },
  {
   "cell_type": "code",
   "execution_count": 27,
   "metadata": {},
   "outputs": [
    {
     "data": {
      "text/html": [
       "<div>\n",
       "<style scoped>\n",
       "    .dataframe tbody tr th:only-of-type {\n",
       "        vertical-align: middle;\n",
       "    }\n",
       "\n",
       "    .dataframe tbody tr th {\n",
       "        vertical-align: top;\n",
       "    }\n",
       "\n",
       "    .dataframe thead th {\n",
       "        text-align: right;\n",
       "    }\n",
       "</style>\n",
       "<table border=\"1\" class=\"dataframe\">\n",
       "  <thead>\n",
       "    <tr style=\"text-align: right;\">\n",
       "      <th></th>\n",
       "      <th>label</th>\n",
       "      <th>chi_1</th>\n",
       "      <th>chi_spec1</th>\n",
       "      <th>chi_spec3</th>\n",
       "      <th>chi_1a</th>\n",
       "      <th>chi_1b</th>\n",
       "      <th>chi_1c</th>\n",
       "      <th>chi_2</th>\n",
       "      <th>chi_imgvar</th>\n",
       "      <th>chi_spec2</th>\n",
       "      <th>epoch</th>\n",
       "      <th>step</th>\n",
       "    </tr>\n",
       "  </thead>\n",
       "  <tbody>\n",
       "    <tr>\n",
       "      <th>647</th>\n",
       "      <td>7-6470</td>\n",
       "      <td>0.084198</td>\n",
       "      <td>1.258402</td>\n",
       "      <td>30.758242</td>\n",
       "      <td>0.013618</td>\n",
       "      <td>0.000711</td>\n",
       "      <td>0.069868</td>\n",
       "      <td>0.008890</td>\n",
       "      <td>7.092261</td>\n",
       "      <td>71.409785</td>\n",
       "      <td>7</td>\n",
       "      <td>6470</td>\n",
       "    </tr>\n",
       "    <tr>\n",
       "      <th>715</th>\n",
       "      <td>8-7150</td>\n",
       "      <td>0.013449</td>\n",
       "      <td>0.345493</td>\n",
       "      <td>26.567803</td>\n",
       "      <td>0.001942</td>\n",
       "      <td>0.010415</td>\n",
       "      <td>0.001092</td>\n",
       "      <td>0.000136</td>\n",
       "      <td>5.648892</td>\n",
       "      <td>38.755703</td>\n",
       "      <td>8</td>\n",
       "      <td>7150</td>\n",
       "    </tr>\n",
       "    <tr>\n",
       "      <th>857</th>\n",
       "      <td>9-8570</td>\n",
       "      <td>0.011366</td>\n",
       "      <td>0.540851</td>\n",
       "      <td>28.503578</td>\n",
       "      <td>0.003747</td>\n",
       "      <td>0.006825</td>\n",
       "      <td>0.000795</td>\n",
       "      <td>0.001003</td>\n",
       "      <td>5.232429</td>\n",
       "      <td>54.745891</td>\n",
       "      <td>9</td>\n",
       "      <td>8570</td>\n",
       "    </tr>\n",
       "    <tr>\n",
       "      <th>984</th>\n",
       "      <td>11-9840</td>\n",
       "      <td>0.039169</td>\n",
       "      <td>0.314395</td>\n",
       "      <td>26.859539</td>\n",
       "      <td>0.004187</td>\n",
       "      <td>0.000712</td>\n",
       "      <td>0.034269</td>\n",
       "      <td>0.000627</td>\n",
       "      <td>6.318643</td>\n",
       "      <td>25.793158</td>\n",
       "      <td>11</td>\n",
       "      <td>9840</td>\n",
       "    </tr>\n",
       "    <tr>\n",
       "      <th>1029</th>\n",
       "      <td>11-10290</td>\n",
       "      <td>0.022715</td>\n",
       "      <td>0.264390</td>\n",
       "      <td>28.928519</td>\n",
       "      <td>0.003293</td>\n",
       "      <td>0.008333</td>\n",
       "      <td>0.011089</td>\n",
       "      <td>0.000967</td>\n",
       "      <td>5.700610</td>\n",
       "      <td>25.688772</td>\n",
       "      <td>11</td>\n",
       "      <td>10290</td>\n",
       "    </tr>\n",
       "    <tr>\n",
       "      <th>1068</th>\n",
       "      <td>12-10680</td>\n",
       "      <td>0.015498</td>\n",
       "      <td>0.593626</td>\n",
       "      <td>24.719442</td>\n",
       "      <td>0.003894</td>\n",
       "      <td>0.002134</td>\n",
       "      <td>0.009470</td>\n",
       "      <td>0.000262</td>\n",
       "      <td>6.311813</td>\n",
       "      <td>57.037761</td>\n",
       "      <td>12</td>\n",
       "      <td>10680</td>\n",
       "    </tr>\n",
       "    <tr>\n",
       "      <th>1093</th>\n",
       "      <td>12-10930</td>\n",
       "      <td>0.029626</td>\n",
       "      <td>0.274449</td>\n",
       "      <td>25.861979</td>\n",
       "      <td>0.002766</td>\n",
       "      <td>0.008717</td>\n",
       "      <td>0.018144</td>\n",
       "      <td>0.000673</td>\n",
       "      <td>5.263426</td>\n",
       "      <td>23.444355</td>\n",
       "      <td>12</td>\n",
       "      <td>10930</td>\n",
       "    </tr>\n",
       "    <tr>\n",
       "      <th>1113</th>\n",
       "      <td>12-11130</td>\n",
       "      <td>0.035578</td>\n",
       "      <td>0.277865</td>\n",
       "      <td>25.166647</td>\n",
       "      <td>0.005382</td>\n",
       "      <td>0.024704</td>\n",
       "      <td>0.005493</td>\n",
       "      <td>0.001057</td>\n",
       "      <td>4.600322</td>\n",
       "      <td>28.515385</td>\n",
       "      <td>12</td>\n",
       "      <td>11130</td>\n",
       "    </tr>\n",
       "    <tr>\n",
       "      <th>1198</th>\n",
       "      <td>13-11980</td>\n",
       "      <td>0.028194</td>\n",
       "      <td>0.243385</td>\n",
       "      <td>22.410408</td>\n",
       "      <td>0.005333</td>\n",
       "      <td>0.015432</td>\n",
       "      <td>0.007429</td>\n",
       "      <td>0.002041</td>\n",
       "      <td>5.053409</td>\n",
       "      <td>26.749091</td>\n",
       "      <td>13</td>\n",
       "      <td>11980</td>\n",
       "    </tr>\n",
       "    <tr>\n",
       "      <th>1246</th>\n",
       "      <td>14-12460</td>\n",
       "      <td>0.012438</td>\n",
       "      <td>0.558514</td>\n",
       "      <td>24.855876</td>\n",
       "      <td>0.001203</td>\n",
       "      <td>0.002869</td>\n",
       "      <td>0.008367</td>\n",
       "      <td>0.000225</td>\n",
       "      <td>5.737712</td>\n",
       "      <td>37.046050</td>\n",
       "      <td>14</td>\n",
       "      <td>12460</td>\n",
       "    </tr>\n",
       "  </tbody>\n",
       "</table>\n",
       "</div>"
      ],
      "text/plain": [
       "         label     chi_1  chi_spec1  chi_spec3    chi_1a    chi_1b    chi_1c  \\\n",
       "647     7-6470  0.084198   1.258402  30.758242  0.013618  0.000711  0.069868   \n",
       "715     8-7150  0.013449   0.345493  26.567803  0.001942  0.010415  0.001092   \n",
       "857     9-8570  0.011366   0.540851  28.503578  0.003747  0.006825  0.000795   \n",
       "984    11-9840  0.039169   0.314395  26.859539  0.004187  0.000712  0.034269   \n",
       "1029  11-10290  0.022715   0.264390  28.928519  0.003293  0.008333  0.011089   \n",
       "1068  12-10680  0.015498   0.593626  24.719442  0.003894  0.002134  0.009470   \n",
       "1093  12-10930  0.029626   0.274449  25.861979  0.002766  0.008717  0.018144   \n",
       "1113  12-11130  0.035578   0.277865  25.166647  0.005382  0.024704  0.005493   \n",
       "1198  13-11980  0.028194   0.243385  22.410408  0.005333  0.015432  0.007429   \n",
       "1246  14-12460  0.012438   0.558514  24.855876  0.001203  0.002869  0.008367   \n",
       "\n",
       "         chi_2  chi_imgvar  chi_spec2  epoch   step  \n",
       "647   0.008890    7.092261  71.409785      7   6470  \n",
       "715   0.000136    5.648892  38.755703      8   7150  \n",
       "857   0.001003    5.232429  54.745891      9   8570  \n",
       "984   0.000627    6.318643  25.793158     11   9840  \n",
       "1029  0.000967    5.700610  25.688772     11  10290  \n",
       "1068  0.000262    6.311813  57.037761     12  10680  \n",
       "1093  0.000673    5.263426  23.444355     12  10930  \n",
       "1113  0.001057    4.600322  28.515385     12  11130  \n",
       "1198  0.002041    5.053409  26.749091     13  11980  \n",
       "1246  0.000225    5.737712  37.046050     14  12460  "
      ]
     },
     "execution_count": 27,
     "metadata": {},
     "output_type": "execute_result"
    }
   ],
   "source": [
    "df_best[col_list]"
   ]
  },
  {
   "cell_type": "markdown",
   "metadata": {},
   "source": [
    "## Plot pixel intensity and spectrum"
   ]
  },
  {
   "cell_type": "code",
   "execution_count": 28,
   "metadata": {
    "jupyter": {
     "source_hidden": true
    }
   },
   "outputs": [],
   "source": [
    "\n",
    "def f_plot_hist_spec(df,dict_bkg,plot_type):\n",
    "\n",
    "    img_size=128\n",
    "    assert plot_type in ['hist','spec','spec_relative','grid'],\"Invalid mode %s\"%(plot_type)\n",
    "\n",
    "    if plot_type in ['hist','spec','spec_relative']:     fig=plt.figure(figsize=(6,6))\n",
    "\n",
    "    for (i,row),marker in zip(df.iterrows(),itertools.cycle('>^*sDHPdpx_')):\n",
    "        label=row.label\n",
    "        if plot_type=='hist':\n",
    "            x1=row.hist_bin_centers\n",
    "            y1=row.hist_val\n",
    "            yerr1=row.hist_err\n",
    "            x1=f_invtransform(x1)\n",
    "            \n",
    "            plt.errorbar(x1,y1,yerr1,marker=marker,markersize=5,linestyle='',label=label)\n",
    "        if plot_type=='spec':\n",
    "            \n",
    "            y2=row.spec_val\n",
    "            yerr2=row.spec_sdev/np.sqrt(row.num_imgs)\n",
    "            x2=np.arange(len(y2))\n",
    "            \n",
    "            plt.fill_between(x2, y2 - yerr2, y2 + yerr2, alpha=0.4)\n",
    "            plt.plot(x2, y2, marker=marker, linestyle=':',label=label)\n",
    "            \n",
    "        if plot_type=='spec_relative':\n",
    "            \n",
    "            y2=row.spec_val\n",
    "            yerr2=row.spec_sdev\n",
    "            x2=np.arange(len(y2))\n",
    "            \n",
    "            ### Reference spectrum\n",
    "            y1,yerr1=dict_bkg['spec_val'],dict_bkg['spec_sdev']\n",
    "            y=y2/(1.0*y1)\n",
    "            ## Variance is sum of variance of both variables, since they are uncorrelated\n",
    "            \n",
    "            # delta_r= |r| * sqrt(delta_a/a)^2 +(\\delta_b/b)^2) / \\sqrt(N)\n",
    "            yerr=(np.abs(y))*np.sqrt((yerr1/y1)**2+(yerr2/y2)**2)/np.sqrt(row.num_imgs)\n",
    "\n",
    "            plt.fill_between(x2, y - yerr, y + yerr, alpha=0.4)\n",
    "            plt.plot(x2, y, marker=marker, linestyle=':',label=label)\n",
    "            plt.xlim(0,img_size/2)\n",
    "            plt.ylim(0.5,2)\n",
    "            plt.legend()\n",
    "            \n",
    "        if plot_type=='grid':\n",
    "            images=np.load(row.fname)[:,0,:,:]\n",
    "            f_plot_grid(images[:18],cols=6,fig_size=(10,5))\n",
    "            \n",
    "    ### Plot input data\n",
    "    if plot_type=='hist':\n",
    "        x,y,yerr=dict_bkg['hist_bin_centers'],dict_bkg['hist_val'],dict_bkg['hist_err']\n",
    "        x=f_invtransform(x)\n",
    "        plt.errorbar(x, y,yerr,color='k',linestyle='-',label='bkgnd')   \n",
    "        plt.title('Pixel Intensity Histogram')\n",
    "        plt.xscale('symlog',linthreshx=100)\n",
    "        \n",
    "    if plot_type=='spec':\n",
    "        y,yerr=dict_bkg['spec_val'],dict_bkg['spec_sdev']/np.sqrt(num_bkgnd)\n",
    "        x=np.arange(len(y))\n",
    "        plt.fill_between(x, y - yerr, y + yerr, color='k',alpha=0.8)\n",
    "        plt.title('Spectrum')\n",
    "\n",
    "    if plot_type=='spec_relative':\n",
    "        plt.axhline(y=1.0,color='k',linestyle='-.')\n",
    "    \n",
    "    plt.legend(bbox_to_anchor=(0.3, 0.75),ncol=2, fancybox=True, shadow=True,prop={'size':6})\n",
    "    if plot_type in ['hist','spec']:     plt.yscale('log')\n",
    "    \n",
    "\n",
    "# f_plot_hist_spec(df_runs,dict_val,'hist')\n",
    "# f_plot_hist_spec(df_runs,dict_val,'spec')\n",
    "# f_plot_hist_spec(df_best,dict_val,'grid')\n"
   ]
  },
  {
   "cell_type": "code",
   "execution_count": 29,
   "metadata": {},
   "outputs": [
    {
     "data": {
      "application/vnd.jupyter.widget-view+json": {
       "model_id": "87df94ac779c4f5b8797b5b5416c3c1d",
       "version_major": 2,
       "version_minor": 0
      },
      "text/plain": [
       "interactive(children=(SelectMultiple(description='labels_list', options=('7-6470', '8-7150', '9-8570', '11-984…"
      ]
     },
     "metadata": {},
     "output_type": "display_data"
    },
    {
     "data": {
      "text/plain": [
       "<function __main__.f_widget_compare(df, labels_list, bkgnd, plot_type)>"
      ]
     },
     "execution_count": 29,
     "metadata": {},
     "output_type": "execute_result"
    }
   ],
   "source": [
    "def f_widget_compare(df,labels_list,bkgnd,plot_type):\n",
    "    df_temp=df[df.label.isin(labels_list)]\n",
    "    f_plot_hist_spec(df_temp,dict_val,plot_type)\n",
    "    \n",
    "interact_manual(f_widget_compare,df=fixed(df_best),\n",
    "                labels_list=SelectMultiple(options=df_best.label.values), \n",
    "                bkgnd=fixed(dict_val),plot_type=ToggleButtons(options=['hist','spec','spec_relative','grid']))"
   ]
  },
  {
   "cell_type": "code",
   "execution_count": 30,
   "metadata": {},
   "outputs": [
    {
     "data": {
      "application/vnd.jupyter.widget-view+json": {
       "model_id": "ed92c402db2c4e91ba20b011399bed86",
       "version_major": 2,
       "version_minor": 0
      },
      "text/plain": [
       "Canvas(toolbar=Toolbar(toolitems=[('Home', 'Reset original view', 'home', 'home'), ('Back', 'Back to previous …"
      ]
     },
     "metadata": {},
     "output_type": "display_data"
    },
    {
     "data": {
      "text/plain": [
       "<AxesSubplot:xlabel='step'>"
      ]
     },
     "execution_count": 30,
     "metadata": {},
     "output_type": "execute_result"
    }
   ],
   "source": [
    "df[(df.step>8000)& (df.step<10000)].plot(kind='line',x='step',y=['chi_1','chi_spec1'])"
   ]
  },
  {
   "cell_type": "code",
   "execution_count": null,
   "metadata": {},
   "outputs": [],
   "source": []
  },
  {
   "cell_type": "markdown",
   "metadata": {},
   "source": [
    "## View image block"
   ]
  },
  {
   "cell_type": "code",
   "execution_count": 31,
   "metadata": {},
   "outputs": [],
   "source": [
    "def f_get_img(df,step):\n",
    "    df_temp=df[(df.step==step)]\n",
    "    images=np.load(df_temp.fname.values[0])[:,0,:,:]\n",
    "    return images\n",
    "\n",
    "img_arr=f_get_img(df,8020)\n",
    "# f_plot_grid(img_arr[:18],cols=6,fig_size=(10,5))"
   ]
  },
  {
   "cell_type": "code",
   "execution_count": 32,
   "metadata": {},
   "outputs": [
    {
     "name": "stdout",
     "output_type": "stream",
     "text": [
      "3 6\n"
     ]
    },
    {
     "data": {
      "application/vnd.jupyter.widget-view+json": {
       "model_id": "ce4c68c9446d48439e2c7c8da4834d1a",
       "version_major": 2,
       "version_minor": 0
      },
      "text/plain": [
       "Canvas(toolbar=Toolbar(toolitems=[('Home', 'Reset original view', 'home', 'home'), ('Back', 'Back to previous …"
      ]
     },
     "metadata": {},
     "output_type": "display_data"
    }
   ],
   "source": [
    "f_plot_grid(s_val[100:118],cols=6,fig_size=(10,5))"
   ]
  },
  {
   "cell_type": "markdown",
   "metadata": {},
   "source": [
    "### Plotting spread of spectrum of input data"
   ]
  },
  {
   "cell_type": "code",
   "execution_count": null,
   "metadata": {},
   "outputs": [],
   "source": [
    "\n",
    "# plt.figure()\n",
    "\n",
    "# idxs=np.random.randint(0,s_val.shape[0],size=50)\n",
    "# arr=s_val[idxs]\n",
    "# Pk = f_batch_spectrum(arr)\n",
    "# k=np.arange(Pk.shape[1])\n",
    "# for count,i in enumerate(Pk):\n",
    "#     plt.plot(i)\n",
    "    \n",
    "# Pk = f_batch_spectrum(img_arr)\n",
    "# mean,std = np.mean(Pk, axis=0),np.std(Pk, axis=0)/np.sqrt(Pk.shape[0])\n",
    "# plt.plot(k, mean, 'k:',label='generated image')\n",
    "\n",
    "\n",
    "# plt.legend()\n",
    "\n",
    "# plt.ylabel(r'$P(k)$')\n",
    "# plt.xlabel(r'$k$')\n",
    "# plt.title('Power Spectrum: 50 input images')\n",
    "# plt.yscale('log')\n",
    "\n"
   ]
  },
  {
   "cell_type": "code",
   "execution_count": null,
   "metadata": {},
   "outputs": [],
   "source": [
    "main_dir='/global/cscratch1/sd/vpa/proj/cosmogan/results_dir/128square/'\n",
    "f1=main_dir+'20201208_165658_bsize256_scale0.1_deterministic_on/dump_outs/trainer0/model0/sgd.training.epoch.1.step.1000_gen_img_instance1_activation_output0.npy'\n",
    "a1=np.load(f1)[:,0,:,:]\n",
    "f2=main_dir+'20201209_055955_bsize256_scale0.1_deterministic_on/dump_outs/trainer0/model0/sgd.training.epoch.1.step.1000_gen_img_instance1_activation_output0.npy'\n",
    "a2=np.load(f2)[:,0,:,:]\n",
    "\n",
    "print(a1.shape)\n",
    "print(a2.shape)\n"
   ]
  },
  {
   "cell_type": "code",
   "execution_count": null,
   "metadata": {},
   "outputs": [],
   "source": [
    "# f_pixel_intensity(a1)\n",
    "# f_pixel_intensity(a2)\n",
    "\n",
    "f_compare_pixel_intensity([a1,a2],label_lst=['img1','img2'],bkgnd_arr=[],log_scale=True, normalize=True, mode='avg',bins=25, hist_range=None)"
   ]
  },
  {
   "cell_type": "code",
   "execution_count": null,
   "metadata": {},
   "outputs": [],
   "source": [
    "df_best.columns"
   ]
  },
  {
   "cell_type": "code",
   "execution_count": null,
   "metadata": {},
   "outputs": [],
   "source": [
    "f_invtransform(df_best.iloc[0].hist_bin_centers)\n"
   ]
  },
  {
   "cell_type": "code",
   "execution_count": null,
   "metadata": {},
   "outputs": [],
   "source": []
  }
 ],
 "metadata": {
  "kernelspec": {
   "display_name": "v3",
   "language": "python",
   "name": "v-jpt-3"
  },
  "language_info": {
   "codemirror_mode": {
    "name": "ipython",
    "version": 3
   },
   "file_extension": ".py",
   "mimetype": "text/x-python",
   "name": "python",
   "nbconvert_exporter": "python",
   "pygments_lexer": "ipython3",
   "version": "3.8.6"
  },
  "toc-autonumbering": true,
  "toc-showcode": false,
  "toc-showmarkdowntxt": true,
  "toc-showtags": false
 },
 "nbformat": 4,
 "nbformat_minor": 4
}
