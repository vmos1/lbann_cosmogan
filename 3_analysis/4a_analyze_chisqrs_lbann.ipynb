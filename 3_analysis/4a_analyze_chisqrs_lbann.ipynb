{
 "cells": [
  {
   "cell_type": "markdown",
   "metadata": {},
   "source": [
    "# Extract data from output files\n",
    "### Analyze the output from a single LBANN run\n",
    "March 9, 2020 \\\n",
    "April 6, 2020 : to store files in order of epochs \\\n",
    "April 21, 2020: added jupyter widgets to compare pixel intensity plots \\\n",
    "July 30, 2020: Perform analysis with stored histograms."
   ]
  },
  {
   "cell_type": "code",
   "execution_count": 3,
   "metadata": {},
   "outputs": [],
   "source": [
    "import numpy as np\n",
    "import matplotlib.pyplot as plt\n",
    "import seaborn as sns\n",
    "import pandas as pd\n",
    "\n",
    "import subprocess as sp\n",
    "import os\n",
    "import glob\n",
    "import sys\n",
    "\n",
    "import itertools\n",
    "import time\n",
    "\n",
    "from ipywidgets import *"
   ]
  },
  {
   "cell_type": "code",
   "execution_count": 4,
   "metadata": {},
   "outputs": [],
   "source": [
    "%matplotlib widget"
   ]
  },
  {
   "cell_type": "code",
   "execution_count": 5,
   "metadata": {},
   "outputs": [],
   "source": [
    "sys.path.append('/global/u1/v/vpa/project/jpt_notebooks/Cosmology/Cosmo_GAN/repositories/lbann_cosmogan/3_analysis')\n",
    "from modules_image_analysis import *"
   ]
  },
  {
   "cell_type": "code",
   "execution_count": 6,
   "metadata": {},
   "outputs": [],
   "source": [
    "### Transformation functions for image pixel values\n",
    "def f_transform(x):\n",
    "    return 2.*x/(x + 4. + 1e-8) - 1.\n",
    "\n",
    "def f_invtransform(s):\n",
    "    return 4.*(1. + s)/(1. - s + 1e-8)"
   ]
  },
  {
   "cell_type": "markdown",
   "metadata": {},
   "source": [
    "## Extract folder"
   ]
  },
  {
   "cell_type": "code",
   "execution_count": 7,
   "metadata": {},
   "outputs": [
    {
     "data": {
      "application/vnd.jupyter.widget-view+json": {
       "model_id": "854d25a71fc64fde91710b63724f2663",
       "version_major": 2,
       "version_minor": 0
      },
      "text/plain": [
       "interactive(children=(Select(description='x', options=('scratch', 'proj'), value='scratch'), Output()), _dom_c…"
      ]
     },
     "metadata": {},
     "output_type": "display_data"
    }
   ],
   "source": [
    "img_size=128\n",
    "dict1={'scratch':'/global/cscratch1/sd/vpa/proj/cosmogan/results_dir/{0}square/'.format(img_size),\n",
    "    'proj':'/global/cfs/cdirs/m3363/vayyar/cosmogan_data/results_data/'}\n",
    "\n",
    "u=interactive(lambda x: dict1[x], x=Select(options=dict1.keys()))\n",
    "display(u)\n"
   ]
  },
  {
   "cell_type": "code",
   "execution_count": 8,
   "metadata": {},
   "outputs": [
    {
     "data": {
      "application/vnd.jupyter.widget-view+json": {
       "model_id": "f6732ab0a57d47ceab5cb6ce13b255ef",
       "version_major": 2,
       "version_minor": 0
      },
      "text/plain": [
       "interactive(children=(Dropdown(description='x', options=('20200911_083711_bsize64_spec_test_128_nospec', '2020…"
      ]
     },
     "metadata": {},
     "output_type": "display_data"
    }
   ],
   "source": [
    "parent_dir=u.result\n",
    "dir_lst=[i.split('/')[-1] for i in glob.glob(parent_dir+'20*')]\n",
    "w=interactive(lambda x: x, x=Dropdown(options=dir_lst))\n",
    "display(w)"
   ]
  },
  {
   "cell_type": "code",
   "execution_count": 9,
   "metadata": {},
   "outputs": [
    {
     "name": "stdout",
     "output_type": "stream",
     "text": [
      "/global/cscratch1/sd/vpa/proj/cosmogan/results_dir/128square/20201130_084039_bsize256_test_with_invtransform-scale0.5\n"
     ]
    }
   ],
   "source": [
    "result=w.result\n",
    "main_dir=parent_dir+result\n",
    "print(main_dir)"
   ]
  },
  {
   "cell_type": "code",
   "execution_count": 10,
   "metadata": {},
   "outputs": [],
   "source": [
    "# Get location for validation data\n",
    "raw_data_dir='/global/cfs/cdirs/m3363/vayyar/cosmogan_data/raw_data/'\n",
    "input_files_dict={'128':raw_data_dir+'128_square/dataset_2_smoothing_200k/norm_1_train_val.npy',\n",
    "                 '512':raw_data_dir+'512_square/dataset1_smoothing_single_universe/norm_1_train_val.npy'}"
   ]
  },
  {
   "cell_type": "code",
   "execution_count": 11,
   "metadata": {},
   "outputs": [],
   "source": [
    "# main_dir='/global/cscratch1/sd/vpa/proj/cosmogan/results_dir/128square/scaling_runs/20201031_205304_bsize512_scaling_2_8'"
   ]
  },
  {
   "cell_type": "markdown",
   "metadata": {},
   "source": [
    "## Extract metrics info from log file"
   ]
  },
  {
   "cell_type": "code",
   "execution_count": 12,
   "metadata": {},
   "outputs": [],
   "source": [
    "def f_extract_info(fname):\n",
    "    '''\n",
    "    Module to extract information from out.log files of Lbann training\n",
    "    Reads in file name\n",
    "    '''\n",
    "    strg_lst=['objective','d_real','d_fake','gen','spec_loss','run time','mini-batch']\n",
    "    keys=['training_'+strg for strg in strg_lst]\n",
    "    dict1={}\n",
    "    for category in ['training','validation']:\n",
    "        for strg in strg_lst:\n",
    "            try: \n",
    "                key=category+'_'+strg\n",
    "                cmd='grep \"{0}\" {1} | grep \"{2}\"'.format(category,fname,strg)\n",
    "        #         print(cmd)\n",
    "                op1=sp.check_output(cmd,shell=True).decode('utf-8').split('\\n')\n",
    "                obj=np.array([strg.split(':')[-1] for strg in op1 if strg])\n",
    "                dict1[key]=obj\n",
    "            except Exception as e:\n",
    "                print(e)\n",
    "                dict1[key]=np.nan\n",
    "    \n",
    "    df=pd.DataFrame([])\n",
    "    key_lst=['training_objective', 'training_d_real', 'training_d_fake', 'training_gen', 'training_spec_loss','validation_objective', 'validation_d_real', 'validation_d_fake', 'validation_gen','validation_spec_loss']\n",
    "    col_list=['train_obj','train_dreal','train_dfake','train_gen','train_spec','val_obj','val_dreal','val_dfake','val_gen','val_spec']\n",
    "    for col,key in zip(col_list,key_lst):\n",
    "        try: \n",
    "            df[col]=dict1[key].astype(np.float)\n",
    "        except: pass\n",
    "\n",
    "    ### Need to remove the trailing 's' in the timings\n",
    "    for col,key in zip(['train_time','val_time'],['training_run time','validation_run time']):\n",
    "        df[col]=np.array([i[:-1] for i in dict1[key]]).astype(np.float)\n",
    "\n",
    "    for col,key in zip(['train_batch_stats','val_batch_stats'],['training_mini-batch','validation_mini-batch']):\n",
    "        df[col]=dict1[key]\n",
    "        \n",
    "    return df\n",
    "\n",
    "def f_plot_metrics(df,col_list=['train_obj']):\n",
    "    '''\n",
    "    Plot multiple columns of the dataframe\n",
    "    '''\n",
    "    plt.figure()\n",
    "    \n",
    "    marker_lst=('o','*','H','D','.','x')\n",
    "    marker=itertools.cycle(marker_lst)\n",
    "    for col in col_list: plt.plot(df[col],linestyle='',marker=next(marker),label=col)\n",
    "    plt.legend()\n",
    "    plt.xlabel('Epoch')\n",
    "    "
   ]
  },
  {
   "cell_type": "code",
   "execution_count": 13,
   "metadata": {},
   "outputs": [],
   "source": [
    "strg=main_dir+'/out.log'\n",
    "df_metrics=f_extract_info(glob.glob(strg)[0])"
   ]
  },
  {
   "cell_type": "code",
   "execution_count": 14,
   "metadata": {},
   "outputs": [
    {
     "data": {
      "text/html": [
       "<div>\n",
       "<style scoped>\n",
       "    .dataframe tbody tr th:only-of-type {\n",
       "        vertical-align: middle;\n",
       "    }\n",
       "\n",
       "    .dataframe tbody tr th {\n",
       "        vertical-align: top;\n",
       "    }\n",
       "\n",
       "    .dataframe thead th {\n",
       "        text-align: right;\n",
       "    }\n",
       "</style>\n",
       "<table border=\"1\" class=\"dataframe\">\n",
       "  <thead>\n",
       "    <tr style=\"text-align: right;\">\n",
       "      <th></th>\n",
       "      <th>train_obj</th>\n",
       "      <th>train_dreal</th>\n",
       "      <th>train_dfake</th>\n",
       "      <th>train_gen</th>\n",
       "      <th>train_spec</th>\n",
       "      <th>val_obj</th>\n",
       "      <th>val_dreal</th>\n",
       "      <th>val_dfake</th>\n",
       "      <th>val_gen</th>\n",
       "      <th>val_spec</th>\n",
       "      <th>train_time</th>\n",
       "      <th>val_time</th>\n",
       "      <th>train_batch_stats</th>\n",
       "      <th>val_batch_stats</th>\n",
       "    </tr>\n",
       "  </thead>\n",
       "  <tbody>\n",
       "    <tr>\n",
       "      <th>0</th>\n",
       "      <td>13.0201</td>\n",
       "      <td>1.025850</td>\n",
       "      <td>1.127100</td>\n",
       "      <td>4.94131</td>\n",
       "      <td>11.8516</td>\n",
       "      <td>11.17370</td>\n",
       "      <td>0.807457</td>\n",
       "      <td>0.113676</td>\n",
       "      <td>4.429140</td>\n",
       "      <td>11.6468</td>\n",
       "      <td>502.223</td>\n",
       "      <td>5.81214</td>\n",
       "      <td>0.092401s mean, 4.34694s max, 0.0267275s min,...</td>\n",
       "      <td>0.059264s mean, 0.524439s max, 0.0193376s min...</td>\n",
       "    </tr>\n",
       "    <tr>\n",
       "      <th>1</th>\n",
       "      <td>10.2727</td>\n",
       "      <td>0.464634</td>\n",
       "      <td>0.409233</td>\n",
       "      <td>3.58681</td>\n",
       "      <td>11.6240</td>\n",
       "      <td>8.52607</td>\n",
       "      <td>1.059390</td>\n",
       "      <td>0.360659</td>\n",
       "      <td>1.323810</td>\n",
       "      <td>11.5644</td>\n",
       "      <td>479.782</td>\n",
       "      <td>5.20281</td>\n",
       "      <td>0.0881013s mean, 3.71645s max, 0.0244311s min...</td>\n",
       "      <td>0.0530444s mean, 0.42755s max, 0.0152026s min...</td>\n",
       "    </tr>\n",
       "    <tr>\n",
       "      <th>2</th>\n",
       "      <td>10.4935</td>\n",
       "      <td>0.373443</td>\n",
       "      <td>0.340006</td>\n",
       "      <td>4.01128</td>\n",
       "      <td>11.5376</td>\n",
       "      <td>13.35540</td>\n",
       "      <td>0.334809</td>\n",
       "      <td>0.116805</td>\n",
       "      <td>7.178660</td>\n",
       "      <td>11.4502</td>\n",
       "      <td>492.170</td>\n",
       "      <td>6.98537</td>\n",
       "      <td>0.0874105s mean, 0.819299s max, 0.0249389s mi...</td>\n",
       "      <td>0.0712355s mean, 1.52146s max, 0.0147362s min...</td>\n",
       "    </tr>\n",
       "    <tr>\n",
       "      <th>3</th>\n",
       "      <td>10.5918</td>\n",
       "      <td>0.315664</td>\n",
       "      <td>0.308532</td>\n",
       "      <td>4.22806</td>\n",
       "      <td>11.4791</td>\n",
       "      <td>8.19550</td>\n",
       "      <td>0.090569</td>\n",
       "      <td>0.585326</td>\n",
       "      <td>1.770140</td>\n",
       "      <td>11.4989</td>\n",
       "      <td>523.252</td>\n",
       "      <td>4.96934</td>\n",
       "      <td>0.0864599s mean, 1.39745s max, 0.0243243s min...</td>\n",
       "      <td>0.050664s mean, 0.466483s max, 0.0154339s min...</td>\n",
       "    </tr>\n",
       "    <tr>\n",
       "      <th>4</th>\n",
       "      <td>10.7141</td>\n",
       "      <td>0.247299</td>\n",
       "      <td>0.240840</td>\n",
       "      <td>4.48438</td>\n",
       "      <td>11.4833</td>\n",
       "      <td>7.40631</td>\n",
       "      <td>0.066236</td>\n",
       "      <td>0.823234</td>\n",
       "      <td>0.794065</td>\n",
       "      <td>11.4456</td>\n",
       "      <td>550.804</td>\n",
       "      <td>5.97390</td>\n",
       "      <td>0.0873149s mean, 0.863062s max, 0.0248563s mi...</td>\n",
       "      <td>0.060915s mean, 1.35199s max, 0.014805s min, ...</td>\n",
       "    </tr>\n",
       "  </tbody>\n",
       "</table>\n",
       "</div>"
      ],
      "text/plain": [
       "   train_obj  train_dreal  train_dfake  train_gen  train_spec   val_obj  \\\n",
       "0    13.0201     1.025850     1.127100    4.94131     11.8516  11.17370   \n",
       "1    10.2727     0.464634     0.409233    3.58681     11.6240   8.52607   \n",
       "2    10.4935     0.373443     0.340006    4.01128     11.5376  13.35540   \n",
       "3    10.5918     0.315664     0.308532    4.22806     11.4791   8.19550   \n",
       "4    10.7141     0.247299     0.240840    4.48438     11.4833   7.40631   \n",
       "\n",
       "   val_dreal  val_dfake   val_gen  val_spec  train_time  val_time  \\\n",
       "0   0.807457   0.113676  4.429140   11.6468     502.223   5.81214   \n",
       "1   1.059390   0.360659  1.323810   11.5644     479.782   5.20281   \n",
       "2   0.334809   0.116805  7.178660   11.4502     492.170   6.98537   \n",
       "3   0.090569   0.585326  1.770140   11.4989     523.252   4.96934   \n",
       "4   0.066236   0.823234  0.794065   11.4456     550.804   5.97390   \n",
       "\n",
       "                                   train_batch_stats  \\\n",
       "0   0.092401s mean, 4.34694s max, 0.0267275s min,...   \n",
       "1   0.0881013s mean, 3.71645s max, 0.0244311s min...   \n",
       "2   0.0874105s mean, 0.819299s max, 0.0249389s mi...   \n",
       "3   0.0864599s mean, 1.39745s max, 0.0243243s min...   \n",
       "4   0.0873149s mean, 0.863062s max, 0.0248563s mi...   \n",
       "\n",
       "                                     val_batch_stats  \n",
       "0   0.059264s mean, 0.524439s max, 0.0193376s min...  \n",
       "1   0.0530444s mean, 0.42755s max, 0.0152026s min...  \n",
       "2   0.0712355s mean, 1.52146s max, 0.0147362s min...  \n",
       "3   0.050664s mean, 0.466483s max, 0.0154339s min...  \n",
       "4   0.060915s mean, 1.35199s max, 0.014805s min, ...  "
      ]
     },
     "execution_count": 14,
     "metadata": {},
     "output_type": "execute_result"
    }
   ],
   "source": [
    "df_metrics.head()"
   ]
  },
  {
   "cell_type": "code",
   "execution_count": 15,
   "metadata": {},
   "outputs": [
    {
     "data": {
      "application/vnd.jupyter.widget-view+json": {
       "model_id": "5019792c6b44461ca860aa24f2fb2b76",
       "version_major": 2,
       "version_minor": 0
      },
      "text/plain": [
       "interactive(children=(SelectMultiple(description='col_list', options=('train_obj', 'train_dreal', 'train_dfake…"
      ]
     },
     "metadata": {},
     "output_type": "display_data"
    },
    {
     "data": {
      "text/plain": [
       "<function __main__.f_plot_metrics(df, col_list=['train_obj'])>"
      ]
     },
     "execution_count": 15,
     "metadata": {},
     "output_type": "execute_result"
    }
   ],
   "source": [
    "col_list=df_metrics.columns[~df_metrics.columns.str.endswith('stats')]\n",
    "interact_manual(f_plot_metrics,col_list=SelectMultiple(options=col_list),df=fixed(df_metrics))\n",
    "\n"
   ]
  },
  {
   "cell_type": "markdown",
   "metadata": {},
   "source": [
    "## Extract data from stored dataframe"
   ]
  },
  {
   "cell_type": "code",
   "execution_count": 47,
   "metadata": {},
   "outputs": [],
   "source": [
    "### Load data\n",
    "df=pd.read_pickle(main_dir+'/df_processed.pkle')\n",
    "df[['epoch','step']]=df[['epoch','step']].astype(int)\n",
    "df['label']=df.epoch.astype(str)+'-'+df.step.astype(str) # Add label column for plotting\n",
    "\n",
    "col_list=['label','chi_1','chi_spec1', 'chi_spec3', 'chi_1a', 'chi_1b', 'chi_1c', 'chi_2','chi_imgvar', 'chi_spec2','epoch','step']\n",
    "\n"
   ]
  },
  {
   "cell_type": "code",
   "execution_count": 17,
   "metadata": {},
   "outputs": [
    {
     "name": "stdout",
     "output_type": "stream",
     "text": [
      "(1319, 21)\n"
     ]
    },
    {
     "data": {
      "text/html": [
       "<div>\n",
       "<style scoped>\n",
       "    .dataframe tbody tr th:only-of-type {\n",
       "        vertical-align: middle;\n",
       "    }\n",
       "\n",
       "    .dataframe tbody tr th {\n",
       "        vertical-align: top;\n",
       "    }\n",
       "\n",
       "    .dataframe thead th {\n",
       "        text-align: right;\n",
       "    }\n",
       "</style>\n",
       "<table border=\"1\" class=\"dataframe\">\n",
       "  <thead>\n",
       "    <tr style=\"text-align: right;\">\n",
       "      <th></th>\n",
       "      <th>epoch</th>\n",
       "      <th>step</th>\n",
       "      <th>img_type</th>\n",
       "      <th>fname</th>\n",
       "      <th>chi_1a</th>\n",
       "      <th>chi_1b</th>\n",
       "      <th>chi_1c</th>\n",
       "      <th>chi_1</th>\n",
       "      <th>chi_2</th>\n",
       "      <th>chi_imgvar</th>\n",
       "      <th>...</th>\n",
       "      <th>chi_spec2</th>\n",
       "      <th>chi_spec3</th>\n",
       "      <th>num_large</th>\n",
       "      <th>num_vlarge</th>\n",
       "      <th>hist_val</th>\n",
       "      <th>hist_err</th>\n",
       "      <th>hist_bin_centers</th>\n",
       "      <th>spec_val</th>\n",
       "      <th>spec_err</th>\n",
       "      <th>label</th>\n",
       "    </tr>\n",
       "  </thead>\n",
       "  <tbody>\n",
       "    <tr>\n",
       "      <th>1314</th>\n",
       "      <td>14</td>\n",
       "      <td>13140</td>\n",
       "      <td>train_gen</td>\n",
       "      <td>/global/cscratch1/sd/vpa/proj/cosmogan/results...</td>\n",
       "      <td>0.049527</td>\n",
       "      <td>0.038310</td>\n",
       "      <td>0.008020</td>\n",
       "      <td>0.095857</td>\n",
       "      <td>0.037481</td>\n",
       "      <td>4.852472</td>\n",
       "      <td>...</td>\n",
       "      <td>21.722671</td>\n",
       "      <td>28.588184</td>\n",
       "      <td>1</td>\n",
       "      <td>0</td>\n",
       "      <td>[0.9975028063754142, 1.0981441157090728, 0.311...</td>\n",
       "      <td>[0.004062447530719573, 0.003477212606580231, 0...</td>\n",
       "      <td>[-1.031746031584782, -0.6161616169043975, -0.3...</td>\n",
       "      <td>[83182.94386431202, 56284.22821412904, 40276.4...</td>\n",
       "      <td>[38732.52845270224, 19203.24919178174, 11861.8...</td>\n",
       "      <td>14-13140</td>\n",
       "    </tr>\n",
       "    <tr>\n",
       "      <th>1315</th>\n",
       "      <td>14</td>\n",
       "      <td>13150</td>\n",
       "      <td>train_gen</td>\n",
       "      <td>/global/cscratch1/sd/vpa/proj/cosmogan/results...</td>\n",
       "      <td>0.004531</td>\n",
       "      <td>0.008046</td>\n",
       "      <td>0.004231</td>\n",
       "      <td>0.016808</td>\n",
       "      <td>0.000944</td>\n",
       "      <td>5.210342</td>\n",
       "      <td>...</td>\n",
       "      <td>7.993169</td>\n",
       "      <td>26.033589</td>\n",
       "      <td>1</td>\n",
       "      <td>0</td>\n",
       "      <td>[1.099090266082445, 0.9684550181048184, 0.2744...</td>\n",
       "      <td>[0.003961204790873815, 0.003408018420842921, 0...</td>\n",
       "      <td>[-1.031746031584782, -0.6161616169043975, -0.3...</td>\n",
       "      <td>[93935.90086218629, 65773.55935572424, 48213.8...</td>\n",
       "      <td>[48694.811406226, 22908.964219560316, 16542.88...</td>\n",
       "      <td>14-13150</td>\n",
       "    </tr>\n",
       "    <tr>\n",
       "      <th>1316</th>\n",
       "      <td>14</td>\n",
       "      <td>13160</td>\n",
       "      <td>train_gen</td>\n",
       "      <td>/global/cscratch1/sd/vpa/proj/cosmogan/results...</td>\n",
       "      <td>0.007626</td>\n",
       "      <td>0.029537</td>\n",
       "      <td>0.006559</td>\n",
       "      <td>0.043722</td>\n",
       "      <td>0.004142</td>\n",
       "      <td>4.774238</td>\n",
       "      <td>...</td>\n",
       "      <td>48.826363</td>\n",
       "      <td>27.429482</td>\n",
       "      <td>1</td>\n",
       "      <td>0</td>\n",
       "      <td>[1.1605113774669547, 0.9205422490114104, 0.243...</td>\n",
       "      <td>[0.0039098316042676775, 0.0035882118497337994,...</td>\n",
       "      <td>[-1.031746031584782, -0.6161616169043975, -0.3...</td>\n",
       "      <td>[81648.69428792037, 55640.08992702853, 42236.6...</td>\n",
       "      <td>[45765.7014330891, 19304.005971948332, 13939.8...</td>\n",
       "      <td>14-13160</td>\n",
       "    </tr>\n",
       "    <tr>\n",
       "      <th>1317</th>\n",
       "      <td>14</td>\n",
       "      <td>13170</td>\n",
       "      <td>train_gen</td>\n",
       "      <td>/global/cscratch1/sd/vpa/proj/cosmogan/results...</td>\n",
       "      <td>0.001344</td>\n",
       "      <td>0.009384</td>\n",
       "      <td>0.004336</td>\n",
       "      <td>0.015064</td>\n",
       "      <td>0.000251</td>\n",
       "      <td>5.294135</td>\n",
       "      <td>...</td>\n",
       "      <td>9.433926</td>\n",
       "      <td>24.680407</td>\n",
       "      <td>1</td>\n",
       "      <td>0</td>\n",
       "      <td>[1.1190387262955857, 0.9508136600001178, 0.264...</td>\n",
       "      <td>[0.004056786577908398, 0.003328406710984512, 0...</td>\n",
       "      <td>[-1.031746031584782, -0.6161616169043975, -0.3...</td>\n",
       "      <td>[83458.82654205756, 61098.90116323958, 45182.4...</td>\n",
       "      <td>[43459.97821187262, 24757.737122448394, 15483....</td>\n",
       "      <td>14-13170</td>\n",
       "    </tr>\n",
       "    <tr>\n",
       "      <th>1318</th>\n",
       "      <td>14</td>\n",
       "      <td>13180</td>\n",
       "      <td>train_gen</td>\n",
       "      <td>/global/cscratch1/sd/vpa/proj/cosmogan/results...</td>\n",
       "      <td>0.008084</td>\n",
       "      <td>0.007306</td>\n",
       "      <td>0.014269</td>\n",
       "      <td>0.029659</td>\n",
       "      <td>0.006601</td>\n",
       "      <td>5.410288</td>\n",
       "      <td>...</td>\n",
       "      <td>72.900621</td>\n",
       "      <td>23.501847</td>\n",
       "      <td>0</td>\n",
       "      <td>0</td>\n",
       "      <td>[1.1690823763961509, 0.9001496150054453, 0.243...</td>\n",
       "      <td>[0.004145482512358135, 0.003668566082133083, 0...</td>\n",
       "      <td>[-1.031746031584782, -0.6161616169043975, -0.3...</td>\n",
       "      <td>[90995.69718130119, 63855.98223417032, 46838.2...</td>\n",
       "      <td>[45650.836596346286, 22435.145780896037, 16805...</td>\n",
       "      <td>14-13180</td>\n",
       "    </tr>\n",
       "  </tbody>\n",
       "</table>\n",
       "<p>5 rows × 21 columns</p>\n",
       "</div>"
      ],
      "text/plain": [
       "      epoch   step   img_type  \\\n",
       "1314     14  13140  train_gen   \n",
       "1315     14  13150  train_gen   \n",
       "1316     14  13160  train_gen   \n",
       "1317     14  13170  train_gen   \n",
       "1318     14  13180  train_gen   \n",
       "\n",
       "                                                  fname    chi_1a    chi_1b  \\\n",
       "1314  /global/cscratch1/sd/vpa/proj/cosmogan/results...  0.049527  0.038310   \n",
       "1315  /global/cscratch1/sd/vpa/proj/cosmogan/results...  0.004531  0.008046   \n",
       "1316  /global/cscratch1/sd/vpa/proj/cosmogan/results...  0.007626  0.029537   \n",
       "1317  /global/cscratch1/sd/vpa/proj/cosmogan/results...  0.001344  0.009384   \n",
       "1318  /global/cscratch1/sd/vpa/proj/cosmogan/results...  0.008084  0.007306   \n",
       "\n",
       "        chi_1c     chi_1     chi_2  chi_imgvar  ...  chi_spec2  chi_spec3  \\\n",
       "1314  0.008020  0.095857  0.037481    4.852472  ...  21.722671  28.588184   \n",
       "1315  0.004231  0.016808  0.000944    5.210342  ...   7.993169  26.033589   \n",
       "1316  0.006559  0.043722  0.004142    4.774238  ...  48.826363  27.429482   \n",
       "1317  0.004336  0.015064  0.000251    5.294135  ...   9.433926  24.680407   \n",
       "1318  0.014269  0.029659  0.006601    5.410288  ...  72.900621  23.501847   \n",
       "\n",
       "      num_large  num_vlarge  \\\n",
       "1314          1           0   \n",
       "1315          1           0   \n",
       "1316          1           0   \n",
       "1317          1           0   \n",
       "1318          0           0   \n",
       "\n",
       "                                               hist_val  \\\n",
       "1314  [0.9975028063754142, 1.0981441157090728, 0.311...   \n",
       "1315  [1.099090266082445, 0.9684550181048184, 0.2744...   \n",
       "1316  [1.1605113774669547, 0.9205422490114104, 0.243...   \n",
       "1317  [1.1190387262955857, 0.9508136600001178, 0.264...   \n",
       "1318  [1.1690823763961509, 0.9001496150054453, 0.243...   \n",
       "\n",
       "                                               hist_err  \\\n",
       "1314  [0.004062447530719573, 0.003477212606580231, 0...   \n",
       "1315  [0.003961204790873815, 0.003408018420842921, 0...   \n",
       "1316  [0.0039098316042676775, 0.0035882118497337994,...   \n",
       "1317  [0.004056786577908398, 0.003328406710984512, 0...   \n",
       "1318  [0.004145482512358135, 0.003668566082133083, 0...   \n",
       "\n",
       "                                       hist_bin_centers  \\\n",
       "1314  [-1.031746031584782, -0.6161616169043975, -0.3...   \n",
       "1315  [-1.031746031584782, -0.6161616169043975, -0.3...   \n",
       "1316  [-1.031746031584782, -0.6161616169043975, -0.3...   \n",
       "1317  [-1.031746031584782, -0.6161616169043975, -0.3...   \n",
       "1318  [-1.031746031584782, -0.6161616169043975, -0.3...   \n",
       "\n",
       "                                               spec_val  \\\n",
       "1314  [83182.94386431202, 56284.22821412904, 40276.4...   \n",
       "1315  [93935.90086218629, 65773.55935572424, 48213.8...   \n",
       "1316  [81648.69428792037, 55640.08992702853, 42236.6...   \n",
       "1317  [83458.82654205756, 61098.90116323958, 45182.4...   \n",
       "1318  [90995.69718130119, 63855.98223417032, 46838.2...   \n",
       "\n",
       "                                               spec_err     label  \n",
       "1314  [38732.52845270224, 19203.24919178174, 11861.8...  14-13140  \n",
       "1315  [48694.811406226, 22908.964219560316, 16542.88...  14-13150  \n",
       "1316  [45765.7014330891, 19304.005971948332, 13939.8...  14-13160  \n",
       "1317  [43459.97821187262, 24757.737122448394, 15483....  14-13170  \n",
       "1318  [45650.836596346286, 22435.145780896037, 16805...  14-13180  \n",
       "\n",
       "[5 rows x 21 columns]"
      ]
     },
     "execution_count": 17,
     "metadata": {},
     "output_type": "execute_result"
    }
   ],
   "source": [
    "print(df.shape)\n",
    "df.tail()"
   ]
  },
  {
   "cell_type": "markdown",
   "metadata": {},
   "source": [
    "### View best epochs"
   ]
  },
  {
   "cell_type": "markdown",
   "metadata": {},
   "source": [
    "#### Locations with best chi_sqr"
   ]
  },
  {
   "cell_type": "code",
   "execution_count": 18,
   "metadata": {},
   "outputs": [
    {
     "data": {
      "text/html": [
       "<div>\n",
       "<style scoped>\n",
       "    .dataframe tbody tr th:only-of-type {\n",
       "        vertical-align: middle;\n",
       "    }\n",
       "\n",
       "    .dataframe tbody tr th {\n",
       "        vertical-align: top;\n",
       "    }\n",
       "\n",
       "    .dataframe thead th {\n",
       "        text-align: right;\n",
       "    }\n",
       "</style>\n",
       "<table border=\"1\" class=\"dataframe\">\n",
       "  <thead>\n",
       "    <tr style=\"text-align: right;\">\n",
       "      <th></th>\n",
       "      <th>epoch</th>\n",
       "      <th>step</th>\n",
       "      <th>chi_1a</th>\n",
       "      <th>chi_1b</th>\n",
       "      <th>chi_1c</th>\n",
       "      <th>chi_1</th>\n",
       "      <th>chi_2</th>\n",
       "      <th>chi_imgvar</th>\n",
       "      <th>chi_spec1</th>\n",
       "      <th>chi_spec2</th>\n",
       "    </tr>\n",
       "  </thead>\n",
       "  <tbody>\n",
       "    <tr>\n",
       "      <th>1305</th>\n",
       "      <td>14</td>\n",
       "      <td>13050</td>\n",
       "      <td>0.000044</td>\n",
       "      <td>0.013042</td>\n",
       "      <td>0.020233</td>\n",
       "      <td>0.033319</td>\n",
       "      <td>0.000137</td>\n",
       "      <td>5.139335</td>\n",
       "      <td>0.221998</td>\n",
       "      <td>1.244321e+01</td>\n",
       "    </tr>\n",
       "    <tr>\n",
       "      <th>1054</th>\n",
       "      <td>11</td>\n",
       "      <td>10540</td>\n",
       "      <td>0.013850</td>\n",
       "      <td>0.000998</td>\n",
       "      <td>0.103773</td>\n",
       "      <td>0.118621</td>\n",
       "      <td>0.012158</td>\n",
       "      <td>6.519798</td>\n",
       "      <td>0.420350</td>\n",
       "      <td>2.701527e+01</td>\n",
       "    </tr>\n",
       "    <tr>\n",
       "      <th>1311</th>\n",
       "      <td>14</td>\n",
       "      <td>13110</td>\n",
       "      <td>0.033038</td>\n",
       "      <td>0.001831</td>\n",
       "      <td>0.001156</td>\n",
       "      <td>0.036025</td>\n",
       "      <td>0.028934</td>\n",
       "      <td>5.616223</td>\n",
       "      <td>1.369718</td>\n",
       "      <td>1.609707e+02</td>\n",
       "    </tr>\n",
       "    <tr>\n",
       "      <th>1276</th>\n",
       "      <td>14</td>\n",
       "      <td>12760</td>\n",
       "      <td>0.003017</td>\n",
       "      <td>0.005899</td>\n",
       "      <td>0.004183</td>\n",
       "      <td>0.013099</td>\n",
       "      <td>0.001067</td>\n",
       "      <td>5.751671</td>\n",
       "      <td>0.118272</td>\n",
       "      <td>1.458427e+01</td>\n",
       "    </tr>\n",
       "    <tr>\n",
       "      <th>1145</th>\n",
       "      <td>13</td>\n",
       "      <td>11450</td>\n",
       "      <td>0.000151</td>\n",
       "      <td>0.010376</td>\n",
       "      <td>0.005859</td>\n",
       "      <td>0.016386</td>\n",
       "      <td>0.000134</td>\n",
       "      <td>5.365239</td>\n",
       "      <td>0.187622</td>\n",
       "      <td>1.762481e+01</td>\n",
       "    </tr>\n",
       "    <tr>\n",
       "      <th>2</th>\n",
       "      <td>0</td>\n",
       "      <td>20</td>\n",
       "      <td>0.406612</td>\n",
       "      <td>0.294280</td>\n",
       "      <td>0.013186</td>\n",
       "      <td>0.714078</td>\n",
       "      <td>0.177861</td>\n",
       "      <td>1.307446</td>\n",
       "      <td>67404.379588</td>\n",
       "      <td>6.451896e+06</td>\n",
       "    </tr>\n",
       "    <tr>\n",
       "      <th>1172</th>\n",
       "      <td>13</td>\n",
       "      <td>11720</td>\n",
       "      <td>0.001507</td>\n",
       "      <td>0.015304</td>\n",
       "      <td>0.003825</td>\n",
       "      <td>0.020635</td>\n",
       "      <td>0.000333</td>\n",
       "      <td>5.071542</td>\n",
       "      <td>0.048730</td>\n",
       "      <td>4.126704e+00</td>\n",
       "    </tr>\n",
       "    <tr>\n",
       "      <th>1168</th>\n",
       "      <td>13</td>\n",
       "      <td>11680</td>\n",
       "      <td>0.000868</td>\n",
       "      <td>0.018859</td>\n",
       "      <td>0.010204</td>\n",
       "      <td>0.029931</td>\n",
       "      <td>0.000528</td>\n",
       "      <td>5.015155</td>\n",
       "      <td>0.068299</td>\n",
       "      <td>2.304899e+00</td>\n",
       "    </tr>\n",
       "  </tbody>\n",
       "</table>\n",
       "</div>"
      ],
      "text/plain": [
       "      epoch   step    chi_1a    chi_1b    chi_1c     chi_1     chi_2  \\\n",
       "1305     14  13050  0.000044  0.013042  0.020233  0.033319  0.000137   \n",
       "1054     11  10540  0.013850  0.000998  0.103773  0.118621  0.012158   \n",
       "1311     14  13110  0.033038  0.001831  0.001156  0.036025  0.028934   \n",
       "1276     14  12760  0.003017  0.005899  0.004183  0.013099  0.001067   \n",
       "1145     13  11450  0.000151  0.010376  0.005859  0.016386  0.000134   \n",
       "2         0     20  0.406612  0.294280  0.013186  0.714078  0.177861   \n",
       "1172     13  11720  0.001507  0.015304  0.003825  0.020635  0.000333   \n",
       "1168     13  11680  0.000868  0.018859  0.010204  0.029931  0.000528   \n",
       "\n",
       "      chi_imgvar     chi_spec1     chi_spec2  \n",
       "1305    5.139335      0.221998  1.244321e+01  \n",
       "1054    6.519798      0.420350  2.701527e+01  \n",
       "1311    5.616223      1.369718  1.609707e+02  \n",
       "1276    5.751671      0.118272  1.458427e+01  \n",
       "1145    5.365239      0.187622  1.762481e+01  \n",
       "2       1.307446  67404.379588  6.451896e+06  \n",
       "1172    5.071542      0.048730  4.126704e+00  \n",
       "1168    5.015155      0.068299  2.304899e+00  "
      ]
     },
     "execution_count": 18,
     "metadata": {},
     "output_type": "execute_result"
    }
   ],
   "source": [
    "def f_get_best_chisqr_models(df,cutoff=0.2):\n",
    "    '''\n",
    "    Pick models with lowest 20% chi-square for multiple categories\n",
    "    '''\n",
    "    chi_sqr_keys=[ 'chi_1', 'chi_spec1']\n",
    "    q_dict=dict(df.quantile(q=cutoff,axis=0)[chi_sqr_keys])\n",
    "#     print(q_dict)\n",
    "    \n",
    "    df_sliced=df.query('chi_1 < {0} & chi_spec1 < {1}'.format(q_dict['chi_1'],q_dict['chi_spec1']))\n",
    "    \n",
    "    return df_sliced\n",
    "\n",
    "chi_sqr_keys=['epoch','step','chi_1a','chi_1b','chi_1c','chi_1','chi_2','chi_imgvar','chi_spec1','chi_spec2']\n",
    "# index location of min/max values of chi squares\n",
    "inds=[]\n",
    "for key in ['chi_1a','chi_1b','chi_1c','chi_1','chi_2','chi_imgvar','chi_spec1','chi_spec2']:\n",
    "    inds.append(df[key].idxmin(axis=1))\n",
    "inds=np.array(inds)\n",
    "df.loc[inds][chi_sqr_keys]\n"
   ]
  },
  {
   "cell_type": "code",
   "execution_count": 19,
   "metadata": {},
   "outputs": [],
   "source": [
    "### Plot chi-sqr values\n",
    "# _=df_sliced.plot(x=\"step\", y=[\"chi_1\", \"chi_imgvar\", \"chi_spec1\"],style='.',marker='*')"
   ]
  },
  {
   "cell_type": "code",
   "execution_count": 20,
   "metadata": {},
   "outputs": [
    {
     "data": {
      "application/vnd.jupyter.widget-view+json": {
       "model_id": "1c813113c6d6420383c46fc65d1567b8",
       "version_major": 2,
       "version_minor": 0
      },
      "text/plain": [
       "Canvas(toolbar=Toolbar(toolitems=[('Home', 'Reset original view', 'home', 'home'), ('Back', 'Back to previous …"
      ]
     },
     "metadata": {},
     "output_type": "display_data"
    },
    {
     "data": {
      "text/plain": [
       "Text(0, 0.5, 'Number of very large pixel images from a batch of images')"
      ]
     },
     "execution_count": 20,
     "metadata": {},
     "output_type": "execute_result"
    }
   ],
   "source": [
    "### Plot number of very high pixel images\n",
    "plt.figure()\n",
    "plt.plot(df[df.img_type=='train_gen'].step,df[df.img_type=='train_gen'].num_vlarge,linestyle='',marker='*')\n",
    "plt.xlabel('Steps in Epochs')\n",
    "plt.ylabel('Number of very large pixel images from a batch of images')\n",
    "\n",
    "# df[df.num_vlarge>10].tail()"
   ]
  },
  {
   "cell_type": "markdown",
   "metadata": {},
   "source": [
    "### View best steps"
   ]
  },
  {
   "cell_type": "code",
   "execution_count": 24,
   "metadata": {},
   "outputs": [],
   "source": [
    "def f_slice_df(df,cutoff=0.2,sort_col='chi_1',col_mode='all',head=10,epoch_range=[0,None],display_flag=False):\n",
    "    ''' View dataframe after slicing\n",
    "    '''\n",
    "    col_list=['label','chi_1','chi_spec1', 'chi_spec3', 'chi_1a', 'chi_1b', 'chi_1c', 'chi_2','chi_imgvar', 'chi_spec2','epoch','step']\n",
    "    if (col_mode=='short'): col_list=['label','chi_1','chi_spec1']\n",
    "        \n",
    "    print(epoch_range)\n",
    "    if epoch_range[1]==None: epoch_range[1]=df.max()['epoch']\n",
    "    df=df[(df.epoch<=epoch_range[1])&(df.epoch>=epoch_range[0])]\n",
    "\n",
    "    ## Apply cutoff to keep reasonable chi1 and chispec1\n",
    "    best_keys=[ 'chi_1', 'chi_spec1']\n",
    "    q_dict=dict(df.quantile(q=cutoff,axis=0)[best_keys])   \n",
    "    print(q_dict)\n",
    "    df=df.query('chi_1 < {0} & chi_spec1 < {1}'.format(q_dict['chi_1'],q_dict['chi_spec1']))\n",
    "    \n",
    "    # Sort dataframe\n",
    "    df1=df[df.epoch>0].sort_values(by=sort_col)\n",
    "        \n",
    "    df2=df1.head(head)[col_list]\n",
    "\n",
    "    if display_flag:   # Display df\n",
    "        display_cols=['label','chi_1','chi_spec1', 'chi_spec3', 'chi_1a', 'chi_1b', 'chi_1c', 'chi_2','chi_imgvar', 'chi_spec2']\n",
    "        display(df2)\n",
    "    \n",
    "    return df2"
   ]
  },
  {
   "cell_type": "code",
   "execution_count": 25,
   "metadata": {},
   "outputs": [
    {
     "data": {
      "application/vnd.jupyter.widget-view+json": {
       "model_id": "17e56f18a18c4de38a40400fef89be00",
       "version_major": 2,
       "version_minor": 0
      },
      "text/plain": [
       "interactive(children=(FloatSlider(value=0.2, description='cutoff', max=1.0, step=0.01), Dropdown(description='…"
      ]
     },
     "metadata": {},
     "output_type": "display_data"
    }
   ],
   "source": [
    "w=interactive(f_slice_df,df=fixed(df),\n",
    "cutoff=widgets.FloatSlider(value=0.2, min=0, max=1.0, step=0.01), \n",
    "col_mode=['all','short'], display_flag=widgets.Checkbox(value=False),\n",
    "head=widgets.IntSlider(value=10,min=1,max=20,step=1),\n",
    "epoch_range=widgets.IntRangeSlider(value=[0,np.max(df.epoch.values)],min=0,max=np.max(df.epoch.values),step=1),\n",
    "sort_col=['chi_1','chi_spec1', 'chi_spec3', 'chi_1a', 'chi_1b', 'chi_1c', 'chi_2','chi_imgvar', 'chi_spec2'],\n",
    ")\n",
    "display(w)"
   ]
  },
  {
   "cell_type": "code",
   "execution_count": 37,
   "metadata": {},
   "outputs": [],
   "source": [
    "df_sliced=w.result\n",
    "# df_sliced"
   ]
  },
  {
   "cell_type": "markdown",
   "metadata": {},
   "source": [
    "### Pick best steps"
   ]
  },
  {
   "cell_type": "code",
   "execution_count": 44,
   "metadata": {},
   "outputs": [
    {
     "name": "stdout",
     "output_type": "stream",
     "text": [
      "[0, 14]\n",
      "{'chi_1': 0.039948181567919544, 'chi_spec1': 0.2605606293835334}\n",
      "[0, 14]\n",
      "{'chi_1': 0.2771536653873312, 'chi_spec1': 4.71290803644455}\n",
      "[0, 14]\n",
      "{'chi_1': 0.039948181567919544, 'chi_spec1': 0.2605606293835334}\n",
      "[10770 10840 11720 12760 13110 13170]\n"
     ]
    }
   ],
   "source": [
    "best_step=[]\n",
    "best_step.append(f_slice_df(df,cutoff=0.2,sort_col='chi_1',head=2,display_flag=False).step.values)\n",
    "best_step.append(f_slice_df(df,cutoff=0.8,sort_col='chi_1c',head=2,display_flag=False).step.values)\n",
    "best_step.append(f_slice_df(df,cutoff=0.2,sort_col='chi_spec1',head=2,display_flag=False).step.values)\n",
    "\n",
    "best_step=np.unique([i for j in best_step for i in j])\n",
    "print(best_step)"
   ]
  },
  {
   "cell_type": "code",
   "execution_count": 35,
   "metadata": {},
   "outputs": [],
   "source": [
    "best_step=[11130]\n",
    "# best_step=np.arange(40130,40135).astype(int)"
   ]
  },
  {
   "cell_type": "code",
   "execution_count": 45,
   "metadata": {},
   "outputs": [
    {
     "name": "stdout",
     "output_type": "stream",
     "text": [
      "(6, 21)\n",
      "[(12, 10770), (12, 10840), (13, 11720), (14, 12760), (14, 13110), (14, 13170)]\n"
     ]
    }
   ],
   "source": [
    "df_best=df[df.step.isin(best_step)]\n",
    "print(df_best.shape)\n",
    "print([(df_best[df_best.step==step].epoch.values[0],df_best[df_best.step==step].step.values[0]) for step in best_step])\n",
    "# print([(df_best.loc[idx].epoch,df_best.loc[idx].step) for idx in best_idx])"
   ]
  },
  {
   "cell_type": "code",
   "execution_count": 48,
   "metadata": {},
   "outputs": [
    {
     "data": {
      "text/html": [
       "<div>\n",
       "<style scoped>\n",
       "    .dataframe tbody tr th:only-of-type {\n",
       "        vertical-align: middle;\n",
       "    }\n",
       "\n",
       "    .dataframe tbody tr th {\n",
       "        vertical-align: top;\n",
       "    }\n",
       "\n",
       "    .dataframe thead th {\n",
       "        text-align: right;\n",
       "    }\n",
       "</style>\n",
       "<table border=\"1\" class=\"dataframe\">\n",
       "  <thead>\n",
       "    <tr style=\"text-align: right;\">\n",
       "      <th></th>\n",
       "      <th>label</th>\n",
       "      <th>chi_1</th>\n",
       "      <th>chi_spec1</th>\n",
       "      <th>chi_spec3</th>\n",
       "      <th>chi_1a</th>\n",
       "      <th>chi_1b</th>\n",
       "      <th>chi_1c</th>\n",
       "      <th>chi_2</th>\n",
       "      <th>chi_imgvar</th>\n",
       "      <th>chi_spec2</th>\n",
       "      <th>epoch</th>\n",
       "      <th>step</th>\n",
       "    </tr>\n",
       "  </thead>\n",
       "  <tbody>\n",
       "    <tr>\n",
       "      <th>1077</th>\n",
       "      <td>12-10770</td>\n",
       "      <td>0.018935</td>\n",
       "      <td>0.051433</td>\n",
       "      <td>22.686866</td>\n",
       "      <td>0.001406</td>\n",
       "      <td>0.013084</td>\n",
       "      <td>0.004445</td>\n",
       "      <td>0.001053</td>\n",
       "      <td>5.460232</td>\n",
       "      <td>5.125759</td>\n",
       "      <td>12</td>\n",
       "      <td>10770</td>\n",
       "    </tr>\n",
       "    <tr>\n",
       "      <th>1084</th>\n",
       "      <td>12-10840</td>\n",
       "      <td>0.021867</td>\n",
       "      <td>0.337466</td>\n",
       "      <td>25.361722</td>\n",
       "      <td>0.011312</td>\n",
       "      <td>0.008090</td>\n",
       "      <td>0.002465</td>\n",
       "      <td>0.009624</td>\n",
       "      <td>5.253382</td>\n",
       "      <td>50.377482</td>\n",
       "      <td>12</td>\n",
       "      <td>10840</td>\n",
       "    </tr>\n",
       "    <tr>\n",
       "      <th>1172</th>\n",
       "      <td>13-11720</td>\n",
       "      <td>0.020635</td>\n",
       "      <td>0.048730</td>\n",
       "      <td>25.822968</td>\n",
       "      <td>0.001507</td>\n",
       "      <td>0.015304</td>\n",
       "      <td>0.003825</td>\n",
       "      <td>0.000333</td>\n",
       "      <td>5.071542</td>\n",
       "      <td>4.126704</td>\n",
       "      <td>13</td>\n",
       "      <td>11720</td>\n",
       "    </tr>\n",
       "    <tr>\n",
       "      <th>1276</th>\n",
       "      <td>14-12760</td>\n",
       "      <td>0.013099</td>\n",
       "      <td>0.118272</td>\n",
       "      <td>26.560320</td>\n",
       "      <td>0.003017</td>\n",
       "      <td>0.005899</td>\n",
       "      <td>0.004183</td>\n",
       "      <td>0.001067</td>\n",
       "      <td>5.751671</td>\n",
       "      <td>14.584273</td>\n",
       "      <td>14</td>\n",
       "      <td>12760</td>\n",
       "    </tr>\n",
       "    <tr>\n",
       "      <th>1311</th>\n",
       "      <td>14-13110</td>\n",
       "      <td>0.036025</td>\n",
       "      <td>1.369718</td>\n",
       "      <td>25.465371</td>\n",
       "      <td>0.033038</td>\n",
       "      <td>0.001831</td>\n",
       "      <td>0.001156</td>\n",
       "      <td>0.028934</td>\n",
       "      <td>5.616223</td>\n",
       "      <td>160.970715</td>\n",
       "      <td>14</td>\n",
       "      <td>13110</td>\n",
       "    </tr>\n",
       "    <tr>\n",
       "      <th>1317</th>\n",
       "      <td>14-13170</td>\n",
       "      <td>0.015064</td>\n",
       "      <td>0.091204</td>\n",
       "      <td>24.680407</td>\n",
       "      <td>0.001344</td>\n",
       "      <td>0.009384</td>\n",
       "      <td>0.004336</td>\n",
       "      <td>0.000251</td>\n",
       "      <td>5.294135</td>\n",
       "      <td>9.433926</td>\n",
       "      <td>14</td>\n",
       "      <td>13170</td>\n",
       "    </tr>\n",
       "  </tbody>\n",
       "</table>\n",
       "</div>"
      ],
      "text/plain": [
       "         label     chi_1  chi_spec1  chi_spec3    chi_1a    chi_1b    chi_1c  \\\n",
       "1077  12-10770  0.018935   0.051433  22.686866  0.001406  0.013084  0.004445   \n",
       "1084  12-10840  0.021867   0.337466  25.361722  0.011312  0.008090  0.002465   \n",
       "1172  13-11720  0.020635   0.048730  25.822968  0.001507  0.015304  0.003825   \n",
       "1276  14-12760  0.013099   0.118272  26.560320  0.003017  0.005899  0.004183   \n",
       "1311  14-13110  0.036025   1.369718  25.465371  0.033038  0.001831  0.001156   \n",
       "1317  14-13170  0.015064   0.091204  24.680407  0.001344  0.009384  0.004336   \n",
       "\n",
       "         chi_2  chi_imgvar   chi_spec2  epoch   step  \n",
       "1077  0.001053    5.460232    5.125759     12  10770  \n",
       "1084  0.009624    5.253382   50.377482     12  10840  \n",
       "1172  0.000333    5.071542    4.126704     13  11720  \n",
       "1276  0.001067    5.751671   14.584273     14  12760  \n",
       "1311  0.028934    5.616223  160.970715     14  13110  \n",
       "1317  0.000251    5.294135    9.433926     14  13170  "
      ]
     },
     "execution_count": 48,
     "metadata": {},
     "output_type": "execute_result"
    }
   ],
   "source": [
    "df_best[col_list]"
   ]
  },
  {
   "cell_type": "markdown",
   "metadata": {},
   "source": [
    "## Plot pixel intensity and spectrum"
   ]
  },
  {
   "cell_type": "code",
   "execution_count": 29,
   "metadata": {},
   "outputs": [
    {
     "name": "stdout",
     "output_type": "stream",
     "text": [
      "(1000, 128, 128)\n"
     ]
    },
    {
     "name": "stderr",
     "output_type": "stream",
     "text": [
      "/global/u1/v/vpa/project/jpt_notebooks/Cosmology/Cosmo_GAN/repositories/lbann_cosmogan/3_analysis/modules_image_analysis.py:85: VisibleDeprecationWarning: Creating an ndarray from ragged nested sequences (which is a list-or-tuple of lists-or-tuples-or ndarrays with different lengths or shapes) is deprecated. If you meant to do this, you must specify 'dtype=object' when creating the ndarray\n",
      "  hist_arr=np.array([np.histogram(arr.flatten(), bins=bins, range=(llim,ulim), density=norm) for arr in img_arr]) ## range is important\n"
     ]
    }
   ],
   "source": [
    "def f_compute_hist_spect(sample,bins):\n",
    "    ''' Compute pixel intensity histograms and radial spectrum for 2D arrays\n",
    "    Input : Image arrays and bins\n",
    "    Output: dictionary with 5 arrays : Histogram values, errors and bin centers, Spectrum values and errors.\n",
    "    '''\n",
    "    ### Compute pixel histogram for row\n",
    "    gen_hist,gen_err,hist_bins=f_batch_histogram(sample,bins=bins,norm=True,hist_range=None)\n",
    "    ### Compute spectrum for row\n",
    "    spec,spec_err=f_compute_spectrum(sample,plot=False)\n",
    "\n",
    "    dict1={'hist_val':gen_hist,'hist_err':gen_err,'hist_bin_centers':hist_bins,'spec_val':spec,'spec_err':spec_err }\n",
    "    return dict1\n",
    "\n",
    "\n",
    "### Extract validation data\n",
    "fname=input_files_dict[str(img_size)]\n",
    "s_val=np.load(fname,mmap_mode='r')[:1000][:,0,:,:]\n",
    "print(s_val.shape)\n",
    "\n",
    "bins=np.concatenate([np.array([-0.5]),np.arange(0.5,20.5,1),np.arange(20.5,100.5,5),np.arange(100.5,1000.5,50),np.array([2000])]) #bin edges to use\n",
    "bins=f_transform(bins)   ### scale to (-1,1) \n",
    "### Compute histogram and spectrum of raw data \n",
    "dict_val=f_compute_hist_spect(s_val,bins)"
   ]
  },
  {
   "cell_type": "code",
   "execution_count": 39,
   "metadata": {},
   "outputs": [],
   "source": [
    "\n",
    "def f_plot_hist_spec(df,dict_bkg,plot_type):\n",
    "\n",
    "    assert plot_type in ['hist','spec'],\"Invalid mode %s\"%(plot_type)\n",
    "\n",
    "    fig=plt.figure(figsize=(6,6))\n",
    "    for (i,row),marker in zip(df.iterrows(),itertools.cycle('>^*sDHPdpx_')):\n",
    "        \n",
    "        label=row.label\n",
    "        if plot_type=='hist':\n",
    "            x1=row.hist_bin_centers\n",
    "            y1=row.hist_val\n",
    "            yerr1=row.hist_err\n",
    "            x1=f_invtransform(x1)\n",
    "            \n",
    "            plt.errorbar(x1,y1,yerr1,marker=marker,markersize=5,linestyle='',label=label)\n",
    "        if plot_type=='spec':\n",
    "            \n",
    "            y2=row.spec_val\n",
    "            yerr2=row.spec_err\n",
    "            x2=np.arange(len(y2))\n",
    "            \n",
    "            plt.fill_between(x2, y2 - yerr2, y2 + yerr2, alpha=0.4)\n",
    "            plt.plot(x2, y2, marker=marker, linestyle=':',label=label)\n",
    "\n",
    "    ### Plot input data\n",
    "    if plot_type=='hist':\n",
    "        x,y,yerr=dict_bkg['hist_bin_centers'],dict_bkg['hist_val'],dict_bkg['hist_err']\n",
    "        x=f_invtransform(x)\n",
    "        plt.errorbar(x, y,yerr,color='k',linestyle='-',label='bkgnd')   \n",
    "        plt.title('Pixel Intensity Histogram')\n",
    "        plt.xscale('symlog',linthreshx=50)\n",
    "        \n",
    "    if plot_type=='spec':\n",
    "        y,yerr=dict_bkg['spec_val'],dict_bkg['spec_err']\n",
    "        x=np.arange(len(y))\n",
    "        plt.fill_between(x, y - yerr, y + yerr, color='k',alpha=0.8)\n",
    "        plt.title('Spectrum')\n",
    "    plt.legend(bbox_to_anchor=(0.3, 0.75),ncol=2, fancybox=True, shadow=True,prop={'size':6})\n",
    "    plt.yscale('log')\n",
    "    \n",
    "\n",
    "# f_plot_hist_spec(df_runs,dict_val,'hist')\n",
    "# f_plot_hist_spec(df_runs,dict_val,'spec')"
   ]
  },
  {
   "cell_type": "code",
   "execution_count": 46,
   "metadata": {},
   "outputs": [
    {
     "data": {
      "application/vnd.jupyter.widget-view+json": {
       "model_id": "07ed7924fa8c42208cfe3b96b42328bf",
       "version_major": 2,
       "version_minor": 0
      },
      "text/plain": [
       "interactive(children=(SelectMultiple(description='labels_list', options=('12-10770', '12-10840', '13-11720', '…"
      ]
     },
     "metadata": {},
     "output_type": "display_data"
    },
    {
     "data": {
      "text/plain": [
       "<function __main__.f_widget_compare(df, labels_list, bkgnd, plot_type)>"
      ]
     },
     "execution_count": 46,
     "metadata": {},
     "output_type": "execute_result"
    }
   ],
   "source": [
    "def f_widget_compare(df,labels_list,bkgnd,plot_type):\n",
    "    df_temp=df[df.label.isin(labels_list)]\n",
    "    f_plot_hist_spec(df_temp,dict_val,plot_type)\n",
    "    \n",
    "interact_manual(f_widget_compare,df=fixed(df_best),\n",
    "                labels_list=SelectMultiple(options=df_best.label.values), \n",
    "                bkgnd=fixed(dict_val),plot_type=ToggleButtons(options=['hist','spec']))"
   ]
  },
  {
   "cell_type": "code",
   "execution_count": 176,
   "metadata": {},
   "outputs": [
    {
     "data": {
      "application/vnd.jupyter.widget-view+json": {
       "model_id": "925d03fad3e14acdb2ea81361e8f8e8c",
       "version_major": 2,
       "version_minor": 0
      },
      "text/plain": [
       "Canvas(toolbar=Toolbar(toolitems=[('Home', 'Reset original view', 'home', 'home'), ('Back', 'Back to previous …"
      ]
     },
     "metadata": {},
     "output_type": "display_data"
    },
    {
     "data": {
      "text/plain": [
       "<AxesSubplot:xlabel='step'>"
      ]
     },
     "execution_count": 176,
     "metadata": {},
     "output_type": "execute_result"
    }
   ],
   "source": [
    "df[(df.step>4400)& (df.step<5350)].plot(kind='line',x='step',y=['chi_1','chi_spec1'])"
   ]
  },
  {
   "cell_type": "markdown",
   "metadata": {},
   "source": [
    "## View image block"
   ]
  },
  {
   "cell_type": "code",
   "execution_count": 41,
   "metadata": {},
   "outputs": [],
   "source": [
    "def f_get_img(df,step):\n",
    "    df_temp=df[(df.step==step)]\n",
    "    images=np.load(df_temp.fname.values[0])[:,0,:,:]\n",
    "    return images\n",
    "\n",
    "img_arr=f_get_img(df,11130)"
   ]
  },
  {
   "cell_type": "code",
   "execution_count": 42,
   "metadata": {},
   "outputs": [
    {
     "name": "stdout",
     "output_type": "stream",
     "text": [
      "3 6\n"
     ]
    },
    {
     "data": {
      "application/vnd.jupyter.widget-view+json": {
       "model_id": "ac7fcdd3f3e24b5891d810966a6aeeac",
       "version_major": 2,
       "version_minor": 0
      },
      "text/plain": [
       "Canvas(toolbar=Toolbar(toolitems=[('Home', 'Reset original view', 'home', 'home'), ('Back', 'Back to previous …"
      ]
     },
     "metadata": {},
     "output_type": "display_data"
    }
   ],
   "source": [
    "f_plot_grid(img_arr[:18],cols=6,fig_size=(10,5))"
   ]
  },
  {
   "cell_type": "code",
   "execution_count": 43,
   "metadata": {},
   "outputs": [
    {
     "name": "stdout",
     "output_type": "stream",
     "text": [
      "3 6\n"
     ]
    },
    {
     "data": {
      "application/vnd.jupyter.widget-view+json": {
       "model_id": "862bcd0e039645298ec8eb6f937e468b",
       "version_major": 2,
       "version_minor": 0
      },
      "text/plain": [
       "Canvas(toolbar=Toolbar(toolitems=[('Home', 'Reset original view', 'home', 'home'), ('Back', 'Back to previous …"
      ]
     },
     "metadata": {},
     "output_type": "display_data"
    }
   ],
   "source": [
    "f_plot_grid(s_val[100:118],cols=6,fig_size=(10,5))"
   ]
  },
  {
   "cell_type": "code",
   "execution_count": 180,
   "metadata": {},
   "outputs": [
    {
     "data": {
      "text/plain": [
       "((1000, 128, 128), (256, 128, 128))"
      ]
     },
     "execution_count": 180,
     "metadata": {},
     "output_type": "execute_result"
    }
   ],
   "source": [
    "s_val.shape,img_arr.shape"
   ]
  },
  {
   "cell_type": "code",
   "execution_count": 181,
   "metadata": {},
   "outputs": [],
   "source": [
    "# df[(df.epoch==18)&(df.step>=15975)&(df.step<=15983)][['epoch','step','chi_1','chi_spec1','num_vlarge']]"
   ]
  },
  {
   "cell_type": "markdown",
   "metadata": {},
   "source": []
  },
  {
   "cell_type": "markdown",
   "metadata": {},
   "source": [
    "### Plotting spread of spectrum of input data"
   ]
  },
  {
   "cell_type": "code",
   "execution_count": 182,
   "metadata": {},
   "outputs": [],
   "source": [
    "\n",
    "# plt.figure()\n",
    "\n",
    "# idxs=np.random.randint(0,s_val.shape[0],size=50)\n",
    "# arr=s_val[idxs]\n",
    "# Pk = f_batch_spectrum(arr)\n",
    "# k=np.arange(Pk.shape[1])\n",
    "# for count,i in enumerate(Pk):\n",
    "#     plt.plot(i)\n",
    "    \n",
    "# Pk = f_batch_spectrum(img_arr)\n",
    "# mean,std = np.mean(Pk, axis=0),np.std(Pk, axis=0)/np.sqrt(Pk.shape[0])\n",
    "# plt.plot(k, mean, 'k:',label='generated image')\n",
    "\n",
    "\n",
    "# plt.legend()\n",
    "\n",
    "# plt.ylabel(r'$P(k)$')\n",
    "# plt.xlabel(r'$k$')\n",
    "# plt.title('Power Spectrum: 50 input images')\n",
    "# plt.yscale('log')\n",
    "\n"
   ]
  },
  {
   "cell_type": "code",
   "execution_count": 53,
   "metadata": {},
   "outputs": [
    {
     "data": {
      "text/plain": [
       "(1000, 1, 128, 128)"
      ]
     },
     "execution_count": 53,
     "metadata": {},
     "output_type": "execute_result"
    }
   ],
   "source": [
    "fname='/global/cscratch1/sd/vpa/proj/cosmogan/results_dir/128square/20201130_084039_bsize256_test_with_invtransform-scale0.5/gen_imgs_chkpt/epoch.12.step.11130_20201201_072154/dump_outs/trainer0/model0/sgd.testing.epoch.0.step.0_gen_img_instance1_activation_output0.npy'\n",
    "np.load(fname).shape\n"
   ]
  },
  {
   "cell_type": "code",
   "execution_count": null,
   "metadata": {},
   "outputs": [],
   "source": []
  }
 ],
 "metadata": {
  "kernelspec": {
   "display_name": "v3",
   "language": "python",
   "name": "v-jpt-3"
  },
  "language_info": {
   "codemirror_mode": {
    "name": "ipython",
    "version": 3
   },
   "file_extension": ".py",
   "mimetype": "text/x-python",
   "name": "python",
   "nbconvert_exporter": "python",
   "pygments_lexer": "ipython3",
   "version": "3.8.6"
  },
  "toc-autonumbering": true,
  "toc-showcode": false,
  "toc-showmarkdowntxt": true,
  "toc-showtags": false
 },
 "nbformat": 4,
 "nbformat_minor": 4
}
