{
 "cells": [
  {
   "cell_type": "markdown",
   "metadata": {},
   "source": [
    "# Extract data from output files\n",
    "### Analyze the output from a single LBANN run\n",
    "March 9, 2020 \\\n",
    "April 6, 2020 : to store files in order of epochs \\\n",
    "April 21, 2020: added jupyter widgets to compare pixel intensity plots \\\n",
    "July 30, 2020: Perform analysis with stored histograms."
   ]
  },
  {
   "cell_type": "code",
   "execution_count": 1,
   "metadata": {},
   "outputs": [],
   "source": [
    "import numpy as np\n",
    "import matplotlib.pyplot as plt\n",
    "import seaborn as sns\n",
    "import pandas as pd\n",
    "\n",
    "import subprocess as sp\n",
    "import os\n",
    "import glob\n",
    "import sys\n",
    "\n",
    "import itertools\n",
    "import time\n",
    "\n",
    "from ipywidgets import *"
   ]
  },
  {
   "cell_type": "code",
   "execution_count": 2,
   "metadata": {},
   "outputs": [],
   "source": [
    "%matplotlib widget"
   ]
  },
  {
   "cell_type": "code",
   "execution_count": 3,
   "metadata": {},
   "outputs": [],
   "source": [
    "sys.path.append('/global/u1/v/vpa/project/jpt_notebooks/Cosmology/Cosmo_GAN/repositories/lbann_cosmogan/3_analysis')\n",
    "from modules_image_analysis import *"
   ]
  },
  {
   "cell_type": "code",
   "execution_count": 4,
   "metadata": {},
   "outputs": [],
   "source": [
    "### Transformation functions for image pixel values\n",
    "def f_transform(x):\n",
    "    return 2.*x/(x + 4. + 1e-8) - 1.\n",
    "\n",
    "def f_invtransform(s):\n",
    "    return 4.*(1. + s)/(1. - s + 1e-8)"
   ]
  },
  {
   "cell_type": "markdown",
   "metadata": {},
   "source": [
    "## Extract folder"
   ]
  },
  {
   "cell_type": "code",
   "execution_count": 25,
   "metadata": {},
   "outputs": [
    {
     "data": {
      "application/vnd.jupyter.widget-view+json": {
       "model_id": "3132d20d26dd4d8f8d2e9de7417124e8",
       "version_major": 2,
       "version_minor": 0
      },
      "text/plain": [
       "interactive(children=(Select(description='x', options=('scratch', 'proj'), value='scratch'), Output()), _dom_c…"
      ]
     },
     "metadata": {},
     "output_type": "display_data"
    }
   ],
   "source": [
    "img_size=128\n",
    "dict1={'scratch':'/global/cscratch1/sd/vpa/proj/cosmogan/results_dir/{0}square/'.format(img_size),\n",
    "    'proj':'/global/cfs/cdirs/m3363/vayyar/cosmogan_data/results_data/'}\n",
    "\n",
    "u=interactive(lambda x: dict1[x], x=Select(options=dict1.keys()))\n",
    "display(u)\n"
   ]
  },
  {
   "cell_type": "code",
   "execution_count": 26,
   "metadata": {},
   "outputs": [
    {
     "data": {
      "application/vnd.jupyter.widget-view+json": {
       "model_id": "c7a703762fa0499b8abe5aeed95eb096",
       "version_major": 2,
       "version_minor": 0
      },
      "text/plain": [
       "interactive(children=(Dropdown(description='x', options=('20200911_083711_bsize64_spec_test_128_nospec', '2020…"
      ]
     },
     "metadata": {},
     "output_type": "display_data"
    }
   ],
   "source": [
    "parent_dir=u.result\n",
    "dir_lst=[i.split('/')[-1] for i in glob.glob(parent_dir+'202*')]\n",
    "w=interactive(lambda x: x, x=Dropdown(options=dir_lst))\n",
    "display(w)"
   ]
  },
  {
   "cell_type": "code",
   "execution_count": 28,
   "metadata": {},
   "outputs": [
    {
     "name": "stdout",
     "output_type": "stream",
     "text": [
      "/global/cscratch1/sd/vpa/proj/cosmogan/results_dir/128square/20210202_061803_bsize256_scale0.1_deterministic_off\n"
     ]
    }
   ],
   "source": [
    "result=w.result\n",
    "main_dir=parent_dir+result\n",
    "print(main_dir)"
   ]
  },
  {
   "cell_type": "code",
   "execution_count": 29,
   "metadata": {},
   "outputs": [],
   "source": [
    "# Get location for validation data\n",
    "raw_data_dir='/global/cfs/cdirs/m3363/vayyar/cosmogan_data/raw_data/'\n",
    "input_files_dict={'128':raw_data_dir+'128_square/dataset_2_smoothing_200k/norm_1_train_val.npy',\n",
    "                 '512':raw_data_dir+'512_square/dataset1_smoothing_single_universe/norm_1_train_val.npy'}"
   ]
  },
  {
   "cell_type": "code",
   "execution_count": 30,
   "metadata": {},
   "outputs": [],
   "source": [
    "# main_dir='/global/cscratch1/sd/vpa/proj/cosmogan/results_dir/128square/scaling_runs/20201031_205304_bsize512_scaling_2_8'"
   ]
  },
  {
   "cell_type": "markdown",
   "metadata": {},
   "source": [
    "## Extract metrics info from log file"
   ]
  },
  {
   "cell_type": "code",
   "execution_count": 31,
   "metadata": {},
   "outputs": [],
   "source": [
    "def f_extract_info(fname):\n",
    "    '''\n",
    "    Module to extract information from out.log files of Lbann training\n",
    "    Reads in file name\n",
    "    '''\n",
    "    strg_lst=['objective','d_real','d_fake','gen','spec_loss','run time','mini-batch']\n",
    "    keys=['training_'+strg for strg in strg_lst]\n",
    "    dict1={}\n",
    "    for category in ['training','validation']:\n",
    "        for strg in strg_lst:\n",
    "            try: \n",
    "                key=category+'_'+strg\n",
    "                cmd='grep \"{0}\" {1} | grep \"{2}\"'.format(category,fname,strg)\n",
    "        #         print(cmd)\n",
    "                op1=sp.check_output(cmd,shell=True).decode('utf-8').split('\\n')\n",
    "                obj=np.array([strg.split(':')[-1] for strg in op1 if strg])\n",
    "                dict1[key]=obj\n",
    "            except Exception as e:\n",
    "                print(e)\n",
    "                dict1[key]=np.nan\n",
    "    \n",
    "    df=pd.DataFrame([])\n",
    "    key_lst=['training_objective', 'training_d_real', 'training_d_fake', 'training_gen', 'training_spec_loss','validation_objective', 'validation_d_real', 'validation_d_fake', 'validation_gen','validation_spec_loss']\n",
    "    col_list=['train_obj','train_dreal','train_dfake','train_gen','train_spec','val_obj','val_dreal','val_dfake','val_gen','val_spec']\n",
    "    for col,key in zip(col_list,key_lst):\n",
    "        try: \n",
    "            df[col]=dict1[key].astype(np.float)\n",
    "        except: pass\n",
    "\n",
    "    ### Need to remove the trailing 's' in the timings\n",
    "    for col,key in zip(['train_time','val_time'],['training_run time','validation_run time']):\n",
    "        df[col]=np.array([i[:-1] for i in dict1[key]]).astype(np.float)\n",
    "\n",
    "    for col,key in zip(['train_batch_stats','val_batch_stats'],['training_mini-batch','validation_mini-batch']):\n",
    "        df[col]=dict1[key]\n",
    "        \n",
    "    return df\n",
    "\n",
    "def f_plot_metrics(df,col_list=['train_obj']):\n",
    "    '''\n",
    "    Plot multiple columns of the dataframe\n",
    "    '''\n",
    "    plt.figure()\n",
    "    \n",
    "    marker_lst=('o','*','H','D','.','x')\n",
    "    marker=itertools.cycle(marker_lst)\n",
    "    for col in col_list: plt.plot(df[col],linestyle='',marker=next(marker),label=col)\n",
    "    plt.legend()\n",
    "    plt.xlabel('Epoch')\n",
    "    "
   ]
  },
  {
   "cell_type": "code",
   "execution_count": 32,
   "metadata": {},
   "outputs": [],
   "source": [
    "strg=main_dir+'/out.log'\n",
    "df_metrics=f_extract_info(glob.glob(strg)[0])"
   ]
  },
  {
   "cell_type": "code",
   "execution_count": 33,
   "metadata": {},
   "outputs": [
    {
     "data": {
      "text/html": [
       "<div>\n",
       "<style scoped>\n",
       "    .dataframe tbody tr th:only-of-type {\n",
       "        vertical-align: middle;\n",
       "    }\n",
       "\n",
       "    .dataframe tbody tr th {\n",
       "        vertical-align: top;\n",
       "    }\n",
       "\n",
       "    .dataframe thead th {\n",
       "        text-align: right;\n",
       "    }\n",
       "</style>\n",
       "<table border=\"1\" class=\"dataframe\">\n",
       "  <thead>\n",
       "    <tr style=\"text-align: right;\">\n",
       "      <th></th>\n",
       "      <th>train_obj</th>\n",
       "      <th>train_dreal</th>\n",
       "      <th>train_dfake</th>\n",
       "      <th>train_gen</th>\n",
       "      <th>train_spec</th>\n",
       "      <th>val_obj</th>\n",
       "      <th>val_dreal</th>\n",
       "      <th>val_dfake</th>\n",
       "      <th>val_gen</th>\n",
       "      <th>val_spec</th>\n",
       "      <th>train_time</th>\n",
       "      <th>val_time</th>\n",
       "      <th>train_batch_stats</th>\n",
       "      <th>val_batch_stats</th>\n",
       "    </tr>\n",
       "  </thead>\n",
       "  <tbody>\n",
       "    <tr>\n",
       "      <th>0</th>\n",
       "      <td>15.70320</td>\n",
       "      <td>1.219360</td>\n",
       "      <td>1.275580</td>\n",
       "      <td>11.89480</td>\n",
       "      <td>13.1346</td>\n",
       "      <td>9.72420</td>\n",
       "      <td>2.616520</td>\n",
       "      <td>0.124483</td>\n",
       "      <td>5.805400</td>\n",
       "      <td>11.7781</td>\n",
       "      <td>419.047</td>\n",
       "      <td>5.82597</td>\n",
       "      <td>0.476522s mean, 9.02995s max, 0.0266426s min,...</td>\n",
       "      <td>0.0594051s mean, 0.500174s max, 0.0212752s mi...</td>\n",
       "    </tr>\n",
       "    <tr>\n",
       "      <th>1</th>\n",
       "      <td>6.16578</td>\n",
       "      <td>0.495612</td>\n",
       "      <td>0.483422</td>\n",
       "      <td>4.01696</td>\n",
       "      <td>11.6979</td>\n",
       "      <td>30.56000</td>\n",
       "      <td>11.834300</td>\n",
       "      <td>0.180882</td>\n",
       "      <td>17.390200</td>\n",
       "      <td>11.5463</td>\n",
       "      <td>399.467</td>\n",
       "      <td>7.62367</td>\n",
       "      <td>0.454238s mean, 6.55073s max, 0.0262884s min,...</td>\n",
       "      <td>0.0777488s mean, 1.6343s max, 0.0164776s min,...</td>\n",
       "    </tr>\n",
       "    <tr>\n",
       "      <th>2</th>\n",
       "      <td>5.98767</td>\n",
       "      <td>0.352452</td>\n",
       "      <td>0.325682</td>\n",
       "      <td>4.14563</td>\n",
       "      <td>11.6391</td>\n",
       "      <td>4.48296</td>\n",
       "      <td>0.069835</td>\n",
       "      <td>2.882260</td>\n",
       "      <td>0.372353</td>\n",
       "      <td>11.5852</td>\n",
       "      <td>392.013</td>\n",
       "      <td>5.70072</td>\n",
       "      <td>0.445768s mean, 6.92787s max, 0.0262816s min,...</td>\n",
       "      <td>0.0581269s mean, 0.429303s max, 0.0163983s mi...</td>\n",
       "    </tr>\n",
       "    <tr>\n",
       "      <th>3</th>\n",
       "      <td>5.45568</td>\n",
       "      <td>0.371758</td>\n",
       "      <td>0.362550</td>\n",
       "      <td>3.56512</td>\n",
       "      <td>11.5625</td>\n",
       "      <td>3.23870</td>\n",
       "      <td>0.083976</td>\n",
       "      <td>1.568680</td>\n",
       "      <td>0.428946</td>\n",
       "      <td>11.5710</td>\n",
       "      <td>413.820</td>\n",
       "      <td>5.27831</td>\n",
       "      <td>0.470575s mean, 7.37449s max, 0.0286093s min,...</td>\n",
       "      <td>0.0538159s mean, 0.531878s max, 0.0161677s mi...</td>\n",
       "    </tr>\n",
       "    <tr>\n",
       "      <th>4</th>\n",
       "      <td>4.75274</td>\n",
       "      <td>0.422011</td>\n",
       "      <td>0.418764</td>\n",
       "      <td>2.75837</td>\n",
       "      <td>11.5359</td>\n",
       "      <td>4.33674</td>\n",
       "      <td>0.069739</td>\n",
       "      <td>2.945630</td>\n",
       "      <td>0.174320</td>\n",
       "      <td>11.4705</td>\n",
       "      <td>432.904</td>\n",
       "      <td>5.38392</td>\n",
       "      <td>0.492289s mean, 7.94243s max, 0.034194s min, ...</td>\n",
       "      <td>0.054895s mean, 0.421384s max, 0.015976s min,...</td>\n",
       "    </tr>\n",
       "  </tbody>\n",
       "</table>\n",
       "</div>"
      ],
      "text/plain": [
       "   train_obj  train_dreal  train_dfake  train_gen  train_spec   val_obj  \\\n",
       "0   15.70320     1.219360     1.275580   11.89480     13.1346   9.72420   \n",
       "1    6.16578     0.495612     0.483422    4.01696     11.6979  30.56000   \n",
       "2    5.98767     0.352452     0.325682    4.14563     11.6391   4.48296   \n",
       "3    5.45568     0.371758     0.362550    3.56512     11.5625   3.23870   \n",
       "4    4.75274     0.422011     0.418764    2.75837     11.5359   4.33674   \n",
       "\n",
       "   val_dreal  val_dfake    val_gen  val_spec  train_time  val_time  \\\n",
       "0   2.616520   0.124483   5.805400   11.7781     419.047   5.82597   \n",
       "1  11.834300   0.180882  17.390200   11.5463     399.467   7.62367   \n",
       "2   0.069835   2.882260   0.372353   11.5852     392.013   5.70072   \n",
       "3   0.083976   1.568680   0.428946   11.5710     413.820   5.27831   \n",
       "4   0.069739   2.945630   0.174320   11.4705     432.904   5.38392   \n",
       "\n",
       "                                   train_batch_stats  \\\n",
       "0   0.476522s mean, 9.02995s max, 0.0266426s min,...   \n",
       "1   0.454238s mean, 6.55073s max, 0.0262884s min,...   \n",
       "2   0.445768s mean, 6.92787s max, 0.0262816s min,...   \n",
       "3   0.470575s mean, 7.37449s max, 0.0286093s min,...   \n",
       "4   0.492289s mean, 7.94243s max, 0.034194s min, ...   \n",
       "\n",
       "                                     val_batch_stats  \n",
       "0   0.0594051s mean, 0.500174s max, 0.0212752s mi...  \n",
       "1   0.0777488s mean, 1.6343s max, 0.0164776s min,...  \n",
       "2   0.0581269s mean, 0.429303s max, 0.0163983s mi...  \n",
       "3   0.0538159s mean, 0.531878s max, 0.0161677s mi...  \n",
       "4   0.054895s mean, 0.421384s max, 0.015976s min,...  "
      ]
     },
     "execution_count": 33,
     "metadata": {},
     "output_type": "execute_result"
    }
   ],
   "source": [
    "df_metrics.head()"
   ]
  },
  {
   "cell_type": "code",
   "execution_count": 34,
   "metadata": {},
   "outputs": [
    {
     "data": {
      "application/vnd.jupyter.widget-view+json": {
       "model_id": "47d8bed0c89249e1add810470a148149",
       "version_major": 2,
       "version_minor": 0
      },
      "text/plain": [
       "interactive(children=(SelectMultiple(description='col_list', options=('train_obj', 'train_dreal', 'train_dfake…"
      ]
     },
     "metadata": {},
     "output_type": "display_data"
    },
    {
     "data": {
      "text/plain": [
       "<function __main__.f_plot_metrics(df, col_list=['train_obj'])>"
      ]
     },
     "execution_count": 34,
     "metadata": {},
     "output_type": "execute_result"
    }
   ],
   "source": [
    "col_list=df_metrics.columns[~df_metrics.columns.str.endswith('stats')]\n",
    "interact_manual(f_plot_metrics,col_list=SelectMultiple(options=col_list),df=fixed(df_metrics))\n"
   ]
  },
  {
   "cell_type": "markdown",
   "metadata": {},
   "source": [
    "## Extract data from stored dataframe"
   ]
  },
  {
   "cell_type": "code",
   "execution_count": 35,
   "metadata": {},
   "outputs": [],
   "source": [
    "### Load data\n",
    "df=pd.read_pickle(main_dir+'/df_processed.pkle')\n",
    "df[['epoch','step']]=df[['epoch','step']].astype(int)\n",
    "df['label']=df.epoch.astype(str)+'-'+df.step.astype(str) # Add label column for plotting\n",
    "\n",
    "col_list=['label','chi_1','chi_spec1', 'chi_spec3', 'chi_1a', 'chi_1b', 'chi_1c', 'chi_2','chi_imgvar', 'chi_spec2','epoch','step']\n"
   ]
  },
  {
   "cell_type": "code",
   "execution_count": 36,
   "metadata": {},
   "outputs": [
    {
     "name": "stdout",
     "output_type": "stream",
     "text": [
      "(1758, 22)\n"
     ]
    },
    {
     "data": {
      "text/html": [
       "<div>\n",
       "<style scoped>\n",
       "    .dataframe tbody tr th:only-of-type {\n",
       "        vertical-align: middle;\n",
       "    }\n",
       "\n",
       "    .dataframe tbody tr th {\n",
       "        vertical-align: top;\n",
       "    }\n",
       "\n",
       "    .dataframe thead th {\n",
       "        text-align: right;\n",
       "    }\n",
       "</style>\n",
       "<table border=\"1\" class=\"dataframe\">\n",
       "  <thead>\n",
       "    <tr style=\"text-align: right;\">\n",
       "      <th></th>\n",
       "      <th>epoch</th>\n",
       "      <th>step</th>\n",
       "      <th>img_type</th>\n",
       "      <th>fname</th>\n",
       "      <th>chi_1a</th>\n",
       "      <th>chi_1b</th>\n",
       "      <th>chi_1c</th>\n",
       "      <th>chi_1</th>\n",
       "      <th>chi_2</th>\n",
       "      <th>chi_imgvar</th>\n",
       "      <th>...</th>\n",
       "      <th>chi_spec3</th>\n",
       "      <th>num_imgs</th>\n",
       "      <th>num_large</th>\n",
       "      <th>num_vlarge</th>\n",
       "      <th>hist_val</th>\n",
       "      <th>hist_err</th>\n",
       "      <th>hist_bin_centers</th>\n",
       "      <th>spec_val</th>\n",
       "      <th>spec_sdev</th>\n",
       "      <th>label</th>\n",
       "    </tr>\n",
       "  </thead>\n",
       "  <tbody>\n",
       "    <tr>\n",
       "      <th>1753</th>\n",
       "      <td>19</td>\n",
       "      <td>17530</td>\n",
       "      <td>train_gen</td>\n",
       "      <td>/global/cscratch1/sd/vpa/proj/cosmogan/results...</td>\n",
       "      <td>0.012314</td>\n",
       "      <td>0.003623</td>\n",
       "      <td>0.064946</td>\n",
       "      <td>0.080883</td>\n",
       "      <td>0.009492</td>\n",
       "      <td>7.234464</td>\n",
       "      <td>...</td>\n",
       "      <td>27.924074</td>\n",
       "      <td>256</td>\n",
       "      <td>6</td>\n",
       "      <td>0</td>\n",
       "      <td>[1.0324120250151863, 0.4833778653314031, 0.047...</td>\n",
       "      <td>[0.0061994722428055015, 0.002886563777617123, ...</td>\n",
       "      <td>[-1.031746031584782, -0.3099415213241682, 0.30...</td>\n",
       "      <td>[86054.84338229336, 58904.55309350601, 40782.5...</td>\n",
       "      <td>[51522.429441339336, 26735.41809674116, 14631....</td>\n",
       "      <td>19-17530</td>\n",
       "    </tr>\n",
       "    <tr>\n",
       "      <th>1754</th>\n",
       "      <td>19</td>\n",
       "      <td>17540</td>\n",
       "      <td>train_gen</td>\n",
       "      <td>/global/cscratch1/sd/vpa/proj/cosmogan/results...</td>\n",
       "      <td>0.015703</td>\n",
       "      <td>0.019646</td>\n",
       "      <td>0.018856</td>\n",
       "      <td>0.054204</td>\n",
       "      <td>0.002606</td>\n",
       "      <td>5.655101</td>\n",
       "      <td>...</td>\n",
       "      <td>28.438981</td>\n",
       "      <td>256</td>\n",
       "      <td>4</td>\n",
       "      <td>0</td>\n",
       "      <td>[1.078009645441199, 0.46300683653468133, 0.040...</td>\n",
       "      <td>[0.005345835552838916, 0.0024995417832572634, ...</td>\n",
       "      <td>[-1.031746031584782, -0.3099415213241682, 0.30...</td>\n",
       "      <td>[68567.71611077792, 49736.280925710125, 34590....</td>\n",
       "      <td>[42832.1456446733, 23094.90884673777, 13859.98...</td>\n",
       "      <td>19-17540</td>\n",
       "    </tr>\n",
       "    <tr>\n",
       "      <th>1755</th>\n",
       "      <td>19</td>\n",
       "      <td>17550</td>\n",
       "      <td>train_gen</td>\n",
       "      <td>/global/cscratch1/sd/vpa/proj/cosmogan/results...</td>\n",
       "      <td>0.098205</td>\n",
       "      <td>0.034606</td>\n",
       "      <td>0.001630</td>\n",
       "      <td>0.134441</td>\n",
       "      <td>0.066222</td>\n",
       "      <td>4.942041</td>\n",
       "      <td>...</td>\n",
       "      <td>26.836938</td>\n",
       "      <td>256</td>\n",
       "      <td>2</td>\n",
       "      <td>0</td>\n",
       "      <td>[0.8939091884305197, 0.5619064409914444, 0.044...</td>\n",
       "      <td>[0.0050044978948510874, 0.00229512806880783, 0...</td>\n",
       "      <td>[-1.031746031584782, -0.3099415213241682, 0.30...</td>\n",
       "      <td>[75560.26050882507, 53452.91650881411, 39056.3...</td>\n",
       "      <td>[43394.08534986266, 23170.520471767315, 15346....</td>\n",
       "      <td>19-17550</td>\n",
       "    </tr>\n",
       "    <tr>\n",
       "      <th>1756</th>\n",
       "      <td>19</td>\n",
       "      <td>17560</td>\n",
       "      <td>train_gen</td>\n",
       "      <td>/global/cscratch1/sd/vpa/proj/cosmogan/results...</td>\n",
       "      <td>0.042530</td>\n",
       "      <td>0.030196</td>\n",
       "      <td>0.020480</td>\n",
       "      <td>0.093207</td>\n",
       "      <td>0.021573</td>\n",
       "      <td>5.434245</td>\n",
       "      <td>...</td>\n",
       "      <td>31.128085</td>\n",
       "      <td>256</td>\n",
       "      <td>3</td>\n",
       "      <td>0</td>\n",
       "      <td>[0.9920302282529874, 0.5097364161387988, 0.041...</td>\n",
       "      <td>[0.005039394229785307, 0.002341409166684236, 0...</td>\n",
       "      <td>[-1.031746031584782, -0.3099415213241682, 0.30...</td>\n",
       "      <td>[63710.87812915363, 46878.58477273731, 34701.4...</td>\n",
       "      <td>[34604.56291157187, 20053.32546088902, 13774.6...</td>\n",
       "      <td>19-17560</td>\n",
       "    </tr>\n",
       "    <tr>\n",
       "      <th>1757</th>\n",
       "      <td>19</td>\n",
       "      <td>17570</td>\n",
       "      <td>train_gen</td>\n",
       "      <td>/global/cscratch1/sd/vpa/proj/cosmogan/results...</td>\n",
       "      <td>0.042433</td>\n",
       "      <td>0.042363</td>\n",
       "      <td>0.001921</td>\n",
       "      <td>0.086718</td>\n",
       "      <td>0.011488</td>\n",
       "      <td>4.413333</td>\n",
       "      <td>...</td>\n",
       "      <td>32.528637</td>\n",
       "      <td>256</td>\n",
       "      <td>0</td>\n",
       "      <td>0</td>\n",
       "      <td>[1.029681603286208, 0.4913095865480288, 0.0380...</td>\n",
       "      <td>[0.004374303473791922, 0.0020661710993399823, ...</td>\n",
       "      <td>[-1.031746031584782, -0.3099415213241682, 0.30...</td>\n",
       "      <td>[59203.955795026384, 44448.797060642035, 32287...</td>\n",
       "      <td>[27651.378560401874, 17199.38868901689, 11489....</td>\n",
       "      <td>19-17570</td>\n",
       "    </tr>\n",
       "  </tbody>\n",
       "</table>\n",
       "<p>5 rows × 22 columns</p>\n",
       "</div>"
      ],
      "text/plain": [
       "      epoch   step   img_type  \\\n",
       "1753     19  17530  train_gen   \n",
       "1754     19  17540  train_gen   \n",
       "1755     19  17550  train_gen   \n",
       "1756     19  17560  train_gen   \n",
       "1757     19  17570  train_gen   \n",
       "\n",
       "                                                  fname    chi_1a    chi_1b  \\\n",
       "1753  /global/cscratch1/sd/vpa/proj/cosmogan/results...  0.012314  0.003623   \n",
       "1754  /global/cscratch1/sd/vpa/proj/cosmogan/results...  0.015703  0.019646   \n",
       "1755  /global/cscratch1/sd/vpa/proj/cosmogan/results...  0.098205  0.034606   \n",
       "1756  /global/cscratch1/sd/vpa/proj/cosmogan/results...  0.042530  0.030196   \n",
       "1757  /global/cscratch1/sd/vpa/proj/cosmogan/results...  0.042433  0.042363   \n",
       "\n",
       "        chi_1c     chi_1     chi_2  chi_imgvar  ...  chi_spec3  num_imgs  \\\n",
       "1753  0.064946  0.080883  0.009492    7.234464  ...  27.924074       256   \n",
       "1754  0.018856  0.054204  0.002606    5.655101  ...  28.438981       256   \n",
       "1755  0.001630  0.134441  0.066222    4.942041  ...  26.836938       256   \n",
       "1756  0.020480  0.093207  0.021573    5.434245  ...  31.128085       256   \n",
       "1757  0.001921  0.086718  0.011488    4.413333  ...  32.528637       256   \n",
       "\n",
       "      num_large  num_vlarge  \\\n",
       "1753          6           0   \n",
       "1754          4           0   \n",
       "1755          2           0   \n",
       "1756          3           0   \n",
       "1757          0           0   \n",
       "\n",
       "                                               hist_val  \\\n",
       "1753  [1.0324120250151863, 0.4833778653314031, 0.047...   \n",
       "1754  [1.078009645441199, 0.46300683653468133, 0.040...   \n",
       "1755  [0.8939091884305197, 0.5619064409914444, 0.044...   \n",
       "1756  [0.9920302282529874, 0.5097364161387988, 0.041...   \n",
       "1757  [1.029681603286208, 0.4913095865480288, 0.0380...   \n",
       "\n",
       "                                               hist_err  \\\n",
       "1753  [0.0061994722428055015, 0.002886563777617123, ...   \n",
       "1754  [0.005345835552838916, 0.0024995417832572634, ...   \n",
       "1755  [0.0050044978948510874, 0.00229512806880783, 0...   \n",
       "1756  [0.005039394229785307, 0.002341409166684236, 0...   \n",
       "1757  [0.004374303473791922, 0.0020661710993399823, ...   \n",
       "\n",
       "                                       hist_bin_centers  \\\n",
       "1753  [-1.031746031584782, -0.3099415213241682, 0.30...   \n",
       "1754  [-1.031746031584782, -0.3099415213241682, 0.30...   \n",
       "1755  [-1.031746031584782, -0.3099415213241682, 0.30...   \n",
       "1756  [-1.031746031584782, -0.3099415213241682, 0.30...   \n",
       "1757  [-1.031746031584782, -0.3099415213241682, 0.30...   \n",
       "\n",
       "                                               spec_val  \\\n",
       "1753  [86054.84338229336, 58904.55309350601, 40782.5...   \n",
       "1754  [68567.71611077792, 49736.280925710125, 34590....   \n",
       "1755  [75560.26050882507, 53452.91650881411, 39056.3...   \n",
       "1756  [63710.87812915363, 46878.58477273731, 34701.4...   \n",
       "1757  [59203.955795026384, 44448.797060642035, 32287...   \n",
       "\n",
       "                                              spec_sdev     label  \n",
       "1753  [51522.429441339336, 26735.41809674116, 14631....  19-17530  \n",
       "1754  [42832.1456446733, 23094.90884673777, 13859.98...  19-17540  \n",
       "1755  [43394.08534986266, 23170.520471767315, 15346....  19-17550  \n",
       "1756  [34604.56291157187, 20053.32546088902, 13774.6...  19-17560  \n",
       "1757  [27651.378560401874, 17199.38868901689, 11489....  19-17570  \n",
       "\n",
       "[5 rows x 22 columns]"
      ]
     },
     "execution_count": 36,
     "metadata": {},
     "output_type": "execute_result"
    }
   ],
   "source": [
    "print(df.shape)\n",
    "df.tail()\n"
   ]
  },
  {
   "cell_type": "code",
   "execution_count": 37,
   "metadata": {},
   "outputs": [
    {
     "data": {
      "text/plain": [
       "Index(['epoch', 'step', 'img_type', 'fname', 'chi_1a', 'chi_1b', 'chi_1c',\n",
       "       'chi_1', 'chi_2', 'chi_imgvar', 'chi_spec1', 'chi_spec2', 'chi_spec3',\n",
       "       'num_imgs', 'num_large', 'num_vlarge', 'hist_val', 'hist_err',\n",
       "       'hist_bin_centers', 'spec_val', 'spec_sdev', 'label'],\n",
       "      dtype='object')"
      ]
     },
     "execution_count": 37,
     "metadata": {},
     "output_type": "execute_result"
    }
   ],
   "source": [
    "df.columns"
   ]
  },
  {
   "cell_type": "markdown",
   "metadata": {},
   "source": [
    "### View best epochs"
   ]
  },
  {
   "cell_type": "markdown",
   "metadata": {},
   "source": [
    "#### Locations with best chi_sqr"
   ]
  },
  {
   "cell_type": "code",
   "execution_count": 38,
   "metadata": {},
   "outputs": [
    {
     "data": {
      "text/html": [
       "<div>\n",
       "<style scoped>\n",
       "    .dataframe tbody tr th:only-of-type {\n",
       "        vertical-align: middle;\n",
       "    }\n",
       "\n",
       "    .dataframe tbody tr th {\n",
       "        vertical-align: top;\n",
       "    }\n",
       "\n",
       "    .dataframe thead th {\n",
       "        text-align: right;\n",
       "    }\n",
       "</style>\n",
       "<table border=\"1\" class=\"dataframe\">\n",
       "  <thead>\n",
       "    <tr style=\"text-align: right;\">\n",
       "      <th></th>\n",
       "      <th>epoch</th>\n",
       "      <th>step</th>\n",
       "      <th>chi_1a</th>\n",
       "      <th>chi_1b</th>\n",
       "      <th>chi_1c</th>\n",
       "      <th>chi_1</th>\n",
       "      <th>chi_2</th>\n",
       "      <th>chi_imgvar</th>\n",
       "      <th>chi_spec1</th>\n",
       "      <th>chi_spec2</th>\n",
       "    </tr>\n",
       "  </thead>\n",
       "  <tbody>\n",
       "    <tr>\n",
       "      <th>1414</th>\n",
       "      <td>16</td>\n",
       "      <td>14140</td>\n",
       "      <td>0.000267</td>\n",
       "      <td>0.002252</td>\n",
       "      <td>0.069976</td>\n",
       "      <td>0.072495</td>\n",
       "      <td>0.000030</td>\n",
       "      <td>6.270127</td>\n",
       "      <td>0.842327</td>\n",
       "      <td>6.543771e+01</td>\n",
       "    </tr>\n",
       "    <tr>\n",
       "      <th>957</th>\n",
       "      <td>10</td>\n",
       "      <td>9570</td>\n",
       "      <td>0.001671</td>\n",
       "      <td>0.000481</td>\n",
       "      <td>0.042050</td>\n",
       "      <td>0.044202</td>\n",
       "      <td>0.000103</td>\n",
       "      <td>6.278294</td>\n",
       "      <td>0.348262</td>\n",
       "      <td>3.151294e+01</td>\n",
       "    </tr>\n",
       "    <tr>\n",
       "      <th>1548</th>\n",
       "      <td>17</td>\n",
       "      <td>15480</td>\n",
       "      <td>0.015591</td>\n",
       "      <td>0.020328</td>\n",
       "      <td>0.000484</td>\n",
       "      <td>0.036403</td>\n",
       "      <td>0.007812</td>\n",
       "      <td>5.272540</td>\n",
       "      <td>1.212303</td>\n",
       "      <td>8.300044e+01</td>\n",
       "    </tr>\n",
       "    <tr>\n",
       "      <th>1224</th>\n",
       "      <td>13</td>\n",
       "      <td>12240</td>\n",
       "      <td>0.001359</td>\n",
       "      <td>0.008560</td>\n",
       "      <td>0.000710</td>\n",
       "      <td>0.010629</td>\n",
       "      <td>0.000116</td>\n",
       "      <td>5.931152</td>\n",
       "      <td>0.574117</td>\n",
       "      <td>5.160315e+01</td>\n",
       "    </tr>\n",
       "    <tr>\n",
       "      <th>1414</th>\n",
       "      <td>16</td>\n",
       "      <td>14140</td>\n",
       "      <td>0.000267</td>\n",
       "      <td>0.002252</td>\n",
       "      <td>0.069976</td>\n",
       "      <td>0.072495</td>\n",
       "      <td>0.000030</td>\n",
       "      <td>6.270127</td>\n",
       "      <td>0.842327</td>\n",
       "      <td>6.543771e+01</td>\n",
       "    </tr>\n",
       "    <tr>\n",
       "      <th>3</th>\n",
       "      <td>0</td>\n",
       "      <td>30</td>\n",
       "      <td>1.138960</td>\n",
       "      <td>0.108666</td>\n",
       "      <td>0.003864</td>\n",
       "      <td>1.251490</td>\n",
       "      <td>0.794701</td>\n",
       "      <td>0.072941</td>\n",
       "      <td>39318.138066</td>\n",
       "      <td>8.939555e+07</td>\n",
       "    </tr>\n",
       "    <tr>\n",
       "      <th>1332</th>\n",
       "      <td>15</td>\n",
       "      <td>13320</td>\n",
       "      <td>0.009182</td>\n",
       "      <td>0.009819</td>\n",
       "      <td>0.044881</td>\n",
       "      <td>0.063882</td>\n",
       "      <td>0.004912</td>\n",
       "      <td>5.616035</td>\n",
       "      <td>0.264044</td>\n",
       "      <td>2.362047e+01</td>\n",
       "    </tr>\n",
       "    <tr>\n",
       "      <th>1475</th>\n",
       "      <td>16</td>\n",
       "      <td>14750</td>\n",
       "      <td>0.001227</td>\n",
       "      <td>0.006010</td>\n",
       "      <td>0.064428</td>\n",
       "      <td>0.071665</td>\n",
       "      <td>0.000102</td>\n",
       "      <td>6.712430</td>\n",
       "      <td>0.385929</td>\n",
       "      <td>1.758401e+01</td>\n",
       "    </tr>\n",
       "  </tbody>\n",
       "</table>\n",
       "</div>"
      ],
      "text/plain": [
       "      epoch   step    chi_1a    chi_1b    chi_1c     chi_1     chi_2  \\\n",
       "1414     16  14140  0.000267  0.002252  0.069976  0.072495  0.000030   \n",
       "957      10   9570  0.001671  0.000481  0.042050  0.044202  0.000103   \n",
       "1548     17  15480  0.015591  0.020328  0.000484  0.036403  0.007812   \n",
       "1224     13  12240  0.001359  0.008560  0.000710  0.010629  0.000116   \n",
       "1414     16  14140  0.000267  0.002252  0.069976  0.072495  0.000030   \n",
       "3         0     30  1.138960  0.108666  0.003864  1.251490  0.794701   \n",
       "1332     15  13320  0.009182  0.009819  0.044881  0.063882  0.004912   \n",
       "1475     16  14750  0.001227  0.006010  0.064428  0.071665  0.000102   \n",
       "\n",
       "      chi_imgvar     chi_spec1     chi_spec2  \n",
       "1414    6.270127      0.842327  6.543771e+01  \n",
       "957     6.278294      0.348262  3.151294e+01  \n",
       "1548    5.272540      1.212303  8.300044e+01  \n",
       "1224    5.931152      0.574117  5.160315e+01  \n",
       "1414    6.270127      0.842327  6.543771e+01  \n",
       "3       0.072941  39318.138066  8.939555e+07  \n",
       "1332    5.616035      0.264044  2.362047e+01  \n",
       "1475    6.712430      0.385929  1.758401e+01  "
      ]
     },
     "execution_count": 38,
     "metadata": {},
     "output_type": "execute_result"
    }
   ],
   "source": [
    "def f_get_best_chisqr_models(df,cutoff=0.2):\n",
    "    '''\n",
    "    Pick models with lowest 20% chi-square for multiple categories\n",
    "    '''\n",
    "    chi_sqr_keys=[ 'chi_1', 'chi_spec1']\n",
    "    q_dict=dict(df.quantile(q=cutoff,axis=0)[chi_sqr_keys])\n",
    "#     print(q_dict)\n",
    "    \n",
    "    df_sliced=df.query('chi_1 < {0} & chi_spec1 < {1}'.format(q_dict['chi_1'],q_dict['chi_spec1']))\n",
    "    \n",
    "    return df_sliced\n",
    "\n",
    "chi_sqr_keys=['epoch','step','chi_1a','chi_1b','chi_1c','chi_1','chi_2','chi_imgvar','chi_spec1','chi_spec2']\n",
    "# index location of min/max values of chi squares\n",
    "inds=[]\n",
    "for key in ['chi_1a','chi_1b','chi_1c','chi_1','chi_2','chi_imgvar','chi_spec1','chi_spec2']:\n",
    "    inds.append(df[key].idxmin(axis=1))\n",
    "inds=np.array(inds)\n",
    "df.loc[inds][chi_sqr_keys]\n"
   ]
  },
  {
   "cell_type": "code",
   "execution_count": 39,
   "metadata": {},
   "outputs": [],
   "source": [
    "### Plot chi-sqr values\n",
    "# _=df_sliced.plot(x=\"step\", y=[\"chi_1\", \"chi_imgvar\", \"chi_spec1\"],style='.',marker='*')"
   ]
  },
  {
   "cell_type": "code",
   "execution_count": 40,
   "metadata": {},
   "outputs": [
    {
     "data": {
      "application/vnd.jupyter.widget-view+json": {
       "model_id": "1bd2b7e097174df8ab36a0c1bf07e88f",
       "version_major": 2,
       "version_minor": 0
      },
      "text/plain": [
       "Canvas(toolbar=Toolbar(toolitems=[('Home', 'Reset original view', 'home', 'home'), ('Back', 'Back to previous …"
      ]
     },
     "metadata": {},
     "output_type": "display_data"
    },
    {
     "data": {
      "text/plain": [
       "Text(0, 0.5, 'Number of very large pixel images from a batch of images')"
      ]
     },
     "execution_count": 40,
     "metadata": {},
     "output_type": "execute_result"
    }
   ],
   "source": [
    "### Plot number of very high pixel images\n",
    "plt.figure()\n",
    "plt.plot(df[df.img_type=='train_gen'].step,df[df.img_type=='train_gen'].num_vlarge,linestyle='',marker='*')\n",
    "plt.xlabel('Steps in Epochs')\n",
    "plt.ylabel('Number of very large pixel images from a batch of images')\n",
    "\n",
    "# df[df.num_vlarge>10].tail()"
   ]
  },
  {
   "cell_type": "markdown",
   "metadata": {},
   "source": [
    "### View best steps"
   ]
  },
  {
   "cell_type": "code",
   "execution_count": 41,
   "metadata": {},
   "outputs": [],
   "source": [
    "def f_slice_df(df,cutoff=0.2,sort_col='chi_1',col_mode='all',head=10,epoch_range=[0,None],display_flag=False):\n",
    "    ''' View dataframe after slicing\n",
    "    '''\n",
    "    col_list=['label','chi_1','chi_spec1', 'chi_spec3', 'chi_1a', 'chi_1b', 'chi_1c', 'chi_2','chi_imgvar', 'chi_spec2','epoch','step']\n",
    "    if (col_mode=='short'): col_list=['label','chi_1','chi_spec1']\n",
    "        \n",
    "    print(epoch_range)\n",
    "    if epoch_range[1]==None: epoch_range[1]=df.max()['epoch']\n",
    "    df=df[(df.epoch<=epoch_range[1])&(df.epoch>=epoch_range[0])]\n",
    "\n",
    "    ## Apply cutoff to keep reasonable chi1 and chispec1\n",
    "    best_keys=[ 'chi_1', 'chi_spec1']\n",
    "    q_dict=dict(df.quantile(q=cutoff,axis=0)[best_keys])   \n",
    "    print(q_dict)\n",
    "    df=df.query('chi_1 < {0} & chi_spec1 < {1}'.format(q_dict['chi_1'],q_dict['chi_spec1']))\n",
    "    \n",
    "    # Sort dataframe\n",
    "    df1=df[df.epoch>0].sort_values(by=sort_col)\n",
    "        \n",
    "    df2=df1.head(head)[col_list]\n",
    "\n",
    "    if display_flag:   # Display df\n",
    "        display_cols=['label','chi_1','chi_spec1', 'chi_spec3', 'chi_1a', 'chi_1b', 'chi_1c', 'chi_2','chi_imgvar', 'chi_spec2']\n",
    "        display(df2)\n",
    "    \n",
    "    return df2"
   ]
  },
  {
   "cell_type": "code",
   "execution_count": 42,
   "metadata": {},
   "outputs": [
    {
     "data": {
      "application/vnd.jupyter.widget-view+json": {
       "model_id": "d807efed544d4bc6970685a3c9996000",
       "version_major": 2,
       "version_minor": 0
      },
      "text/plain": [
       "interactive(children=(FloatSlider(value=0.2, description='cutoff', max=1.0, step=0.01), Dropdown(description='…"
      ]
     },
     "metadata": {},
     "output_type": "display_data"
    }
   ],
   "source": [
    "w=interactive(f_slice_df,df=fixed(df),\n",
    "cutoff=widgets.FloatSlider(value=0.2, min=0, max=1.0, step=0.01), \n",
    "col_mode=['all','short'], display_flag=widgets.Checkbox(value=False),\n",
    "head=widgets.IntSlider(value=10,min=1,max=20,step=1),\n",
    "epoch_range=widgets.IntRangeSlider(value=[0,np.max(df.epoch.values)],min=0,max=np.max(df.epoch.values),step=1),\n",
    "sort_col=['chi_1','chi_spec1', 'chi_spec3', 'chi_1a', 'chi_1b', 'chi_1c', 'chi_2','chi_imgvar', 'chi_spec2'],\n",
    ")\n",
    "display(w)"
   ]
  },
  {
   "cell_type": "code",
   "execution_count": 43,
   "metadata": {},
   "outputs": [],
   "source": [
    "df_sliced=w.result\n",
    "# df_sliced"
   ]
  },
  {
   "cell_type": "markdown",
   "metadata": {},
   "source": [
    "### Pick best steps"
   ]
  },
  {
   "cell_type": "code",
   "execution_count": 44,
   "metadata": {},
   "outputs": [
    {
     "name": "stdout",
     "output_type": "stream",
     "text": [
      "[0, None]\n",
      "{'chi_1': 0.04732605457061089, 'chi_spec1': 0.8274391860788071}\n",
      "[0, 19]\n",
      "{'chi_1': 0.1795470502820763, 'chi_spec1': 4.3121110527938376}\n",
      "[0, 19]\n",
      "{'chi_1': 0.04732605457061089, 'chi_spec1': 0.8274391860788071}\n",
      "[ 7200  7730  9400  9570 10950 11040 11810 12240 13390 13540]\n"
     ]
    }
   ],
   "source": [
    "best_step=[]\n",
    "best_step.append(f_slice_df(df,cutoff=0.2,sort_col='chi_1',head=4,display_flag=False).step.values)\n",
    "best_step.append(f_slice_df(df,cutoff=0.8,sort_col='chi_1b',head=2,display_flag=False).step.values)\n",
    "best_step.append(f_slice_df(df,cutoff=0.2,sort_col='chi_spec1',head=4,display_flag=False).step.values)\n",
    "\n",
    "best_step=np.unique([i for j in best_step for i in j])\n",
    "print(best_step)"
   ]
  },
  {
   "cell_type": "code",
   "execution_count": 45,
   "metadata": {},
   "outputs": [],
   "source": [
    "# best_step=[3430,  6460,  7215,  9610, 11725, 14635, 9475]\n",
    "# best_step=np.arange(40130,40135).astype(int)"
   ]
  },
  {
   "cell_type": "code",
   "execution_count": 46,
   "metadata": {},
   "outputs": [
    {
     "name": "stdout",
     "output_type": "stream",
     "text": [
      "(10, 22)\n",
      "[(8, 7200), (8, 7730), (10, 9400), (10, 9570), (12, 10950), (12, 11040), (13, 11810), (13, 12240), (15, 13390), (15, 13540)]\n"
     ]
    }
   ],
   "source": [
    "df_best=df[df.step.isin(best_step)]\n",
    "print(df_best.shape)\n",
    "print([(df_best[df_best.step==step].epoch.values[0],df_best[df_best.step==step].step.values[0]) for step in best_step])\n",
    "# print([(df_best.loc[idx].epoch,df_best.loc[idx].step) for idx in best_idx])"
   ]
  },
  {
   "cell_type": "code",
   "execution_count": 48,
   "metadata": {},
   "outputs": [
    {
     "data": {
      "text/html": [
       "<div>\n",
       "<style scoped>\n",
       "    .dataframe tbody tr th:only-of-type {\n",
       "        vertical-align: middle;\n",
       "    }\n",
       "\n",
       "    .dataframe tbody tr th {\n",
       "        vertical-align: top;\n",
       "    }\n",
       "\n",
       "    .dataframe thead th {\n",
       "        text-align: right;\n",
       "    }\n",
       "</style>\n",
       "<table border=\"1\" class=\"dataframe\">\n",
       "  <thead>\n",
       "    <tr style=\"text-align: right;\">\n",
       "      <th></th>\n",
       "      <th>label</th>\n",
       "      <th>chi_1</th>\n",
       "      <th>chi_spec1</th>\n",
       "      <th>chi_spec3</th>\n",
       "      <th>chi_1a</th>\n",
       "      <th>chi_1b</th>\n",
       "      <th>chi_1c</th>\n",
       "      <th>chi_2</th>\n",
       "      <th>chi_imgvar</th>\n",
       "      <th>chi_spec2</th>\n",
       "      <th>epoch</th>\n",
       "      <th>step</th>\n",
       "    </tr>\n",
       "  </thead>\n",
       "  <tbody>\n",
       "    <tr>\n",
       "      <th>720</th>\n",
       "      <td>8-7200</td>\n",
       "      <td>0.076392</td>\n",
       "      <td>0.543510</td>\n",
       "      <td>29.615042</td>\n",
       "      <td>0.002419</td>\n",
       "      <td>0.000562</td>\n",
       "      <td>0.073411</td>\n",
       "      <td>0.000615</td>\n",
       "      <td>7.276323</td>\n",
       "      <td>58.662930</td>\n",
       "      <td>8</td>\n",
       "      <td>7200</td>\n",
       "    </tr>\n",
       "    <tr>\n",
       "      <th>773</th>\n",
       "      <td>8-7730</td>\n",
       "      <td>0.028670</td>\n",
       "      <td>0.287699</td>\n",
       "      <td>28.817490</td>\n",
       "      <td>0.005814</td>\n",
       "      <td>0.018835</td>\n",
       "      <td>0.004021</td>\n",
       "      <td>0.001581</td>\n",
       "      <td>5.668081</td>\n",
       "      <td>22.756355</td>\n",
       "      <td>8</td>\n",
       "      <td>7730</td>\n",
       "    </tr>\n",
       "    <tr>\n",
       "      <th>940</th>\n",
       "      <td>10-9400</td>\n",
       "      <td>0.012939</td>\n",
       "      <td>0.680204</td>\n",
       "      <td>26.299114</td>\n",
       "      <td>0.002214</td>\n",
       "      <td>0.002509</td>\n",
       "      <td>0.008216</td>\n",
       "      <td>0.000190</td>\n",
       "      <td>5.795412</td>\n",
       "      <td>64.586702</td>\n",
       "      <td>10</td>\n",
       "      <td>9400</td>\n",
       "    </tr>\n",
       "    <tr>\n",
       "      <th>957</th>\n",
       "      <td>10-9570</td>\n",
       "      <td>0.044202</td>\n",
       "      <td>0.348262</td>\n",
       "      <td>28.516661</td>\n",
       "      <td>0.001671</td>\n",
       "      <td>0.000481</td>\n",
       "      <td>0.042050</td>\n",
       "      <td>0.000103</td>\n",
       "      <td>6.278294</td>\n",
       "      <td>31.512938</td>\n",
       "      <td>10</td>\n",
       "      <td>9570</td>\n",
       "    </tr>\n",
       "    <tr>\n",
       "      <th>1095</th>\n",
       "      <td>12-10950</td>\n",
       "      <td>0.011643</td>\n",
       "      <td>0.489623</td>\n",
       "      <td>26.840275</td>\n",
       "      <td>0.002727</td>\n",
       "      <td>0.006557</td>\n",
       "      <td>0.002358</td>\n",
       "      <td>0.000723</td>\n",
       "      <td>5.430217</td>\n",
       "      <td>41.068094</td>\n",
       "      <td>12</td>\n",
       "      <td>10950</td>\n",
       "    </tr>\n",
       "    <tr>\n",
       "      <th>1104</th>\n",
       "      <td>12-11040</td>\n",
       "      <td>0.034542</td>\n",
       "      <td>0.303276</td>\n",
       "      <td>24.486601</td>\n",
       "      <td>0.013615</td>\n",
       "      <td>0.009950</td>\n",
       "      <td>0.010976</td>\n",
       "      <td>0.008824</td>\n",
       "      <td>5.536650</td>\n",
       "      <td>31.562543</td>\n",
       "      <td>12</td>\n",
       "      <td>11040</td>\n",
       "    </tr>\n",
       "    <tr>\n",
       "      <th>1181</th>\n",
       "      <td>13-11810</td>\n",
       "      <td>0.014349</td>\n",
       "      <td>0.692907</td>\n",
       "      <td>24.005744</td>\n",
       "      <td>0.003461</td>\n",
       "      <td>0.007678</td>\n",
       "      <td>0.003210</td>\n",
       "      <td>0.001418</td>\n",
       "      <td>5.445718</td>\n",
       "      <td>69.578829</td>\n",
       "      <td>13</td>\n",
       "      <td>11810</td>\n",
       "    </tr>\n",
       "    <tr>\n",
       "      <th>1224</th>\n",
       "      <td>13-12240</td>\n",
       "      <td>0.010629</td>\n",
       "      <td>0.574117</td>\n",
       "      <td>25.791356</td>\n",
       "      <td>0.001359</td>\n",
       "      <td>0.008560</td>\n",
       "      <td>0.000710</td>\n",
       "      <td>0.000116</td>\n",
       "      <td>5.931152</td>\n",
       "      <td>51.603151</td>\n",
       "      <td>13</td>\n",
       "      <td>12240</td>\n",
       "    </tr>\n",
       "    <tr>\n",
       "      <th>1339</th>\n",
       "      <td>15-13390</td>\n",
       "      <td>0.044513</td>\n",
       "      <td>0.280854</td>\n",
       "      <td>26.753791</td>\n",
       "      <td>0.019133</td>\n",
       "      <td>0.002511</td>\n",
       "      <td>0.022869</td>\n",
       "      <td>0.013029</td>\n",
       "      <td>6.482032</td>\n",
       "      <td>29.028585</td>\n",
       "      <td>15</td>\n",
       "      <td>13390</td>\n",
       "    </tr>\n",
       "    <tr>\n",
       "      <th>1354</th>\n",
       "      <td>15-13540</td>\n",
       "      <td>0.024597</td>\n",
       "      <td>0.306160</td>\n",
       "      <td>29.364236</td>\n",
       "      <td>0.008355</td>\n",
       "      <td>0.006398</td>\n",
       "      <td>0.009844</td>\n",
       "      <td>0.005247</td>\n",
       "      <td>5.876878</td>\n",
       "      <td>26.482876</td>\n",
       "      <td>15</td>\n",
       "      <td>13540</td>\n",
       "    </tr>\n",
       "  </tbody>\n",
       "</table>\n",
       "</div>"
      ],
      "text/plain": [
       "         label     chi_1  chi_spec1  chi_spec3    chi_1a    chi_1b    chi_1c  \\\n",
       "720     8-7200  0.076392   0.543510  29.615042  0.002419  0.000562  0.073411   \n",
       "773     8-7730  0.028670   0.287699  28.817490  0.005814  0.018835  0.004021   \n",
       "940    10-9400  0.012939   0.680204  26.299114  0.002214  0.002509  0.008216   \n",
       "957    10-9570  0.044202   0.348262  28.516661  0.001671  0.000481  0.042050   \n",
       "1095  12-10950  0.011643   0.489623  26.840275  0.002727  0.006557  0.002358   \n",
       "1104  12-11040  0.034542   0.303276  24.486601  0.013615  0.009950  0.010976   \n",
       "1181  13-11810  0.014349   0.692907  24.005744  0.003461  0.007678  0.003210   \n",
       "1224  13-12240  0.010629   0.574117  25.791356  0.001359  0.008560  0.000710   \n",
       "1339  15-13390  0.044513   0.280854  26.753791  0.019133  0.002511  0.022869   \n",
       "1354  15-13540  0.024597   0.306160  29.364236  0.008355  0.006398  0.009844   \n",
       "\n",
       "         chi_2  chi_imgvar  chi_spec2  epoch   step  \n",
       "720   0.000615    7.276323  58.662930      8   7200  \n",
       "773   0.001581    5.668081  22.756355      8   7730  \n",
       "940   0.000190    5.795412  64.586702     10   9400  \n",
       "957   0.000103    6.278294  31.512938     10   9570  \n",
       "1095  0.000723    5.430217  41.068094     12  10950  \n",
       "1104  0.008824    5.536650  31.562543     12  11040  \n",
       "1181  0.001418    5.445718  69.578829     13  11810  \n",
       "1224  0.000116    5.931152  51.603151     13  12240  \n",
       "1339  0.013029    6.482032  29.028585     15  13390  \n",
       "1354  0.005247    5.876878  26.482876     15  13540  "
      ]
     },
     "execution_count": 48,
     "metadata": {},
     "output_type": "execute_result"
    }
   ],
   "source": [
    "df_best[col_list]"
   ]
  },
  {
   "cell_type": "markdown",
   "metadata": {},
   "source": [
    "## Plot pixel intensity and spectrum"
   ]
  },
  {
   "cell_type": "code",
   "execution_count": 49,
   "metadata": {},
   "outputs": [
    {
     "name": "stdout",
     "output_type": "stream",
     "text": [
      "(1000, 128, 128)\n"
     ]
    },
    {
     "name": "stderr",
     "output_type": "stream",
     "text": [
      "/global/u1/v/vpa/project/jpt_notebooks/Cosmology/Cosmo_GAN/repositories/lbann_cosmogan/3_analysis/modules_image_analysis.py:85: VisibleDeprecationWarning: Creating an ndarray from ragged nested sequences (which is a list-or-tuple of lists-or-tuples-or ndarrays with different lengths or shapes) is deprecated. If you meant to do this, you must specify 'dtype=object' when creating the ndarray\n",
      "  hist_arr=np.array([np.histogram(arr.flatten(), bins=bins, range=(llim,ulim), density=norm) for arr in img_arr]) ## range is important\n"
     ]
    }
   ],
   "source": [
    "def f_compute_hist_spect(sample,bins):\n",
    "    ''' Compute pixel intensity histograms and radial spectrum for 2D arrays\n",
    "    Input : Image arrays and bins\n",
    "    Output: dictionary with 5 arrays : Histogram values, errors and bin centers, Spectrum values and errors.\n",
    "    '''\n",
    "    ### Compute pixel histogram for row\n",
    "    gen_hist,gen_err,hist_bins=f_batch_histogram(sample,bins=bins,norm=True,hist_range=None)\n",
    "    ### Compute spectrum for row\n",
    "    spec,spec_sdev=f_compute_spectrum(sample,plot=False)\n",
    "\n",
    "    dict1={'hist_val':gen_hist,'hist_err':gen_err,'hist_bin_centers':hist_bins,'spec_val':spec,'spec_sdev':spec_sdev }\n",
    "    return dict1\n",
    "\n",
    "\n",
    "### Extract validation data\n",
    "num_bkgnd=1000\n",
    "fname=input_files_dict[str(img_size)]\n",
    "s_val=np.load(fname,mmap_mode='r')[:num_bkgnd][:,0,:,:]\n",
    "print(s_val.shape)\n",
    "\n",
    "bins=np.concatenate([np.array([-0.5]),np.arange(0.5,100.5,5),np.arange(100.5,300.5,20),np.arange(300.5,1000.5,50),np.array([2000])]) #bin edges to use\n",
    "bins=f_transform(bins)   ### scale to (-1,1) \n",
    "### Compute histogram and spectrum of raw data \n",
    "dict_val=f_compute_hist_spect(s_val,bins)"
   ]
  },
  {
   "cell_type": "code",
   "execution_count": 50,
   "metadata": {},
   "outputs": [],
   "source": [
    "\n",
    "def f_plot_hist_spec(df,dict_bkg,plot_type):\n",
    "\n",
    "    img_size=128\n",
    "    assert plot_type in ['hist','spec','spec_relative','grid'],\"Invalid mode %s\"%(plot_type)\n",
    "\n",
    "    if plot_type in ['hist','spec','spec_relative']:     fig=plt.figure(figsize=(6,6))\n",
    "\n",
    "    for (i,row),marker in zip(df.iterrows(),itertools.cycle('>^*sDHPdpx_')):\n",
    "        label=row.label\n",
    "        if plot_type=='hist':\n",
    "            x1=row.hist_bin_centers\n",
    "            y1=row.hist_val\n",
    "            yerr1=row.hist_err\n",
    "            x1=f_invtransform(x1)\n",
    "            \n",
    "            plt.errorbar(x1,y1,yerr1,marker=marker,markersize=5,linestyle='',label=label)\n",
    "        if plot_type=='spec':\n",
    "            \n",
    "            y2=row.spec_val\n",
    "            yerr2=row.spec_sdev/np.sqrt(row.num_imgs)\n",
    "            x2=np.arange(len(y2))\n",
    "            \n",
    "            plt.fill_between(x2, y2 - yerr2, y2 + yerr2, alpha=0.4)\n",
    "            plt.plot(x2, y2, marker=marker, linestyle=':',label=label)\n",
    "            \n",
    "        if plot_type=='spec_relative':\n",
    "            \n",
    "            y2=row.spec_val\n",
    "            yerr2=row.spec_sdev\n",
    "            x2=np.arange(len(y2))\n",
    "            \n",
    "            ### Reference spectrum\n",
    "            y1,yerr1=dict_bkg['spec_val'],dict_bkg['spec_sdev']\n",
    "            y=y2/(1.0*y1)\n",
    "            ## Variance is sum of variance of both variables, since they are uncorrelated\n",
    "            \n",
    "            # delta_r= |r| * sqrt(delta_a/a)^2 +(\\delta_b/b)^2) / \\sqrt(N)\n",
    "            yerr=(np.abs(y))*np.sqrt((yerr1/y1)**2+(yerr2/y2)**2)/np.sqrt(row.num_imgs)\n",
    "\n",
    "            plt.fill_between(x2, y - yerr, y + yerr, alpha=0.4)\n",
    "            plt.plot(x2, y, marker=marker, linestyle=':',label=label)\n",
    "            plt.xlim(0,img_size/2)\n",
    "            plt.ylim(0.5,2)\n",
    "            plt.legend()\n",
    "            \n",
    "        if plot_type=='grid':\n",
    "            images=np.load(row.fname)[:,0,:,:]\n",
    "            f_plot_grid(images[:18],cols=6,fig_size=(10,5))\n",
    "            \n",
    "    ### Plot input data\n",
    "    if plot_type=='hist':\n",
    "        x,y,yerr=dict_bkg['hist_bin_centers'],dict_bkg['hist_val'],dict_bkg['hist_err']\n",
    "        x=f_invtransform(x)\n",
    "        plt.errorbar(x, y,yerr,color='k',linestyle='-',label='bkgnd')   \n",
    "        plt.title('Pixel Intensity Histogram')\n",
    "        plt.xscale('symlog',linthreshx=100)\n",
    "        \n",
    "    if plot_type=='spec':\n",
    "        y,yerr=dict_bkg['spec_val'],dict_bkg['spec_sdev']/np.sqrt(num_bkgnd)\n",
    "        x=np.arange(len(y))\n",
    "        plt.fill_between(x, y - yerr, y + yerr, color='k',alpha=0.8)\n",
    "        plt.title('Spectrum')\n",
    "\n",
    "    if plot_type=='spec_relative':\n",
    "        plt.axhline(y=1.0,color='k',linestyle='-.')\n",
    "    \n",
    "    plt.legend(bbox_to_anchor=(0.3, 0.75),ncol=2, fancybox=True, shadow=True,prop={'size':6})\n",
    "    if plot_type in ['hist','spec']:     plt.yscale('log')\n",
    "    \n",
    "\n",
    "# f_plot_hist_spec(df_runs,dict_val,'hist')\n",
    "# f_plot_hist_spec(df_runs,dict_val,'spec')\n",
    "# f_plot_hist_spec(df_best,dict_val,'grid')\n"
   ]
  },
  {
   "cell_type": "code",
   "execution_count": 51,
   "metadata": {},
   "outputs": [
    {
     "data": {
      "application/vnd.jupyter.widget-view+json": {
       "model_id": "e9b164737228418fbb38f216fddb567c",
       "version_major": 2,
       "version_minor": 0
      },
      "text/plain": [
       "interactive(children=(SelectMultiple(description='labels_list', options=('8-7200', '8-7730', '10-9400', '10-95…"
      ]
     },
     "metadata": {},
     "output_type": "display_data"
    },
    {
     "data": {
      "text/plain": [
       "<function __main__.f_widget_compare(df, labels_list, bkgnd, plot_type)>"
      ]
     },
     "execution_count": 51,
     "metadata": {},
     "output_type": "execute_result"
    }
   ],
   "source": [
    "def f_widget_compare(df,labels_list,bkgnd,plot_type):\n",
    "    df_temp=df[df.label.isin(labels_list)]\n",
    "    f_plot_hist_spec(df_temp,dict_val,plot_type)\n",
    "    \n",
    "interact_manual(f_widget_compare,df=fixed(df_best),\n",
    "                labels_list=SelectMultiple(options=df_best.label.values), \n",
    "                bkgnd=fixed(dict_val),plot_type=ToggleButtons(options=['hist','spec','spec_relative','grid']))"
   ]
  },
  {
   "cell_type": "code",
   "execution_count": 52,
   "metadata": {},
   "outputs": [
    {
     "data": {
      "application/vnd.jupyter.widget-view+json": {
       "model_id": "c9301b10f9ba486ea71dc4b5f88fcdd6",
       "version_major": 2,
       "version_minor": 0
      },
      "text/plain": [
       "Canvas(toolbar=Toolbar(toolitems=[('Home', 'Reset original view', 'home', 'home'), ('Back', 'Back to previous …"
      ]
     },
     "metadata": {},
     "output_type": "display_data"
    },
    {
     "data": {
      "text/plain": [
       "<AxesSubplot:xlabel='step'>"
      ]
     },
     "execution_count": 52,
     "metadata": {},
     "output_type": "execute_result"
    }
   ],
   "source": [
    "df[(df.step>8000)& (df.step<10000)].plot(kind='line',x='step',y=['chi_1','chi_spec1'])"
   ]
  },
  {
   "cell_type": "markdown",
   "metadata": {},
   "source": [
    "## View image block"
   ]
  },
  {
   "cell_type": "code",
   "execution_count": null,
   "metadata": {},
   "outputs": [],
   "source": [
    "def f_get_img(df,step):\n",
    "    df_temp=df[(df.step==step)]\n",
    "    images=np.load(df_temp.fname.values[0])[:,0,:,:]\n",
    "    return images\n",
    "\n",
    "img_arr=f_get_img(df,8020)\n",
    "# f_plot_grid(img_arr[:18],cols=6,fig_size=(10,5))"
   ]
  },
  {
   "cell_type": "code",
   "execution_count": null,
   "metadata": {},
   "outputs": [],
   "source": [
    "f_plot_grid(s_val[100:118],cols=6,fig_size=(10,5))"
   ]
  },
  {
   "cell_type": "markdown",
   "metadata": {},
   "source": [
    "### Plotting spread of spectrum of input data"
   ]
  },
  {
   "cell_type": "code",
   "execution_count": null,
   "metadata": {},
   "outputs": [],
   "source": [
    "\n",
    "# plt.figure()\n",
    "\n",
    "# idxs=np.random.randint(0,s_val.shape[0],size=50)\n",
    "# arr=s_val[idxs]\n",
    "# Pk = f_batch_spectrum(arr)\n",
    "# k=np.arange(Pk.shape[1])\n",
    "# for count,i in enumerate(Pk):\n",
    "#     plt.plot(i)\n",
    "    \n",
    "# Pk = f_batch_spectrum(img_arr)\n",
    "# mean,std = np.mean(Pk, axis=0),np.std(Pk, axis=0)/np.sqrt(Pk.shape[0])\n",
    "# plt.plot(k, mean, 'k:',label='generated image')\n",
    "\n",
    "\n",
    "# plt.legend()\n",
    "\n",
    "# plt.ylabel(r'$P(k)$')\n",
    "# plt.xlabel(r'$k$')\n",
    "# plt.title('Power Spectrum: 50 input images')\n",
    "# plt.yscale('log')\n",
    "\n"
   ]
  },
  {
   "cell_type": "code",
   "execution_count": null,
   "metadata": {},
   "outputs": [],
   "source": [
    "main_dir='/global/cscratch1/sd/vpa/proj/cosmogan/results_dir/128square/'\n",
    "f1=main_dir+'20201208_165658_bsize256_scale0.1_deterministic_on/dump_outs/trainer0/model0/sgd.training.epoch.1.step.1000_gen_img_instance1_activation_output0.npy'\n",
    "a1=np.load(f1)[:,0,:,:]\n",
    "f2=main_dir+'20201209_055955_bsize256_scale0.1_deterministic_on/dump_outs/trainer0/model0/sgd.training.epoch.1.step.1000_gen_img_instance1_activation_output0.npy'\n",
    "a2=np.load(f2)[:,0,:,:]\n",
    "\n",
    "print(a1.shape)\n",
    "print(a2.shape)\n"
   ]
  },
  {
   "cell_type": "code",
   "execution_count": null,
   "metadata": {},
   "outputs": [],
   "source": [
    "# f_pixel_intensity(a1)\n",
    "# f_pixel_intensity(a2)\n",
    "\n",
    "f_compare_pixel_intensity([a1,a2],label_lst=['img1','img2'],bkgnd_arr=[],log_scale=True, normalize=True, mode='avg',bins=25, hist_range=None)"
   ]
  },
  {
   "cell_type": "code",
   "execution_count": null,
   "metadata": {},
   "outputs": [],
   "source": [
    "df_best.columns"
   ]
  },
  {
   "cell_type": "code",
   "execution_count": null,
   "metadata": {},
   "outputs": [],
   "source": [
    "f_invtransform(df_best.iloc[0].hist_bin_centers)\n"
   ]
  },
  {
   "cell_type": "code",
   "execution_count": null,
   "metadata": {},
   "outputs": [],
   "source": [
    "bins=np.concatenate([np.array([-0.5]),np.arange(0.5,100.5,5),np.arange(100.5,300.5,20),np.arange(300.5,1000.5,50),np.array([2000])]) #bin edges to use\n",
    "\n"
   ]
  },
  {
   "cell_type": "code",
   "execution_count": null,
   "metadata": {},
   "outputs": [],
   "source": [
    "bins"
   ]
  },
  {
   "cell_type": "code",
   "execution_count": null,
   "metadata": {},
   "outputs": [],
   "source": []
  }
 ],
 "metadata": {
  "kernelspec": {
   "display_name": "v3",
   "language": "python",
   "name": "v-jpt-3"
  },
  "language_info": {
   "codemirror_mode": {
    "name": "ipython",
    "version": 3
   },
   "file_extension": ".py",
   "mimetype": "text/x-python",
   "name": "python",
   "nbconvert_exporter": "python",
   "pygments_lexer": "ipython3",
   "version": "3.8.6"
  },
  "toc-autonumbering": true,
  "toc-showcode": false,
  "toc-showmarkdowntxt": true,
  "toc-showtags": false
 },
 "nbformat": 4,
 "nbformat_minor": 4
}
