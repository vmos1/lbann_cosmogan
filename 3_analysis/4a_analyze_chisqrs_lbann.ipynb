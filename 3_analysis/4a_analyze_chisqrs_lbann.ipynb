{
 "cells": [
  {
   "cell_type": "markdown",
   "metadata": {},
   "source": [
    "# Extract data from output files\n",
    "### Analyze the output from a single LBANN run\n",
    "March 9, 2020 \\\n",
    "April 6, 2020 : to store files in order of epochs \\\n",
    "April 21, 2020: added jupyter widgets to compare pixel intensity plots \\\n",
    "July 30, 2020: Perform analysis with stored histograms."
   ]
  },
  {
   "cell_type": "code",
   "execution_count": 1,
   "metadata": {},
   "outputs": [],
   "source": [
    "import numpy as np\n",
    "import matplotlib.pyplot as plt\n",
    "import seaborn as sns\n",
    "import pandas as pd\n",
    "\n",
    "import subprocess as sp\n",
    "import os\n",
    "import glob\n",
    "import sys\n",
    "\n",
    "import itertools\n",
    "import time\n",
    "\n",
    "from ipywidgets import *"
   ]
  },
  {
   "cell_type": "code",
   "execution_count": 2,
   "metadata": {},
   "outputs": [],
   "source": [
    "%matplotlib widget"
   ]
  },
  {
   "cell_type": "code",
   "execution_count": 3,
   "metadata": {},
   "outputs": [],
   "source": [
    "sys.path.append('/global/u1/v/vpa/project/jpt_notebooks/Cosmology/Cosmo_GAN/repositories/lbann_cosmogan/3_analysis')\n",
    "from modules_image_analysis import *"
   ]
  },
  {
   "cell_type": "code",
   "execution_count": 4,
   "metadata": {},
   "outputs": [],
   "source": [
    "### Transformation functions for image pixel values\n",
    "def f_transform(x):\n",
    "    return 2.*x/(x + 4. + 1e-8) - 1.\n",
    "\n",
    "def f_invtransform(s):\n",
    "    return 4.*(1. + s)/(1. - s + 1e-8)"
   ]
  },
  {
   "cell_type": "markdown",
   "metadata": {},
   "source": [
    "## Extract folder"
   ]
  },
  {
   "cell_type": "code",
   "execution_count": 5,
   "metadata": {},
   "outputs": [
    {
     "data": {
      "application/vnd.jupyter.widget-view+json": {
       "model_id": "873c2e941bf74c8ea59595b07a93dd1a",
       "version_major": 2,
       "version_minor": 0
      },
      "text/plain": [
       "interactive(children=(Select(description='x', options=('scratch', 'proj'), value='scratch'), Output()), _dom_c…"
      ]
     },
     "metadata": {},
     "output_type": "display_data"
    }
   ],
   "source": [
    "img_size=128\n",
    "dict1={'scratch':'/global/cscratch1/sd/vpa/proj/cosmogan/results_dir/{0}square/'.format(img_size),\n",
    "    'proj':'/global/cfs/cdirs/m3363/vayyar/cosmogan_data/results_data/'}\n",
    "\n",
    "u=interactive(lambda x: dict1[x], x=Select(options=dict1.keys()))\n",
    "display(u)\n"
   ]
  },
  {
   "cell_type": "code",
   "execution_count": 7,
   "metadata": {},
   "outputs": [
    {
     "data": {
      "application/vnd.jupyter.widget-view+json": {
       "model_id": "2f567dfc47cf4c658ecc648f83ab0481",
       "version_major": 2,
       "version_minor": 0
      },
      "text/plain": [
       "interactive(children=(Dropdown(description='x', options=('20210422_132856_bsize128_bnorm_new_decay', '20210407…"
      ]
     },
     "metadata": {},
     "output_type": "display_data"
    }
   ],
   "source": [
    "parent_dir=u.result\n",
    "dir_lst=[i.split('/')[-1] for i in glob.glob(parent_dir+'2021*')]\n",
    "w=interactive(lambda x: x, x=Dropdown(options=dir_lst))\n",
    "display(w)"
   ]
  },
  {
   "cell_type": "code",
   "execution_count": 8,
   "metadata": {},
   "outputs": [
    {
     "name": "stdout",
     "output_type": "stream",
     "text": [
      "/global/cscratch1/sd/vpa/proj/cosmogan/results_dir/128square/20210507_084712_bsize128_bnorm_new_decay\n"
     ]
    }
   ],
   "source": [
    "result=w.result\n",
    "main_dir=parent_dir+result\n",
    "print(main_dir)"
   ]
  },
  {
   "cell_type": "code",
   "execution_count": 9,
   "metadata": {},
   "outputs": [],
   "source": [
    "# Get location for validation data\n",
    "raw_data_dir='/global/cfs/cdirs/m3363/vayyar/cosmogan_data/raw_data/'\n",
    "input_files_dict={'128':raw_data_dir+'128_square/dataset_2_smoothing_200k/norm_1_train_val.npy',\n",
    "                 '512':raw_data_dir+'512_square/dataset1_smoothing_single_universe/norm_1_train_val.npy'}"
   ]
  },
  {
   "cell_type": "code",
   "execution_count": 10,
   "metadata": {},
   "outputs": [
    {
     "name": "stdout",
     "output_type": "stream",
     "text": [
      "(1000, 128, 128)\n"
     ]
    },
    {
     "name": "stderr",
     "output_type": "stream",
     "text": [
      "/global/u1/v/vpa/project/jpt_notebooks/Cosmology/Cosmo_GAN/repositories/lbann_cosmogan/3_analysis/modules_image_analysis.py:85: VisibleDeprecationWarning: Creating an ndarray from ragged nested sequences (which is a list-or-tuple of lists-or-tuples-or ndarrays with different lengths or shapes) is deprecated. If you meant to do this, you must specify 'dtype=object' when creating the ndarray\n",
      "  hist_arr=np.array([np.histogram(arr.flatten(), bins=bins, range=(llim,ulim), density=norm) for arr in img_arr]) ## range is important\n"
     ]
    }
   ],
   "source": [
    "def f_compute_hist_spect(sample,bins):\n",
    "    ''' Compute pixel intensity histograms and radial spectrum for 2D arrays\n",
    "    Input : Image arrays and bins\n",
    "    Output: dictionary with 5 arrays : Histogram values, errors and bin centers, Spectrum values and errors.\n",
    "    '''\n",
    "    ### Compute pixel histogram for row\n",
    "    gen_hist,gen_err,hist_bins=f_batch_histogram(sample,bins=bins,norm=True,hist_range=None)\n",
    "    ### Compute spectrum for row\n",
    "    spec,spec_sdev=f_compute_spectrum(sample,plot=False)\n",
    "\n",
    "    dict1={'hist_val':gen_hist,'hist_err':gen_err,'hist_bin_centers':hist_bins,'spec_val':spec,'spec_sdev':spec_sdev }\n",
    "    return dict1\n",
    "\n",
    "\n",
    "### Extract validation data\n",
    "num_bkgnd=1000\n",
    "fname=input_files_dict[str(img_size)]\n",
    "s_val=np.load(fname,mmap_mode='r')[:num_bkgnd][:,0,:,:]\n",
    "print(s_val.shape)\n",
    "\n",
    "bins=np.concatenate([np.array([-0.5]),np.arange(0.5,100.5,5),np.arange(100.5,300.5,20),np.arange(300.5,1000.5,50),np.array([2000])]) #bin edges to use\n",
    "bins=f_transform(bins)   ### scale to (-1,1) \n",
    "### Compute histogram and spectrum of raw data \n",
    "dict_val=f_compute_hist_spect(s_val,bins)"
   ]
  },
  {
   "cell_type": "code",
   "execution_count": 11,
   "metadata": {},
   "outputs": [],
   "source": [
    "# main_dir='/global/cscratch1/sd/vpa/proj/cosmogan/results_dir/128square/scaling_runs/20201031_205304_bsize512_scaling_2_8'"
   ]
  },
  {
   "cell_type": "markdown",
   "metadata": {},
   "source": [
    "## Extract metrics info from log file"
   ]
  },
  {
   "cell_type": "code",
   "execution_count": 12,
   "metadata": {},
   "outputs": [],
   "source": [
    "def f_extract_info(fname):\n",
    "    '''\n",
    "    Module to extract information from out.log files of Lbann training\n",
    "    Reads in file name\n",
    "    '''\n",
    "    strg_lst=['objective','d_real','d_fake','gen','spec_loss','run time','mini-batch']\n",
    "    keys=['training_'+strg for strg in strg_lst]\n",
    "    dict1={}\n",
    "    for category in ['training','validation']:\n",
    "        for strg in strg_lst:\n",
    "            try: \n",
    "                key=category+'_'+strg\n",
    "                cmd='grep \"{0}\" {1} | grep \"{2}\"'.format(category,fname,strg)\n",
    "        #         print(cmd)\n",
    "                op1=sp.check_output(cmd,shell=True).decode('utf-8').split('\\n')\n",
    "                obj=np.array([strg.split(':')[-1] for strg in op1 if strg])\n",
    "                dict1[key]=obj\n",
    "            except Exception as e:\n",
    "                print(e)\n",
    "                dict1[key]=np.nan\n",
    "    \n",
    "    df=pd.DataFrame([])\n",
    "    key_lst=['training_objective', 'training_d_real', 'training_d_fake', 'training_gen', 'training_spec_loss','validation_objective', 'validation_d_real', 'validation_d_fake', 'validation_gen','validation_spec_loss']\n",
    "    col_list=['train_obj','train_dreal','train_dfake','train_gen','train_spec','val_obj','val_dreal','val_dfake','val_gen','val_spec']\n",
    "    for col,key in zip(col_list,key_lst):\n",
    "        try: \n",
    "            df[col]=dict1[key].astype(np.float)\n",
    "        except: pass\n",
    "\n",
    "    ### Need to remove the trailing 's' in the timings\n",
    "    for col,key in zip(['train_time','val_time'],['training_run time','validation_run time']):\n",
    "        df[col]=np.array([i[:-1] for i in dict1[key]]).astype(np.float)\n",
    "\n",
    "    for col,key in zip(['train_batch_stats','val_batch_stats'],['training_mini-batch','validation_mini-batch']):\n",
    "        df[col]=dict1[key]\n",
    "        \n",
    "    return df\n",
    "\n",
    "def f_plot_metrics(df,col_list=['train_obj']):\n",
    "    '''\n",
    "    Plot multiple columns of the dataframe\n",
    "    '''\n",
    "    plt.figure()\n",
    "    \n",
    "    marker_lst=('o','*','H','D','.','x')\n",
    "    marker=itertools.cycle(marker_lst)\n",
    "    for col in col_list: plt.plot(df[col],linestyle='',marker=next(marker),label=col)\n",
    "    plt.legend()\n",
    "    plt.xlabel('Epoch')\n",
    "    "
   ]
  },
  {
   "cell_type": "code",
   "execution_count": 13,
   "metadata": {},
   "outputs": [],
   "source": [
    "strg=main_dir+'/out.log'\n",
    "df_metrics=f_extract_info(glob.glob(strg)[0])"
   ]
  },
  {
   "cell_type": "code",
   "execution_count": 14,
   "metadata": {},
   "outputs": [
    {
     "data": {
      "text/html": [
       "<div>\n",
       "<style scoped>\n",
       "    .dataframe tbody tr th:only-of-type {\n",
       "        vertical-align: middle;\n",
       "    }\n",
       "\n",
       "    .dataframe tbody tr th {\n",
       "        vertical-align: top;\n",
       "    }\n",
       "\n",
       "    .dataframe thead th {\n",
       "        text-align: right;\n",
       "    }\n",
       "</style>\n",
       "<table border=\"1\" class=\"dataframe\">\n",
       "  <thead>\n",
       "    <tr style=\"text-align: right;\">\n",
       "      <th></th>\n",
       "      <th>train_obj</th>\n",
       "      <th>train_dreal</th>\n",
       "      <th>train_dfake</th>\n",
       "      <th>train_gen</th>\n",
       "      <th>train_spec</th>\n",
       "      <th>val_obj</th>\n",
       "      <th>val_dreal</th>\n",
       "      <th>val_dfake</th>\n",
       "      <th>val_gen</th>\n",
       "      <th>val_spec</th>\n",
       "      <th>train_time</th>\n",
       "      <th>val_time</th>\n",
       "      <th>train_batch_stats</th>\n",
       "      <th>val_batch_stats</th>\n",
       "    </tr>\n",
       "  </thead>\n",
       "  <tbody>\n",
       "    <tr>\n",
       "      <th>0</th>\n",
       "      <td>11.25520</td>\n",
       "      <td>0.574528</td>\n",
       "      <td>0.786393</td>\n",
       "      <td>4.01174</td>\n",
       "      <td>11.7651</td>\n",
       "      <td>7.58846</td>\n",
       "      <td>0.132117</td>\n",
       "      <td>1.554380</td>\n",
       "      <td>0.104685</td>\n",
       "      <td>11.5946</td>\n",
       "      <td>163.649</td>\n",
       "      <td>2.43225</td>\n",
       "      <td>0.1161s mean, 5.1198s max, 0.0169751s min, 0....</td>\n",
       "      <td>0.0154352s mean, 0.238093s max, 0.00571202s m...</td>\n",
       "    </tr>\n",
       "    <tr>\n",
       "      <th>1</th>\n",
       "      <td>9.23140</td>\n",
       "      <td>0.488927</td>\n",
       "      <td>0.488819</td>\n",
       "      <td>2.54429</td>\n",
       "      <td>11.4187</td>\n",
       "      <td>8.50051</td>\n",
       "      <td>0.160713</td>\n",
       "      <td>0.621222</td>\n",
       "      <td>2.104750</td>\n",
       "      <td>11.2276</td>\n",
       "      <td>161.863</td>\n",
       "      <td>2.31165</td>\n",
       "      <td>0.114831s mean, 5.58933s max, 0.0159821s min,...</td>\n",
       "      <td>0.0146692s mean, 0.256836s max, 0.00565778s m...</td>\n",
       "    </tr>\n",
       "    <tr>\n",
       "      <th>2</th>\n",
       "      <td>8.72732</td>\n",
       "      <td>0.543500</td>\n",
       "      <td>0.541955</td>\n",
       "      <td>1.94919</td>\n",
       "      <td>11.3854</td>\n",
       "      <td>6.88995</td>\n",
       "      <td>0.133845</td>\n",
       "      <td>0.485269</td>\n",
       "      <td>0.609624</td>\n",
       "      <td>11.3224</td>\n",
       "      <td>163.578</td>\n",
       "      <td>2.25551</td>\n",
       "      <td>0.116051s mean, 7.856s max, 0.0157297s min, 0...</td>\n",
       "      <td>0.0143155s mean, 0.194962s max, 0.00565121s m...</td>\n",
       "    </tr>\n",
       "    <tr>\n",
       "      <th>3</th>\n",
       "      <td>8.61436</td>\n",
       "      <td>0.540476</td>\n",
       "      <td>0.539085</td>\n",
       "      <td>1.84261</td>\n",
       "      <td>11.3844</td>\n",
       "      <td>7.65826</td>\n",
       "      <td>0.092147</td>\n",
       "      <td>1.795430</td>\n",
       "      <td>0.096627</td>\n",
       "      <td>11.3481</td>\n",
       "      <td>160.290</td>\n",
       "      <td>2.15665</td>\n",
       "      <td>0.113715s mean, 5.50793s max, 0.0157135s min,...</td>\n",
       "      <td>0.0136851s mean, 0.169384s max, 0.00559937s m...</td>\n",
       "    </tr>\n",
       "    <tr>\n",
       "      <th>4</th>\n",
       "      <td>8.52071</td>\n",
       "      <td>0.559233</td>\n",
       "      <td>0.562652</td>\n",
       "      <td>1.71821</td>\n",
       "      <td>11.3612</td>\n",
       "      <td>8.69248</td>\n",
       "      <td>0.978088</td>\n",
       "      <td>0.144256</td>\n",
       "      <td>1.915070</td>\n",
       "      <td>11.3101</td>\n",
       "      <td>165.061</td>\n",
       "      <td>2.25669</td>\n",
       "      <td>0.117102s mean, 7.41394s max, 0.0158268s min,...</td>\n",
       "      <td>0.0143086s mean, 0.181696s max, 0.00565466s m...</td>\n",
       "    </tr>\n",
       "  </tbody>\n",
       "</table>\n",
       "</div>"
      ],
      "text/plain": [
       "   train_obj  train_dreal  train_dfake  train_gen  train_spec  val_obj  \\\n",
       "0   11.25520     0.574528     0.786393    4.01174     11.7651  7.58846   \n",
       "1    9.23140     0.488927     0.488819    2.54429     11.4187  8.50051   \n",
       "2    8.72732     0.543500     0.541955    1.94919     11.3854  6.88995   \n",
       "3    8.61436     0.540476     0.539085    1.84261     11.3844  7.65826   \n",
       "4    8.52071     0.559233     0.562652    1.71821     11.3612  8.69248   \n",
       "\n",
       "   val_dreal  val_dfake   val_gen  val_spec  train_time  val_time  \\\n",
       "0   0.132117   1.554380  0.104685   11.5946     163.649   2.43225   \n",
       "1   0.160713   0.621222  2.104750   11.2276     161.863   2.31165   \n",
       "2   0.133845   0.485269  0.609624   11.3224     163.578   2.25551   \n",
       "3   0.092147   1.795430  0.096627   11.3481     160.290   2.15665   \n",
       "4   0.978088   0.144256  1.915070   11.3101     165.061   2.25669   \n",
       "\n",
       "                                   train_batch_stats  \\\n",
       "0   0.1161s mean, 5.1198s max, 0.0169751s min, 0....   \n",
       "1   0.114831s mean, 5.58933s max, 0.0159821s min,...   \n",
       "2   0.116051s mean, 7.856s max, 0.0157297s min, 0...   \n",
       "3   0.113715s mean, 5.50793s max, 0.0157135s min,...   \n",
       "4   0.117102s mean, 7.41394s max, 0.0158268s min,...   \n",
       "\n",
       "                                     val_batch_stats  \n",
       "0   0.0154352s mean, 0.238093s max, 0.00571202s m...  \n",
       "1   0.0146692s mean, 0.256836s max, 0.00565778s m...  \n",
       "2   0.0143155s mean, 0.194962s max, 0.00565121s m...  \n",
       "3   0.0136851s mean, 0.169384s max, 0.00559937s m...  \n",
       "4   0.0143086s mean, 0.181696s max, 0.00565466s m...  "
      ]
     },
     "execution_count": 14,
     "metadata": {},
     "output_type": "execute_result"
    }
   ],
   "source": [
    "df_metrics.head()"
   ]
  },
  {
   "cell_type": "code",
   "execution_count": 15,
   "metadata": {},
   "outputs": [
    {
     "data": {
      "application/vnd.jupyter.widget-view+json": {
       "model_id": "1d96451f5ea54e8c9557ce0cee4f989f",
       "version_major": 2,
       "version_minor": 0
      },
      "text/plain": [
       "interactive(children=(SelectMultiple(description='col_list', options=('train_obj', 'train_dreal', 'train_dfake…"
      ]
     },
     "metadata": {},
     "output_type": "display_data"
    },
    {
     "data": {
      "text/plain": [
       "<function __main__.f_plot_metrics(df, col_list=['train_obj'])>"
      ]
     },
     "execution_count": 15,
     "metadata": {},
     "output_type": "execute_result"
    }
   ],
   "source": [
    "col_list=df_metrics.columns[~df_metrics.columns.str.endswith('stats')]\n",
    "interact_manual(f_plot_metrics,col_list=SelectMultiple(options=col_list),df=fixed(df_metrics))\n"
   ]
  },
  {
   "cell_type": "markdown",
   "metadata": {},
   "source": [
    "## Extract data from stored dataframe"
   ]
  },
  {
   "cell_type": "code",
   "execution_count": 16,
   "metadata": {},
   "outputs": [],
   "source": [
    "### Load data\n",
    "df=pd.read_pickle(main_dir+'/df_processed.pkle')\n",
    "df[['epoch','step']]=df[['epoch','step']].astype(int)\n",
    "df['label']=df.epoch.astype(str)+'-'+df.step.astype(str) # Add label column for plotting\n",
    "\n",
    "col_list=['label','chi_1','chi_spec1', 'chi_spec3', 'chi_1a', 'chi_1b', 'chi_1c', 'chi_2','chi_imgvar', 'chi_spec2','epoch','step']\n"
   ]
  },
  {
   "cell_type": "code",
   "execution_count": 17,
   "metadata": {},
   "outputs": [
    {
     "name": "stdout",
     "output_type": "stream",
     "text": [
      "(563, 22)\n"
     ]
    },
    {
     "data": {
      "text/html": [
       "<div>\n",
       "<style scoped>\n",
       "    .dataframe tbody tr th:only-of-type {\n",
       "        vertical-align: middle;\n",
       "    }\n",
       "\n",
       "    .dataframe tbody tr th {\n",
       "        vertical-align: top;\n",
       "    }\n",
       "\n",
       "    .dataframe thead th {\n",
       "        text-align: right;\n",
       "    }\n",
       "</style>\n",
       "<table border=\"1\" class=\"dataframe\">\n",
       "  <thead>\n",
       "    <tr style=\"text-align: right;\">\n",
       "      <th></th>\n",
       "      <th>epoch</th>\n",
       "      <th>step</th>\n",
       "      <th>img_type</th>\n",
       "      <th>fname</th>\n",
       "      <th>chi_1a</th>\n",
       "      <th>chi_1b</th>\n",
       "      <th>chi_1c</th>\n",
       "      <th>chi_1</th>\n",
       "      <th>chi_2</th>\n",
       "      <th>chi_imgvar</th>\n",
       "      <th>...</th>\n",
       "      <th>chi_spec3</th>\n",
       "      <th>num_imgs</th>\n",
       "      <th>num_large</th>\n",
       "      <th>num_vlarge</th>\n",
       "      <th>hist_val</th>\n",
       "      <th>hist_err</th>\n",
       "      <th>hist_bin_centers</th>\n",
       "      <th>spec_val</th>\n",
       "      <th>spec_sdev</th>\n",
       "      <th>label</th>\n",
       "    </tr>\n",
       "  </thead>\n",
       "  <tbody>\n",
       "    <tr>\n",
       "      <th>558</th>\n",
       "      <td>19</td>\n",
       "      <td>27900</td>\n",
       "      <td>train_gen</td>\n",
       "      <td>/global/cscratch1/sd/vpa/proj/cosmogan/results...</td>\n",
       "      <td>0.042436</td>\n",
       "      <td>0.033126</td>\n",
       "      <td>0.002729</td>\n",
       "      <td>0.078291</td>\n",
       "      <td>0.031971</td>\n",
       "      <td>4.559968</td>\n",
       "      <td>...</td>\n",
       "      <td>26.744630</td>\n",
       "      <td>128</td>\n",
       "      <td>0</td>\n",
       "      <td>0</td>\n",
       "      <td>[0.9612511421202259, 0.5218240861167707, 0.049...</td>\n",
       "      <td>[0.003317795075048869, 0.0016484130659949385, ...</td>\n",
       "      <td>[-1.031746031584782, -0.3099415213241682, 0.30...</td>\n",
       "      <td>[87282.74444996566, 63055.62209956794, 45257.1...</td>\n",
       "      <td>[35840.54477536304, 19209.838855205468, 12899....</td>\n",
       "      <td>19-27900</td>\n",
       "    </tr>\n",
       "    <tr>\n",
       "      <th>559</th>\n",
       "      <td>19</td>\n",
       "      <td>27950</td>\n",
       "      <td>train_gen</td>\n",
       "      <td>/global/cscratch1/sd/vpa/proj/cosmogan/results...</td>\n",
       "      <td>0.023825</td>\n",
       "      <td>0.016352</td>\n",
       "      <td>0.016758</td>\n",
       "      <td>0.056935</td>\n",
       "      <td>0.017893</td>\n",
       "      <td>5.373709</td>\n",
       "      <td>...</td>\n",
       "      <td>26.393822</td>\n",
       "      <td>128</td>\n",
       "      <td>1</td>\n",
       "      <td>0</td>\n",
       "      <td>[1.0009049202986793, 0.5010769579716889, 0.046...</td>\n",
       "      <td>[0.0030865413114435514, 0.0016154822571636555,...</td>\n",
       "      <td>[-1.031746031584782, -0.3099415213241682, 0.30...</td>\n",
       "      <td>[89448.8847046122, 63326.028179463734, 43747.7...</td>\n",
       "      <td>[39196.016226549655, 19544.846935088015, 11904...</td>\n",
       "      <td>19-27950</td>\n",
       "    </tr>\n",
       "    <tr>\n",
       "      <th>560</th>\n",
       "      <td>19</td>\n",
       "      <td>28000</td>\n",
       "      <td>train_gen</td>\n",
       "      <td>/global/cscratch1/sd/vpa/proj/cosmogan/results...</td>\n",
       "      <td>0.004697</td>\n",
       "      <td>0.018957</td>\n",
       "      <td>0.002643</td>\n",
       "      <td>0.026297</td>\n",
       "      <td>0.002680</td>\n",
       "      <td>5.255534</td>\n",
       "      <td>...</td>\n",
       "      <td>27.779891</td>\n",
       "      <td>128</td>\n",
       "      <td>0</td>\n",
       "      <td>0</td>\n",
       "      <td>[1.0745986131729357, 0.4631164047730246, 0.041...</td>\n",
       "      <td>[0.003744798823275987, 0.001886658340891904, 0...</td>\n",
       "      <td>[-1.031746031584782, -0.3099415213241682, 0.30...</td>\n",
       "      <td>[87602.75654237578, 58087.68075851949, 41702.1...</td>\n",
       "      <td>[51739.115900294666, 20275.81530727321, 13150....</td>\n",
       "      <td>19-28000</td>\n",
       "    </tr>\n",
       "    <tr>\n",
       "      <th>561</th>\n",
       "      <td>19</td>\n",
       "      <td>28050</td>\n",
       "      <td>train_gen</td>\n",
       "      <td>/global/cscratch1/sd/vpa/proj/cosmogan/results...</td>\n",
       "      <td>0.024423</td>\n",
       "      <td>0.022519</td>\n",
       "      <td>0.013854</td>\n",
       "      <td>0.060797</td>\n",
       "      <td>0.017992</td>\n",
       "      <td>5.466904</td>\n",
       "      <td>...</td>\n",
       "      <td>27.166256</td>\n",
       "      <td>128</td>\n",
       "      <td>1</td>\n",
       "      <td>0</td>\n",
       "      <td>[1.0005481864987777, 0.5007156375950129, 0.048...</td>\n",
       "      <td>[0.003411896474069139, 0.0016945234801457175, ...</td>\n",
       "      <td>[-1.031746031584782, -0.3099415213241682, 0.30...</td>\n",
       "      <td>[84973.34653920773, 60455.54458823206, 44355.3...</td>\n",
       "      <td>[42091.621689369975, 17614.07408502668, 11565....</td>\n",
       "      <td>19-28050</td>\n",
       "    </tr>\n",
       "    <tr>\n",
       "      <th>562</th>\n",
       "      <td>19</td>\n",
       "      <td>28100</td>\n",
       "      <td>train_gen</td>\n",
       "      <td>/global/cscratch1/sd/vpa/proj/cosmogan/results...</td>\n",
       "      <td>0.007850</td>\n",
       "      <td>0.032071</td>\n",
       "      <td>0.002068</td>\n",
       "      <td>0.041990</td>\n",
       "      <td>0.003594</td>\n",
       "      <td>4.954919</td>\n",
       "      <td>...</td>\n",
       "      <td>28.627044</td>\n",
       "      <td>128</td>\n",
       "      <td>0</td>\n",
       "      <td>0</td>\n",
       "      <td>[1.0673991618270418, 0.4656206760438096, 0.045...</td>\n",
       "      <td>[0.004169097022246371, 0.002065394768122489, 0...</td>\n",
       "      <td>[-1.031746031584782, -0.3099415213241682, 0.30...</td>\n",
       "      <td>[76101.04798229225, 55344.19143967331, 41472.5...</td>\n",
       "      <td>[43350.153481153095, 18520.58155718088, 12417....</td>\n",
       "      <td>19-28100</td>\n",
       "    </tr>\n",
       "  </tbody>\n",
       "</table>\n",
       "<p>5 rows × 22 columns</p>\n",
       "</div>"
      ],
      "text/plain": [
       "     epoch   step   img_type  \\\n",
       "558     19  27900  train_gen   \n",
       "559     19  27950  train_gen   \n",
       "560     19  28000  train_gen   \n",
       "561     19  28050  train_gen   \n",
       "562     19  28100  train_gen   \n",
       "\n",
       "                                                 fname    chi_1a    chi_1b  \\\n",
       "558  /global/cscratch1/sd/vpa/proj/cosmogan/results...  0.042436  0.033126   \n",
       "559  /global/cscratch1/sd/vpa/proj/cosmogan/results...  0.023825  0.016352   \n",
       "560  /global/cscratch1/sd/vpa/proj/cosmogan/results...  0.004697  0.018957   \n",
       "561  /global/cscratch1/sd/vpa/proj/cosmogan/results...  0.024423  0.022519   \n",
       "562  /global/cscratch1/sd/vpa/proj/cosmogan/results...  0.007850  0.032071   \n",
       "\n",
       "       chi_1c     chi_1     chi_2  chi_imgvar  ...  chi_spec3  num_imgs  \\\n",
       "558  0.002729  0.078291  0.031971    4.559968  ...  26.744630       128   \n",
       "559  0.016758  0.056935  0.017893    5.373709  ...  26.393822       128   \n",
       "560  0.002643  0.026297  0.002680    5.255534  ...  27.779891       128   \n",
       "561  0.013854  0.060797  0.017992    5.466904  ...  27.166256       128   \n",
       "562  0.002068  0.041990  0.003594    4.954919  ...  28.627044       128   \n",
       "\n",
       "     num_large  num_vlarge                                           hist_val  \\\n",
       "558          0           0  [0.9612511421202259, 0.5218240861167707, 0.049...   \n",
       "559          1           0  [1.0009049202986793, 0.5010769579716889, 0.046...   \n",
       "560          0           0  [1.0745986131729357, 0.4631164047730246, 0.041...   \n",
       "561          1           0  [1.0005481864987777, 0.5007156375950129, 0.048...   \n",
       "562          0           0  [1.0673991618270418, 0.4656206760438096, 0.045...   \n",
       "\n",
       "                                              hist_err  \\\n",
       "558  [0.003317795075048869, 0.0016484130659949385, ...   \n",
       "559  [0.0030865413114435514, 0.0016154822571636555,...   \n",
       "560  [0.003744798823275987, 0.001886658340891904, 0...   \n",
       "561  [0.003411896474069139, 0.0016945234801457175, ...   \n",
       "562  [0.004169097022246371, 0.002065394768122489, 0...   \n",
       "\n",
       "                                      hist_bin_centers  \\\n",
       "558  [-1.031746031584782, -0.3099415213241682, 0.30...   \n",
       "559  [-1.031746031584782, -0.3099415213241682, 0.30...   \n",
       "560  [-1.031746031584782, -0.3099415213241682, 0.30...   \n",
       "561  [-1.031746031584782, -0.3099415213241682, 0.30...   \n",
       "562  [-1.031746031584782, -0.3099415213241682, 0.30...   \n",
       "\n",
       "                                              spec_val  \\\n",
       "558  [87282.74444996566, 63055.62209956794, 45257.1...   \n",
       "559  [89448.8847046122, 63326.028179463734, 43747.7...   \n",
       "560  [87602.75654237578, 58087.68075851949, 41702.1...   \n",
       "561  [84973.34653920773, 60455.54458823206, 44355.3...   \n",
       "562  [76101.04798229225, 55344.19143967331, 41472.5...   \n",
       "\n",
       "                                             spec_sdev     label  \n",
       "558  [35840.54477536304, 19209.838855205468, 12899....  19-27900  \n",
       "559  [39196.016226549655, 19544.846935088015, 11904...  19-27950  \n",
       "560  [51739.115900294666, 20275.81530727321, 13150....  19-28000  \n",
       "561  [42091.621689369975, 17614.07408502668, 11565....  19-28050  \n",
       "562  [43350.153481153095, 18520.58155718088, 12417....  19-28100  \n",
       "\n",
       "[5 rows x 22 columns]"
      ]
     },
     "execution_count": 17,
     "metadata": {},
     "output_type": "execute_result"
    }
   ],
   "source": [
    "print(df.shape)\n",
    "df.tail()\n"
   ]
  },
  {
   "cell_type": "code",
   "execution_count": 18,
   "metadata": {},
   "outputs": [
    {
     "data": {
      "text/plain": [
       "Index(['epoch', 'step', 'img_type', 'fname', 'chi_1a', 'chi_1b', 'chi_1c',\n",
       "       'chi_1', 'chi_2', 'chi_imgvar', 'chi_spec1', 'chi_spec2', 'chi_spec3',\n",
       "       'num_imgs', 'num_large', 'num_vlarge', 'hist_val', 'hist_err',\n",
       "       'hist_bin_centers', 'spec_val', 'spec_sdev', 'label'],\n",
       "      dtype='object')"
      ]
     },
     "execution_count": 18,
     "metadata": {},
     "output_type": "execute_result"
    }
   ],
   "source": [
    "df.columns"
   ]
  },
  {
   "cell_type": "markdown",
   "metadata": {},
   "source": [
    "### View best epochs"
   ]
  },
  {
   "cell_type": "markdown",
   "metadata": {},
   "source": [
    "#### Locations with best chi_sqr"
   ]
  },
  {
   "cell_type": "code",
   "execution_count": 19,
   "metadata": {},
   "outputs": [
    {
     "data": {
      "text/html": [
       "<div>\n",
       "<style scoped>\n",
       "    .dataframe tbody tr th:only-of-type {\n",
       "        vertical-align: middle;\n",
       "    }\n",
       "\n",
       "    .dataframe tbody tr th {\n",
       "        vertical-align: top;\n",
       "    }\n",
       "\n",
       "    .dataframe thead th {\n",
       "        text-align: right;\n",
       "    }\n",
       "</style>\n",
       "<table border=\"1\" class=\"dataframe\">\n",
       "  <thead>\n",
       "    <tr style=\"text-align: right;\">\n",
       "      <th></th>\n",
       "      <th>epoch</th>\n",
       "      <th>step</th>\n",
       "      <th>chi_1a</th>\n",
       "      <th>chi_1b</th>\n",
       "      <th>chi_1c</th>\n",
       "      <th>chi_1</th>\n",
       "      <th>chi_2</th>\n",
       "      <th>chi_imgvar</th>\n",
       "      <th>chi_spec1</th>\n",
       "      <th>chi_spec2</th>\n",
       "    </tr>\n",
       "  </thead>\n",
       "  <tbody>\n",
       "    <tr>\n",
       "      <th>496</th>\n",
       "      <td>17</td>\n",
       "      <td>24800</td>\n",
       "      <td>0.000332</td>\n",
       "      <td>0.009216</td>\n",
       "      <td>0.001961</td>\n",
       "      <td>0.011510</td>\n",
       "      <td>0.000060</td>\n",
       "      <td>5.273425</td>\n",
       "      <td>1.312216</td>\n",
       "      <td>227.019444</td>\n",
       "    </tr>\n",
       "    <tr>\n",
       "      <th>73</th>\n",
       "      <td>2</td>\n",
       "      <td>3650</td>\n",
       "      <td>0.060834</td>\n",
       "      <td>0.002402</td>\n",
       "      <td>0.015435</td>\n",
       "      <td>0.078671</td>\n",
       "      <td>0.046385</td>\n",
       "      <td>6.419823</td>\n",
       "      <td>4.049329</td>\n",
       "      <td>698.695002</td>\n",
       "    </tr>\n",
       "    <tr>\n",
       "      <th>139</th>\n",
       "      <td>4</td>\n",
       "      <td>6950</td>\n",
       "      <td>0.006409</td>\n",
       "      <td>0.011106</td>\n",
       "      <td>0.000748</td>\n",
       "      <td>0.018264</td>\n",
       "      <td>0.003233</td>\n",
       "      <td>5.403243</td>\n",
       "      <td>1.082246</td>\n",
       "      <td>167.502801</td>\n",
       "    </tr>\n",
       "    <tr>\n",
       "      <th>330</th>\n",
       "      <td>11</td>\n",
       "      <td>16500</td>\n",
       "      <td>0.001215</td>\n",
       "      <td>0.007802</td>\n",
       "      <td>0.000901</td>\n",
       "      <td>0.009918</td>\n",
       "      <td>0.000311</td>\n",
       "      <td>5.408878</td>\n",
       "      <td>0.418480</td>\n",
       "      <td>52.910579</td>\n",
       "    </tr>\n",
       "    <tr>\n",
       "      <th>496</th>\n",
       "      <td>17</td>\n",
       "      <td>24800</td>\n",
       "      <td>0.000332</td>\n",
       "      <td>0.009216</td>\n",
       "      <td>0.001961</td>\n",
       "      <td>0.011510</td>\n",
       "      <td>0.000060</td>\n",
       "      <td>5.273425</td>\n",
       "      <td>1.312216</td>\n",
       "      <td>227.019444</td>\n",
       "    </tr>\n",
       "    <tr>\n",
       "      <th>2</th>\n",
       "      <td>0</td>\n",
       "      <td>100</td>\n",
       "      <td>1.531872</td>\n",
       "      <td>0.108666</td>\n",
       "      <td>0.003864</td>\n",
       "      <td>1.644402</td>\n",
       "      <td>1.115069</td>\n",
       "      <td>0.708115</td>\n",
       "      <td>3007.965700</td>\n",
       "      <td>117751.394130</td>\n",
       "    </tr>\n",
       "    <tr>\n",
       "      <th>430</th>\n",
       "      <td>15</td>\n",
       "      <td>21500</td>\n",
       "      <td>0.010650</td>\n",
       "      <td>0.020271</td>\n",
       "      <td>0.003075</td>\n",
       "      <td>0.033996</td>\n",
       "      <td>0.007034</td>\n",
       "      <td>5.281170</td>\n",
       "      <td>0.112628</td>\n",
       "      <td>14.275023</td>\n",
       "    </tr>\n",
       "    <tr>\n",
       "      <th>430</th>\n",
       "      <td>15</td>\n",
       "      <td>21500</td>\n",
       "      <td>0.010650</td>\n",
       "      <td>0.020271</td>\n",
       "      <td>0.003075</td>\n",
       "      <td>0.033996</td>\n",
       "      <td>0.007034</td>\n",
       "      <td>5.281170</td>\n",
       "      <td>0.112628</td>\n",
       "      <td>14.275023</td>\n",
       "    </tr>\n",
       "  </tbody>\n",
       "</table>\n",
       "</div>"
      ],
      "text/plain": [
       "     epoch   step    chi_1a    chi_1b    chi_1c     chi_1     chi_2  \\\n",
       "496     17  24800  0.000332  0.009216  0.001961  0.011510  0.000060   \n",
       "73       2   3650  0.060834  0.002402  0.015435  0.078671  0.046385   \n",
       "139      4   6950  0.006409  0.011106  0.000748  0.018264  0.003233   \n",
       "330     11  16500  0.001215  0.007802  0.000901  0.009918  0.000311   \n",
       "496     17  24800  0.000332  0.009216  0.001961  0.011510  0.000060   \n",
       "2        0    100  1.531872  0.108666  0.003864  1.644402  1.115069   \n",
       "430     15  21500  0.010650  0.020271  0.003075  0.033996  0.007034   \n",
       "430     15  21500  0.010650  0.020271  0.003075  0.033996  0.007034   \n",
       "\n",
       "     chi_imgvar    chi_spec1      chi_spec2  \n",
       "496    5.273425     1.312216     227.019444  \n",
       "73     6.419823     4.049329     698.695002  \n",
       "139    5.403243     1.082246     167.502801  \n",
       "330    5.408878     0.418480      52.910579  \n",
       "496    5.273425     1.312216     227.019444  \n",
       "2      0.708115  3007.965700  117751.394130  \n",
       "430    5.281170     0.112628      14.275023  \n",
       "430    5.281170     0.112628      14.275023  "
      ]
     },
     "execution_count": 19,
     "metadata": {},
     "output_type": "execute_result"
    }
   ],
   "source": [
    "def f_get_best_chisqr_models(df,cutoff=0.2):\n",
    "    '''\n",
    "    Pick models with lowest 20% chi-square for multiple categories\n",
    "    '''\n",
    "    chi_sqr_keys=[ 'chi_1', 'chi_spec1']\n",
    "    q_dict=dict(df.quantile(q=cutoff,axis=0)[chi_sqr_keys])\n",
    "#     print(q_dict)\n",
    "    \n",
    "    df_sliced=df.query('chi_1 < {0} & chi_spec1 < {1}'.format(q_dict['chi_1'],q_dict['chi_spec1']))\n",
    "    \n",
    "    return df_sliced\n",
    "\n",
    "chi_sqr_keys=['epoch','step','chi_1a','chi_1b','chi_1c','chi_1','chi_2','chi_imgvar','chi_spec1','chi_spec2']\n",
    "# index location of min/max values of chi squares\n",
    "inds=[]\n",
    "for key in ['chi_1a','chi_1b','chi_1c','chi_1','chi_2','chi_imgvar','chi_spec1','chi_spec2']:\n",
    "    inds.append(df[key].idxmin(axis=1))\n",
    "inds=np.array(inds)\n",
    "df.loc[inds][chi_sqr_keys]\n"
   ]
  },
  {
   "cell_type": "code",
   "execution_count": 20,
   "metadata": {},
   "outputs": [],
   "source": [
    "### Plot chi-sqr values\n",
    "# _=df_sliced.plot(x=\"step\", y=[\"chi_1\", \"chi_imgvar\", \"chi_spec1\"],style='.',marker='*')"
   ]
  },
  {
   "cell_type": "code",
   "execution_count": 21,
   "metadata": {},
   "outputs": [
    {
     "data": {
      "application/vnd.jupyter.widget-view+json": {
       "model_id": "f40604e809154afeb1e566a4ac065c78",
       "version_major": 2,
       "version_minor": 0
      },
      "text/plain": [
       "Canvas(toolbar=Toolbar(toolitems=[('Home', 'Reset original view', 'home', 'home'), ('Back', 'Back to previous …"
      ]
     },
     "metadata": {},
     "output_type": "display_data"
    },
    {
     "data": {
      "text/plain": [
       "Text(0, 0.5, 'Number of very large pixel images from a batch of images')"
      ]
     },
     "execution_count": 21,
     "metadata": {},
     "output_type": "execute_result"
    }
   ],
   "source": [
    "### Plot number of very high pixel images\n",
    "plt.figure()\n",
    "plt.plot(df[df.img_type=='train_gen'].step,df[df.img_type=='train_gen'].num_vlarge,linestyle='',marker='*')\n",
    "plt.xlabel('Steps in Epochs')\n",
    "plt.ylabel('Number of very large pixel images from a batch of images')\n",
    "\n",
    "# df[df.num_vlarge>10].tail()"
   ]
  },
  {
   "cell_type": "markdown",
   "metadata": {},
   "source": [
    "### View best steps"
   ]
  },
  {
   "cell_type": "code",
   "execution_count": 22,
   "metadata": {},
   "outputs": [],
   "source": [
    "def f_slice_df(df,cutoff=0.2,sort_col='chi_1',col_mode='all',head=10,epoch_range=[0,None],display_flag=False):\n",
    "    ''' View dataframe after slicing\n",
    "    '''\n",
    "    col_list=['label','chi_1','chi_spec1', 'chi_spec3', 'chi_1a', 'chi_1b', 'chi_1c', 'chi_2','chi_imgvar', 'chi_spec2','epoch','step']\n",
    "    if (col_mode=='short'): col_list=['label','chi_1','chi_spec1']\n",
    "        \n",
    "    print(epoch_range)\n",
    "    if epoch_range[1]==None: epoch_range[1]=df.max()['epoch']\n",
    "    df=df[(df.epoch<=epoch_range[1])&(df.epoch>=epoch_range[0])]\n",
    "\n",
    "    ## Apply cutoff to keep reasonable chi1 and chispec1\n",
    "    best_keys=[ 'chi_1', 'chi_spec1']\n",
    "    q_dict=dict(df.quantile(q=cutoff,axis=0)[best_keys])   \n",
    "    print(q_dict)\n",
    "    df=df.query('chi_1 < {0} & chi_spec1 < {1}'.format(q_dict['chi_1'],q_dict['chi_spec1']))\n",
    "    \n",
    "    # Sort dataframe\n",
    "    df1=df[df.epoch>0].sort_values(by=sort_col)\n",
    "        \n",
    "    df2=df1.head(head)[col_list]\n",
    "\n",
    "    if display_flag:   # Display df\n",
    "        display_cols=['label','chi_1','chi_spec1', 'chi_spec3', 'chi_1a', 'chi_1b', 'chi_1c', 'chi_2','chi_imgvar', 'chi_spec2']\n",
    "        display(df2)\n",
    "    \n",
    "    return df2"
   ]
  },
  {
   "cell_type": "code",
   "execution_count": 23,
   "metadata": {},
   "outputs": [
    {
     "data": {
      "application/vnd.jupyter.widget-view+json": {
       "model_id": "a2666a2794414d9f89639776bff6830f",
       "version_major": 2,
       "version_minor": 0
      },
      "text/plain": [
       "interactive(children=(FloatSlider(value=0.2, description='cutoff', max=1.0, step=0.01), Dropdown(description='…"
      ]
     },
     "metadata": {},
     "output_type": "display_data"
    }
   ],
   "source": [
    "w=interactive(f_slice_df,df=fixed(df),\n",
    "cutoff=widgets.FloatSlider(value=0.2, min=0, max=1.0, step=0.01), \n",
    "col_mode=['all','short'], display_flag=widgets.Checkbox(value=False),\n",
    "head=widgets.IntSlider(value=10,min=1,max=20,step=1),\n",
    "epoch_range=widgets.IntRangeSlider(value=[0,np.max(df.epoch.values)],min=0,max=np.max(df.epoch.values),step=1),\n",
    "sort_col=['chi_1','chi_spec1', 'chi_spec3', 'chi_1a', 'chi_1b', 'chi_1c', 'chi_2','chi_imgvar', 'chi_spec2'],\n",
    ")\n",
    "display(w)"
   ]
  },
  {
   "cell_type": "code",
   "execution_count": 25,
   "metadata": {},
   "outputs": [],
   "source": [
    "df_sliced=w.result\n",
    "# df_sliced"
   ]
  },
  {
   "cell_type": "markdown",
   "metadata": {},
   "source": [
    "### Pick best steps"
   ]
  },
  {
   "cell_type": "code",
   "execution_count": 26,
   "metadata": {},
   "outputs": [
    {
     "name": "stdout",
     "output_type": "stream",
     "text": [
      "[0, None]\n",
      "{'chi_1': 0.026433308267082862, 'chi_spec1': 0.485263229977698}\n",
      "[0, 19]\n",
      "{'chi_1': 0.07485038236386601, 'chi_spec1': 2.4648543496570454}\n",
      "[0, 19]\n",
      "{'chi_1': 0.026433308267082862, 'chi_spec1': 0.485263229977698}\n",
      "[13050 15450 15800 16350 16500 18200 22950 23200 24150 27650]\n"
     ]
    }
   ],
   "source": [
    "best_step=[]\n",
    "best_step.append(f_slice_df(df,cutoff=0.2,sort_col='chi_1',head=4,display_flag=False).step.values)\n",
    "best_step.append(f_slice_df(df,cutoff=0.8,sort_col='chi_1b',head=2,display_flag=False).step.values)\n",
    "best_step.append(f_slice_df(df,cutoff=0.2,sort_col='chi_spec1',head=4,display_flag=False).step.values)\n",
    "\n",
    "best_step=np.unique([i for j in best_step for i in j])\n",
    "print(best_step)"
   ]
  },
  {
   "cell_type": "code",
   "execution_count": 27,
   "metadata": {},
   "outputs": [],
   "source": [
    "# best_step=[3430,  6460,  7215,  9610, 11725, 14635, 9475]\n",
    "# best_step=np.arange(40130,40135).astype(int)"
   ]
  },
  {
   "cell_type": "code",
   "execution_count": 28,
   "metadata": {},
   "outputs": [
    {
     "name": "stdout",
     "output_type": "stream",
     "text": [
      "(10, 22)\n",
      "[(9, 13050), (10, 15450), (11, 15800), (11, 16350), (11, 16500), (12, 18200), (16, 22950), (16, 23200), (17, 24150), (19, 27650)]\n"
     ]
    }
   ],
   "source": [
    "df_best=df[df.step.isin(best_step)]\n",
    "print(df_best.shape)\n",
    "print([(df_best[df_best.step==step].epoch.values[0],df_best[df_best.step==step].step.values[0]) for step in best_step])\n",
    "# print([(df_best.loc[idx].epoch,df_best.loc[idx].step) for idx in best_idx])"
   ]
  },
  {
   "cell_type": "code",
   "execution_count": 29,
   "metadata": {},
   "outputs": [
    {
     "data": {
      "text/html": [
       "<div>\n",
       "<style scoped>\n",
       "    .dataframe tbody tr th:only-of-type {\n",
       "        vertical-align: middle;\n",
       "    }\n",
       "\n",
       "    .dataframe tbody tr th {\n",
       "        vertical-align: top;\n",
       "    }\n",
       "\n",
       "    .dataframe thead th {\n",
       "        text-align: right;\n",
       "    }\n",
       "</style>\n",
       "<table border=\"1\" class=\"dataframe\">\n",
       "  <thead>\n",
       "    <tr style=\"text-align: right;\">\n",
       "      <th></th>\n",
       "      <th>label</th>\n",
       "      <th>chi_1</th>\n",
       "      <th>chi_spec1</th>\n",
       "      <th>chi_spec3</th>\n",
       "      <th>chi_1a</th>\n",
       "      <th>chi_1b</th>\n",
       "      <th>chi_1c</th>\n",
       "      <th>chi_2</th>\n",
       "      <th>chi_imgvar</th>\n",
       "      <th>chi_spec2</th>\n",
       "      <th>epoch</th>\n",
       "      <th>step</th>\n",
       "    </tr>\n",
       "  </thead>\n",
       "  <tbody>\n",
       "    <tr>\n",
       "      <th>261</th>\n",
       "      <td>9-13050</td>\n",
       "      <td>0.017467</td>\n",
       "      <td>0.813117</td>\n",
       "      <td>31.592969</td>\n",
       "      <td>0.010517</td>\n",
       "      <td>0.004891</td>\n",
       "      <td>0.002059</td>\n",
       "      <td>0.002438</td>\n",
       "      <td>5.804231</td>\n",
       "      <td>73.475549</td>\n",
       "      <td>9</td>\n",
       "      <td>13050</td>\n",
       "    </tr>\n",
       "    <tr>\n",
       "      <th>309</th>\n",
       "      <td>10-15450</td>\n",
       "      <td>0.022285</td>\n",
       "      <td>0.238579</td>\n",
       "      <td>24.488332</td>\n",
       "      <td>0.003086</td>\n",
       "      <td>0.017665</td>\n",
       "      <td>0.001535</td>\n",
       "      <td>0.000814</td>\n",
       "      <td>5.106434</td>\n",
       "      <td>36.773178</td>\n",
       "      <td>10</td>\n",
       "      <td>15450</td>\n",
       "    </tr>\n",
       "    <tr>\n",
       "      <th>316</th>\n",
       "      <td>11-15800</td>\n",
       "      <td>0.010793</td>\n",
       "      <td>0.449019</td>\n",
       "      <td>26.779757</td>\n",
       "      <td>0.004326</td>\n",
       "      <td>0.005127</td>\n",
       "      <td>0.001341</td>\n",
       "      <td>0.001550</td>\n",
       "      <td>6.440844</td>\n",
       "      <td>71.590059</td>\n",
       "      <td>11</td>\n",
       "      <td>15800</td>\n",
       "    </tr>\n",
       "    <tr>\n",
       "      <th>327</th>\n",
       "      <td>11-16350</td>\n",
       "      <td>0.018451</td>\n",
       "      <td>0.204284</td>\n",
       "      <td>29.983415</td>\n",
       "      <td>0.003792</td>\n",
       "      <td>0.011042</td>\n",
       "      <td>0.003617</td>\n",
       "      <td>0.002234</td>\n",
       "      <td>5.281018</td>\n",
       "      <td>22.749468</td>\n",
       "      <td>11</td>\n",
       "      <td>16350</td>\n",
       "    </tr>\n",
       "    <tr>\n",
       "      <th>330</th>\n",
       "      <td>11-16500</td>\n",
       "      <td>0.009918</td>\n",
       "      <td>0.418480</td>\n",
       "      <td>28.941145</td>\n",
       "      <td>0.001215</td>\n",
       "      <td>0.007802</td>\n",
       "      <td>0.000901</td>\n",
       "      <td>0.000311</td>\n",
       "      <td>5.408878</td>\n",
       "      <td>52.910579</td>\n",
       "      <td>11</td>\n",
       "      <td>16500</td>\n",
       "    </tr>\n",
       "    <tr>\n",
       "      <th>364</th>\n",
       "      <td>12-18200</td>\n",
       "      <td>0.011757</td>\n",
       "      <td>0.399812</td>\n",
       "      <td>28.459577</td>\n",
       "      <td>0.002265</td>\n",
       "      <td>0.008216</td>\n",
       "      <td>0.001276</td>\n",
       "      <td>0.001384</td>\n",
       "      <td>5.432175</td>\n",
       "      <td>57.351348</td>\n",
       "      <td>12</td>\n",
       "      <td>18200</td>\n",
       "    </tr>\n",
       "    <tr>\n",
       "      <th>459</th>\n",
       "      <td>16-22950</td>\n",
       "      <td>0.024768</td>\n",
       "      <td>0.185736</td>\n",
       "      <td>26.900872</td>\n",
       "      <td>0.014374</td>\n",
       "      <td>0.008800</td>\n",
       "      <td>0.001594</td>\n",
       "      <td>0.009721</td>\n",
       "      <td>5.581675</td>\n",
       "      <td>24.697439</td>\n",
       "      <td>16</td>\n",
       "      <td>22950</td>\n",
       "    </tr>\n",
       "    <tr>\n",
       "      <th>464</th>\n",
       "      <td>16-23200</td>\n",
       "      <td>0.021498</td>\n",
       "      <td>0.209797</td>\n",
       "      <td>26.698891</td>\n",
       "      <td>0.011548</td>\n",
       "      <td>0.008434</td>\n",
       "      <td>0.001516</td>\n",
       "      <td>0.007696</td>\n",
       "      <td>5.857690</td>\n",
       "      <td>29.078513</td>\n",
       "      <td>16</td>\n",
       "      <td>23200</td>\n",
       "    </tr>\n",
       "    <tr>\n",
       "      <th>483</th>\n",
       "      <td>17-24150</td>\n",
       "      <td>0.013497</td>\n",
       "      <td>0.626767</td>\n",
       "      <td>27.031240</td>\n",
       "      <td>0.007017</td>\n",
       "      <td>0.004647</td>\n",
       "      <td>0.001833</td>\n",
       "      <td>0.005251</td>\n",
       "      <td>5.725386</td>\n",
       "      <td>71.847210</td>\n",
       "      <td>17</td>\n",
       "      <td>24150</td>\n",
       "    </tr>\n",
       "    <tr>\n",
       "      <th>553</th>\n",
       "      <td>19-27650</td>\n",
       "      <td>0.013376</td>\n",
       "      <td>0.482892</td>\n",
       "      <td>25.970035</td>\n",
       "      <td>0.001095</td>\n",
       "      <td>0.010857</td>\n",
       "      <td>0.001424</td>\n",
       "      <td>0.000234</td>\n",
       "      <td>5.611554</td>\n",
       "      <td>53.380312</td>\n",
       "      <td>19</td>\n",
       "      <td>27650</td>\n",
       "    </tr>\n",
       "  </tbody>\n",
       "</table>\n",
       "</div>"
      ],
      "text/plain": [
       "        label     chi_1  chi_spec1  chi_spec3    chi_1a    chi_1b    chi_1c  \\\n",
       "261   9-13050  0.017467   0.813117  31.592969  0.010517  0.004891  0.002059   \n",
       "309  10-15450  0.022285   0.238579  24.488332  0.003086  0.017665  0.001535   \n",
       "316  11-15800  0.010793   0.449019  26.779757  0.004326  0.005127  0.001341   \n",
       "327  11-16350  0.018451   0.204284  29.983415  0.003792  0.011042  0.003617   \n",
       "330  11-16500  0.009918   0.418480  28.941145  0.001215  0.007802  0.000901   \n",
       "364  12-18200  0.011757   0.399812  28.459577  0.002265  0.008216  0.001276   \n",
       "459  16-22950  0.024768   0.185736  26.900872  0.014374  0.008800  0.001594   \n",
       "464  16-23200  0.021498   0.209797  26.698891  0.011548  0.008434  0.001516   \n",
       "483  17-24150  0.013497   0.626767  27.031240  0.007017  0.004647  0.001833   \n",
       "553  19-27650  0.013376   0.482892  25.970035  0.001095  0.010857  0.001424   \n",
       "\n",
       "        chi_2  chi_imgvar  chi_spec2  epoch   step  \n",
       "261  0.002438    5.804231  73.475549      9  13050  \n",
       "309  0.000814    5.106434  36.773178     10  15450  \n",
       "316  0.001550    6.440844  71.590059     11  15800  \n",
       "327  0.002234    5.281018  22.749468     11  16350  \n",
       "330  0.000311    5.408878  52.910579     11  16500  \n",
       "364  0.001384    5.432175  57.351348     12  18200  \n",
       "459  0.009721    5.581675  24.697439     16  22950  \n",
       "464  0.007696    5.857690  29.078513     16  23200  \n",
       "483  0.005251    5.725386  71.847210     17  24150  \n",
       "553  0.000234    5.611554  53.380312     19  27650  "
      ]
     },
     "execution_count": 29,
     "metadata": {},
     "output_type": "execute_result"
    }
   ],
   "source": [
    "df_best[col_list]"
   ]
  },
  {
   "cell_type": "markdown",
   "metadata": {},
   "source": [
    "## Plot pixel intensity and spectrum"
   ]
  },
  {
   "cell_type": "code",
   "execution_count": 30,
   "metadata": {
    "jupyter": {
     "source_hidden": true
    }
   },
   "outputs": [],
   "source": [
    "\n",
    "def f_plot_hist_spec(df,dict_bkg,plot_type):\n",
    "\n",
    "    img_size=128\n",
    "    assert plot_type in ['hist','spec','spec_relative','grid'],\"Invalid mode %s\"%(plot_type)\n",
    "\n",
    "    if plot_type in ['hist','spec','spec_relative']:     fig=plt.figure(figsize=(6,6))\n",
    "\n",
    "    for (i,row),marker in zip(df.iterrows(),itertools.cycle('>^*sDHPdpx_')):\n",
    "        label=row.label\n",
    "        if plot_type=='hist':\n",
    "            x1=row.hist_bin_centers\n",
    "            y1=row.hist_val\n",
    "            yerr1=row.hist_err\n",
    "            x1=f_invtransform(x1)\n",
    "            \n",
    "            plt.errorbar(x1,y1,yerr1,marker=marker,markersize=5,linestyle='',label=label)\n",
    "        if plot_type=='spec':\n",
    "            \n",
    "            y2=row.spec_val\n",
    "            yerr2=row.spec_sdev/np.sqrt(row.num_imgs)\n",
    "            x2=np.arange(len(y2))\n",
    "            \n",
    "            plt.fill_between(x2, y2 - yerr2, y2 + yerr2, alpha=0.4)\n",
    "            plt.plot(x2, y2, marker=marker, linestyle=':',label=label)\n",
    "            \n",
    "        if plot_type=='spec_relative':\n",
    "            \n",
    "            y2=row.spec_val\n",
    "            yerr2=row.spec_sdev\n",
    "            x2=np.arange(len(y2))\n",
    "            \n",
    "            ### Reference spectrum\n",
    "            y1,yerr1=dict_bkg['spec_val'],dict_bkg['spec_sdev']\n",
    "            y=y2/(1.0*y1)\n",
    "            ## Variance is sum of variance of both variables, since they are uncorrelated\n",
    "            \n",
    "            # delta_r= |r| * sqrt(delta_a/a)^2 +(\\delta_b/b)^2) / \\sqrt(N)\n",
    "            yerr=(np.abs(y))*np.sqrt((yerr1/y1)**2+(yerr2/y2)**2)/np.sqrt(row.num_imgs)\n",
    "\n",
    "            plt.fill_between(x2, y - yerr, y + yerr, alpha=0.4)\n",
    "            plt.plot(x2, y, marker=marker, linestyle=':',label=label)\n",
    "            plt.xlim(0,img_size/2)\n",
    "            plt.ylim(0.5,2)\n",
    "            plt.legend()\n",
    "            \n",
    "        if plot_type=='grid':\n",
    "            images=np.load(row.fname)[:,0,:,:]\n",
    "            f_plot_grid(images[:18],cols=6,fig_size=(10,5))\n",
    "            \n",
    "    ### Plot input data\n",
    "    if plot_type=='hist':\n",
    "        x,y,yerr=dict_bkg['hist_bin_centers'],dict_bkg['hist_val'],dict_bkg['hist_err']\n",
    "        x=f_invtransform(x)\n",
    "        plt.errorbar(x, y,yerr,color='k',linestyle='-',label='bkgnd')   \n",
    "        plt.title('Pixel Intensity Histogram')\n",
    "        plt.xscale('symlog',linthreshx=100)\n",
    "        \n",
    "    if plot_type=='spec':\n",
    "        y,yerr=dict_bkg['spec_val'],dict_bkg['spec_sdev']/np.sqrt(num_bkgnd)\n",
    "        x=np.arange(len(y))\n",
    "        plt.fill_between(x, y - yerr, y + yerr, color='k',alpha=0.8)\n",
    "        plt.title('Spectrum')\n",
    "\n",
    "    if plot_type=='spec_relative':\n",
    "        plt.axhline(y=1.0,color='k',linestyle='-.')\n",
    "    \n",
    "    plt.legend(bbox_to_anchor=(0.3, 0.75),ncol=2, fancybox=True, shadow=True,prop={'size':6})\n",
    "    if plot_type in ['hist','spec']:     plt.yscale('log')\n",
    "    \n",
    "\n",
    "# f_plot_hist_spec(df_runs,dict_val,'hist')\n",
    "# f_plot_hist_spec(df_runs,dict_val,'spec')\n",
    "# f_plot_hist_spec(df_best,dict_val,'grid')\n"
   ]
  },
  {
   "cell_type": "code",
   "execution_count": 31,
   "metadata": {},
   "outputs": [
    {
     "data": {
      "application/vnd.jupyter.widget-view+json": {
       "model_id": "bf39742fca44452697dc43eeb9ced399",
       "version_major": 2,
       "version_minor": 0
      },
      "text/plain": [
       "interactive(children=(SelectMultiple(description='labels_list', options=('9-13050', '10-15450', '11-15800', '1…"
      ]
     },
     "metadata": {},
     "output_type": "display_data"
    },
    {
     "data": {
      "text/plain": [
       "<function __main__.f_widget_compare(df, labels_list, bkgnd, plot_type)>"
      ]
     },
     "execution_count": 31,
     "metadata": {},
     "output_type": "execute_result"
    }
   ],
   "source": [
    "def f_widget_compare(df,labels_list,bkgnd,plot_type):\n",
    "    df_temp=df[df.label.isin(labels_list)]\n",
    "    f_plot_hist_spec(df_temp,dict_val,plot_type)\n",
    "    \n",
    "interact_manual(f_widget_compare,df=fixed(df_best),\n",
    "                labels_list=SelectMultiple(options=df_best.label.values), \n",
    "                bkgnd=fixed(dict_val),plot_type=ToggleButtons(options=['hist','spec','spec_relative','grid']))"
   ]
  },
  {
   "cell_type": "code",
   "execution_count": 37,
   "metadata": {},
   "outputs": [
    {
     "data": {
      "application/vnd.jupyter.widget-view+json": {
       "model_id": "e942aaaa90814371bbe4fc158b27737c",
       "version_major": 2,
       "version_minor": 0
      },
      "text/plain": [
       "Canvas(toolbar=Toolbar(toolitems=[('Home', 'Reset original view', 'home', 'home'), ('Back', 'Back to previous …"
      ]
     },
     "metadata": {},
     "output_type": "display_data"
    },
    {
     "data": {
      "text/plain": [
       "<AxesSubplot:xlabel='step'>"
      ]
     },
     "execution_count": 37,
     "metadata": {},
     "output_type": "execute_result"
    }
   ],
   "source": [
    "df[(df.step>8000)& (df.step<10000)].plot(kind='line',x='step',y=['chi_1','chi_spec1'])"
   ]
  },
  {
   "cell_type": "code",
   "execution_count": null,
   "metadata": {},
   "outputs": [],
   "source": []
  },
  {
   "cell_type": "markdown",
   "metadata": {},
   "source": [
    "## View image block"
   ]
  },
  {
   "cell_type": "code",
   "execution_count": 32,
   "metadata": {},
   "outputs": [],
   "source": [
    "def f_get_img(df,step):\n",
    "    df_temp=df[(df.step==step)]\n",
    "    images=np.load(df_temp.fname.values[0])[:,0,:,:]\n",
    "    return images\n",
    "\n",
    "img_arr=f_get_img(df,8020)\n",
    "# f_plot_grid(img_arr[:18],cols=6,fig_size=(10,5))"
   ]
  },
  {
   "cell_type": "code",
   "execution_count": 33,
   "metadata": {},
   "outputs": [
    {
     "name": "stdout",
     "output_type": "stream",
     "text": [
      "3 6\n"
     ]
    },
    {
     "data": {
      "application/vnd.jupyter.widget-view+json": {
       "model_id": "76a77da3d28c47d8a9acb086a45f2f79",
       "version_major": 2,
       "version_minor": 0
      },
      "text/plain": [
       "Canvas(toolbar=Toolbar(toolitems=[('Home', 'Reset original view', 'home', 'home'), ('Back', 'Back to previous …"
      ]
     },
     "metadata": {},
     "output_type": "display_data"
    }
   ],
   "source": [
    "# f_plot_grid(s_val[100:118],cols=6,fig_size=(10,5))"
   ]
  },
  {
   "cell_type": "markdown",
   "metadata": {},
   "source": [
    "### Plotting spread of spectrum of input data"
   ]
  },
  {
   "cell_type": "code",
   "execution_count": 34,
   "metadata": {},
   "outputs": [],
   "source": [
    "\n",
    "# plt.figure()\n",
    "\n",
    "# idxs=np.random.randint(0,s_val.shape[0],size=50)\n",
    "# arr=s_val[idxs]\n",
    "# Pk = f_batch_spectrum(arr)\n",
    "# k=np.arange(Pk.shape[1])\n",
    "# for count,i in enumerate(Pk):\n",
    "#     plt.plot(i)\n",
    "    \n",
    "# Pk = f_batch_spectrum(img_arr)\n",
    "# mean,std = np.mean(Pk, axis=0),np.std(Pk, axis=0)/np.sqrt(Pk.shape[0])\n",
    "# plt.plot(k, mean, 'k:',label='generated image')\n",
    "\n",
    "\n",
    "# plt.legend()\n",
    "\n",
    "# plt.ylabel(r'$P(k)$')\n",
    "# plt.xlabel(r'$k$')\n",
    "# plt.title('Power Spectrum: 50 input images')\n",
    "# plt.yscale('log')\n",
    "\n"
   ]
  },
  {
   "cell_type": "code",
   "execution_count": 35,
   "metadata": {},
   "outputs": [
    {
     "name": "stdout",
     "output_type": "stream",
     "text": [
      "(256, 128, 128)\n",
      "(256, 128, 128)\n"
     ]
    }
   ],
   "source": [
    "# main_dir='/global/cscratch1/sd/vpa/proj/cosmogan/results_dir/128square/'\n",
    "# f1=main_dir+'20201208_165658_bsize256_scale0.1_deterministic_on/dump_outs/trainer0/model0/sgd.training.epoch.1.step.1000_gen_img_instance1_activation_output0.npy'\n",
    "# a1=np.load(f1)[:,0,:,:]\n",
    "# f2=main_dir+'20201209_055955_bsize256_scale0.1_deterministic_on/dump_outs/trainer0/model0/sgd.training.epoch.1.step.1000_gen_img_instance1_activation_output0.npy'\n",
    "# a2=np.load(f2)[:,0,:,:]\n",
    "\n",
    "# print(a1.shape)\n",
    "# print(a2.shape)\n"
   ]
  },
  {
   "cell_type": "code",
   "execution_count": 36,
   "metadata": {},
   "outputs": [
    {
     "data": {
      "application/vnd.jupyter.widget-view+json": {
       "model_id": "410e0e7e03074174819dc425616a0fe1",
       "version_major": 2,
       "version_minor": 0
      },
      "text/plain": [
       "Canvas(toolbar=Toolbar(toolitems=[('Home', 'Reset original view', 'home', 'home'), ('Back', 'Back to previous …"
      ]
     },
     "metadata": {},
     "output_type": "display_data"
    },
    {
     "name": "stderr",
     "output_type": "stream",
     "text": [
      "/global/u1/v/vpa/project/jpt_notebooks/Cosmology/Cosmo_GAN/repositories/lbann_cosmogan/3_analysis/modules_image_analysis.py:153: VisibleDeprecationWarning: Creating an ndarray from ragged nested sequences (which is a list-or-tuple of lists-or-tuples-or ndarrays with different lengths or shapes) is deprecated. If you meant to do this, you must specify 'dtype=object' when creating the ndarray\n",
      "  hist_arr=np.array([np.histogram(arr.flatten(), bins=bins, range=(llim,ulim), density=norm) for arr in img_arr]) ## range is important\n",
      "/global/u1/v/vpa/project/jpt_notebooks/Cosmology/Cosmo_GAN/repositories/lbann_cosmogan/3_analysis/modules_image_analysis.py:196: MatplotlibDeprecationWarning: The 'linthreshx' parameter of __init__() has been renamed 'linthresh' since Matplotlib 3.3; support for the old name will be dropped two minor releases later.\n",
      "  plt.xscale('symlog',linthreshx=50)\n"
     ]
    }
   ],
   "source": [
    "# # f_pixel_intensity(a1)\n",
    "# # f_pixel_intensity(a2)\n",
    "\n",
    "# f_compare_pixel_intensity([a1,a2],label_lst=['img1','img2'],bkgnd_arr=[],log_scale=True, normalize=True, mode='avg',bins=25, hist_range=None)"
   ]
  }
 ],
 "metadata": {
  "kernelspec": {
   "display_name": "v3",
   "language": "python",
   "name": "v-jpt-3"
  },
  "language_info": {
   "codemirror_mode": {
    "name": "ipython",
    "version": 3
   },
   "file_extension": ".py",
   "mimetype": "text/x-python",
   "name": "python",
   "nbconvert_exporter": "python",
   "pygments_lexer": "ipython3",
   "version": "3.8.6"
  },
  "toc-autonumbering": true,
  "toc-showcode": false,
  "toc-showmarkdowntxt": true,
  "toc-showtags": false
 },
 "nbformat": 4,
 "nbformat_minor": 4
}
