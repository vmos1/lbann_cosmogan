{
 "cells": [
  {
   "cell_type": "markdown",
   "metadata": {},
   "source": [
    "# Extract data from output files\n",
    "### Analyze the output from a single LBANN run\n",
    "March 9, 2020 \\\n",
    "April 6, 2020 : to store files in order of epochs \\\n",
    "April 21, 2020: added jupyter widgets to compare pixel intensity plots \\\n",
    "July 30, 2020: Perform analysis with stored histograms."
   ]
  },
  {
   "cell_type": "code",
   "execution_count": null,
   "metadata": {},
   "outputs": [],
   "source": [
    "import numpy as np\n",
    "import matplotlib.pyplot as plt\n",
    "import seaborn as sns\n",
    "import pandas as pd\n",
    "\n",
    "import subprocess as sp\n",
    "import os\n",
    "import glob\n",
    "import sys\n",
    "\n",
    "import itertools\n",
    "import time\n",
    "\n",
    "from ipywidgets import *"
   ]
  },
  {
   "cell_type": "code",
   "execution_count": null,
   "metadata": {},
   "outputs": [],
   "source": [
    "%matplotlib widget"
   ]
  },
  {
   "cell_type": "code",
   "execution_count": null,
   "metadata": {},
   "outputs": [],
   "source": [
    "sys.path.append('/global/u1/v/vpa/project/jpt_notebooks/Cosmology/Cosmo_GAN/repositories/lbann_cosmogan/3_analysis')\n",
    "from modules_image_analysis import *"
   ]
  },
  {
   "cell_type": "code",
   "execution_count": null,
   "metadata": {},
   "outputs": [],
   "source": [
    "### Transformation functions for image pixel values\n",
    "def f_transform(x):\n",
    "    return 2.*x/(x + 4. + 1e-8) - 1.\n",
    "\n",
    "def f_invtransform(s):\n",
    "    return 4.*(1. + s)/(1. - s + 1e-8)"
   ]
  },
  {
   "cell_type": "markdown",
   "metadata": {},
   "source": [
    "## Extract folder"
   ]
  },
  {
   "cell_type": "code",
   "execution_count": null,
   "metadata": {},
   "outputs": [],
   "source": [
    "img_size=128\n",
    "dict1={'scratch':'/global/cscratch1/sd/vpa/proj/cosmogan/results_dir/{0}square/'.format(img_size),\n",
    "    'proj':'/global/cfs/cdirs/m3363/vayyar/cosmogan_data/results_data/'}\n",
    "\n",
    "u=interactive(lambda x: dict1[x], x=Select(options=dict1.keys()))\n",
    "display(u)\n"
   ]
  },
  {
   "cell_type": "code",
   "execution_count": null,
   "metadata": {},
   "outputs": [],
   "source": [
    "parent_dir=u.result\n",
    "dir_lst=[i.split('/')[-1] for i in glob.glob(parent_dir+'202*')]\n",
    "w=interactive(lambda x: x, x=Dropdown(options=dir_lst))\n",
    "display(w)"
   ]
  },
  {
   "cell_type": "code",
   "execution_count": null,
   "metadata": {},
   "outputs": [],
   "source": [
    "result=w.result\n",
    "main_dir=parent_dir+result\n",
    "print(main_dir)"
   ]
  },
  {
   "cell_type": "code",
   "execution_count": null,
   "metadata": {},
   "outputs": [],
   "source": [
    "# Get location for validation data\n",
    "raw_data_dir='/global/cfs/cdirs/m3363/vayyar/cosmogan_data/raw_data/'\n",
    "input_files_dict={'128':raw_data_dir+'128_square/dataset_2_smoothing_200k/norm_1_train_val.npy',\n",
    "                 '512':raw_data_dir+'512_square/dataset1_smoothing_single_universe/norm_1_train_val.npy'}"
   ]
  },
  {
   "cell_type": "code",
   "execution_count": null,
   "metadata": {},
   "outputs": [],
   "source": [
    "def f_compute_hist_spect(sample,bins):\n",
    "    ''' Compute pixel intensity histograms and radial spectrum for 2D arrays\n",
    "    Input : Image arrays and bins\n",
    "    Output: dictionary with 5 arrays : Histogram values, errors and bin centers, Spectrum values and errors.\n",
    "    '''\n",
    "    ### Compute pixel histogram for row\n",
    "    gen_hist,gen_err,hist_bins=f_batch_histogram(sample,bins=bins,norm=True,hist_range=None)\n",
    "    ### Compute spectrum for row\n",
    "    spec,spec_sdev=f_compute_spectrum(sample,plot=False)\n",
    "\n",
    "    dict1={'hist_val':gen_hist,'hist_err':gen_err,'hist_bin_centers':hist_bins,'spec_val':spec,'spec_sdev':spec_sdev }\n",
    "    return dict1\n",
    "\n",
    "\n",
    "### Extract validation data\n",
    "num_bkgnd=1000\n",
    "fname=input_files_dict[str(img_size)]\n",
    "s_val=np.load(fname,mmap_mode='r')[:num_bkgnd][:,0,:,:]\n",
    "print(s_val.shape)\n",
    "\n",
    "bins=np.concatenate([np.array([-0.5]),np.arange(0.5,100.5,5),np.arange(100.5,300.5,20),np.arange(300.5,1000.5,50),np.array([2000])]) #bin edges to use\n",
    "bins=f_transform(bins)   ### scale to (-1,1) \n",
    "### Compute histogram and spectrum of raw data \n",
    "dict_val=f_compute_hist_spect(s_val,bins)"
   ]
  },
  {
   "cell_type": "code",
   "execution_count": 43,
   "metadata": {},
   "outputs": [],
   "source": [
    "# main_dir='/global/cscratch1/sd/vpa/proj/cosmogan/results_dir/128square/scaling_runs/20201031_205304_bsize512_scaling_2_8'"
   ]
  },
  {
   "cell_type": "markdown",
   "metadata": {},
   "source": [
    "## Extract metrics info from log file"
   ]
  },
  {
   "cell_type": "code",
   "execution_count": 44,
   "metadata": {},
   "outputs": [],
   "source": [
    "def f_extract_info(fname):\n",
    "    '''\n",
    "    Module to extract information from out.log files of Lbann training\n",
    "    Reads in file name\n",
    "    '''\n",
    "    strg_lst=['objective','d_real','d_fake','gen','spec_loss','run time','mini-batch']\n",
    "    keys=['training_'+strg for strg in strg_lst]\n",
    "    dict1={}\n",
    "    for category in ['training','validation']:\n",
    "        for strg in strg_lst:\n",
    "            try: \n",
    "                key=category+'_'+strg\n",
    "                cmd='grep \"{0}\" {1} | grep \"{2}\"'.format(category,fname,strg)\n",
    "        #         print(cmd)\n",
    "                op1=sp.check_output(cmd,shell=True).decode('utf-8').split('\\n')\n",
    "                obj=np.array([strg.split(':')[-1] for strg in op1 if strg])\n",
    "                dict1[key]=obj\n",
    "            except Exception as e:\n",
    "                print(e)\n",
    "                dict1[key]=np.nan\n",
    "    \n",
    "    df=pd.DataFrame([])\n",
    "    key_lst=['training_objective', 'training_d_real', 'training_d_fake', 'training_gen', 'training_spec_loss','validation_objective', 'validation_d_real', 'validation_d_fake', 'validation_gen','validation_spec_loss']\n",
    "    col_list=['train_obj','train_dreal','train_dfake','train_gen','train_spec','val_obj','val_dreal','val_dfake','val_gen','val_spec']\n",
    "    for col,key in zip(col_list,key_lst):\n",
    "        try: \n",
    "            df[col]=dict1[key].astype(np.float)\n",
    "        except: pass\n",
    "\n",
    "    ### Need to remove the trailing 's' in the timings\n",
    "    for col,key in zip(['train_time','val_time'],['training_run time','validation_run time']):\n",
    "        df[col]=np.array([i[:-1] for i in dict1[key]]).astype(np.float)\n",
    "\n",
    "    for col,key in zip(['train_batch_stats','val_batch_stats'],['training_mini-batch','validation_mini-batch']):\n",
    "        df[col]=dict1[key]\n",
    "        \n",
    "    return df\n",
    "\n",
    "def f_plot_metrics(df,col_list=['train_obj']):\n",
    "    '''\n",
    "    Plot multiple columns of the dataframe\n",
    "    '''\n",
    "    plt.figure()\n",
    "    \n",
    "    marker_lst=('o','*','H','D','.','x')\n",
    "    marker=itertools.cycle(marker_lst)\n",
    "    for col in col_list: plt.plot(df[col],linestyle='',marker=next(marker),label=col)\n",
    "    plt.legend()\n",
    "    plt.xlabel('Epoch')\n",
    "    "
   ]
  },
  {
   "cell_type": "code",
   "execution_count": 45,
   "metadata": {},
   "outputs": [],
   "source": [
    "strg=main_dir+'/out.log'\n",
    "df_metrics=f_extract_info(glob.glob(strg)[0])"
   ]
  },
  {
   "cell_type": "code",
   "execution_count": 46,
   "metadata": {},
   "outputs": [
    {
     "data": {
      "text/html": [
       "<div>\n",
       "<style scoped>\n",
       "    .dataframe tbody tr th:only-of-type {\n",
       "        vertical-align: middle;\n",
       "    }\n",
       "\n",
       "    .dataframe tbody tr th {\n",
       "        vertical-align: top;\n",
       "    }\n",
       "\n",
       "    .dataframe thead th {\n",
       "        text-align: right;\n",
       "    }\n",
       "</style>\n",
       "<table border=\"1\" class=\"dataframe\">\n",
       "  <thead>\n",
       "    <tr style=\"text-align: right;\">\n",
       "      <th></th>\n",
       "      <th>train_obj</th>\n",
       "      <th>train_dreal</th>\n",
       "      <th>train_dfake</th>\n",
       "      <th>train_gen</th>\n",
       "      <th>train_spec</th>\n",
       "      <th>val_obj</th>\n",
       "      <th>val_dreal</th>\n",
       "      <th>val_dfake</th>\n",
       "      <th>val_gen</th>\n",
       "      <th>val_spec</th>\n",
       "      <th>train_time</th>\n",
       "      <th>val_time</th>\n",
       "      <th>train_batch_stats</th>\n",
       "      <th>val_batch_stats</th>\n",
       "    </tr>\n",
       "  </thead>\n",
       "  <tbody>\n",
       "    <tr>\n",
       "      <th>0</th>\n",
       "      <td>13.56810</td>\n",
       "      <td>1.264900</td>\n",
       "      <td>1.154540</td>\n",
       "      <td>9.80116</td>\n",
       "      <td>13.4753</td>\n",
       "      <td>2.19934</td>\n",
       "      <td>0.281325</td>\n",
       "      <td>0.536527</td>\n",
       "      <td>0.014399</td>\n",
       "      <td>13.6709</td>\n",
       "      <td>173.761</td>\n",
       "      <td>3.74762</td>\n",
       "      <td>0.197449s mean, 3.94145s max, 0.0302313s min,...</td>\n",
       "      <td>0.0381801s mean, 1.15027s max, 0.0198753s min...</td>\n",
       "    </tr>\n",
       "    <tr>\n",
       "      <th>1</th>\n",
       "      <td>6.74166</td>\n",
       "      <td>0.473388</td>\n",
       "      <td>0.424663</td>\n",
       "      <td>4.62894</td>\n",
       "      <td>12.1467</td>\n",
       "      <td>28.30710</td>\n",
       "      <td>0.101750</td>\n",
       "      <td>0.130012</td>\n",
       "      <td>26.707600</td>\n",
       "      <td>13.6776</td>\n",
       "      <td>167.910</td>\n",
       "      <td>2.22450</td>\n",
       "      <td>0.190798s mean, 3.77667s max, 0.0256201s min,...</td>\n",
       "      <td>0.0226465s mean, 0.0495297s max, 0.0148799s m...</td>\n",
       "    </tr>\n",
       "    <tr>\n",
       "      <th>2</th>\n",
       "      <td>6.51110</td>\n",
       "      <td>0.349436</td>\n",
       "      <td>0.322044</td>\n",
       "      <td>4.64908</td>\n",
       "      <td>11.9054</td>\n",
       "      <td>6.90543</td>\n",
       "      <td>0.098770</td>\n",
       "      <td>3.802310</td>\n",
       "      <td>1.767640</td>\n",
       "      <td>12.3670</td>\n",
       "      <td>174.106</td>\n",
       "      <td>2.20900</td>\n",
       "      <td>0.197851s mean, 4.13544s max, 0.024362s min, ...</td>\n",
       "      <td>0.0224729s mean, 0.0508726s max, 0.0149095s m...</td>\n",
       "    </tr>\n",
       "    <tr>\n",
       "      <th>3</th>\n",
       "      <td>6.22077</td>\n",
       "      <td>0.320762</td>\n",
       "      <td>0.301277</td>\n",
       "      <td>4.42571</td>\n",
       "      <td>11.7302</td>\n",
       "      <td>7.31053</td>\n",
       "      <td>0.086668</td>\n",
       "      <td>0.130797</td>\n",
       "      <td>5.900600</td>\n",
       "      <td>11.9246</td>\n",
       "      <td>166.671</td>\n",
       "      <td>2.23297</td>\n",
       "      <td>0.189392s mean, 3.21994s max, 0.0244294s min,...</td>\n",
       "      <td>0.0227339s mean, 0.0507553s max, 0.015235s mi...</td>\n",
       "    </tr>\n",
       "    <tr>\n",
       "      <th>4</th>\n",
       "      <td>5.71714</td>\n",
       "      <td>0.332931</td>\n",
       "      <td>0.324159</td>\n",
       "      <td>3.88643</td>\n",
       "      <td>11.7362</td>\n",
       "      <td>21.66120</td>\n",
       "      <td>4.101680</td>\n",
       "      <td>0.121550</td>\n",
       "      <td>16.256800</td>\n",
       "      <td>11.8114</td>\n",
       "      <td>167.893</td>\n",
       "      <td>2.39839</td>\n",
       "      <td>0.190784s mean, 3.97556s max, 0.0252403s min,...</td>\n",
       "      <td>0.0244219s mean, 0.265225s max, 0.0148283s mi...</td>\n",
       "    </tr>\n",
       "  </tbody>\n",
       "</table>\n",
       "</div>"
      ],
      "text/plain": [
       "   train_obj  train_dreal  train_dfake  train_gen  train_spec   val_obj  \\\n",
       "0   13.56810     1.264900     1.154540    9.80116     13.4753   2.19934   \n",
       "1    6.74166     0.473388     0.424663    4.62894     12.1467  28.30710   \n",
       "2    6.51110     0.349436     0.322044    4.64908     11.9054   6.90543   \n",
       "3    6.22077     0.320762     0.301277    4.42571     11.7302   7.31053   \n",
       "4    5.71714     0.332931     0.324159    3.88643     11.7362  21.66120   \n",
       "\n",
       "   val_dreal  val_dfake    val_gen  val_spec  train_time  val_time  \\\n",
       "0   0.281325   0.536527   0.014399   13.6709     173.761   3.74762   \n",
       "1   0.101750   0.130012  26.707600   13.6776     167.910   2.22450   \n",
       "2   0.098770   3.802310   1.767640   12.3670     174.106   2.20900   \n",
       "3   0.086668   0.130797   5.900600   11.9246     166.671   2.23297   \n",
       "4   4.101680   0.121550  16.256800   11.8114     167.893   2.39839   \n",
       "\n",
       "                                   train_batch_stats  \\\n",
       "0   0.197449s mean, 3.94145s max, 0.0302313s min,...   \n",
       "1   0.190798s mean, 3.77667s max, 0.0256201s min,...   \n",
       "2   0.197851s mean, 4.13544s max, 0.024362s min, ...   \n",
       "3   0.189392s mean, 3.21994s max, 0.0244294s min,...   \n",
       "4   0.190784s mean, 3.97556s max, 0.0252403s min,...   \n",
       "\n",
       "                                     val_batch_stats  \n",
       "0   0.0381801s mean, 1.15027s max, 0.0198753s min...  \n",
       "1   0.0226465s mean, 0.0495297s max, 0.0148799s m...  \n",
       "2   0.0224729s mean, 0.0508726s max, 0.0149095s m...  \n",
       "3   0.0227339s mean, 0.0507553s max, 0.015235s mi...  \n",
       "4   0.0244219s mean, 0.265225s max, 0.0148283s mi...  "
      ]
     },
     "execution_count": 46,
     "metadata": {},
     "output_type": "execute_result"
    }
   ],
   "source": [
    "df_metrics.head()"
   ]
  },
  {
   "cell_type": "code",
   "execution_count": 47,
   "metadata": {},
   "outputs": [
    {
     "data": {
      "application/vnd.jupyter.widget-view+json": {
       "model_id": "1ebe411012584990880ba85ecc09aa74",
       "version_major": 2,
       "version_minor": 0
      },
      "text/plain": [
       "interactive(children=(SelectMultiple(description='col_list', options=('train_obj', 'train_dreal', 'train_dfake…"
      ]
     },
     "metadata": {},
     "output_type": "display_data"
    },
    {
     "data": {
      "text/plain": [
       "<function __main__.f_plot_metrics(df, col_list=['train_obj'])>"
      ]
     },
     "execution_count": 47,
     "metadata": {},
     "output_type": "execute_result"
    }
   ],
   "source": [
    "col_list=df_metrics.columns[~df_metrics.columns.str.endswith('stats')]\n",
    "interact_manual(f_plot_metrics,col_list=SelectMultiple(options=col_list),df=fixed(df_metrics))\n"
   ]
  },
  {
   "cell_type": "markdown",
   "metadata": {},
   "source": [
    "## Extract data from stored dataframe"
   ]
  },
  {
   "cell_type": "code",
   "execution_count": 48,
   "metadata": {},
   "outputs": [],
   "source": [
    "### Load data\n",
    "df=pd.read_pickle(main_dir+'/df_processed.pkle')\n",
    "df[['epoch','step']]=df[['epoch','step']].astype(int)\n",
    "df['label']=df.epoch.astype(str)+'-'+df.step.astype(str) # Add label column for plotting\n",
    "\n",
    "col_list=['label','chi_1','chi_spec1', 'chi_spec3', 'chi_1a', 'chi_1b', 'chi_1c', 'chi_2','chi_imgvar', 'chi_spec2','epoch','step']\n"
   ]
  },
  {
   "cell_type": "code",
   "execution_count": 49,
   "metadata": {},
   "outputs": [
    {
     "name": "stdout",
     "output_type": "stream",
     "text": [
      "(3516, 22)\n"
     ]
    },
    {
     "data": {
      "text/html": [
       "<div>\n",
       "<style scoped>\n",
       "    .dataframe tbody tr th:only-of-type {\n",
       "        vertical-align: middle;\n",
       "    }\n",
       "\n",
       "    .dataframe tbody tr th {\n",
       "        vertical-align: top;\n",
       "    }\n",
       "\n",
       "    .dataframe thead th {\n",
       "        text-align: right;\n",
       "    }\n",
       "</style>\n",
       "<table border=\"1\" class=\"dataframe\">\n",
       "  <thead>\n",
       "    <tr style=\"text-align: right;\">\n",
       "      <th></th>\n",
       "      <th>epoch</th>\n",
       "      <th>step</th>\n",
       "      <th>img_type</th>\n",
       "      <th>fname</th>\n",
       "      <th>chi_1a</th>\n",
       "      <th>chi_1b</th>\n",
       "      <th>chi_1c</th>\n",
       "      <th>chi_1</th>\n",
       "      <th>chi_2</th>\n",
       "      <th>chi_imgvar</th>\n",
       "      <th>...</th>\n",
       "      <th>chi_spec3</th>\n",
       "      <th>num_imgs</th>\n",
       "      <th>num_large</th>\n",
       "      <th>num_vlarge</th>\n",
       "      <th>hist_val</th>\n",
       "      <th>hist_err</th>\n",
       "      <th>hist_bin_centers</th>\n",
       "      <th>spec_val</th>\n",
       "      <th>spec_sdev</th>\n",
       "      <th>label</th>\n",
       "    </tr>\n",
       "  </thead>\n",
       "  <tbody>\n",
       "    <tr>\n",
       "      <th>3511</th>\n",
       "      <td>39</td>\n",
       "      <td>35110</td>\n",
       "      <td>train_gen</td>\n",
       "      <td>/global/cscratch1/sd/vpa/proj/cosmogan/results...</td>\n",
       "      <td>0.035826</td>\n",
       "      <td>0.032750</td>\n",
       "      <td>0.243801</td>\n",
       "      <td>0.312377</td>\n",
       "      <td>0.007125</td>\n",
       "      <td>5.807954</td>\n",
       "      <td>...</td>\n",
       "      <td>26.365186</td>\n",
       "      <td>256</td>\n",
       "      <td>19</td>\n",
       "      <td>7</td>\n",
       "      <td>[1.0487138163163268, 0.4780254855185938, 0.045...</td>\n",
       "      <td>[0.0037032377406290957, 0.001730421208449659, ...</td>\n",
       "      <td>[-1.031746031584782, -0.3099415213241682, 0.30...</td>\n",
       "      <td>[87462.74302036758, 61455.0704494546, 45497.91...</td>\n",
       "      <td>[45105.62380118491, 25693.168101121515, 17665....</td>\n",
       "      <td>39-35110</td>\n",
       "    </tr>\n",
       "    <tr>\n",
       "      <th>3512</th>\n",
       "      <td>39</td>\n",
       "      <td>35120</td>\n",
       "      <td>train_gen</td>\n",
       "      <td>/global/cscratch1/sd/vpa/proj/cosmogan/results...</td>\n",
       "      <td>0.108443</td>\n",
       "      <td>0.896366</td>\n",
       "      <td>20.245580</td>\n",
       "      <td>21.250389</td>\n",
       "      <td>0.015212</td>\n",
       "      <td>20.190483</td>\n",
       "      <td>...</td>\n",
       "      <td>39.687845</td>\n",
       "      <td>256</td>\n",
       "      <td>85</td>\n",
       "      <td>23</td>\n",
       "      <td>[1.1868982554437415, 0.38960823326085925, 0.05...</td>\n",
       "      <td>[0.00640672608555894, 0.002723326310628461, 0....</td>\n",
       "      <td>[-1.031746031584782, -0.3099415213241682, 0.30...</td>\n",
       "      <td>[243543.95415830612, 139485.95173084136, 79434...</td>\n",
       "      <td>[181589.9479330393, 76278.96898891008, 41815.9...</td>\n",
       "      <td>39-35120</td>\n",
       "    </tr>\n",
       "    <tr>\n",
       "      <th>3513</th>\n",
       "      <td>39</td>\n",
       "      <td>35130</td>\n",
       "      <td>train_gen</td>\n",
       "      <td>/global/cscratch1/sd/vpa/proj/cosmogan/results...</td>\n",
       "      <td>0.007277</td>\n",
       "      <td>0.007883</td>\n",
       "      <td>0.036876</td>\n",
       "      <td>0.052036</td>\n",
       "      <td>0.003559</td>\n",
       "      <td>5.835237</td>\n",
       "      <td>...</td>\n",
       "      <td>29.681164</td>\n",
       "      <td>256</td>\n",
       "      <td>4</td>\n",
       "      <td>0</td>\n",
       "      <td>[1.0656812069485715, 0.4632568050040181, 0.053...</td>\n",
       "      <td>[0.003833220931113306, 0.001804598979261642, 0...</td>\n",
       "      <td>[-1.031746031584782, -0.3099415213241682, 0.30...</td>\n",
       "      <td>[105417.6754655242, 72423.40978275459, 49019.8...</td>\n",
       "      <td>[52754.97139532524, 24637.981920873106, 15290....</td>\n",
       "      <td>39-35130</td>\n",
       "    </tr>\n",
       "    <tr>\n",
       "      <th>3514</th>\n",
       "      <td>39</td>\n",
       "      <td>35140</td>\n",
       "      <td>train_gen</td>\n",
       "      <td>/global/cscratch1/sd/vpa/proj/cosmogan/results...</td>\n",
       "      <td>0.029623</td>\n",
       "      <td>0.019422</td>\n",
       "      <td>0.010155</td>\n",
       "      <td>0.059201</td>\n",
       "      <td>0.014448</td>\n",
       "      <td>4.961370</td>\n",
       "      <td>...</td>\n",
       "      <td>29.296608</td>\n",
       "      <td>256</td>\n",
       "      <td>1</td>\n",
       "      <td>0</td>\n",
       "      <td>[1.0146527838056478, 0.49599273690270484, 0.04...</td>\n",
       "      <td>[0.0037808503805523168, 0.0017975625864859776,...</td>\n",
       "      <td>[-1.031746031584782, -0.3099415213241682, 0.30...</td>\n",
       "      <td>[107545.50756015256, 64100.41166384026, 38201....</td>\n",
       "      <td>[46923.88254189833, 22613.14596657754, 12000.1...</td>\n",
       "      <td>39-35140</td>\n",
       "    </tr>\n",
       "    <tr>\n",
       "      <th>3515</th>\n",
       "      <td>39</td>\n",
       "      <td>35150</td>\n",
       "      <td>train_gen</td>\n",
       "      <td>/global/cscratch1/sd/vpa/proj/cosmogan/results...</td>\n",
       "      <td>0.210944</td>\n",
       "      <td>0.588440</td>\n",
       "      <td>3.746355</td>\n",
       "      <td>4.545738</td>\n",
       "      <td>0.023435</td>\n",
       "      <td>14.956978</td>\n",
       "      <td>...</td>\n",
       "      <td>40.435208</td>\n",
       "      <td>256</td>\n",
       "      <td>42</td>\n",
       "      <td>4</td>\n",
       "      <td>[1.224590344795817, 0.3646504568993883, 0.0633...</td>\n",
       "      <td>[0.006168095610293088, 0.0025929487558583658, ...</td>\n",
       "      <td>[-1.031746031584782, -0.3099415213241682, 0.30...</td>\n",
       "      <td>[317101.0415375903, 150070.7877906014, 77988.3...</td>\n",
       "      <td>[193844.95616011403, 65097.08753183364, 30762....</td>\n",
       "      <td>39-35150</td>\n",
       "    </tr>\n",
       "  </tbody>\n",
       "</table>\n",
       "<p>5 rows × 22 columns</p>\n",
       "</div>"
      ],
      "text/plain": [
       "      epoch   step   img_type  \\\n",
       "3511     39  35110  train_gen   \n",
       "3512     39  35120  train_gen   \n",
       "3513     39  35130  train_gen   \n",
       "3514     39  35140  train_gen   \n",
       "3515     39  35150  train_gen   \n",
       "\n",
       "                                                  fname    chi_1a    chi_1b  \\\n",
       "3511  /global/cscratch1/sd/vpa/proj/cosmogan/results...  0.035826  0.032750   \n",
       "3512  /global/cscratch1/sd/vpa/proj/cosmogan/results...  0.108443  0.896366   \n",
       "3513  /global/cscratch1/sd/vpa/proj/cosmogan/results...  0.007277  0.007883   \n",
       "3514  /global/cscratch1/sd/vpa/proj/cosmogan/results...  0.029623  0.019422   \n",
       "3515  /global/cscratch1/sd/vpa/proj/cosmogan/results...  0.210944  0.588440   \n",
       "\n",
       "         chi_1c      chi_1     chi_2  chi_imgvar  ...  chi_spec3  num_imgs  \\\n",
       "3511   0.243801   0.312377  0.007125    5.807954  ...  26.365186       256   \n",
       "3512  20.245580  21.250389  0.015212   20.190483  ...  39.687845       256   \n",
       "3513   0.036876   0.052036  0.003559    5.835237  ...  29.681164       256   \n",
       "3514   0.010155   0.059201  0.014448    4.961370  ...  29.296608       256   \n",
       "3515   3.746355   4.545738  0.023435   14.956978  ...  40.435208       256   \n",
       "\n",
       "      num_large  num_vlarge  \\\n",
       "3511         19           7   \n",
       "3512         85          23   \n",
       "3513          4           0   \n",
       "3514          1           0   \n",
       "3515         42           4   \n",
       "\n",
       "                                               hist_val  \\\n",
       "3511  [1.0487138163163268, 0.4780254855185938, 0.045...   \n",
       "3512  [1.1868982554437415, 0.38960823326085925, 0.05...   \n",
       "3513  [1.0656812069485715, 0.4632568050040181, 0.053...   \n",
       "3514  [1.0146527838056478, 0.49599273690270484, 0.04...   \n",
       "3515  [1.224590344795817, 0.3646504568993883, 0.0633...   \n",
       "\n",
       "                                               hist_err  \\\n",
       "3511  [0.0037032377406290957, 0.001730421208449659, ...   \n",
       "3512  [0.00640672608555894, 0.002723326310628461, 0....   \n",
       "3513  [0.003833220931113306, 0.001804598979261642, 0...   \n",
       "3514  [0.0037808503805523168, 0.0017975625864859776,...   \n",
       "3515  [0.006168095610293088, 0.0025929487558583658, ...   \n",
       "\n",
       "                                       hist_bin_centers  \\\n",
       "3511  [-1.031746031584782, -0.3099415213241682, 0.30...   \n",
       "3512  [-1.031746031584782, -0.3099415213241682, 0.30...   \n",
       "3513  [-1.031746031584782, -0.3099415213241682, 0.30...   \n",
       "3514  [-1.031746031584782, -0.3099415213241682, 0.30...   \n",
       "3515  [-1.031746031584782, -0.3099415213241682, 0.30...   \n",
       "\n",
       "                                               spec_val  \\\n",
       "3511  [87462.74302036758, 61455.0704494546, 45497.91...   \n",
       "3512  [243543.95415830612, 139485.95173084136, 79434...   \n",
       "3513  [105417.6754655242, 72423.40978275459, 49019.8...   \n",
       "3514  [107545.50756015256, 64100.41166384026, 38201....   \n",
       "3515  [317101.0415375903, 150070.7877906014, 77988.3...   \n",
       "\n",
       "                                              spec_sdev     label  \n",
       "3511  [45105.62380118491, 25693.168101121515, 17665....  39-35110  \n",
       "3512  [181589.9479330393, 76278.96898891008, 41815.9...  39-35120  \n",
       "3513  [52754.97139532524, 24637.981920873106, 15290....  39-35130  \n",
       "3514  [46923.88254189833, 22613.14596657754, 12000.1...  39-35140  \n",
       "3515  [193844.95616011403, 65097.08753183364, 30762....  39-35150  \n",
       "\n",
       "[5 rows x 22 columns]"
      ]
     },
     "execution_count": 49,
     "metadata": {},
     "output_type": "execute_result"
    }
   ],
   "source": [
    "print(df.shape)\n",
    "df.tail()\n"
   ]
  },
  {
   "cell_type": "code",
   "execution_count": 50,
   "metadata": {},
   "outputs": [
    {
     "data": {
      "text/plain": [
       "Index(['epoch', 'step', 'img_type', 'fname', 'chi_1a', 'chi_1b', 'chi_1c',\n",
       "       'chi_1', 'chi_2', 'chi_imgvar', 'chi_spec1', 'chi_spec2', 'chi_spec3',\n",
       "       'num_imgs', 'num_large', 'num_vlarge', 'hist_val', 'hist_err',\n",
       "       'hist_bin_centers', 'spec_val', 'spec_sdev', 'label'],\n",
       "      dtype='object')"
      ]
     },
     "execution_count": 50,
     "metadata": {},
     "output_type": "execute_result"
    }
   ],
   "source": [
    "df.columns"
   ]
  },
  {
   "cell_type": "markdown",
   "metadata": {},
   "source": [
    "### View best epochs"
   ]
  },
  {
   "cell_type": "markdown",
   "metadata": {},
   "source": [
    "#### Locations with best chi_sqr"
   ]
  },
  {
   "cell_type": "code",
   "execution_count": 51,
   "metadata": {},
   "outputs": [
    {
     "data": {
      "text/html": [
       "<div>\n",
       "<style scoped>\n",
       "    .dataframe tbody tr th:only-of-type {\n",
       "        vertical-align: middle;\n",
       "    }\n",
       "\n",
       "    .dataframe tbody tr th {\n",
       "        vertical-align: top;\n",
       "    }\n",
       "\n",
       "    .dataframe thead th {\n",
       "        text-align: right;\n",
       "    }\n",
       "</style>\n",
       "<table border=\"1\" class=\"dataframe\">\n",
       "  <thead>\n",
       "    <tr style=\"text-align: right;\">\n",
       "      <th></th>\n",
       "      <th>epoch</th>\n",
       "      <th>step</th>\n",
       "      <th>chi_1a</th>\n",
       "      <th>chi_1b</th>\n",
       "      <th>chi_1c</th>\n",
       "      <th>chi_1</th>\n",
       "      <th>chi_2</th>\n",
       "      <th>chi_imgvar</th>\n",
       "      <th>chi_spec1</th>\n",
       "      <th>chi_spec2</th>\n",
       "    </tr>\n",
       "  </thead>\n",
       "  <tbody>\n",
       "    <tr>\n",
       "      <th>1311</th>\n",
       "      <td>14</td>\n",
       "      <td>13110</td>\n",
       "      <td>0.000286</td>\n",
       "      <td>0.001523</td>\n",
       "      <td>0.028037</td>\n",
       "      <td>0.029846</td>\n",
       "      <td>0.000021</td>\n",
       "      <td>5.844486</td>\n",
       "      <td>0.964253</td>\n",
       "      <td>92.027591</td>\n",
       "    </tr>\n",
       "    <tr>\n",
       "      <th>2428</th>\n",
       "      <td>27</td>\n",
       "      <td>24280</td>\n",
       "      <td>0.031355</td>\n",
       "      <td>0.000465</td>\n",
       "      <td>0.080078</td>\n",
       "      <td>0.111898</td>\n",
       "      <td>0.023552</td>\n",
       "      <td>6.835513</td>\n",
       "      <td>1.450423</td>\n",
       "      <td>168.385562</td>\n",
       "    </tr>\n",
       "    <tr>\n",
       "      <th>2151</th>\n",
       "      <td>24</td>\n",
       "      <td>21510</td>\n",
       "      <td>0.017324</td>\n",
       "      <td>0.011970</td>\n",
       "      <td>0.000362</td>\n",
       "      <td>0.029655</td>\n",
       "      <td>0.012182</td>\n",
       "      <td>4.937638</td>\n",
       "      <td>1.535092</td>\n",
       "      <td>147.697091</td>\n",
       "    </tr>\n",
       "    <tr>\n",
       "      <th>1425</th>\n",
       "      <td>16</td>\n",
       "      <td>14250</td>\n",
       "      <td>0.000944</td>\n",
       "      <td>0.005405</td>\n",
       "      <td>0.003801</td>\n",
       "      <td>0.010150</td>\n",
       "      <td>0.000087</td>\n",
       "      <td>5.198988</td>\n",
       "      <td>1.015935</td>\n",
       "      <td>129.752758</td>\n",
       "    </tr>\n",
       "    <tr>\n",
       "      <th>1311</th>\n",
       "      <td>14</td>\n",
       "      <td>13110</td>\n",
       "      <td>0.000286</td>\n",
       "      <td>0.001523</td>\n",
       "      <td>0.028037</td>\n",
       "      <td>0.029846</td>\n",
       "      <td>0.000021</td>\n",
       "      <td>5.844486</td>\n",
       "      <td>0.964253</td>\n",
       "      <td>92.027591</td>\n",
       "    </tr>\n",
       "    <tr>\n",
       "      <th>35</th>\n",
       "      <td>0</td>\n",
       "      <td>350</td>\n",
       "      <td>0.731436</td>\n",
       "      <td>0.108666</td>\n",
       "      <td>0.003864</td>\n",
       "      <td>0.843966</td>\n",
       "      <td>0.476141</td>\n",
       "      <td>0.835156</td>\n",
       "      <td>1019.573822</td>\n",
       "      <td>38937.629665</td>\n",
       "    </tr>\n",
       "    <tr>\n",
       "      <th>1318</th>\n",
       "      <td>14</td>\n",
       "      <td>13180</td>\n",
       "      <td>0.005926</td>\n",
       "      <td>0.021521</td>\n",
       "      <td>0.001881</td>\n",
       "      <td>0.029328</td>\n",
       "      <td>0.000451</td>\n",
       "      <td>4.357457</td>\n",
       "      <td>0.209072</td>\n",
       "      <td>21.188544</td>\n",
       "    </tr>\n",
       "    <tr>\n",
       "      <th>1592</th>\n",
       "      <td>18</td>\n",
       "      <td>15920</td>\n",
       "      <td>0.041225</td>\n",
       "      <td>0.022784</td>\n",
       "      <td>0.002258</td>\n",
       "      <td>0.066266</td>\n",
       "      <td>0.028728</td>\n",
       "      <td>4.731339</td>\n",
       "      <td>0.227437</td>\n",
       "      <td>17.244252</td>\n",
       "    </tr>\n",
       "  </tbody>\n",
       "</table>\n",
       "</div>"
      ],
      "text/plain": [
       "      epoch   step    chi_1a    chi_1b    chi_1c     chi_1     chi_2  \\\n",
       "1311     14  13110  0.000286  0.001523  0.028037  0.029846  0.000021   \n",
       "2428     27  24280  0.031355  0.000465  0.080078  0.111898  0.023552   \n",
       "2151     24  21510  0.017324  0.011970  0.000362  0.029655  0.012182   \n",
       "1425     16  14250  0.000944  0.005405  0.003801  0.010150  0.000087   \n",
       "1311     14  13110  0.000286  0.001523  0.028037  0.029846  0.000021   \n",
       "35        0    350  0.731436  0.108666  0.003864  0.843966  0.476141   \n",
       "1318     14  13180  0.005926  0.021521  0.001881  0.029328  0.000451   \n",
       "1592     18  15920  0.041225  0.022784  0.002258  0.066266  0.028728   \n",
       "\n",
       "      chi_imgvar    chi_spec1     chi_spec2  \n",
       "1311    5.844486     0.964253     92.027591  \n",
       "2428    6.835513     1.450423    168.385562  \n",
       "2151    4.937638     1.535092    147.697091  \n",
       "1425    5.198988     1.015935    129.752758  \n",
       "1311    5.844486     0.964253     92.027591  \n",
       "35      0.835156  1019.573822  38937.629665  \n",
       "1318    4.357457     0.209072     21.188544  \n",
       "1592    4.731339     0.227437     17.244252  "
      ]
     },
     "execution_count": 51,
     "metadata": {},
     "output_type": "execute_result"
    }
   ],
   "source": [
    "def f_get_best_chisqr_models(df,cutoff=0.2):\n",
    "    '''\n",
    "    Pick models with lowest 20% chi-square for multiple categories\n",
    "    '''\n",
    "    chi_sqr_keys=[ 'chi_1', 'chi_spec1']\n",
    "    q_dict=dict(df.quantile(q=cutoff,axis=0)[chi_sqr_keys])\n",
    "#     print(q_dict)\n",
    "    \n",
    "    df_sliced=df.query('chi_1 < {0} & chi_spec1 < {1}'.format(q_dict['chi_1'],q_dict['chi_spec1']))\n",
    "    \n",
    "    return df_sliced\n",
    "\n",
    "chi_sqr_keys=['epoch','step','chi_1a','chi_1b','chi_1c','chi_1','chi_2','chi_imgvar','chi_spec1','chi_spec2']\n",
    "# index location of min/max values of chi squares\n",
    "inds=[]\n",
    "for key in ['chi_1a','chi_1b','chi_1c','chi_1','chi_2','chi_imgvar','chi_spec1','chi_spec2']:\n",
    "    inds.append(df[key].idxmin(axis=1))\n",
    "inds=np.array(inds)\n",
    "df.loc[inds][chi_sqr_keys]\n"
   ]
  },
  {
   "cell_type": "code",
   "execution_count": 52,
   "metadata": {},
   "outputs": [],
   "source": [
    "### Plot chi-sqr values\n",
    "# _=df_sliced.plot(x=\"step\", y=[\"chi_1\", \"chi_imgvar\", \"chi_spec1\"],style='.',marker='*')"
   ]
  },
  {
   "cell_type": "code",
   "execution_count": 53,
   "metadata": {},
   "outputs": [
    {
     "data": {
      "application/vnd.jupyter.widget-view+json": {
       "model_id": "2bc2655240334a08b82f9943f4443067",
       "version_major": 2,
       "version_minor": 0
      },
      "text/plain": [
       "Canvas(toolbar=Toolbar(toolitems=[('Home', 'Reset original view', 'home', 'home'), ('Back', 'Back to previous …"
      ]
     },
     "metadata": {},
     "output_type": "display_data"
    },
    {
     "data": {
      "text/plain": [
       "Text(0, 0.5, 'Number of very large pixel images from a batch of images')"
      ]
     },
     "execution_count": 53,
     "metadata": {},
     "output_type": "execute_result"
    }
   ],
   "source": [
    "### Plot number of very high pixel images\n",
    "plt.figure()\n",
    "plt.plot(df[df.img_type=='train_gen'].step,df[df.img_type=='train_gen'].num_vlarge,linestyle='',marker='*')\n",
    "plt.xlabel('Steps in Epochs')\n",
    "plt.ylabel('Number of very large pixel images from a batch of images')\n",
    "\n",
    "# df[df.num_vlarge>10].tail()"
   ]
  },
  {
   "cell_type": "markdown",
   "metadata": {},
   "source": [
    "### View best steps"
   ]
  },
  {
   "cell_type": "code",
   "execution_count": 54,
   "metadata": {},
   "outputs": [],
   "source": [
    "def f_slice_df(df,cutoff=0.2,sort_col='chi_1',col_mode='all',head=10,epoch_range=[0,None],display_flag=False):\n",
    "    ''' View dataframe after slicing\n",
    "    '''\n",
    "    col_list=['label','chi_1','chi_spec1', 'chi_spec3', 'chi_1a', 'chi_1b', 'chi_1c', 'chi_2','chi_imgvar', 'chi_spec2','epoch','step']\n",
    "    if (col_mode=='short'): col_list=['label','chi_1','chi_spec1']\n",
    "        \n",
    "    print(epoch_range)\n",
    "    if epoch_range[1]==None: epoch_range[1]=df.max()['epoch']\n",
    "    df=df[(df.epoch<=epoch_range[1])&(df.epoch>=epoch_range[0])]\n",
    "\n",
    "    ## Apply cutoff to keep reasonable chi1 and chispec1\n",
    "    best_keys=[ 'chi_1', 'chi_spec1']\n",
    "    q_dict=dict(df.quantile(q=cutoff,axis=0)[best_keys])   \n",
    "    print(q_dict)\n",
    "    df=df.query('chi_1 < {0} & chi_spec1 < {1}'.format(q_dict['chi_1'],q_dict['chi_spec1']))\n",
    "    \n",
    "    # Sort dataframe\n",
    "    df1=df[df.epoch>0].sort_values(by=sort_col)\n",
    "        \n",
    "    df2=df1.head(head)[col_list]\n",
    "\n",
    "    if display_flag:   # Display df\n",
    "        display_cols=['label','chi_1','chi_spec1', 'chi_spec3', 'chi_1a', 'chi_1b', 'chi_1c', 'chi_2','chi_imgvar', 'chi_spec2']\n",
    "        display(df2)\n",
    "    \n",
    "    return df2"
   ]
  },
  {
   "cell_type": "code",
   "execution_count": 55,
   "metadata": {},
   "outputs": [
    {
     "data": {
      "application/vnd.jupyter.widget-view+json": {
       "model_id": "35c97487dfdf4eaab332a37caab4c01b",
       "version_major": 2,
       "version_minor": 0
      },
      "text/plain": [
       "interactive(children=(FloatSlider(value=0.2, description='cutoff', max=1.0, step=0.01), Dropdown(description='…"
      ]
     },
     "metadata": {},
     "output_type": "display_data"
    }
   ],
   "source": [
    "w=interactive(f_slice_df,df=fixed(df),\n",
    "cutoff=widgets.FloatSlider(value=0.2, min=0, max=1.0, step=0.01), \n",
    "col_mode=['all','short'], display_flag=widgets.Checkbox(value=False),\n",
    "head=widgets.IntSlider(value=10,min=1,max=20,step=1),\n",
    "epoch_range=widgets.IntRangeSlider(value=[0,np.max(df.epoch.values)],min=0,max=np.max(df.epoch.values),step=1),\n",
    "sort_col=['chi_1','chi_spec1', 'chi_spec3', 'chi_1a', 'chi_1b', 'chi_1c', 'chi_2','chi_imgvar', 'chi_spec2'],\n",
    ")\n",
    "display(w)"
   ]
  },
  {
   "cell_type": "code",
   "execution_count": 57,
   "metadata": {},
   "outputs": [],
   "source": [
    "df_sliced=w.result\n",
    "# df_sliced"
   ]
  },
  {
   "cell_type": "markdown",
   "metadata": {},
   "source": [
    "### Pick best steps"
   ]
  },
  {
   "cell_type": "code",
   "execution_count": 58,
   "metadata": {},
   "outputs": [
    {
     "name": "stdout",
     "output_type": "stream",
     "text": [
      "[0, None]\n",
      "{'chi_1': 0.048586440664743796, 'chi_spec1': 0.9595820821937462}\n",
      "[0, 39]\n",
      "{'chi_1': 0.18205381196932835, 'chi_spec1': 4.161669818839055}\n",
      "[0, 39]\n",
      "{'chi_1': 0.048586440664743796, 'chi_spec1': 0.9595820821937462}\n",
      "[ 8370  9340  9740 12490 12900 13180 13200 14130 16320 24280]\n"
     ]
    }
   ],
   "source": [
    "best_step=[]\n",
    "best_step.append(f_slice_df(df,cutoff=0.2,sort_col='chi_1',head=4,display_flag=False).step.values)\n",
    "best_step.append(f_slice_df(df,cutoff=0.8,sort_col='chi_1b',head=2,display_flag=False).step.values)\n",
    "best_step.append(f_slice_df(df,cutoff=0.2,sort_col='chi_spec1',head=4,display_flag=False).step.values)\n",
    "\n",
    "best_step=np.unique([i for j in best_step for i in j])\n",
    "print(best_step)"
   ]
  },
  {
   "cell_type": "code",
   "execution_count": 59,
   "metadata": {},
   "outputs": [],
   "source": [
    "# best_step=[3430,  6460,  7215,  9610, 11725, 14635, 9475]\n",
    "# best_step=np.arange(40130,40135).astype(int)"
   ]
  },
  {
   "cell_type": "code",
   "execution_count": 60,
   "metadata": {},
   "outputs": [
    {
     "name": "stdout",
     "output_type": "stream",
     "text": [
      "(10, 22)\n",
      "[(9, 8370), (10, 9340), (11, 9740), (14, 12490), (14, 12900), (14, 13180), (15, 13200), (16, 14130), (18, 16320), (27, 24280)]\n"
     ]
    }
   ],
   "source": [
    "df_best=df[df.step.isin(best_step)]\n",
    "print(df_best.shape)\n",
    "print([(df_best[df_best.step==step].epoch.values[0],df_best[df_best.step==step].step.values[0]) for step in best_step])\n",
    "# print([(df_best.loc[idx].epoch,df_best.loc[idx].step) for idx in best_idx])"
   ]
  },
  {
   "cell_type": "code",
   "execution_count": 61,
   "metadata": {},
   "outputs": [
    {
     "data": {
      "text/html": [
       "<div>\n",
       "<style scoped>\n",
       "    .dataframe tbody tr th:only-of-type {\n",
       "        vertical-align: middle;\n",
       "    }\n",
       "\n",
       "    .dataframe tbody tr th {\n",
       "        vertical-align: top;\n",
       "    }\n",
       "\n",
       "    .dataframe thead th {\n",
       "        text-align: right;\n",
       "    }\n",
       "</style>\n",
       "<table border=\"1\" class=\"dataframe\">\n",
       "  <thead>\n",
       "    <tr style=\"text-align: right;\">\n",
       "      <th></th>\n",
       "      <th>label</th>\n",
       "      <th>chi_1</th>\n",
       "      <th>chi_spec1</th>\n",
       "      <th>chi_spec3</th>\n",
       "      <th>chi_1a</th>\n",
       "      <th>chi_1b</th>\n",
       "      <th>chi_1c</th>\n",
       "      <th>chi_2</th>\n",
       "      <th>chi_imgvar</th>\n",
       "      <th>chi_spec2</th>\n",
       "      <th>epoch</th>\n",
       "      <th>step</th>\n",
       "    </tr>\n",
       "  </thead>\n",
       "  <tbody>\n",
       "    <tr>\n",
       "      <th>837</th>\n",
       "      <td>9-8370</td>\n",
       "      <td>0.012404</td>\n",
       "      <td>0.572098</td>\n",
       "      <td>28.119365</td>\n",
       "      <td>0.003101</td>\n",
       "      <td>0.001572</td>\n",
       "      <td>0.007731</td>\n",
       "      <td>0.000389</td>\n",
       "      <td>5.845777</td>\n",
       "      <td>65.281134</td>\n",
       "      <td>9</td>\n",
       "      <td>8370</td>\n",
       "    </tr>\n",
       "    <tr>\n",
       "      <th>934</th>\n",
       "      <td>10-9340</td>\n",
       "      <td>0.028776</td>\n",
       "      <td>1.016706</td>\n",
       "      <td>32.213418</td>\n",
       "      <td>0.016826</td>\n",
       "      <td>0.000544</td>\n",
       "      <td>0.011406</td>\n",
       "      <td>0.005602</td>\n",
       "      <td>6.155468</td>\n",
       "      <td>79.214430</td>\n",
       "      <td>10</td>\n",
       "      <td>9340</td>\n",
       "    </tr>\n",
       "    <tr>\n",
       "      <th>974</th>\n",
       "      <td>11-9740</td>\n",
       "      <td>0.012856</td>\n",
       "      <td>0.439721</td>\n",
       "      <td>24.589320</td>\n",
       "      <td>0.003304</td>\n",
       "      <td>0.006190</td>\n",
       "      <td>0.003362</td>\n",
       "      <td>0.001042</td>\n",
       "      <td>5.367010</td>\n",
       "      <td>51.218446</td>\n",
       "      <td>11</td>\n",
       "      <td>9740</td>\n",
       "    </tr>\n",
       "    <tr>\n",
       "      <th>1249</th>\n",
       "      <td>14-12490</td>\n",
       "      <td>0.024431</td>\n",
       "      <td>0.274913</td>\n",
       "      <td>29.465780</td>\n",
       "      <td>0.002288</td>\n",
       "      <td>0.011293</td>\n",
       "      <td>0.010850</td>\n",
       "      <td>0.000132</td>\n",
       "      <td>5.416338</td>\n",
       "      <td>28.610146</td>\n",
       "      <td>14</td>\n",
       "      <td>12490</td>\n",
       "    </tr>\n",
       "    <tr>\n",
       "      <th>1290</th>\n",
       "      <td>14-12900</td>\n",
       "      <td>0.028637</td>\n",
       "      <td>0.243950</td>\n",
       "      <td>29.714326</td>\n",
       "      <td>0.001633</td>\n",
       "      <td>0.005733</td>\n",
       "      <td>0.021271</td>\n",
       "      <td>0.000105</td>\n",
       "      <td>6.097034</td>\n",
       "      <td>23.293004</td>\n",
       "      <td>14</td>\n",
       "      <td>12900</td>\n",
       "    </tr>\n",
       "    <tr>\n",
       "      <th>1318</th>\n",
       "      <td>14-13180</td>\n",
       "      <td>0.029328</td>\n",
       "      <td>0.209072</td>\n",
       "      <td>27.125000</td>\n",
       "      <td>0.005926</td>\n",
       "      <td>0.021521</td>\n",
       "      <td>0.001881</td>\n",
       "      <td>0.000451</td>\n",
       "      <td>4.357457</td>\n",
       "      <td>21.188544</td>\n",
       "      <td>14</td>\n",
       "      <td>13180</td>\n",
       "    </tr>\n",
       "    <tr>\n",
       "      <th>1320</th>\n",
       "      <td>15-13200</td>\n",
       "      <td>0.010161</td>\n",
       "      <td>0.927037</td>\n",
       "      <td>25.078629</td>\n",
       "      <td>0.000915</td>\n",
       "      <td>0.000955</td>\n",
       "      <td>0.008291</td>\n",
       "      <td>0.000030</td>\n",
       "      <td>5.742977</td>\n",
       "      <td>120.562803</td>\n",
       "      <td>15</td>\n",
       "      <td>13200</td>\n",
       "    </tr>\n",
       "    <tr>\n",
       "      <th>1413</th>\n",
       "      <td>16-14130</td>\n",
       "      <td>0.041902</td>\n",
       "      <td>0.256102</td>\n",
       "      <td>26.813182</td>\n",
       "      <td>0.005148</td>\n",
       "      <td>0.002324</td>\n",
       "      <td>0.034430</td>\n",
       "      <td>0.003570</td>\n",
       "      <td>6.006676</td>\n",
       "      <td>21.003813</td>\n",
       "      <td>16</td>\n",
       "      <td>14130</td>\n",
       "    </tr>\n",
       "    <tr>\n",
       "      <th>1632</th>\n",
       "      <td>18-16320</td>\n",
       "      <td>0.014056</td>\n",
       "      <td>0.714743</td>\n",
       "      <td>22.537641</td>\n",
       "      <td>0.004162</td>\n",
       "      <td>0.007444</td>\n",
       "      <td>0.002451</td>\n",
       "      <td>0.002871</td>\n",
       "      <td>5.201799</td>\n",
       "      <td>86.015834</td>\n",
       "      <td>18</td>\n",
       "      <td>16320</td>\n",
       "    </tr>\n",
       "    <tr>\n",
       "      <th>2428</th>\n",
       "      <td>27-24280</td>\n",
       "      <td>0.111898</td>\n",
       "      <td>1.450423</td>\n",
       "      <td>25.632244</td>\n",
       "      <td>0.031355</td>\n",
       "      <td>0.000465</td>\n",
       "      <td>0.080078</td>\n",
       "      <td>0.023552</td>\n",
       "      <td>6.835513</td>\n",
       "      <td>168.385562</td>\n",
       "      <td>27</td>\n",
       "      <td>24280</td>\n",
       "    </tr>\n",
       "  </tbody>\n",
       "</table>\n",
       "</div>"
      ],
      "text/plain": [
       "         label     chi_1  chi_spec1  chi_spec3    chi_1a    chi_1b    chi_1c  \\\n",
       "837     9-8370  0.012404   0.572098  28.119365  0.003101  0.001572  0.007731   \n",
       "934    10-9340  0.028776   1.016706  32.213418  0.016826  0.000544  0.011406   \n",
       "974    11-9740  0.012856   0.439721  24.589320  0.003304  0.006190  0.003362   \n",
       "1249  14-12490  0.024431   0.274913  29.465780  0.002288  0.011293  0.010850   \n",
       "1290  14-12900  0.028637   0.243950  29.714326  0.001633  0.005733  0.021271   \n",
       "1318  14-13180  0.029328   0.209072  27.125000  0.005926  0.021521  0.001881   \n",
       "1320  15-13200  0.010161   0.927037  25.078629  0.000915  0.000955  0.008291   \n",
       "1413  16-14130  0.041902   0.256102  26.813182  0.005148  0.002324  0.034430   \n",
       "1632  18-16320  0.014056   0.714743  22.537641  0.004162  0.007444  0.002451   \n",
       "2428  27-24280  0.111898   1.450423  25.632244  0.031355  0.000465  0.080078   \n",
       "\n",
       "         chi_2  chi_imgvar   chi_spec2  epoch   step  \n",
       "837   0.000389    5.845777   65.281134      9   8370  \n",
       "934   0.005602    6.155468   79.214430     10   9340  \n",
       "974   0.001042    5.367010   51.218446     11   9740  \n",
       "1249  0.000132    5.416338   28.610146     14  12490  \n",
       "1290  0.000105    6.097034   23.293004     14  12900  \n",
       "1318  0.000451    4.357457   21.188544     14  13180  \n",
       "1320  0.000030    5.742977  120.562803     15  13200  \n",
       "1413  0.003570    6.006676   21.003813     16  14130  \n",
       "1632  0.002871    5.201799   86.015834     18  16320  \n",
       "2428  0.023552    6.835513  168.385562     27  24280  "
      ]
     },
     "execution_count": 61,
     "metadata": {},
     "output_type": "execute_result"
    }
   ],
   "source": [
    "df_best[col_list]"
   ]
  },
  {
   "cell_type": "markdown",
   "metadata": {},
   "source": [
    "## Plot pixel intensity and spectrum"
   ]
  },
  {
   "cell_type": "code",
   "execution_count": 62,
   "metadata": {
    "jupyter": {
     "source_hidden": true
    }
   },
   "outputs": [],
   "source": [
    "\n",
    "def f_plot_hist_spec(df,dict_bkg,plot_type):\n",
    "\n",
    "    img_size=128\n",
    "    assert plot_type in ['hist','spec','spec_relative','grid'],\"Invalid mode %s\"%(plot_type)\n",
    "\n",
    "    if plot_type in ['hist','spec','spec_relative']:     fig=plt.figure(figsize=(6,6))\n",
    "\n",
    "    for (i,row),marker in zip(df.iterrows(),itertools.cycle('>^*sDHPdpx_')):\n",
    "        label=row.label\n",
    "        if plot_type=='hist':\n",
    "            x1=row.hist_bin_centers\n",
    "            y1=row.hist_val\n",
    "            yerr1=row.hist_err\n",
    "            x1=f_invtransform(x1)\n",
    "            \n",
    "            plt.errorbar(x1,y1,yerr1,marker=marker,markersize=5,linestyle='',label=label)\n",
    "        if plot_type=='spec':\n",
    "            \n",
    "            y2=row.spec_val\n",
    "            yerr2=row.spec_sdev/np.sqrt(row.num_imgs)\n",
    "            x2=np.arange(len(y2))\n",
    "            \n",
    "            plt.fill_between(x2, y2 - yerr2, y2 + yerr2, alpha=0.4)\n",
    "            plt.plot(x2, y2, marker=marker, linestyle=':',label=label)\n",
    "            \n",
    "        if plot_type=='spec_relative':\n",
    "            \n",
    "            y2=row.spec_val\n",
    "            yerr2=row.spec_sdev\n",
    "            x2=np.arange(len(y2))\n",
    "            \n",
    "            ### Reference spectrum\n",
    "            y1,yerr1=dict_bkg['spec_val'],dict_bkg['spec_sdev']\n",
    "            y=y2/(1.0*y1)\n",
    "            ## Variance is sum of variance of both variables, since they are uncorrelated\n",
    "            \n",
    "            # delta_r= |r| * sqrt(delta_a/a)^2 +(\\delta_b/b)^2) / \\sqrt(N)\n",
    "            yerr=(np.abs(y))*np.sqrt((yerr1/y1)**2+(yerr2/y2)**2)/np.sqrt(row.num_imgs)\n",
    "\n",
    "            plt.fill_between(x2, y - yerr, y + yerr, alpha=0.4)\n",
    "            plt.plot(x2, y, marker=marker, linestyle=':',label=label)\n",
    "            plt.xlim(0,img_size/2)\n",
    "            plt.ylim(0.5,2)\n",
    "            plt.legend()\n",
    "            \n",
    "        if plot_type=='grid':\n",
    "            images=np.load(row.fname)[:,0,:,:]\n",
    "            f_plot_grid(images[:18],cols=6,fig_size=(10,5))\n",
    "            \n",
    "    ### Plot input data\n",
    "    if plot_type=='hist':\n",
    "        x,y,yerr=dict_bkg['hist_bin_centers'],dict_bkg['hist_val'],dict_bkg['hist_err']\n",
    "        x=f_invtransform(x)\n",
    "        plt.errorbar(x, y,yerr,color='k',linestyle='-',label='bkgnd')   \n",
    "        plt.title('Pixel Intensity Histogram')\n",
    "        plt.xscale('symlog',linthreshx=100)\n",
    "        \n",
    "    if plot_type=='spec':\n",
    "        y,yerr=dict_bkg['spec_val'],dict_bkg['spec_sdev']/np.sqrt(num_bkgnd)\n",
    "        x=np.arange(len(y))\n",
    "        plt.fill_between(x, y - yerr, y + yerr, color='k',alpha=0.8)\n",
    "        plt.title('Spectrum')\n",
    "\n",
    "    if plot_type=='spec_relative':\n",
    "        plt.axhline(y=1.0,color='k',linestyle='-.')\n",
    "    \n",
    "    plt.legend(bbox_to_anchor=(0.3, 0.75),ncol=2, fancybox=True, shadow=True,prop={'size':6})\n",
    "    if plot_type in ['hist','spec']:     plt.yscale('log')\n",
    "    \n",
    "\n",
    "# f_plot_hist_spec(df_runs,dict_val,'hist')\n",
    "# f_plot_hist_spec(df_runs,dict_val,'spec')\n",
    "# f_plot_hist_spec(df_best,dict_val,'grid')\n"
   ]
  },
  {
   "cell_type": "code",
   "execution_count": 63,
   "metadata": {},
   "outputs": [
    {
     "data": {
      "application/vnd.jupyter.widget-view+json": {
       "model_id": "913d29ce56a140b59a6ed43390c63d13",
       "version_major": 2,
       "version_minor": 0
      },
      "text/plain": [
       "interactive(children=(SelectMultiple(description='labels_list', options=('9-8370', '10-9340', '11-9740', '14-1…"
      ]
     },
     "metadata": {},
     "output_type": "display_data"
    },
    {
     "data": {
      "text/plain": [
       "<function __main__.f_widget_compare(df, labels_list, bkgnd, plot_type)>"
      ]
     },
     "execution_count": 63,
     "metadata": {},
     "output_type": "execute_result"
    }
   ],
   "source": [
    "def f_widget_compare(df,labels_list,bkgnd,plot_type):\n",
    "    df_temp=df[df.label.isin(labels_list)]\n",
    "    f_plot_hist_spec(df_temp,dict_val,plot_type)\n",
    "    \n",
    "interact_manual(f_widget_compare,df=fixed(df_best),\n",
    "                labels_list=SelectMultiple(options=df_best.label.values), \n",
    "                bkgnd=fixed(dict_val),plot_type=ToggleButtons(options=['hist','spec','spec_relative','grid']))"
   ]
  },
  {
   "cell_type": "code",
   "execution_count": 31,
   "metadata": {},
   "outputs": [
    {
     "data": {
      "application/vnd.jupyter.widget-view+json": {
       "model_id": "1e039647575b44a3a7a25a30d5ca7047",
       "version_major": 2,
       "version_minor": 0
      },
      "text/plain": [
       "Canvas(toolbar=Toolbar(toolitems=[('Home', 'Reset original view', 'home', 'home'), ('Back', 'Back to previous …"
      ]
     },
     "metadata": {},
     "output_type": "display_data"
    },
    {
     "data": {
      "text/plain": [
       "<AxesSubplot:xlabel='step'>"
      ]
     },
     "execution_count": 31,
     "metadata": {},
     "output_type": "execute_result"
    }
   ],
   "source": [
    "df[(df.step>8000)& (df.step<10000)].plot(kind='line',x='step',y=['chi_1','chi_spec1'])"
   ]
  },
  {
   "cell_type": "code",
   "execution_count": null,
   "metadata": {},
   "outputs": [],
   "source": []
  },
  {
   "cell_type": "markdown",
   "metadata": {},
   "source": [
    "## View image block"
   ]
  },
  {
   "cell_type": "code",
   "execution_count": 32,
   "metadata": {},
   "outputs": [],
   "source": [
    "def f_get_img(df,step):\n",
    "    df_temp=df[(df.step==step)]\n",
    "    images=np.load(df_temp.fname.values[0])[:,0,:,:]\n",
    "    return images\n",
    "\n",
    "img_arr=f_get_img(df,8020)\n",
    "# f_plot_grid(img_arr[:18],cols=6,fig_size=(10,5))"
   ]
  },
  {
   "cell_type": "code",
   "execution_count": 33,
   "metadata": {},
   "outputs": [
    {
     "name": "stdout",
     "output_type": "stream",
     "text": [
      "3 6\n"
     ]
    },
    {
     "data": {
      "application/vnd.jupyter.widget-view+json": {
       "model_id": "76a77da3d28c47d8a9acb086a45f2f79",
       "version_major": 2,
       "version_minor": 0
      },
      "text/plain": [
       "Canvas(toolbar=Toolbar(toolitems=[('Home', 'Reset original view', 'home', 'home'), ('Back', 'Back to previous …"
      ]
     },
     "metadata": {},
     "output_type": "display_data"
    }
   ],
   "source": [
    "f_plot_grid(s_val[100:118],cols=6,fig_size=(10,5))"
   ]
  },
  {
   "cell_type": "markdown",
   "metadata": {},
   "source": [
    "### Plotting spread of spectrum of input data"
   ]
  },
  {
   "cell_type": "code",
   "execution_count": 34,
   "metadata": {},
   "outputs": [],
   "source": [
    "\n",
    "# plt.figure()\n",
    "\n",
    "# idxs=np.random.randint(0,s_val.shape[0],size=50)\n",
    "# arr=s_val[idxs]\n",
    "# Pk = f_batch_spectrum(arr)\n",
    "# k=np.arange(Pk.shape[1])\n",
    "# for count,i in enumerate(Pk):\n",
    "#     plt.plot(i)\n",
    "    \n",
    "# Pk = f_batch_spectrum(img_arr)\n",
    "# mean,std = np.mean(Pk, axis=0),np.std(Pk, axis=0)/np.sqrt(Pk.shape[0])\n",
    "# plt.plot(k, mean, 'k:',label='generated image')\n",
    "\n",
    "\n",
    "# plt.legend()\n",
    "\n",
    "# plt.ylabel(r'$P(k)$')\n",
    "# plt.xlabel(r'$k$')\n",
    "# plt.title('Power Spectrum: 50 input images')\n",
    "# plt.yscale('log')\n",
    "\n"
   ]
  },
  {
   "cell_type": "code",
   "execution_count": 35,
   "metadata": {},
   "outputs": [
    {
     "name": "stdout",
     "output_type": "stream",
     "text": [
      "(256, 128, 128)\n",
      "(256, 128, 128)\n"
     ]
    }
   ],
   "source": [
    "main_dir='/global/cscratch1/sd/vpa/proj/cosmogan/results_dir/128square/'\n",
    "f1=main_dir+'20201208_165658_bsize256_scale0.1_deterministic_on/dump_outs/trainer0/model0/sgd.training.epoch.1.step.1000_gen_img_instance1_activation_output0.npy'\n",
    "a1=np.load(f1)[:,0,:,:]\n",
    "f2=main_dir+'20201209_055955_bsize256_scale0.1_deterministic_on/dump_outs/trainer0/model0/sgd.training.epoch.1.step.1000_gen_img_instance1_activation_output0.npy'\n",
    "a2=np.load(f2)[:,0,:,:]\n",
    "\n",
    "print(a1.shape)\n",
    "print(a2.shape)\n"
   ]
  },
  {
   "cell_type": "code",
   "execution_count": 36,
   "metadata": {},
   "outputs": [
    {
     "data": {
      "application/vnd.jupyter.widget-view+json": {
       "model_id": "410e0e7e03074174819dc425616a0fe1",
       "version_major": 2,
       "version_minor": 0
      },
      "text/plain": [
       "Canvas(toolbar=Toolbar(toolitems=[('Home', 'Reset original view', 'home', 'home'), ('Back', 'Back to previous …"
      ]
     },
     "metadata": {},
     "output_type": "display_data"
    },
    {
     "name": "stderr",
     "output_type": "stream",
     "text": [
      "/global/u1/v/vpa/project/jpt_notebooks/Cosmology/Cosmo_GAN/repositories/lbann_cosmogan/3_analysis/modules_image_analysis.py:153: VisibleDeprecationWarning: Creating an ndarray from ragged nested sequences (which is a list-or-tuple of lists-or-tuples-or ndarrays with different lengths or shapes) is deprecated. If you meant to do this, you must specify 'dtype=object' when creating the ndarray\n",
      "  hist_arr=np.array([np.histogram(arr.flatten(), bins=bins, range=(llim,ulim), density=norm) for arr in img_arr]) ## range is important\n",
      "/global/u1/v/vpa/project/jpt_notebooks/Cosmology/Cosmo_GAN/repositories/lbann_cosmogan/3_analysis/modules_image_analysis.py:196: MatplotlibDeprecationWarning: The 'linthreshx' parameter of __init__() has been renamed 'linthresh' since Matplotlib 3.3; support for the old name will be dropped two minor releases later.\n",
      "  plt.xscale('symlog',linthreshx=50)\n"
     ]
    }
   ],
   "source": [
    "# f_pixel_intensity(a1)\n",
    "# f_pixel_intensity(a2)\n",
    "\n",
    "f_compare_pixel_intensity([a1,a2],label_lst=['img1','img2'],bkgnd_arr=[],log_scale=True, normalize=True, mode='avg',bins=25, hist_range=None)"
   ]
  },
  {
   "cell_type": "code",
   "execution_count": 37,
   "metadata": {},
   "outputs": [
    {
     "data": {
      "text/plain": [
       "Index(['epoch', 'step', 'img_type', 'fname', 'chi_1a', 'chi_1b', 'chi_1c',\n",
       "       'chi_1', 'chi_2', 'chi_imgvar', 'chi_spec1', 'chi_spec2', 'chi_spec3',\n",
       "       'num_imgs', 'num_large', 'num_vlarge', 'hist_val', 'hist_err',\n",
       "       'hist_bin_centers', 'spec_val', 'spec_sdev', 'label'],\n",
       "      dtype='object')"
      ]
     },
     "execution_count": 37,
     "metadata": {},
     "output_type": "execute_result"
    }
   ],
   "source": [
    "df_best.columns"
   ]
  },
  {
   "cell_type": "code",
   "execution_count": 38,
   "metadata": {},
   "outputs": [
    {
     "data": {
      "text/plain": [
       "array([-6.24999994e-02,  2.10714284e+00,  7.47916654e+00,  1.26323526e+01,\n",
       "        1.77159086e+01,  2.27685177e+01,  2.78046863e+01,  3.28310795e+01,\n",
       "        3.78511884e+01,  4.28670187e+01,  4.78798045e+01,  5.28903470e+01,\n",
       "        5.78991889e+01,  6.29067110e+01,  6.79131882e+01,  7.29188240e+01,\n",
       "        7.79237723e+01,  8.29281517e+01,  8.79320549e+01,  9.29355555e+01,\n",
       "        9.79387128e+01,  1.09626622e+02,  1.29756484e+02,  1.49852722e+02,\n",
       "        1.69926897e+02,  1.89985815e+02,  2.10033743e+02,  2.30073493e+02,\n",
       "        2.50106993e+02,  2.70135608e+02,  2.90160334e+02,  3.23603053e+02,\n",
       "        3.73852919e+02,  4.24044592e+02,  4.74196274e+02,  5.24319294e+02,\n",
       "        5.74421067e+02,  6.24506656e+02,  6.74579632e+02,  7.24642587e+02,\n",
       "        7.74697448e+02,  8.24745678e+02,  8.74788406e+02,  9.24826519e+02,\n",
       "        1.28909779e+03])"
      ]
     },
     "execution_count": 38,
     "metadata": {},
     "output_type": "execute_result"
    }
   ],
   "source": [
    "f_invtransform(df_best.iloc[0].hist_bin_centers)\n"
   ]
  },
  {
   "cell_type": "code",
   "execution_count": null,
   "metadata": {},
   "outputs": [],
   "source": []
  }
 ],
 "metadata": {
  "kernelspec": {
   "display_name": "v3",
   "language": "python",
   "name": "v-jpt-3"
  },
  "language_info": {
   "codemirror_mode": {
    "name": "ipython",
    "version": 3
   },
   "file_extension": ".py",
   "mimetype": "text/x-python",
   "name": "python",
   "nbconvert_exporter": "python",
   "pygments_lexer": "ipython3",
   "version": "3.8.6"
  },
  "toc-autonumbering": true,
  "toc-showcode": false,
  "toc-showmarkdowntxt": true,
  "toc-showtags": false
 },
 "nbformat": 4,
 "nbformat_minor": 4
}
