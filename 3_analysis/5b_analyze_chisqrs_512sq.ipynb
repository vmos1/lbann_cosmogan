{
 "cells": [
  {
   "cell_type": "markdown",
   "metadata": {},
   "source": [
    "# Extract data from output files\n",
    "### Analyze the output from a single LBANN run\n",
    "March 9, 2020 \\\n",
    "April 6, 2020 : to store files in order of epochs \\\n",
    "April 21, 2020: added jupyter widgets to compare pixel intensity plots \\\n",
    "July 30, 2020: Perform analysis with stored histograms."
   ]
  },
  {
   "cell_type": "code",
   "execution_count": 32,
   "metadata": {},
   "outputs": [],
   "source": [
    "import numpy as np\n",
    "import matplotlib.pyplot as plt\n",
    "import seaborn as sns\n",
    "import pandas as pd\n",
    "\n",
    "import subprocess as sp\n",
    "import os\n",
    "import glob\n",
    "import sys\n",
    "\n",
    "import itertools\n",
    "import time\n",
    "\n",
    "from ipywidgets import *"
   ]
  },
  {
   "cell_type": "code",
   "execution_count": 33,
   "metadata": {},
   "outputs": [],
   "source": [
    "%matplotlib widget"
   ]
  },
  {
   "cell_type": "code",
   "execution_count": 34,
   "metadata": {},
   "outputs": [],
   "source": [
    "sys.path.append('/global/u1/v/vpa/project/jpt_notebooks/Cosmology/Cosmo_GAN/repositories/lbann_cosmogan/3_analysis')\n",
    "from modules_image_analysis import *"
   ]
  },
  {
   "cell_type": "code",
   "execution_count": 35,
   "metadata": {},
   "outputs": [],
   "source": [
    "### Transformation functions for image pixel values\n",
    "def f_transform(x):\n",
    "    return 2.*x/(x + 4. + 1e-8) - 1.\n",
    "\n",
    "def f_invtransform(s):\n",
    "    return 4.*(1. + s)/(1. - s + 1e-8)"
   ]
  },
  {
   "cell_type": "markdown",
   "metadata": {},
   "source": [
    "## Extract image data "
   ]
  },
  {
   "cell_type": "code",
   "execution_count": null,
   "metadata": {},
   "outputs": [],
   "source": []
  },
  {
   "cell_type": "markdown",
   "metadata": {},
   "source": [
    "## Read dataframe"
   ]
  },
  {
   "cell_type": "code",
   "execution_count": 36,
   "metadata": {},
   "outputs": [
    {
     "data": {
      "application/vnd.jupyter.widget-view+json": {
       "model_id": "10c05546367742de8b20fd57289f7172",
       "version_major": 2,
       "version_minor": 0
      },
      "text/plain": [
       "interactive(children=(Select(description='x', options=('scratch', 'proj'), value='scratch'), Output()), _dom_c…"
      ]
     },
     "metadata": {},
     "output_type": "display_data"
    }
   ],
   "source": [
    "dict1={'scratch':'/global/cscratch1/sd/vpa/proj/cosmogan/results_dir/512square/',\n",
    "    'proj':'/global/cfs/cdirs/m3363/vayyar/cosmogan_data/results_data/'}\n",
    "\n",
    "u=interactive(lambda x: dict1[x], x=Select(options=dict1.keys()))\n",
    "display(u)\n"
   ]
  },
  {
   "cell_type": "code",
   "execution_count": 37,
   "metadata": {},
   "outputs": [
    {
     "data": {
      "application/vnd.jupyter.widget-view+json": {
       "model_id": "66d59303da8246ab85d7663ce19f1364",
       "version_major": 2,
       "version_minor": 0
      },
      "text/plain": [
       "interactive(children=(Dropdown(description='x', options=('20200901_062829_bsize10_512-1proc', '20200825_100837…"
      ]
     },
     "metadata": {},
     "output_type": "display_data"
    }
   ],
   "source": [
    "parent_dir=u.result\n",
    "dir_lst=[i.split('/')[-1] for i in glob.glob(parent_dir+'20*')]\n",
    "w=interactive(lambda x: x, x=Dropdown(options=dir_lst))\n",
    "display(w)"
   ]
  },
  {
   "cell_type": "code",
   "execution_count": 38,
   "metadata": {},
   "outputs": [
    {
     "name": "stdout",
     "output_type": "stream",
     "text": [
      "/global/cscratch1/sd/vpa/proj/cosmogan/results_dir/512square/20200831_164511_bsize10_512\n"
     ]
    }
   ],
   "source": [
    "result=w.result\n",
    "main_dir=parent_dir+result\n",
    "print(main_dir)"
   ]
  },
  {
   "cell_type": "code",
   "execution_count": 14,
   "metadata": {},
   "outputs": [],
   "source": [
    "# main_dir=''"
   ]
  },
  {
   "cell_type": "code",
   "execution_count": 39,
   "metadata": {},
   "outputs": [],
   "source": [
    "### Load data\n",
    "df=pd.read_pickle(main_dir+'/df_processed.pkle')\n",
    "df[['epoch','step']]=df[['epoch','step']].astype(int)"
   ]
  },
  {
   "cell_type": "code",
   "execution_count": 40,
   "metadata": {},
   "outputs": [
    {
     "name": "stdout",
     "output_type": "stream",
     "text": [
      "(32998, 19)\n"
     ]
    },
    {
     "data": {
      "text/html": [
       "<div>\n",
       "<style scoped>\n",
       "    .dataframe tbody tr th:only-of-type {\n",
       "        vertical-align: middle;\n",
       "    }\n",
       "\n",
       "    .dataframe tbody tr th {\n",
       "        vertical-align: top;\n",
       "    }\n",
       "\n",
       "    .dataframe thead th {\n",
       "        text-align: right;\n",
       "    }\n",
       "</style>\n",
       "<table border=\"1\" class=\"dataframe\">\n",
       "  <thead>\n",
       "    <tr style=\"text-align: right;\">\n",
       "      <th></th>\n",
       "      <th>epoch</th>\n",
       "      <th>step</th>\n",
       "      <th>img_type</th>\n",
       "      <th>fname</th>\n",
       "      <th>chi_1a</th>\n",
       "      <th>chi_1b</th>\n",
       "      <th>chi_1c</th>\n",
       "      <th>chi_1</th>\n",
       "      <th>chi_2</th>\n",
       "      <th>chi_imgvar</th>\n",
       "      <th>chi_spec1</th>\n",
       "      <th>chi_spec2</th>\n",
       "      <th>num_large</th>\n",
       "      <th>num_vlarge</th>\n",
       "      <th>hist_val</th>\n",
       "      <th>hist_err</th>\n",
       "      <th>hist_bin_centers</th>\n",
       "      <th>spec_val</th>\n",
       "      <th>spec_err</th>\n",
       "    </tr>\n",
       "  </thead>\n",
       "  <tbody>\n",
       "    <tr>\n",
       "      <th>0</th>\n",
       "      <td>0</td>\n",
       "      <td>0</td>\n",
       "      <td>train_gen</td>\n",
       "      <td>/global/cscratch1/sd/vpa/proj/cosmogan/results...</td>\n",
       "      <td>156.409874</td>\n",
       "      <td>0.568250</td>\n",
       "      <td>0.013389</td>\n",
       "      <td>156.991512</td>\n",
       "      <td>11.802867</td>\n",
       "      <td>140.521809</td>\n",
       "      <td>131782.763292</td>\n",
       "      <td>6.417095e+07</td>\n",
       "      <td>0</td>\n",
       "      <td>0</td>\n",
       "      <td>[4.656314861863851e-05, 0.04946572788228852, 0...</td>\n",
       "      <td>[1.2239528435903247e-05, 0.003698883829943908,...</td>\n",
       "      <td>[-1.031746031584782, -0.6161616169043975, -0.3...</td>\n",
       "      <td>[15816246049.41213, 59096.80031838417, 28983.4...</td>\n",
       "      <td>[35558592.02687507, 3306.216730529061, 1420.67...</td>\n",
       "    </tr>\n",
       "    <tr>\n",
       "      <th>1</th>\n",
       "      <td>0</td>\n",
       "      <td>1</td>\n",
       "      <td>train_gen</td>\n",
       "      <td>/global/cscratch1/sd/vpa/proj/cosmogan/results...</td>\n",
       "      <td>157.810828</td>\n",
       "      <td>0.757574</td>\n",
       "      <td>0.013389</td>\n",
       "      <td>158.581790</td>\n",
       "      <td>11.714393</td>\n",
       "      <td>142.961043</td>\n",
       "      <td>133939.347834</td>\n",
       "      <td>8.160899e+07</td>\n",
       "      <td>0</td>\n",
       "      <td>0</td>\n",
       "      <td>[5.482435240581631e-05, 0.05818837890051619, 0...</td>\n",
       "      <td>[1.4211921854194027e-05, 0.003934476788837656,...</td>\n",
       "      <td>[-1.031746031584782, -0.6161616169043975, -0.3...</td>\n",
       "      <td>[15761435250.079742, 65965.76474971771, 29000....</td>\n",
       "      <td>[36285835.229485944, 3696.5637490518106, 1353....</td>\n",
       "    </tr>\n",
       "    <tr>\n",
       "      <th>2</th>\n",
       "      <td>0</td>\n",
       "      <td>2</td>\n",
       "      <td>train_gen</td>\n",
       "      <td>/global/cscratch1/sd/vpa/proj/cosmogan/results...</td>\n",
       "      <td>155.492982</td>\n",
       "      <td>0.980313</td>\n",
       "      <td>0.013389</td>\n",
       "      <td>156.486684</td>\n",
       "      <td>11.493092</td>\n",
       "      <td>66.006846</td>\n",
       "      <td>129221.638737</td>\n",
       "      <td>1.364079e+08</td>\n",
       "      <td>0</td>\n",
       "      <td>0</td>\n",
       "      <td>[8.711814902842042e-05, 0.060228896233829085, ...</td>\n",
       "      <td>[1.3274132944042214e-05, 0.0017634969758215202...</td>\n",
       "      <td>[-1.031746031584782, -0.6161616169043975, -0.3...</td>\n",
       "      <td>[15793555872.692316, 71631.31405143738, 35088....</td>\n",
       "      <td>[15597858.22439727, 5896.06376268714, 1870.782...</td>\n",
       "    </tr>\n",
       "    <tr>\n",
       "      <th>3</th>\n",
       "      <td>0</td>\n",
       "      <td>3</td>\n",
       "      <td>train_gen</td>\n",
       "      <td>/global/cscratch1/sd/vpa/proj/cosmogan/results...</td>\n",
       "      <td>150.989292</td>\n",
       "      <td>1.425727</td>\n",
       "      <td>0.013389</td>\n",
       "      <td>152.428409</td>\n",
       "      <td>11.142338</td>\n",
       "      <td>57.495163</td>\n",
       "      <td>166987.782866</td>\n",
       "      <td>1.872069e+08</td>\n",
       "      <td>0</td>\n",
       "      <td>0</td>\n",
       "      <td>[0.0001366853717514872, 0.06755894432937934, 0...</td>\n",
       "      <td>[1.5457121689665846e-05, 0.001735133964755206,...</td>\n",
       "      <td>[-1.031746031584782, -0.6161616169043975, -0.3...</td>\n",
       "      <td>[15907978133.064386, 50154.989252471925, 25123...</td>\n",
       "      <td>[11761484.52690822, 2669.564516256137, 587.952...</td>\n",
       "    </tr>\n",
       "    <tr>\n",
       "      <th>4</th>\n",
       "      <td>0</td>\n",
       "      <td>4</td>\n",
       "      <td>train_gen</td>\n",
       "      <td>/global/cscratch1/sd/vpa/proj/cosmogan/results...</td>\n",
       "      <td>139.749615</td>\n",
       "      <td>2.703870</td>\n",
       "      <td>0.013389</td>\n",
       "      <td>142.466875</td>\n",
       "      <td>10.499410</td>\n",
       "      <td>43.605505</td>\n",
       "      <td>259533.497890</td>\n",
       "      <td>2.460557e+08</td>\n",
       "      <td>0</td>\n",
       "      <td>0</td>\n",
       "      <td>[0.0001727342610046267, 0.0756785274717696, 0....</td>\n",
       "      <td>[2.108209466173035e-05, 0.0014744493022307251,...</td>\n",
       "      <td>[-1.031746031584782, -0.6161616169043975, -0.3...</td>\n",
       "      <td>[16175057397.244043, 32265.785321998595, 17070...</td>\n",
       "      <td>[6768570.687627409, 2866.9264646460074, 776.25...</td>\n",
       "    </tr>\n",
       "  </tbody>\n",
       "</table>\n",
       "</div>"
      ],
      "text/plain": [
       "   epoch  step   img_type                                              fname  \\\n",
       "0      0     0  train_gen  /global/cscratch1/sd/vpa/proj/cosmogan/results...   \n",
       "1      0     1  train_gen  /global/cscratch1/sd/vpa/proj/cosmogan/results...   \n",
       "2      0     2  train_gen  /global/cscratch1/sd/vpa/proj/cosmogan/results...   \n",
       "3      0     3  train_gen  /global/cscratch1/sd/vpa/proj/cosmogan/results...   \n",
       "4      0     4  train_gen  /global/cscratch1/sd/vpa/proj/cosmogan/results...   \n",
       "\n",
       "       chi_1a    chi_1b    chi_1c       chi_1      chi_2  chi_imgvar  \\\n",
       "0  156.409874  0.568250  0.013389  156.991512  11.802867  140.521809   \n",
       "1  157.810828  0.757574  0.013389  158.581790  11.714393  142.961043   \n",
       "2  155.492982  0.980313  0.013389  156.486684  11.493092   66.006846   \n",
       "3  150.989292  1.425727  0.013389  152.428409  11.142338   57.495163   \n",
       "4  139.749615  2.703870  0.013389  142.466875  10.499410   43.605505   \n",
       "\n",
       "       chi_spec1     chi_spec2  num_large  num_vlarge  \\\n",
       "0  131782.763292  6.417095e+07          0           0   \n",
       "1  133939.347834  8.160899e+07          0           0   \n",
       "2  129221.638737  1.364079e+08          0           0   \n",
       "3  166987.782866  1.872069e+08          0           0   \n",
       "4  259533.497890  2.460557e+08          0           0   \n",
       "\n",
       "                                            hist_val  \\\n",
       "0  [4.656314861863851e-05, 0.04946572788228852, 0...   \n",
       "1  [5.482435240581631e-05, 0.05818837890051619, 0...   \n",
       "2  [8.711814902842042e-05, 0.060228896233829085, ...   \n",
       "3  [0.0001366853717514872, 0.06755894432937934, 0...   \n",
       "4  [0.0001727342610046267, 0.0756785274717696, 0....   \n",
       "\n",
       "                                            hist_err  \\\n",
       "0  [1.2239528435903247e-05, 0.003698883829943908,...   \n",
       "1  [1.4211921854194027e-05, 0.003934476788837656,...   \n",
       "2  [1.3274132944042214e-05, 0.0017634969758215202...   \n",
       "3  [1.5457121689665846e-05, 0.001735133964755206,...   \n",
       "4  [2.108209466173035e-05, 0.0014744493022307251,...   \n",
       "\n",
       "                                    hist_bin_centers  \\\n",
       "0  [-1.031746031584782, -0.6161616169043975, -0.3...   \n",
       "1  [-1.031746031584782, -0.6161616169043975, -0.3...   \n",
       "2  [-1.031746031584782, -0.6161616169043975, -0.3...   \n",
       "3  [-1.031746031584782, -0.6161616169043975, -0.3...   \n",
       "4  [-1.031746031584782, -0.6161616169043975, -0.3...   \n",
       "\n",
       "                                            spec_val  \\\n",
       "0  [15816246049.41213, 59096.80031838417, 28983.4...   \n",
       "1  [15761435250.079742, 65965.76474971771, 29000....   \n",
       "2  [15793555872.692316, 71631.31405143738, 35088....   \n",
       "3  [15907978133.064386, 50154.989252471925, 25123...   \n",
       "4  [16175057397.244043, 32265.785321998595, 17070...   \n",
       "\n",
       "                                            spec_err  \n",
       "0  [35558592.02687507, 3306.216730529061, 1420.67...  \n",
       "1  [36285835.229485944, 3696.5637490518106, 1353....  \n",
       "2  [15597858.22439727, 5896.06376268714, 1870.782...  \n",
       "3  [11761484.52690822, 2669.564516256137, 587.952...  \n",
       "4  [6768570.687627409, 2866.9264646460074, 776.25...  "
      ]
     },
     "execution_count": 40,
     "metadata": {},
     "output_type": "execute_result"
    }
   ],
   "source": [
    "print(df.shape)\n",
    "df.head()\n"
   ]
  },
  {
   "cell_type": "code",
   "execution_count": 17,
   "metadata": {},
   "outputs": [
    {
     "data": {
      "text/html": [
       "<div>\n",
       "<style scoped>\n",
       "    .dataframe tbody tr th:only-of-type {\n",
       "        vertical-align: middle;\n",
       "    }\n",
       "\n",
       "    .dataframe tbody tr th {\n",
       "        vertical-align: top;\n",
       "    }\n",
       "\n",
       "    .dataframe thead th {\n",
       "        text-align: right;\n",
       "    }\n",
       "</style>\n",
       "<table border=\"1\" class=\"dataframe\">\n",
       "  <thead>\n",
       "    <tr style=\"text-align: right;\">\n",
       "      <th></th>\n",
       "      <th>epoch</th>\n",
       "      <th>step</th>\n",
       "      <th>img_type</th>\n",
       "      <th>fname</th>\n",
       "      <th>chi_1a</th>\n",
       "      <th>chi_1b</th>\n",
       "      <th>chi_1c</th>\n",
       "      <th>chi_1</th>\n",
       "      <th>chi_2</th>\n",
       "      <th>chi_imgvar</th>\n",
       "      <th>chi_spec1</th>\n",
       "      <th>chi_spec2</th>\n",
       "      <th>num_large</th>\n",
       "      <th>num_vlarge</th>\n",
       "      <th>hist_val</th>\n",
       "      <th>hist_err</th>\n",
       "      <th>hist_bin_centers</th>\n",
       "      <th>spec_val</th>\n",
       "      <th>spec_err</th>\n",
       "    </tr>\n",
       "  </thead>\n",
       "  <tbody>\n",
       "  </tbody>\n",
       "</table>\n",
       "</div>"
      ],
      "text/plain": [
       "Empty DataFrame\n",
       "Columns: [epoch, step, img_type, fname, chi_1a, chi_1b, chi_1c, chi_1, chi_2, chi_imgvar, chi_spec1, chi_spec2, num_large, num_vlarge, hist_val, hist_err, hist_bin_centers, spec_val, spec_err]\n",
       "Index: []"
      ]
     },
     "execution_count": 17,
     "metadata": {},
     "output_type": "execute_result"
    }
   ],
   "source": []
  },
  {
   "cell_type": "markdown",
   "metadata": {},
   "source": [
    "### View best epochs"
   ]
  },
  {
   "cell_type": "markdown",
   "metadata": {},
   "source": [
    "#### Locations with best chi_sqr"
   ]
  },
  {
   "cell_type": "code",
   "execution_count": 55,
   "metadata": {},
   "outputs": [
    {
     "data": {
      "text/html": [
       "<div>\n",
       "<style scoped>\n",
       "    .dataframe tbody tr th:only-of-type {\n",
       "        vertical-align: middle;\n",
       "    }\n",
       "\n",
       "    .dataframe tbody tr th {\n",
       "        vertical-align: top;\n",
       "    }\n",
       "\n",
       "    .dataframe thead th {\n",
       "        text-align: right;\n",
       "    }\n",
       "</style>\n",
       "<table border=\"1\" class=\"dataframe\">\n",
       "  <thead>\n",
       "    <tr style=\"text-align: right;\">\n",
       "      <th></th>\n",
       "      <th>epoch</th>\n",
       "      <th>step</th>\n",
       "      <th>chi_1a</th>\n",
       "      <th>chi_1b</th>\n",
       "      <th>chi_1c</th>\n",
       "      <th>chi_1</th>\n",
       "      <th>chi_2</th>\n",
       "      <th>chi_imgvar</th>\n",
       "      <th>chi_spec1</th>\n",
       "      <th>chi_spec2</th>\n",
       "    </tr>\n",
       "  </thead>\n",
       "  <tbody>\n",
       "    <tr>\n",
       "      <th>31743</th>\n",
       "      <td>14</td>\n",
       "      <td>31743</td>\n",
       "      <td>0.000115</td>\n",
       "      <td>0.007121</td>\n",
       "      <td>0.103561</td>\n",
       "      <td>0.110796</td>\n",
       "      <td>0.000083</td>\n",
       "      <td>17.376732</td>\n",
       "      <td>0.404873</td>\n",
       "      <td>7.224817e+02</td>\n",
       "    </tr>\n",
       "    <tr>\n",
       "      <th>15028</th>\n",
       "      <td>6</td>\n",
       "      <td>15028</td>\n",
       "      <td>0.042877</td>\n",
       "      <td>0.000495</td>\n",
       "      <td>12.104539</td>\n",
       "      <td>12.147911</td>\n",
       "      <td>0.041814</td>\n",
       "      <td>24.838981</td>\n",
       "      <td>1.847823</td>\n",
       "      <td>1.253451e+03</td>\n",
       "    </tr>\n",
       "    <tr>\n",
       "      <th>6936</th>\n",
       "      <td>3</td>\n",
       "      <td>6936</td>\n",
       "      <td>0.490089</td>\n",
       "      <td>0.081638</td>\n",
       "      <td>0.001139</td>\n",
       "      <td>0.572865</td>\n",
       "      <td>0.292050</td>\n",
       "      <td>30.326860</td>\n",
       "      <td>5.204973</td>\n",
       "      <td>1.427339e+04</td>\n",
       "    </tr>\n",
       "    <tr>\n",
       "      <th>28206</th>\n",
       "      <td>12</td>\n",
       "      <td>28206</td>\n",
       "      <td>0.000861</td>\n",
       "      <td>0.003000</td>\n",
       "      <td>0.003611</td>\n",
       "      <td>0.007472</td>\n",
       "      <td>0.000349</td>\n",
       "      <td>36.567403</td>\n",
       "      <td>1.633367</td>\n",
       "      <td>1.096173e+03</td>\n",
       "    </tr>\n",
       "    <tr>\n",
       "      <th>32420</th>\n",
       "      <td>14</td>\n",
       "      <td>32420</td>\n",
       "      <td>0.000257</td>\n",
       "      <td>0.001333</td>\n",
       "      <td>0.099063</td>\n",
       "      <td>0.100653</td>\n",
       "      <td>0.000036</td>\n",
       "      <td>30.487295</td>\n",
       "      <td>0.195482</td>\n",
       "      <td>3.284864e+02</td>\n",
       "    </tr>\n",
       "    <tr>\n",
       "      <th>3040</th>\n",
       "      <td>1</td>\n",
       "      <td>3040</td>\n",
       "      <td>1.201529</td>\n",
       "      <td>0.291189</td>\n",
       "      <td>0.013389</td>\n",
       "      <td>1.506107</td>\n",
       "      <td>0.668475</td>\n",
       "      <td>2.623033</td>\n",
       "      <td>2965.083517</td>\n",
       "      <td>9.036817e+06</td>\n",
       "    </tr>\n",
       "    <tr>\n",
       "      <th>30332</th>\n",
       "      <td>13</td>\n",
       "      <td>30332</td>\n",
       "      <td>0.010372</td>\n",
       "      <td>0.004587</td>\n",
       "      <td>0.022456</td>\n",
       "      <td>0.037415</td>\n",
       "      <td>0.006085</td>\n",
       "      <td>24.676371</td>\n",
       "      <td>0.059244</td>\n",
       "      <td>2.511601e+02</td>\n",
       "    </tr>\n",
       "    <tr>\n",
       "      <th>22232</th>\n",
       "      <td>9</td>\n",
       "      <td>22232</td>\n",
       "      <td>0.002668</td>\n",
       "      <td>0.003948</td>\n",
       "      <td>0.684377</td>\n",
       "      <td>0.690994</td>\n",
       "      <td>0.001892</td>\n",
       "      <td>44.495939</td>\n",
       "      <td>0.103958</td>\n",
       "      <td>4.506815e+01</td>\n",
       "    </tr>\n",
       "  </tbody>\n",
       "</table>\n",
       "</div>"
      ],
      "text/plain": [
       "       epoch   step    chi_1a    chi_1b     chi_1c      chi_1     chi_2  \\\n",
       "31743     14  31743  0.000115  0.007121   0.103561   0.110796  0.000083   \n",
       "15028      6  15028  0.042877  0.000495  12.104539  12.147911  0.041814   \n",
       "6936       3   6936  0.490089  0.081638   0.001139   0.572865  0.292050   \n",
       "28206     12  28206  0.000861  0.003000   0.003611   0.007472  0.000349   \n",
       "32420     14  32420  0.000257  0.001333   0.099063   0.100653  0.000036   \n",
       "3040       1   3040  1.201529  0.291189   0.013389   1.506107  0.668475   \n",
       "30332     13  30332  0.010372  0.004587   0.022456   0.037415  0.006085   \n",
       "22232      9  22232  0.002668  0.003948   0.684377   0.690994  0.001892   \n",
       "\n",
       "       chi_imgvar    chi_spec1     chi_spec2  \n",
       "31743   17.376732     0.404873  7.224817e+02  \n",
       "15028   24.838981     1.847823  1.253451e+03  \n",
       "6936    30.326860     5.204973  1.427339e+04  \n",
       "28206   36.567403     1.633367  1.096173e+03  \n",
       "32420   30.487295     0.195482  3.284864e+02  \n",
       "3040     2.623033  2965.083517  9.036817e+06  \n",
       "30332   24.676371     0.059244  2.511601e+02  \n",
       "22232   44.495939     0.103958  4.506815e+01  "
      ]
     },
     "execution_count": 55,
     "metadata": {},
     "output_type": "execute_result"
    }
   ],
   "source": [
    "chi_sqr_keys=['epoch','step','chi_1a','chi_1b','chi_1c','chi_1','chi_2','chi_imgvar','chi_spec1','chi_spec2']\n",
    "# index location of min/max values of chi squares\n",
    "inds=[]\n",
    "for key in ['chi_1a','chi_1b','chi_1c','chi_1','chi_2','chi_imgvar','chi_spec1','chi_spec2']:\n",
    "    inds.append(df[key].idxmin(axis=1))\n",
    "inds=np.array(inds)\n",
    "df.loc[inds][chi_sqr_keys]"
   ]
  },
  {
   "cell_type": "code",
   "execution_count": 42,
   "metadata": {},
   "outputs": [],
   "source": [
    "def f_get_best_chisqr_models(df,cutoff=0.2):\n",
    "    '''\n",
    "    Pick models with lowest 20% chi-square for multiple categories\n",
    "    '''\n",
    "    chi_sqr_keys=[ 'chi_1', 'chi_spec1']\n",
    "    q_dict=dict(df.quantile(q=cutoff,axis=0)[chi_sqr_keys])\n",
    "#     print(q_dict)\n",
    "    \n",
    "    df_sliced=df.query('chi_1 < {0} & chi_spec1 < {1}'.format(q_dict['chi_1'],q_dict['chi_spec1']))\n",
    "    \n",
    "    return df_sliced"
   ]
  },
  {
   "cell_type": "code",
   "execution_count": 43,
   "metadata": {},
   "outputs": [
    {
     "name": "stdout",
     "output_type": "stream",
     "text": [
      "(4099, 19)\n"
     ]
    }
   ],
   "source": [
    "df_sliced=f_get_best_chisqr_models(df,cutoff=0.3)\n",
    "print(df_sliced.shape)"
   ]
  },
  {
   "cell_type": "code",
   "execution_count": 44,
   "metadata": {},
   "outputs": [
    {
     "data": {
      "text/html": [
       "<div>\n",
       "<style scoped>\n",
       "    .dataframe tbody tr th:only-of-type {\n",
       "        vertical-align: middle;\n",
       "    }\n",
       "\n",
       "    .dataframe tbody tr th {\n",
       "        vertical-align: top;\n",
       "    }\n",
       "\n",
       "    .dataframe thead th {\n",
       "        text-align: right;\n",
       "    }\n",
       "</style>\n",
       "<table border=\"1\" class=\"dataframe\">\n",
       "  <thead>\n",
       "    <tr style=\"text-align: right;\">\n",
       "      <th></th>\n",
       "      <th>epoch</th>\n",
       "      <th>step</th>\n",
       "      <th>chi_1</th>\n",
       "      <th>chi_spec1</th>\n",
       "    </tr>\n",
       "  </thead>\n",
       "  <tbody>\n",
       "    <tr>\n",
       "      <th>32942</th>\n",
       "      <td>14</td>\n",
       "      <td>32942</td>\n",
       "      <td>0.007982</td>\n",
       "      <td>0.174309</td>\n",
       "    </tr>\n",
       "    <tr>\n",
       "      <th>31341</th>\n",
       "      <td>13</td>\n",
       "      <td>31341</td>\n",
       "      <td>0.008565</td>\n",
       "      <td>0.147168</td>\n",
       "    </tr>\n",
       "    <tr>\n",
       "      <th>23777</th>\n",
       "      <td>10</td>\n",
       "      <td>23777</td>\n",
       "      <td>0.008699</td>\n",
       "      <td>0.430917</td>\n",
       "    </tr>\n",
       "    <tr>\n",
       "      <th>32886</th>\n",
       "      <td>14</td>\n",
       "      <td>32886</td>\n",
       "      <td>0.008710</td>\n",
       "      <td>0.303737</td>\n",
       "    </tr>\n",
       "    <tr>\n",
       "      <th>32562</th>\n",
       "      <td>14</td>\n",
       "      <td>32562</td>\n",
       "      <td>0.009277</td>\n",
       "      <td>0.247334</td>\n",
       "    </tr>\n",
       "  </tbody>\n",
       "</table>\n",
       "</div>"
      ],
      "text/plain": [
       "       epoch   step     chi_1  chi_spec1\n",
       "32942     14  32942  0.007982   0.174309\n",
       "31341     13  31341  0.008565   0.147168\n",
       "23777     10  23777  0.008699   0.430917\n",
       "32886     14  32886  0.008710   0.303737\n",
       "32562     14  32562  0.009277   0.247334"
      ]
     },
     "execution_count": 44,
     "metadata": {},
     "output_type": "execute_result"
    }
   ],
   "source": [
    "df_sliced.sort_values(by=['chi_1','chi_spec1'])[['epoch','step','chi_1','chi_spec1']].head(5)"
   ]
  },
  {
   "cell_type": "code",
   "execution_count": 46,
   "metadata": {},
   "outputs": [
    {
     "data": {
      "application/vnd.jupyter.widget-view+json": {
       "model_id": "64d685bd548e4e42bdf22ef84ca73f13",
       "version_major": 2,
       "version_minor": 0
      },
      "text/plain": [
       "Canvas(toolbar=Toolbar(toolitems=[('Home', 'Reset original view', 'home', 'home'), ('Back', 'Back to previous …"
      ]
     },
     "metadata": {},
     "output_type": "display_data"
    },
    {
     "data": {
      "text/plain": [
       "<matplotlib.axes._subplots.AxesSubplot at 0x2aaae506e7b8>"
      ]
     },
     "execution_count": 46,
     "metadata": {},
     "output_type": "execute_result"
    }
   ],
   "source": [
    "### Plot chi-sqr values\n",
    "df_sliced.plot(x=\"step\", y=[\"chi_1\", \"chi_imgvar\", \"chi_spec1\"],style='.',marker='*')"
   ]
  },
  {
   "cell_type": "markdown",
   "metadata": {},
   "source": [
    "### High Pixel images"
   ]
  },
  {
   "cell_type": "code",
   "execution_count": 47,
   "metadata": {},
   "outputs": [
    {
     "data": {
      "application/vnd.jupyter.widget-view+json": {
       "model_id": "039a919699a64527a67ff9dabf619aba",
       "version_major": 2,
       "version_minor": 0
      },
      "text/plain": [
       "Canvas(toolbar=Toolbar(toolitems=[('Home', 'Reset original view', 'home', 'home'), ('Back', 'Back to previous …"
      ]
     },
     "metadata": {},
     "output_type": "display_data"
    },
    {
     "data": {
      "text/plain": [
       "Text(0, 0.5, 'Number of very large pixel images from a batch of images')"
      ]
     },
     "execution_count": 47,
     "metadata": {},
     "output_type": "execute_result"
    }
   ],
   "source": [
    "### Plot number of very high pixel images\n",
    "plt.figure()\n",
    "plt.plot(df[df.img_type=='train_gen'].step,df[df.img_type=='train_gen'].num_vlarge,linestyle='',marker='*')\n",
    "plt.xlabel('Steps in Epochs')\n",
    "plt.ylabel('Number of very large pixel images from a batch of images')"
   ]
  },
  {
   "cell_type": "code",
   "execution_count": 48,
   "metadata": {},
   "outputs": [
    {
     "data": {
      "text/html": [
       "<div>\n",
       "<style scoped>\n",
       "    .dataframe tbody tr th:only-of-type {\n",
       "        vertical-align: middle;\n",
       "    }\n",
       "\n",
       "    .dataframe tbody tr th {\n",
       "        vertical-align: top;\n",
       "    }\n",
       "\n",
       "    .dataframe thead th {\n",
       "        text-align: right;\n",
       "    }\n",
       "</style>\n",
       "<table border=\"1\" class=\"dataframe\">\n",
       "  <thead>\n",
       "    <tr style=\"text-align: right;\">\n",
       "      <th></th>\n",
       "      <th>epoch</th>\n",
       "      <th>step</th>\n",
       "      <th>img_type</th>\n",
       "      <th>fname</th>\n",
       "      <th>chi_1a</th>\n",
       "      <th>chi_1b</th>\n",
       "      <th>chi_1c</th>\n",
       "      <th>chi_1</th>\n",
       "      <th>chi_2</th>\n",
       "      <th>chi_imgvar</th>\n",
       "      <th>chi_spec1</th>\n",
       "      <th>chi_spec2</th>\n",
       "      <th>num_large</th>\n",
       "      <th>num_vlarge</th>\n",
       "      <th>hist_val</th>\n",
       "      <th>hist_err</th>\n",
       "      <th>hist_bin_centers</th>\n",
       "      <th>spec_val</th>\n",
       "      <th>spec_err</th>\n",
       "    </tr>\n",
       "  </thead>\n",
       "  <tbody>\n",
       "  </tbody>\n",
       "</table>\n",
       "</div>"
      ],
      "text/plain": [
       "Empty DataFrame\n",
       "Columns: [epoch, step, img_type, fname, chi_1a, chi_1b, chi_1c, chi_1, chi_2, chi_imgvar, chi_spec1, chi_spec2, num_large, num_vlarge, hist_val, hist_err, hist_bin_centers, spec_val, spec_err]\n",
       "Index: []"
      ]
     },
     "execution_count": 48,
     "metadata": {},
     "output_type": "execute_result"
    }
   ],
   "source": [
    "df[df.num_vlarge>10].tail()"
   ]
  },
  {
   "cell_type": "markdown",
   "metadata": {},
   "source": [
    "## Compare samples"
   ]
  },
  {
   "cell_type": "code",
   "execution_count": 61,
   "metadata": {},
   "outputs": [],
   "source": [
    "# df_sliced.sort_values(by=['chi_spec1','chi_1']).head(5)\n",
    "# df_sliced.sort_values(by=['chi_1','chi_spec1']).head(5)"
   ]
  },
  {
   "cell_type": "code",
   "execution_count": 56,
   "metadata": {},
   "outputs": [
    {
     "name": "stdout",
     "output_type": "stream",
     "text": [
      "[32942, 31341, 30332, 30091]\n",
      "[(14, 32942), (13, 31341), (13, 30332), (13, 30091)]\n"
     ]
    },
    {
     "data": {
      "text/html": [
       "<div>\n",
       "<style scoped>\n",
       "    .dataframe tbody tr th:only-of-type {\n",
       "        vertical-align: middle;\n",
       "    }\n",
       "\n",
       "    .dataframe tbody tr th {\n",
       "        vertical-align: top;\n",
       "    }\n",
       "\n",
       "    .dataframe thead th {\n",
       "        text-align: right;\n",
       "    }\n",
       "</style>\n",
       "<table border=\"1\" class=\"dataframe\">\n",
       "  <thead>\n",
       "    <tr style=\"text-align: right;\">\n",
       "      <th></th>\n",
       "      <th>epoch</th>\n",
       "      <th>step</th>\n",
       "      <th>img_type</th>\n",
       "      <th>fname</th>\n",
       "      <th>chi_1a</th>\n",
       "      <th>chi_1b</th>\n",
       "      <th>chi_1c</th>\n",
       "      <th>chi_1</th>\n",
       "      <th>chi_2</th>\n",
       "      <th>chi_imgvar</th>\n",
       "      <th>chi_spec1</th>\n",
       "      <th>chi_spec2</th>\n",
       "      <th>num_large</th>\n",
       "      <th>num_vlarge</th>\n",
       "      <th>hist_val</th>\n",
       "      <th>hist_err</th>\n",
       "      <th>hist_bin_centers</th>\n",
       "      <th>spec_val</th>\n",
       "      <th>spec_err</th>\n",
       "    </tr>\n",
       "  </thead>\n",
       "  <tbody>\n",
       "    <tr>\n",
       "      <th>32942</th>\n",
       "      <td>14</td>\n",
       "      <td>32942</td>\n",
       "      <td>train_gen</td>\n",
       "      <td>/global/cscratch1/sd/vpa/proj/cosmogan/results...</td>\n",
       "      <td>0.004089</td>\n",
       "      <td>0.002167</td>\n",
       "      <td>0.001726</td>\n",
       "      <td>0.007982</td>\n",
       "      <td>0.003349</td>\n",
       "      <td>22.046198</td>\n",
       "      <td>0.174309</td>\n",
       "      <td>411.480653</td>\n",
       "      <td>0</td>\n",
       "      <td>0</td>\n",
       "      <td>[1.0855972794877735, 1.0048586026411805, 0.265...</td>\n",
       "      <td>[0.001671947730229744, 0.002414049449283854, 0...</td>\n",
       "      <td>[-1.031746031584782, -0.6161616169043975, -0.3...</td>\n",
       "      <td>[50253728906.279686, 2673503.5788085936, 23853...</td>\n",
       "      <td>[60263749.71345505, 375038.82666581497, 166590...</td>\n",
       "    </tr>\n",
       "    <tr>\n",
       "      <th>31341</th>\n",
       "      <td>13</td>\n",
       "      <td>31341</td>\n",
       "      <td>train_gen</td>\n",
       "      <td>/global/cscratch1/sd/vpa/proj/cosmogan/results...</td>\n",
       "      <td>0.000642</td>\n",
       "      <td>0.003218</td>\n",
       "      <td>0.004706</td>\n",
       "      <td>0.008565</td>\n",
       "      <td>0.000336</td>\n",
       "      <td>26.724849</td>\n",
       "      <td>0.147168</td>\n",
       "      <td>307.577972</td>\n",
       "      <td>0</td>\n",
       "      <td>0</td>\n",
       "      <td>[1.1303887754033255, 0.9464471712386422, 0.257...</td>\n",
       "      <td>[0.006089816302573856, 0.007004901954703871, 0...</td>\n",
       "      <td>[-1.031746031584782, -0.6161616169043975, -0.3...</td>\n",
       "      <td>[50829036846.51514, 2580027.092529297, 2005139...</td>\n",
       "      <td>[73303387.34740868, 216967.88160488041, 135753...</td>\n",
       "    </tr>\n",
       "    <tr>\n",
       "      <th>30332</th>\n",
       "      <td>13</td>\n",
       "      <td>30332</td>\n",
       "      <td>train_gen</td>\n",
       "      <td>/global/cscratch1/sd/vpa/proj/cosmogan/results...</td>\n",
       "      <td>0.010372</td>\n",
       "      <td>0.004587</td>\n",
       "      <td>0.022456</td>\n",
       "      <td>0.037415</td>\n",
       "      <td>0.006085</td>\n",
       "      <td>24.676371</td>\n",
       "      <td>0.059244</td>\n",
       "      <td>251.160112</td>\n",
       "      <td>1</td>\n",
       "      <td>0</td>\n",
       "      <td>[1.0688762607821372, 1.0128357699787984, 0.277...</td>\n",
       "      <td>[0.004662908569698298, 0.0024210509268234367, ...</td>\n",
       "      <td>[-1.031746031584782, -0.6161616169043975, -0.3...</td>\n",
       "      <td>[49980999959.57217, 2748650.114306641, 2262697...</td>\n",
       "      <td>[80404175.17669658, 152678.86045233998, 190166...</td>\n",
       "    </tr>\n",
       "    <tr>\n",
       "      <th>30091</th>\n",
       "      <td>13</td>\n",
       "      <td>30091</td>\n",
       "      <td>train_gen</td>\n",
       "      <td>/global/cscratch1/sd/vpa/proj/cosmogan/results...</td>\n",
       "      <td>0.015094</td>\n",
       "      <td>0.006611</td>\n",
       "      <td>0.076373</td>\n",
       "      <td>0.098077</td>\n",
       "      <td>0.007479</td>\n",
       "      <td>55.150103</td>\n",
       "      <td>0.071572</td>\n",
       "      <td>59.603050</td>\n",
       "      <td>1</td>\n",
       "      <td>0</td>\n",
       "      <td>[1.0618883756370994, 1.0097350732144883, 0.291...</td>\n",
       "      <td>[0.01830814852673116, 0.014093433590341138, 0....</td>\n",
       "      <td>[-1.031746031584782, -0.6161616169043975, -0.3...</td>\n",
       "      <td>[49875951955.06299, 2393372.605126953, 2075707...</td>\n",
       "      <td>[289584741.556528, 215253.80035150034, 164139....</td>\n",
       "    </tr>\n",
       "  </tbody>\n",
       "</table>\n",
       "</div>"
      ],
      "text/plain": [
       "       epoch   step   img_type  \\\n",
       "32942     14  32942  train_gen   \n",
       "31341     13  31341  train_gen   \n",
       "30332     13  30332  train_gen   \n",
       "30091     13  30091  train_gen   \n",
       "\n",
       "                                                   fname    chi_1a    chi_1b  \\\n",
       "32942  /global/cscratch1/sd/vpa/proj/cosmogan/results...  0.004089  0.002167   \n",
       "31341  /global/cscratch1/sd/vpa/proj/cosmogan/results...  0.000642  0.003218   \n",
       "30332  /global/cscratch1/sd/vpa/proj/cosmogan/results...  0.010372  0.004587   \n",
       "30091  /global/cscratch1/sd/vpa/proj/cosmogan/results...  0.015094  0.006611   \n",
       "\n",
       "         chi_1c     chi_1     chi_2  chi_imgvar  chi_spec1   chi_spec2  \\\n",
       "32942  0.001726  0.007982  0.003349   22.046198   0.174309  411.480653   \n",
       "31341  0.004706  0.008565  0.000336   26.724849   0.147168  307.577972   \n",
       "30332  0.022456  0.037415  0.006085   24.676371   0.059244  251.160112   \n",
       "30091  0.076373  0.098077  0.007479   55.150103   0.071572   59.603050   \n",
       "\n",
       "       num_large  num_vlarge  \\\n",
       "32942          0           0   \n",
       "31341          0           0   \n",
       "30332          1           0   \n",
       "30091          1           0   \n",
       "\n",
       "                                                hist_val  \\\n",
       "32942  [1.0855972794877735, 1.0048586026411805, 0.265...   \n",
       "31341  [1.1303887754033255, 0.9464471712386422, 0.257...   \n",
       "30332  [1.0688762607821372, 1.0128357699787984, 0.277...   \n",
       "30091  [1.0618883756370994, 1.0097350732144883, 0.291...   \n",
       "\n",
       "                                                hist_err  \\\n",
       "32942  [0.001671947730229744, 0.002414049449283854, 0...   \n",
       "31341  [0.006089816302573856, 0.007004901954703871, 0...   \n",
       "30332  [0.004662908569698298, 0.0024210509268234367, ...   \n",
       "30091  [0.01830814852673116, 0.014093433590341138, 0....   \n",
       "\n",
       "                                        hist_bin_centers  \\\n",
       "32942  [-1.031746031584782, -0.6161616169043975, -0.3...   \n",
       "31341  [-1.031746031584782, -0.6161616169043975, -0.3...   \n",
       "30332  [-1.031746031584782, -0.6161616169043975, -0.3...   \n",
       "30091  [-1.031746031584782, -0.6161616169043975, -0.3...   \n",
       "\n",
       "                                                spec_val  \\\n",
       "32942  [50253728906.279686, 2673503.5788085936, 23853...   \n",
       "31341  [50829036846.51514, 2580027.092529297, 2005139...   \n",
       "30332  [49980999959.57217, 2748650.114306641, 2262697...   \n",
       "30091  [49875951955.06299, 2393372.605126953, 2075707...   \n",
       "\n",
       "                                                spec_err  \n",
       "32942  [60263749.71345505, 375038.82666581497, 166590...  \n",
       "31341  [73303387.34740868, 216967.88160488041, 135753...  \n",
       "30332  [80404175.17669658, 152678.86045233998, 190166...  \n",
       "30091  [289584741.556528, 215253.80035150034, 164139....  "
      ]
     },
     "execution_count": 56,
     "metadata": {},
     "output_type": "execute_result"
    }
   ],
   "source": [
    "best_idx=[]\n",
    "best_idx.append(df_sliced.sort_values(by=['chi_1','chi_spec1']).head(2).index)\n",
    "best_idx.append(df_sliced.sort_values(by=['chi_spec1','chi_1']).head(2).index)\n",
    "\n",
    "best_idx=[i for j in best_idx for i in j]\n",
    "print(best_idx)\n",
    "\n",
    "df_best=df_sliced.loc[best_idx]\n",
    "print([(df_best.loc[idx].epoch,df_best.loc[idx].step) for idx in best_idx])\n",
    "df_best"
   ]
  },
  {
   "cell_type": "code",
   "execution_count": null,
   "metadata": {},
   "outputs": [],
   "source": []
  },
  {
   "cell_type": "markdown",
   "metadata": {},
   "source": [
    "## Plot pixel intensity and spectrum"
   ]
  },
  {
   "cell_type": "code",
   "execution_count": 50,
   "metadata": {},
   "outputs": [],
   "source": [
    "def f_plot_hist_spec_combined(df,dict_bkg):\n",
    "\n",
    "    fig=plt.figure(figsize=(6,6))\n",
    "    ax1=fig.add_subplot(121)\n",
    "    ax2=fig.add_subplot(122)\n",
    "    for (i,row),marker in zip(df.iterrows(),itertools.cycle('>^*sDHPdpx_')):\n",
    "\n",
    "        x1=row.hist_bin_centers\n",
    "        y1=row.hist_val\n",
    "        yerr1=row.hist_err\n",
    "        x1=f_invtransform(x1)\n",
    "\n",
    "        y2=row.spec_val\n",
    "        yerr2=row.spec_err\n",
    "        x2=np.arange(len(y2))\n",
    "\n",
    "        label='{0}_{1}_{2}'.format(i,row.epoch,row.step)\n",
    "        ax1.errorbar(x1,y1,yerr1,marker=marker,markersize=5,linestyle='',label=label)\n",
    "    #     ax2.errorbar(x2,y2,yerr2,marker=marker,markersize=5,linestyle='',label='{0}-{1}'.format(epoch,step))\n",
    "\n",
    "        ax2.fill_between(x2, y2 - yerr2, y2 + yerr2, alpha=0.4)\n",
    "        ax2.plot(x2, y2, marker=marker, linestyle=':',label=label)\n",
    "\n",
    "    ### Plot input data\n",
    "    x,y,yerr=dict_bkg['hist_bin_centers'],dict_bkg['hist_val'],dict_bkg['hist_err']\n",
    "    x=f_invtransform(x)\n",
    "    ax1.errorbar(x, y,yerr,color='k',linestyle='-',label='bkgnd')   \n",
    "\n",
    "    y,yerr=dict_bkg['spec_val'],dict_bkg['spec_err']\n",
    "    x=np.arange(len(y))\n",
    "    ax2.fill_between(x, y - yerr, y + yerr, color='k',alpha=0.8)\n",
    "\n",
    "    plt.legend()\n",
    "    # plt.yscale('log')\n",
    "    ax1.set_xscale('symlog',linthreshx=50)\n",
    "    ax1.set_yscale('log')\n",
    "    ax2.set_yscale('log')\n",
    "    \n",
    "    \n"
   ]
  },
  {
   "cell_type": "code",
   "execution_count": 58,
   "metadata": {},
   "outputs": [
    {
     "name": "stdout",
     "output_type": "stream",
     "text": [
      "(4000, 512, 512)\n"
     ]
    }
   ],
   "source": [
    "def f_compute_hist_spect(sample,bins):\n",
    "    ''' Compute pixel intensity histograms and radial spectrum for 2D arrays\n",
    "    Input : Image arrays and bins\n",
    "    Output: dictionary with 5 arrays : Histogram values, errors and bin centers, Spectrum values and errors.\n",
    "    '''\n",
    "    ### Compute pixel histogram for row\n",
    "    gen_hist,gen_err,hist_bins=f_batch_histogram(sample,bins=bins,norm=True,hist_range=None)\n",
    "    ### Compute spectrum for row\n",
    "    spec,spec_err=f_compute_spectrum(sample,plot=False)\n",
    "\n",
    "    dict1={'hist_val':gen_hist,'hist_err':gen_err,'hist_bin_centers':hist_bins,'spec_val':spec,'spec_err':spec_err }\n",
    "    return dict1\n",
    "\n",
    "\n",
    "### Extract validation data\n",
    "fname='/global/cfs/cdirs/m3363/vayyar/cosmogan_data/raw_data/512_square/dataset1_smoothing_single_universe/norm_1_train_val.npy'\n",
    "s_val=np.load(fname,mmap_mode='r')[:4000][:,0,:,:]\n",
    "print(s_val.shape)\n",
    "\n",
    "bins=np.concatenate([np.array([-0.5]),np.arange(0.5,20.5,1),np.arange(20.5,100.5,5),np.arange(100.5,1000.5,50),np.array([2000])]) #bin edges to use\n",
    "bins=f_transform(bins)   ### scale to (-1,1) \n",
    "### Compute histogram and spectrum of raw data \n",
    "dict_val=f_compute_hist_spect(s_val,bins)\n"
   ]
  },
  {
   "cell_type": "code",
   "execution_count": 59,
   "metadata": {},
   "outputs": [
    {
     "data": {
      "application/vnd.jupyter.widget-view+json": {
       "model_id": "def6fc604e4e4bce89dc5741b095c257",
       "version_major": 2,
       "version_minor": 0
      },
      "text/plain": [
       "Canvas(toolbar=Toolbar(toolitems=[('Home', 'Reset original view', 'home', 'home'), ('Back', 'Back to previous …"
      ]
     },
     "metadata": {},
     "output_type": "display_data"
    }
   ],
   "source": [
    "f_plot_hist_spec_combined(df_best,dict_val)\n",
    "# f_plot_hist_spec_combined(df[df.epoch==10].head(10),dict_val)\n",
    "\n"
   ]
  },
  {
   "cell_type": "markdown",
   "metadata": {},
   "source": [
    "## View image block"
   ]
  },
  {
   "cell_type": "code",
   "execution_count": 60,
   "metadata": {},
   "outputs": [],
   "source": [
    "def f_get_img(df,epoch,step):\n",
    "    df_temp=df[(df.epoch==epoch)&(df.step==step)]\n",
    "    images=np.load(df_temp.fname.values[0])[:,0,:,:]\n",
    "    return images\n",
    "\n",
    "img_arr=f_get_img(df,13,30091)"
   ]
  },
  {
   "cell_type": "code",
   "execution_count": 61,
   "metadata": {},
   "outputs": [
    {
     "name": "stdout",
     "output_type": "stream",
     "text": [
      "2 6\n"
     ]
    },
    {
     "data": {
      "application/vnd.jupyter.widget-view+json": {
       "model_id": "197528b4b3404cfc83f7ddacd8d4633c",
       "version_major": 2,
       "version_minor": 0
      },
      "text/plain": [
       "Canvas(toolbar=Toolbar(toolitems=[('Home', 'Reset original view', 'home', 'home'), ('Back', 'Back to previous …"
      ]
     },
     "metadata": {},
     "output_type": "display_data"
    }
   ],
   "source": [
    "f_plot_grid(img_arr[:18],cols=6,fig_size=(10,6))"
   ]
  },
  {
   "cell_type": "code",
   "execution_count": 27,
   "metadata": {
    "collapsed": true,
    "jupyter": {
     "outputs_hidden": true
    }
   },
   "outputs": [
    {
     "name": "stdout",
     "output_type": "stream",
     "text": [
      "3 6\n"
     ]
    },
    {
     "data": {
      "application/vnd.jupyter.widget-view+json": {
       "model_id": "0b11de38b6c24dbfaf18c3e05bdd86ee",
       "version_major": 2,
       "version_minor": 0
      },
      "text/plain": [
       "Canvas(toolbar=Toolbar(toolitems=[('Home', 'Reset original view', 'home', 'home'), ('Back', 'Back to previous …"
      ]
     },
     "metadata": {},
     "output_type": "display_data"
    }
   ],
   "source": [
    "f_plot_grid(s_val[100:118],cols=6,fig_size=(10,6))"
   ]
  },
  {
   "cell_type": "code",
   "execution_count": null,
   "metadata": {},
   "outputs": [],
   "source": [
    "df_sliced[df_sliced.epoch==4]['step'].values"
   ]
  },
  {
   "cell_type": "code",
   "execution_count": null,
   "metadata": {},
   "outputs": [],
   "source": [
    "df[(df.epoch==18)&(df.step>=15975)&(df.step<=15983)][['epoch','step','chi_1','chi_spec1','num_vlarge']]"
   ]
  },
  {
   "cell_type": "code",
   "execution_count": 30,
   "metadata": {},
   "outputs": [
    {
     "data": {
      "text/plain": [
       "(10, 19)"
      ]
     },
     "execution_count": 30,
     "metadata": {},
     "output_type": "execute_result"
    }
   ],
   "source": [
    "df[df.epoch==10].head(10).shape"
   ]
  },
  {
   "cell_type": "code",
   "execution_count": null,
   "metadata": {},
   "outputs": [],
   "source": []
  }
 ],
 "metadata": {
  "kernelspec": {
   "display_name": "v_py3",
   "language": "python",
   "name": "v_jpt_py3"
  },
  "language_info": {
   "codemirror_mode": {
    "name": "ipython",
    "version": 3
   },
   "file_extension": ".py",
   "mimetype": "text/x-python",
   "name": "python",
   "nbconvert_exporter": "python",
   "pygments_lexer": "ipython3",
   "version": "3.6.8"
  },
  "toc-autonumbering": false,
  "toc-showcode": false,
  "toc-showmarkdowntxt": true,
  "toc-showtags": false
 },
 "nbformat": 4,
 "nbformat_minor": 4
}
