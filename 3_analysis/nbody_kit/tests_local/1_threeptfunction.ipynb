{
 "cells": [
  {
   "cell_type": "markdown",
   "metadata": {},
   "source": [
    "# Testing nbodykit\n",
    "Oct 30, 2020"
   ]
  },
  {
   "cell_type": "code",
   "execution_count": 1,
   "metadata": {},
   "outputs": [
    {
     "ename": "ModuleNotFoundError",
     "evalue": "No module named 'nbodykit'",
     "output_type": "error",
     "traceback": [
      "\u001b[0;31m---------------------------------------------------------------------------\u001b[0m",
      "\u001b[0;31mModuleNotFoundError\u001b[0m                       Traceback (most recent call last)",
      "\u001b[0;32m<ipython-input-1-529aa1fdb3a2>\u001b[0m in \u001b[0;36m<module>\u001b[0;34m\u001b[0m\n\u001b[1;32m      3\u001b[0m \u001b[0;31m# from scipy.interpolate import InterpolatedUnivariateSpline\u001b[0m\u001b[0;34m\u001b[0m\u001b[0;34m\u001b[0m\u001b[0;34m\u001b[0m\u001b[0m\n\u001b[1;32m      4\u001b[0m \u001b[0;34m\u001b[0m\u001b[0m\n\u001b[0;32m----> 5\u001b[0;31m \u001b[0;32mfrom\u001b[0m \u001b[0mnbodykit\u001b[0m\u001b[0;34m.\u001b[0m\u001b[0mlab\u001b[0m \u001b[0;32mimport\u001b[0m \u001b[0;34m*\u001b[0m\u001b[0;34m\u001b[0m\u001b[0;34m\u001b[0m\u001b[0m\n\u001b[0m\u001b[1;32m      6\u001b[0m \u001b[0;32mfrom\u001b[0m \u001b[0mnbodykit\u001b[0m \u001b[0;32mimport\u001b[0m \u001b[0msetup_logging\u001b[0m\u001b[0;34m,\u001b[0m \u001b[0mstyle\u001b[0m\u001b[0;34m\u001b[0m\u001b[0;34m\u001b[0m\u001b[0m\n\u001b[1;32m      7\u001b[0m \u001b[0;34m\u001b[0m\u001b[0m\n",
      "\u001b[0;31mModuleNotFoundError\u001b[0m: No module named 'nbodykit'"
     ]
    }
   ],
   "source": [
    "import numpy as np\n",
    "import matplotlib.pyplot as plt\n",
    "# from scipy.interpolate import InterpolatedUnivariateSpline\n",
    "\n",
    "from nbodykit.lab import *\n",
    "from nbodykit import setup_logging, style\n",
    "\n",
    "import time\n",
    "import os"
   ]
  },
  {
   "cell_type": "code",
   "execution_count": 2,
   "metadata": {},
   "outputs": [],
   "source": [
    "%matplotlib inline"
   ]
  },
  {
   "cell_type": "code",
   "execution_count": 31,
   "metadata": {},
   "outputs": [
    {
     "name": "stdout",
     "output_type": "stream",
     "text": [
      "(50, 512, 512)\n"
     ]
    },
    {
     "data": {
      "text/plain": [
       "(50, 16, 16)"
      ]
     },
     "execution_count": 31,
     "metadata": {},
     "output_type": "execute_result"
    }
   ],
   "source": [
    "### 2D images\n",
    "\n",
    "fname='/mnt/laptop/data/2d_images_50.npy'\n",
    "a1=np.load(fname)[:,:,:,0]\n",
    "print(a1.shape)\n",
    "img=a1[:,:16,:16]\n",
    "\n",
    "img.shape"
   ]
  },
  {
   "cell_type": "code",
   "execution_count": 6,
   "metadata": {},
   "outputs": [],
   "source": [
    "def f_make_catalog_2d(img):\n",
    "    ''' Make catalog for 2d images'''\n",
    "    x=np.arange(img.shape[0]) \n",
    "    y=np.arange(img.shape[1])\n",
    "\n",
    "    coord=np.array([(i,j,0) for i in x for j in y]) ## Form is (x,y,0)\n",
    "\n",
    "    ip_dict={}\n",
    "    ip_dict['Position'] = coord\n",
    "    ip_dict['Mass'] = img.flatten()\n",
    "#     ip_dict['Weight'] = img.flatten()\n",
    "\n",
    "\n",
    "    catalog=ArrayCatalog(ip_dict)\n",
    "    \n",
    "    return catalog\n",
    "\n",
    "def f_make_catalog_3d(img):\n",
    "    \n",
    "    x=np.arange(img.shape[0]) \n",
    "    y=np.arange(img.shape[1])\n",
    "    z=np.arange(img.shape[2])\n",
    "\n",
    "    coord=np.array([(i,j,k) for i in x for j in y for k in z]) ## Form is (x,y,z)\n",
    "\n",
    "    ip_dict={}\n",
    "    ip_dict['Position'] = coord\n",
    "    ip_dict['Mass'] = img.flatten()\n",
    "#     ip_dict['Weight'] = img.flatten()\n",
    "\n",
    "\n",
    "    catalog=ArrayCatalog(ip_dict)\n",
    "    \n",
    "    return catalog\n",
    "\n"
   ]
  },
  {
   "cell_type": "code",
   "execution_count": 7,
   "metadata": {},
   "outputs": [
    {
     "name": "stdout",
     "output_type": "stream",
     "text": [
      "256 ['Mass', 'Position', 'Selection', 'Value', 'Weight']\n"
     ]
    }
   ],
   "source": [
    "cat1=f_make_catalog_2d(img[0])\n",
    "cat2=f_make_catalog_2d(img[1])\n",
    "\n",
    "print(cat1.csize,cat1.columns)\n"
   ]
  },
  {
   "cell_type": "code",
   "execution_count": 32,
   "metadata": {
    "scrolled": true
   },
   "outputs": [
    {
     "name": "stdout",
     "output_type": "stream",
     "text": [
      "(10, 24, 24, 24)\n"
     ]
    }
   ],
   "source": [
    "# ### 3D images\n",
    "# fname='/mnt/laptop/data/3d_images_10.npy'\n",
    "# arr_3d=np.load(fname,mmap_mode='r')[:10,:24,:24,:24]\n",
    "# print(arr_3d.shape)"
   ]
  },
  {
   "cell_type": "code",
   "execution_count": 35,
   "metadata": {},
   "outputs": [
    {
     "name": "stdout",
     "output_type": "stream",
     "text": [
      "Image is 2d\n"
     ]
    }
   ],
   "source": [
    "if len(a1.shape)-1==2: \n",
    "    print(\"Image is 2d\")\n",
    "elif len(a1.shape)-1==3:\n",
    "    print(\"Image is 3d\")"
   ]
  },
  {
   "cell_type": "code",
   "execution_count": 9,
   "metadata": {},
   "outputs": [],
   "source": [
    "# cat1=f_make_catalog_3d(arr_3d[0])\n",
    "# cat2=f_make_catalog_3d(arr_3d[1])\n",
    "\n",
    "# print(cat1.csize,cat1.columns)"
   ]
  },
  {
   "cell_type": "code",
   "execution_count": 10,
   "metadata": {},
   "outputs": [],
   "source": [
    "# cat3=f_make_catalog(np.ones((24,24,24)))"
   ]
  },
  {
   "cell_type": "code",
   "execution_count": 11,
   "metadata": {},
   "outputs": [
    {
     "data": {
      "text/plain": [
       "[<matplotlib.lines.Line2D at 0x7fb139f50a58>]"
      ]
     },
     "execution_count": 11,
     "metadata": {},
     "output_type": "execute_result"
    },
    {
     "data": {
      "image/png": "[encoded data removed]",
      "text/plain": [
       "<Figure size 432x288 with 1 Axes>"
      ]
     },
     "metadata": {
      "needs_background": "light"
     },
     "output_type": "display_data"
    }
   ],
   "source": [
    "plt.figure()\n",
    "plt.plot(cat1['Mass'])\n",
    "plt.plot(cat2['Mass'])\n"
   ]
  },
  {
   "cell_type": "markdown",
   "metadata": {},
   "source": [
    "### 3pt function\n",
    "https://nbodykit.readthedocs.io/en/latest/api/_autosummary/nbodykit.algorithms.threeptcf.html?highlight=3PCF#nbodykit.algorithms.threeptcf.SimulationBox3PCF"
   ]
  },
  {
   "cell_type": "code",
   "execution_count": 20,
   "metadata": {},
   "outputs": [
    {
     "name": "stdout",
     "output_type": "stream",
     "text": [
      "9.117322444915771 8.985998392105103\n"
     ]
    }
   ],
   "source": [
    "t1=time.time()\n",
    "obj1=SimulationBox3PCF(cat1,[1,2,3,4,5,6],edges=np.arange(1,10,1),BoxSize=20,weight='Mass')\n",
    "t2=time.time()\n",
    "op1=obj1.run()\n",
    "t3=time.time()\n",
    "print(t3-t2,t2-t1)\n"
   ]
  },
  {
   "cell_type": "code",
   "execution_count": 30,
   "metadata": {},
   "outputs": [],
   "source": [
    "obj2=SimulationBox3PCF(cat2,[1,2,3,4],edges=np.arange(1,10,1),BoxSize=20,weight='Mass')\n",
    "op2=obj2.run()"
   ]
  },
  {
   "cell_type": "code",
   "execution_count": 14,
   "metadata": {},
   "outputs": [
    {
     "name": "stdout",
     "output_type": "stream",
     "text": [
      "[1.5 2.5 3.5 4.5 5.5 6.5 7.5 8.5] [1.5 2.5 3.5 4.5 5.5 6.5 7.5 8.5]\n",
      "['r1', 'r2'] {'r1': array([1, 2, 3, 4, 5, 6, 7, 8, 9]), 'r2': array([1, 2, 3, 4, 5, 6, 7, 8, 9])}\n",
      "['corr_1', 'corr_2', 'corr_3', 'corr_4']\n"
     ]
    }
   ],
   "source": [
    "print(op2.coords['r1'],op2.coords['r2'])\n",
    "print(op2.dims,op2.edges)\n",
    "print(op2.variables)"
   ]
  },
  {
   "cell_type": "code",
   "execution_count": 23,
   "metadata": {},
   "outputs": [],
   "source": [
    "# dir(op1)"
   ]
  },
  {
   "cell_type": "code",
   "execution_count": 26,
   "metadata": {},
   "outputs": [
    {
     "name": "stdout",
     "output_type": "stream",
     "text": [
      "corr_1 \t(8, 8) (8, 8)\n",
      "498.27682148391295 2005.265542055914\n",
      "corr_2 \t(8, 8) (8, 8)\n",
      "1291.9854474892418 4069.030916521952\n",
      "corr_3 \t(8, 8) (8, 8)\n",
      "725.8846431343525 3486.4409335735204\n",
      "corr_4 \t(8, 8) (8, 8)\n",
      "1444.9696224287622 5292.022118542029\n",
      "corr_5 \t"
     ]
    },
    {
     "ename": "KeyError",
     "evalue": "'`corr_5` is not a valid variable name'",
     "output_type": "error",
     "traceback": [
      "\u001b[0;31m---------------------------------------------------------------------------\u001b[0m",
      "\u001b[0;31mKeyError\u001b[0m                                  Traceback (most recent call last)",
      "\u001b[0;32m<ipython-input-26-b319b39faac2>\u001b[0m in \u001b[0;36m<module>\u001b[0;34m\u001b[0m\n\u001b[1;32m      1\u001b[0m \u001b[0;32mfor\u001b[0m \u001b[0mcorr\u001b[0m \u001b[0;32min\u001b[0m \u001b[0mop1\u001b[0m\u001b[0;34m.\u001b[0m\u001b[0mvariables\u001b[0m\u001b[0;34m:\u001b[0m\u001b[0;34m\u001b[0m\u001b[0;34m\u001b[0m\u001b[0m\n\u001b[1;32m      2\u001b[0m     \u001b[0mprint\u001b[0m\u001b[0;34m(\u001b[0m\u001b[0mcorr\u001b[0m\u001b[0;34m,\u001b[0m\u001b[0;34m'\\t'\u001b[0m\u001b[0;34m,\u001b[0m\u001b[0mend\u001b[0m\u001b[0;34m=\u001b[0m\u001b[0;34m''\u001b[0m\u001b[0;34m)\u001b[0m\u001b[0;34m\u001b[0m\u001b[0;34m\u001b[0m\u001b[0m\n\u001b[0;32m----> 3\u001b[0;31m     \u001b[0mprint\u001b[0m\u001b[0;34m(\u001b[0m\u001b[0mop1\u001b[0m\u001b[0;34m[\u001b[0m\u001b[0mcorr\u001b[0m\u001b[0;34m]\u001b[0m\u001b[0;34m.\u001b[0m\u001b[0mshape\u001b[0m\u001b[0;34m,\u001b[0m\u001b[0mop2\u001b[0m\u001b[0;34m[\u001b[0m\u001b[0mcorr\u001b[0m\u001b[0;34m]\u001b[0m\u001b[0;34m.\u001b[0m\u001b[0mshape\u001b[0m\u001b[0;34m)\u001b[0m\u001b[0;34m\u001b[0m\u001b[0;34m\u001b[0m\u001b[0m\n\u001b[0m\u001b[1;32m      4\u001b[0m     \u001b[0mprint\u001b[0m\u001b[0;34m(\u001b[0m\u001b[0mnp\u001b[0m\u001b[0;34m.\u001b[0m\u001b[0mtrace\u001b[0m\u001b[0;34m(\u001b[0m\u001b[0mop1\u001b[0m\u001b[0;34m[\u001b[0m\u001b[0mcorr\u001b[0m\u001b[0;34m]\u001b[0m\u001b[0;34m)\u001b[0m\u001b[0;34m,\u001b[0m\u001b[0mnp\u001b[0m\u001b[0;34m.\u001b[0m\u001b[0mtrace\u001b[0m\u001b[0;34m(\u001b[0m\u001b[0mop2\u001b[0m\u001b[0;34m[\u001b[0m\u001b[0mcorr\u001b[0m\u001b[0;34m]\u001b[0m\u001b[0;34m)\u001b[0m\u001b[0;34m)\u001b[0m\u001b[0;34m\u001b[0m\u001b[0;34m\u001b[0m\u001b[0m\n",
      "\u001b[0;32m/opt/conda/lib/python3.7/site-packages/nbodykit/binned_statistic.py\u001b[0m in \u001b[0;36m__getitem__\u001b[0;34m(self, key)\u001b[0m\n\u001b[1;32m    351\u001b[0m                 \u001b[0;32mreturn\u001b[0m \u001b[0mself\u001b[0m\u001b[0;34m.\u001b[0m\u001b[0mdata\u001b[0m\u001b[0;34m[\u001b[0m\u001b[0mkey\u001b[0m\u001b[0;34m]\u001b[0m\u001b[0;34m\u001b[0m\u001b[0;34m\u001b[0m\u001b[0m\n\u001b[1;32m    352\u001b[0m             \u001b[0;32melse\u001b[0m\u001b[0;34m:\u001b[0m\u001b[0;34m\u001b[0m\u001b[0;34m\u001b[0m\u001b[0m\n\u001b[0;32m--> 353\u001b[0;31m                 \u001b[0;32mraise\u001b[0m \u001b[0mKeyError\u001b[0m\u001b[0;34m(\u001b[0m\u001b[0;34m\"`%s` is not a valid variable name\"\u001b[0m \u001b[0;34m%\u001b[0m\u001b[0mkey\u001b[0m\u001b[0;34m)\u001b[0m\u001b[0;34m\u001b[0m\u001b[0;34m\u001b[0m\u001b[0m\n\u001b[0m\u001b[1;32m    354\u001b[0m \u001b[0;34m\u001b[0m\u001b[0m\n\u001b[1;32m    355\u001b[0m         \u001b[0;31m# indices to slice the data with\u001b[0m\u001b[0;34m\u001b[0m\u001b[0;34m\u001b[0m\u001b[0;34m\u001b[0m\u001b[0m\n",
      "\u001b[0;31mKeyError\u001b[0m: '`corr_5` is not a valid variable name'"
     ]
    }
   ],
   "source": [
    "for corr in op1.variables:\n",
    "    print(corr,'\\t',end='')\n",
    "    print(op1[corr].shape,op2[corr].shape)\n",
    "    print(np.trace(op1[corr]),np.trace(op2[corr]))"
   ]
  },
  {
   "cell_type": "code",
   "execution_count": 29,
   "metadata": {},
   "outputs": [
    {
     "name": "stdout",
     "output_type": "stream",
     "text": [
      "(8, 8)\n"
     ]
    }
   ],
   "source": [
    "op1['corr_5']\n",
    "print(op1['corr_5'].shape)"
   ]
  },
  {
   "cell_type": "code",
   "execution_count": 18,
   "metadata": {},
   "outputs": [
    {
     "data": {
      "text/plain": [
       "(array([[  9.19769186,  13.41481978,  15.15189874,  21.39399816,\n",
       "          13.00092881,   7.22812563,   2.45424901,  -0.47413061],\n",
       "        [ 13.41481978,  37.95258806,  43.29444191,  50.98896438,\n",
       "          31.32458396,  19.52384864,  11.54951503,   0.49001509],\n",
       "        [ 15.15189874,  43.29444191,  58.8301609 ,  70.14016699,\n",
       "          43.79098263,  29.59057834,  22.04106589,   7.82749756],\n",
       "        [ 21.39399816,  50.98896438,  70.14016699, 105.34700677,\n",
       "          71.09580614,  52.28956494,  44.69169292,  26.2454158 ],\n",
       "        [ 13.00092881,  31.32458396,  43.79098263,  71.09580614,\n",
       "          61.64884249,  51.76127833,  49.45857915,  37.32024388],\n",
       "        [  7.22812563,  19.52384864,  29.59057834,  52.28956494,\n",
       "          51.76127833,  57.70705335,  61.19068851,  51.6706869 ],\n",
       "        [  2.45424901,  11.54951503,  22.04106589,  44.69169292,\n",
       "          49.45857915,  61.19068851,  83.68390193,  73.8164147 ],\n",
       "        [ -0.47413061,   0.49001509,   7.82749756,  26.2454158 ,\n",
       "          37.32024388,  51.6706869 ,  73.8164147 ,  83.90957613]]),\n",
       " array([[ 37.97805095,  58.7292091 ,  54.89252355,  65.90377875,\n",
       "          49.13120066,  44.17297738,  50.28951003,  56.10083448],\n",
       "        [ 58.7292091 , 106.59674383, 101.63102359, 123.09400099,\n",
       "          91.02040211,  82.22777182,  92.55108073,  97.34898187],\n",
       "        [ 54.89252355, 101.63102359, 119.88816716, 148.94273616,\n",
       "         108.88983716,  96.93448918, 108.1877361 , 106.97623881],\n",
       "        [ 65.90377875, 123.09400099, 148.94273616, 217.43674914,\n",
       "         162.14896454, 144.12493217, 159.02042435, 152.48734814],\n",
       "        [ 49.13120066,  91.02040211, 108.88983716, 162.14896454,\n",
       "         144.32275241, 132.19362513, 143.79047993, 141.50603806],\n",
       "        [ 44.17297738,  82.22777182,  96.93448918, 144.12493217,\n",
       "         132.19362513, 139.55843441, 158.17008592, 162.69265274],\n",
       "        [ 50.28951003,  92.55108073, 108.1877361 , 159.02042435,\n",
       "         143.79047993, 158.17008592, 215.20166205, 236.54594643],\n",
       "        [ 56.10083448,  97.34898187, 106.97623881, 152.48734814,\n",
       "         141.50603806, 162.69265274, 236.54594643, 311.00288754]]))"
      ]
     },
     "execution_count": 18,
     "metadata": {},
     "output_type": "execute_result"
    }
   ],
   "source": [
    "op1['corr_1'],op1['corr_2']"
   ]
  },
  {
   "cell_type": "code",
   "execution_count": 32,
   "metadata": {},
   "outputs": [
    {
     "data": {
      "text/plain": [
       "array([[ 773529.36289127,  900803.83732078,  502517.65372782,\n",
       "         422795.3570535 ,  215518.51695981,  174100.06836548,\n",
       "         199506.47915425,  176732.79508305],\n",
       "       [ 900803.83732078, 1988734.86274495, 1669318.84112628,\n",
       "        1301259.96384098,  694824.89056427,  591731.46723281,\n",
       "         472317.43816008,  331039.24236563],\n",
       "       [ 502517.65372782, 1669318.84112628, 2410215.92371583,\n",
       "        2580674.18183232, 1481948.84380983, 1044500.90049153,\n",
       "         744518.39738627,  509636.51477973],\n",
       "       [ 422795.3570535 , 1301259.96384098, 2580674.18183232,\n",
       "        5047194.73928954, 3575888.20078003, 2325627.18552893,\n",
       "        1675209.97344994, 1138667.41897026],\n",
       "       [ 215518.51695981,  694824.89056427, 1481948.84380983,\n",
       "        3575888.20078003, 4222967.77870352, 3552697.28138359,\n",
       "        2464717.21472215, 1361580.78188351],\n",
       "       [ 174100.06836548,  591731.46723281, 1044500.90049153,\n",
       "        2325627.18552893, 3552697.28138359, 4509155.47632333,\n",
       "        4013511.11311337, 2227827.9677377 ],\n",
       "       [ 199506.47915425,  472317.43816008,  744518.39738627,\n",
       "        1675209.97344994, 2464717.21472215, 4013511.11311337,\n",
       "        6496290.74001541, 4583893.74253629],\n",
       "       [ 176732.79508305,  331039.24236563,  509636.51477973,\n",
       "        1138667.41897026, 1361580.78188351, 2227827.9677377 ,\n",
       "        4583893.74253629, 6508883.72376258]])"
      ]
     },
     "execution_count": 32,
     "metadata": {},
     "output_type": "execute_result"
    }
   ],
   "source": [
    "op2['corr_1']"
   ]
  },
  {
   "cell_type": "code",
   "execution_count": 87,
   "metadata": {},
   "outputs": [],
   "source": [
    "img_index=5"
   ]
  },
  {
   "cell_type": "code",
   "execution_count": 88,
   "metadata": {},
   "outputs": [],
   "source": [
    "data_dir='data_stored_results/'\n",
    "if not os.path.exists(data_dir):\n",
    "    os.makedirs(data_dir)"
   ]
  },
  {
   "cell_type": "code",
   "execution_count": 89,
   "metadata": {},
   "outputs": [],
   "source": [
    "\n",
    "for i in op1.variables:\n",
    "    arr1=op1[i]\n",
    "    fname='img'+str(img_index)+i+'.npy'\n",
    "    np.savetxt(data_dir+fname,arr1)"
   ]
  },
  {
   "cell_type": "code",
   "execution_count": 92,
   "metadata": {},
   "outputs": [],
   "source": [
    "ls data_stored_results/"
   ]
  },
  {
   "cell_type": "code",
   "execution_count": 93,
   "metadata": {},
   "outputs": [
    {
     "data": {
      "text/plain": [
       "'/mnt/laptop/notebooks'"
      ]
     },
     "execution_count": 93,
     "metadata": {},
     "output_type": "execute_result"
    }
   ],
   "source": [
    "    img_index=args.img_index\n",
    "    fname=args.fname\n",
    "    "
   ]
  },
  {
   "cell_type": "code",
   "execution_count": null,
   "metadata": {},
   "outputs": [],
   "source": [
    "python get3pct.py --fname /mnt/laptop/data/2d_images_50.npy --img_index 0 -s 16"
   ]
  }
 ],
 "metadata": {
  "kernelspec": {
   "display_name": "Python 3",
   "language": "python",
   "name": "python3"
  },
  "language_info": {
   "codemirror_mode": {
    "name": "ipython",
    "version": 3
   },
   "file_extension": ".py",
   "mimetype": "text/x-python",
   "name": "python",
   "nbconvert_exporter": "python",
   "pygments_lexer": "ipython3",
   "version": "3.7.4"
  }
 },
 "nbformat": 4,
 "nbformat_minor": 4
}
