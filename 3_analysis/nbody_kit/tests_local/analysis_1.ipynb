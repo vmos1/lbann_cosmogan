{
 "cells": [
  {
   "cell_type": "markdown",
   "metadata": {},
   "source": [
    "# Analyze correlator results\n",
    "Dec 10, 2020"
   ]
  },
  {
   "cell_type": "code",
   "execution_count": 34,
   "metadata": {},
   "outputs": [],
   "source": [
    "import numpy as np\n",
    "import pandas as pd\n",
    "import matplotlib.pyplot as plt\n",
    "\n",
    "import os\n",
    "import sys\n",
    "import glob"
   ]
  },
  {
   "cell_type": "code",
   "execution_count": 35,
   "metadata": {},
   "outputs": [],
   "source": [
    "%matplotlib widget"
   ]
  },
  {
   "cell_type": "code",
   "execution_count": 36,
   "metadata": {},
   "outputs": [],
   "source": [
    "from ipywidgets import *"
   ]
  },
  {
   "cell_type": "code",
   "execution_count": 37,
   "metadata": {},
   "outputs": [
    {
     "name": "stdout",
     "output_type": "stream",
     "text": [
      "\u001b[0m\u001b[01;34mresults_3d_corr6_idx32_1000img\u001b[0m/  \u001b[01;34mresults_corr6_idx128_500img\u001b[0m/\n",
      "\u001b[01;34mresults_3d_corr6_idx64_1000img\u001b[0m/  \u001b[01;34mresults_corr6_idx64_3000img\u001b[0m/\n",
      "\u001b[01;34mresults_3d_corr6_idx64_10img\u001b[0m/    \u001b[01;34mresults_test_same_img\u001b[0m/\n",
      "\u001b[01;34mresults_corr4_idx64\u001b[0m/\n"
     ]
    }
   ],
   "source": [
    "ls data_stored_results/"
   ]
  },
  {
   "cell_type": "code",
   "execution_count": 42,
   "metadata": {},
   "outputs": [],
   "source": [
    "data_dir='data_stored_results/results_corr6_idx64_3000img/'\n",
    "data_dir='data_stored_results/results_corr6_idx128_500img/'\n",
    "# data_dir='data_stored_results/results_3d_corr6_idx64_1000img/'\n",
    "# data_dir='data_stored_results/results_3d_corr6_idx32_1000img/'\n",
    "\n"
   ]
  },
  {
   "cell_type": "code",
   "execution_count": 43,
   "metadata": {},
   "outputs": [
    {
     "name": "stdout",
     "output_type": "stream",
     "text": [
      "(500, 6, 18, 18)\n"
     ]
    }
   ],
   "source": [
    "## Extract correlator values into numpy array\n",
    "num_files=len(glob.glob(data_dir+'img_*.npy'))\n",
    "\n",
    "corr_list=[]\n",
    "\n",
    "for num in range(num_files):\n",
    "    fname='img_{0}-corr.npy'.format(num)\n",
    "    fle=data_dir+fname\n",
    "    a1=np.load(fle)\n",
    "#     print(a1.shape)\n",
    "    corr_list.append(a1)\n",
    "\n",
    "corrs_arr=np.array(corr_list)\n",
    "print(corrs_arr.shape)"
   ]
  },
  {
   "cell_type": "markdown",
   "metadata": {},
   "source": [
    "## Plot fixed r1,r2"
   ]
  },
  {
   "cell_type": "code",
   "execution_count": 44,
   "metadata": {},
   "outputs": [
    {
     "name": "stdout",
     "output_type": "stream",
     "text": [
      "(100, 6, 18, 18)\n"
     ]
    },
    {
     "data": {
      "application/vnd.jupyter.widget-view+json": {
       "model_id": "0c37b67de22942558adebbdf545f2398",
       "version_major": 2,
       "version_minor": 0
      },
      "text/plain": [
       "Canvas(toolbar=Toolbar(toolitems=[('Home', 'Reset original view', 'home', 'home'), ('Back', 'Back to previous …"
      ]
     },
     "metadata": {},
     "output_type": "display_data"
    },
    {
     "name": "stdout",
     "output_type": "stream",
     "text": [
      "(100, 6, 18, 18)\n",
      "[7.29192594 2.92686444 6.71644322 3.0444573  6.70436761 3.0053928 ]\n",
      "(100, 6, 18, 18)\n",
      "[7.74361639 2.95375131 7.19057014 3.20278236 7.17129795 3.11973871]\n",
      "(100, 6, 18, 18)\n",
      "[7.91935212 3.00269482 7.35794486 3.26527872 7.32182014 3.1713192 ]\n",
      "(100, 6, 18, 18)\n",
      "[7.33614812 3.04852396 6.88627039 3.17962915 6.86407214 3.14024858]\n",
      "(100, 6, 18, 18)\n",
      "[6.42599964 2.24056804 5.85962695 2.43423927 5.83556894 2.36732833]\n",
      "(100, 6, 18, 18)\n"
     ]
    },
    {
     "data": {
      "application/vnd.jupyter.widget-view+json": {
       "model_id": "f74f8e402ef84548b24dd6e3a1698b71",
       "version_major": 2,
       "version_minor": 0
      },
      "text/plain": [
       "Canvas(toolbar=Toolbar(toolitems=[('Home', 'Reset original view', 'home', 'home'), ('Back', 'Back to previous …"
      ]
     },
     "metadata": {},
     "output_type": "display_data"
    },
    {
     "name": "stdout",
     "output_type": "stream",
     "text": [
      "(100, 6, 18, 18)\n",
      "[9.67447688 3.64531138 8.87408504 3.83117283 8.81496207 3.73827319]\n",
      "(100, 6, 18, 18)\n",
      "[11.88321086  4.42443223 11.33976397  4.86776784 11.07209115  4.26050704]\n",
      "(100, 6, 18, 18)\n",
      "[12.58071848  6.07958637 11.79985655  5.45792207 12.00130223  5.92035538]\n",
      "(100, 6, 18, 18)\n",
      "[9.58139635 2.93561218 8.67430659 3.16251739 8.63454257 3.10232026]\n",
      "(100, 6, 18, 18)\n",
      "[14.50604694  6.8622231  13.51170161  6.42905202 13.80105223  6.79608335]\n"
     ]
    }
   ],
   "source": [
    "def f_get_corrs_fixed_r(arr,r1,r2):\n",
    "    '''Get correlator values for given r1 and r2 '''    \n",
    "    num_imgs=arr.shape[0]\n",
    "    num_corrs=arr.shape[1]\n",
    "    print(arr.shape)\n",
    "    \n",
    "    ### Pick r1,r2\n",
    "    arr=arr[:,:,r1,r2].astype(float)\n",
    "\n",
    "    # Avg over different images for fixed correlator\n",
    "    mean=np.array([np.mean(arr[:,i]) for i in range(num_corrs)])\n",
    "    err=np.array([np.std(arr[:,i])/np.sqrt(num_imgs) for i in range(num_corrs)])\n",
    "#     print(mean,err)\n",
    "    \n",
    "    return mean,err\n",
    "\n",
    "\n",
    "def f_plot_fixed_rs(r1,r2,mode='relative',random_idx=False):\n",
    "    ''' mode =['absolute','relative']'''\n",
    "    \n",
    "    block_size=int(max(num_files/5,5))\n",
    "    \n",
    "    rand_idxs=np.random.choice(len(corrs_arr),size=block_size,replace=False)\n",
    "    mean_ref,err_ref=f_get_corrs_fixed_r(corrs_arr[rand_idxs],r1,r2)\n",
    "\n",
    "    plt.figure()\n",
    "    for i in range(0,num_files,block_size):\n",
    "        if random_idx: \n",
    "            idxs=np.random.choice(len(corrs_arr),size=block_size,replace=False)\n",
    "        else : \n",
    "            idxs=np.arange(i,i+block_size)\n",
    "#         print(idxs)\n",
    "        mean,err=f_get_corrs_fixed_r(corrs_arr[idxs],r1,r2)\n",
    "    \n",
    "        if mode=='relative':\n",
    "            x,y,yerr=np.arange(len(mean)),mean/mean_ref,(mean/mean_ref)*np.sqrt((err/mean)**2 + (err_ref/mean_ref)**2)\n",
    "        else : \n",
    "            x,y,yerr=np.arange(len(mean)),mean,err\n",
    "        plt.errorbar(x,y,yerr,marker='o',label=str(i))\n",
    "    #     plt.plot(x,y,marker='o',label=str(i))\n",
    "        print(y/yerr)\n",
    "    plt.legend()\n",
    "    plt.xlabel('l')\n",
    "    plt.ylabel('3ptfc')\n",
    "    plt.title('3ptfc values for fixed {0}-{1} for different l values'.format(r1,r2))\n",
    "\n",
    "    \n",
    "f_plot_fixed_rs(r1=1,r2=4,mode='relative',random_idx=True)\n",
    "# f_plot_fixed_rs(r1=1,r2=4,mode='relative',random_idx=False)\n",
    "f_plot_fixed_rs(r1=1,r2=4,mode='absolute',random_idx=True)"
   ]
  },
  {
   "cell_type": "markdown",
   "metadata": {},
   "source": [
    "## Plot fixed l"
   ]
  },
  {
   "cell_type": "code",
   "execution_count": 45,
   "metadata": {},
   "outputs": [
    {
     "data": {
      "application/vnd.jupyter.widget-view+json": {
       "model_id": "2565d462eb064a50aafd2c7f6c749bcf",
       "version_major": 2,
       "version_minor": 0
      },
      "text/plain": [
       "Canvas(toolbar=Toolbar(toolitems=[('Home', 'Reset original view', 'home', 'home'), ('Back', 'Back to previous …"
      ]
     },
     "metadata": {},
     "output_type": "display_data"
    },
    {
     "name": "stdout",
     "output_type": "stream",
     "text": [
      "[ 7.3681245   8.12557714  9.33465539 10.5027261  11.57083966 12.76400152\n",
      " 13.77586469 14.48169618 14.88344005 15.03623886 15.08519958 15.1117004\n",
      " 15.13717171 15.13094549 15.11292648 14.94944135 14.78903601 14.85218652]\n",
      "[10.44729137 11.68783475 12.68795355 13.08940056 13.98064533 14.63864498\n",
      " 15.18667119 15.61199718 15.83500502 15.84165263 15.87077701 15.89559313\n",
      " 15.93820118 15.93276784 15.9138623  15.63450638 15.38226094 15.49504764]\n",
      "[ 7.63790263  8.32080114  9.54064714 10.71376859 11.67870028 12.56040045\n",
      " 13.25083868 13.72931291 14.07678134 14.18819796 14.20684905 14.19832758\n",
      " 14.19606662 14.22650985 14.28976576 14.26192643 14.2023709  14.17402409]\n",
      "[12.00139308 12.77064774 13.74639614 14.6906788  15.33897598 15.81421526\n",
      " 16.17806166 16.33977078 16.48725852 16.5040913  16.54341917 16.62342388\n",
      " 16.55411457 16.58206703 16.47146156 16.52792755 16.61391499 16.77251597]\n",
      "[ 7.2682952   7.9752641   9.25300081 10.5033712  11.6142615  12.73527557\n",
      " 13.65316143 14.31565064 14.72909137 14.90664472 14.97385253 15.02891782\n",
      " 15.07475022 15.08957828 15.171883   15.16267062 15.12983497 15.12596084]\n"
     ]
    }
   ],
   "source": [
    "def f_get_corrs_fixed_l(arr,l,r1):\n",
    "    '''Get correlator values for given l and r1 '''    \n",
    "    num_imgs=arr.shape[0]\n",
    "    num_corrs=arr.shape[3]\n",
    "#     print(arr.shape)\n",
    "    \n",
    "    ### Pick l,r1\n",
    "    arr=arr[:,l,r1,:].astype(float)\n",
    "\n",
    "    # Avg over different images for fixed correlator\n",
    "    mean=np.array([np.mean(arr[:,i]) for i in range(num_corrs)])\n",
    "    err=np.array([np.std(arr[:,i])/np.sqrt(num_imgs) for i in range(num_corrs)])\n",
    "    \n",
    "    return mean,err\n",
    "\n",
    "\n",
    "def f_plot_fixed_l(l,r1,mode='relative',random_idx=False):\n",
    "    ''' mode =['absolute','relative']'''\n",
    "    \n",
    "    block_size=int(max(num_files/5,5))\n",
    "\n",
    "    rand_idxs=np.random.choice(len(corrs_arr),size=block_size,replace=False)\n",
    "    mean_ref,err_ref=f_get_corrs_fixed_l(corrs_arr[rand_idxs],l,r1)\n",
    "\n",
    "    plt.figure()\n",
    "    for i in range(0,num_files,block_size):\n",
    "        if random_idx: \n",
    "            idxs=np.random.choice(len(corrs_arr),size=block_size,replace=False)\n",
    "        else : \n",
    "            idxs=np.arange(i,i+block_size)\n",
    "        \n",
    "        mean,err=f_get_corrs_fixed_l(corrs_arr[idxs],l,r1)\n",
    "\n",
    "        if mode=='relative':\n",
    "            x,y,yerr=np.arange(len(mean)),mean/mean_ref,(mean/mean_ref)*np.sqrt((err/mean)**2 + (err_ref/mean_ref)**2)\n",
    "        else : \n",
    "            x,y,yerr=np.arange(len(mean)),mean,err\n",
    "        plt.errorbar(x,y,yerr,marker='o',label=str(i))\n",
    "    #     plt.plot(x,y,marker='o',label=str(i))\n",
    "        print(y/yerr)\n",
    "\n",
    "    plt.xticks(x)\n",
    "    plt.legend()\n",
    "    plt.title('3ptfc values for fixed l={0} and r1: {1} for different r2 values'.format(l,r1))\n",
    "\n",
    "# f_plot_fixed_l(l=3,r1=3,mode='relative',random_idx=True)\n",
    "f_plot_fixed_l(l=0,r1=3,mode='absolute',random_idx=True)\n",
    "\n",
    "\n"
   ]
  },
  {
   "cell_type": "code",
   "execution_count": null,
   "metadata": {},
   "outputs": [],
   "source": []
  },
  {
   "cell_type": "code",
   "execution_count": 47,
   "metadata": {},
   "outputs": [
    {
     "data": {
      "text/plain": [
       "(6, 18, 18)"
      ]
     },
     "execution_count": 47,
     "metadata": {},
     "output_type": "execute_result"
    }
   ],
   "source": [
    "fname='/global/u1/v/vpa/project/jpt_notebooks/Cosmology/Cosmo_GAN/repositories/lbann_cosmogan/3_analysis/nbody_kit/tests_local/data_stored_results/results_test_same_img/img_16-corr.npy'\n",
    "np.load(fname).shape"
   ]
  },
  {
   "cell_type": "code",
   "execution_count": null,
   "metadata": {},
   "outputs": [],
   "source": [
    "\n",
    "\n"
   ]
  }
 ],
 "metadata": {
  "kernelspec": {
   "display_name": "v3",
   "language": "python",
   "name": "v-jpt-3"
  },
  "language_info": {
   "codemirror_mode": {
    "name": "ipython",
    "version": 3
   },
   "file_extension": ".py",
   "mimetype": "text/x-python",
   "name": "python",
   "nbconvert_exporter": "python",
   "pygments_lexer": "ipython3",
   "version": "3.8.6"
  }
 },
 "nbformat": 4,
 "nbformat_minor": 4
}
