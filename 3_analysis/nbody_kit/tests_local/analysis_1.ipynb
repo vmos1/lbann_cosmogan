{
 "cells": [
  {
   "cell_type": "markdown",
   "metadata": {},
   "source": [
    "# Analyze correlator results\n",
    "Dec 10, 2020"
   ]
  },
  {
   "cell_type": "code",
   "execution_count": 40,
   "metadata": {},
   "outputs": [],
   "source": [
    "import numpy as np\n",
    "import pandas as pd\n",
    "import matplotlib.pyplot as plt\n",
    "\n",
    "import os\n",
    "import sys"
   ]
  },
  {
   "cell_type": "code",
   "execution_count": 36,
   "metadata": {},
   "outputs": [],
   "source": [
    "%matplotlib widget"
   ]
  },
  {
   "cell_type": "code",
   "execution_count": 37,
   "metadata": {},
   "outputs": [],
   "source": [
    "from ipywidgets import *\n"
   ]
  },
  {
   "cell_type": "code",
   "execution_count": 2,
   "metadata": {},
   "outputs": [
    {
     "data": {
      "text/plain": [
       "'/global/u1/v/vpa/project/jpt_notebooks/Cosmology/Cosmo_GAN/repositories/lbann_cosmogan/3_analysis/nbody_kit/tests_local'"
      ]
     },
     "execution_count": 2,
     "metadata": {},
     "output_type": "execute_result"
    }
   ],
   "source": [
    "pwd"
   ]
  },
  {
   "cell_type": "code",
   "execution_count": 11,
   "metadata": {},
   "outputs": [
    {
     "name": "stdout",
     "output_type": "stream",
     "text": [
      "img_1-corr_0.npy  img_3-corr_3.npy   img_37-corr_2.npy  img_4-corr_1.npy\n",
      "img_1-corr_1.npy  img_35-corr_0.npy  img_37-corr_3.npy  img_4-corr_2.npy\n",
      "img_1-corr_2.npy  img_35-corr_1.npy  img_38-corr_0.npy  img_4-corr_3.npy\n",
      "img_1-corr_3.npy  img_35-corr_2.npy  img_38-corr_1.npy  img_40-corr_0.npy\n",
      "img_2-corr_0.npy  img_35-corr_3.npy  img_38-corr_2.npy  img_40-corr_1.npy\n",
      "img_2-corr_1.npy  img_36-corr_0.npy  img_38-corr_3.npy  img_40-corr_2.npy\n",
      "img_2-corr_2.npy  img_36-corr_1.npy  img_39-corr_0.npy  img_40-corr_3.npy\n",
      "img_2-corr_3.npy  img_36-corr_2.npy  img_39-corr_1.npy  img_5-corr_0.npy\n",
      "img_3-corr_0.npy  img_36-corr_3.npy  img_39-corr_2.npy  img_5-corr_1.npy\n",
      "img_3-corr_1.npy  img_37-corr_0.npy  img_39-corr_3.npy  img_5-corr_2.npy\n",
      "img_3-corr_2.npy  img_37-corr_1.npy  img_4-corr_0.npy   img_5-corr_3.npy\n"
     ]
    }
   ],
   "source": [
    "ls data_stored_results/results_corr4_idx64/"
   ]
  },
  {
   "cell_type": "code",
   "execution_count": 10,
   "metadata": {},
   "outputs": [],
   "source": [
    "data_dir='data_stored_results/results_corr4_idx64/'"
   ]
  },
  {
   "cell_type": "code",
   "execution_count": 25,
   "metadata": {},
   "outputs": [
    {
     "name": "stdout",
     "output_type": "stream",
     "text": [
      "(8, 8)\n",
      "(8, 8)\n",
      "(8, 8)\n",
      "(8, 8)\n",
      "(8, 8)\n",
      "(8, 8)\n",
      "(8, 8)\n",
      "(8, 8)\n",
      "(8, 8)\n",
      "(8, 8)\n",
      "(8, 8)\n"
     ]
    }
   ],
   "source": [
    "corr_list=[]\n",
    "corr=0\n",
    "for num in [1,2,3,4,5,35,36,37,38,39,40]:\n",
    "    fname='img_{0}-corr_{1}.npy'.format(num,corr)\n",
    "    fle=data_dir+fname\n",
    "    a1=np.loadtxt(fle)\n",
    "    print(a1.shape)\n",
    "    corr_list.append(a1)\n",
    "    "
   ]
  },
  {
   "cell_type": "code",
   "execution_count": 22,
   "metadata": {},
   "outputs": [],
   "source": [
    "# fname='/global/u1/v/vpa/project/jpt_notebooks/Cosmology/Cosmo_GAN/repositories/lbann_cosmogan/3_analysis/nbody_kit/tests_local/data_stored_results/results_corr4_idx64/img_1-corr_0.npy'\n",
    "# np.loadtxt(fname).shape"
   ]
  },
  {
   "cell_type": "code",
   "execution_count": 29,
   "metadata": {},
   "outputs": [
    {
     "data": {
      "text/plain": [
       "75446048.57285084"
      ]
     },
     "execution_count": 29,
     "metadata": {},
     "output_type": "execute_result"
    }
   ],
   "source": [
    "np.sum(corr_list[0])"
   ]
  },
  {
   "cell_type": "code",
   "execution_count": 34,
   "metadata": {},
   "outputs": [
    {
     "data": {
      "text/plain": [
       "[197840.3088263341,\n",
       " 62831.49871744478,\n",
       " 101827.89382939237,\n",
       " 191865.44832165627,\n",
       " 386902.609875372,\n",
       " 479139.5255578895,\n",
       " 147639.2369984646,\n",
       " 104061.03156934358,\n",
       " 204485.31387787368,\n",
       " 498981.81396148785,\n",
       " 260281.08694749835]"
      ]
     },
     "execution_count": 34,
     "metadata": {},
     "output_type": "execute_result"
    }
   ],
   "source": [
    "[i[0,1] for i in corr_list]"
   ]
  },
  {
   "cell_type": "code",
   "execution_count": 50,
   "metadata": {},
   "outputs": [
    {
     "data": {
      "application/vnd.jupyter.widget-view+json": {
       "model_id": "50e597c8a6f64c829ce6b331fca0892d",
       "version_major": 2,
       "version_minor": 0
      },
      "text/plain": [
       "Canvas(toolbar=Toolbar(toolitems=[('Home', 'Reset original view', 'home', 'home'), ('Back', 'Back to previous …"
      ]
     },
     "metadata": {},
     "output_type": "display_data"
    }
   ],
   "source": [
    "def f_plot_corr(lst,idx1,idx2):\n",
    "    plt.figure()\n",
    "    for count,i in enumerate(lst):\n",
    "#         print(i[idx1,idx2])\n",
    "        plt.plot(count,i[idx1,idx2],marker='o',label=str(count))\n",
    "    plt.legend()\n",
    "f_plot_corr(corr_list,1,1)\n",
    "\n"
   ]
  },
  {
   "cell_type": "code",
   "execution_count": 63,
   "metadata": {},
   "outputs": [
    {
     "data": {
      "application/vnd.jupyter.widget-view+json": {
       "model_id": "487e05a339dc425bb393266034a4526a",
       "version_major": 2,
       "version_minor": 0
      },
      "text/plain": [
       "Canvas(toolbar=Toolbar(toolitems=[('Home', 'Reset original view', 'home', 'home'), ('Back', 'Back to previous …"
      ]
     },
     "metadata": {},
     "output_type": "display_data"
    },
    {
     "name": "stdout",
     "output_type": "stream",
     "text": [
      "197840.3088263341 197840.30882633408\n",
      "0 0 110928.3532725304\n",
      "0 1 197840.3088263341\n",
      "0 2 229486.06418490488\n",
      "0 3 348118.3442468173\n",
      "0 4 344940.3923801152\n",
      "1 0 197840.30882633408\n",
      "1 1 368782.7216992081\n",
      "1 2 433454.5814099922\n",
      "1 3 656889.5013117277\n",
      "1 4 645203.0299787859\n",
      "2 0 229486.06418490486\n",
      "2 1 433454.5814099922\n",
      "2 2 526233.9049738101\n",
      "2 3 803680.3243651384\n",
      "2 4 782785.9432833949\n",
      "3 0 348118.3442468173\n",
      "3 1 656889.5013117276\n",
      "3 2 803680.3243651384\n",
      "3 3 1262074.7176924841\n",
      "3 4 1232425.347114066\n",
      "4 0 344940.3923801152\n",
      "4 1 645203.0299787859\n",
      "4 2 782785.9432833949\n",
      "4 3 1232425.3471140657\n",
      "4 4 1234691.0880171466\n",
      "25\n"
     ]
    }
   ],
   "source": [
    "def f_plot_compare_corrs(lst,idx):\n",
    "    plt.figure()\n",
    "    arr=lst[idx]\n",
    "    print(arr[0,1],arr[1,0])\n",
    "    count=0\n",
    "    for i in range(arr.shape[0])[:5]:\n",
    "        for j in range(arr.shape[1])[:5]:\n",
    "            count+=1\n",
    "            print(i,j,arr[i,j])\n",
    "            label='%s-%s'%(i,j)\n",
    "            plt.plot(i+j,arr[i,j],marker='o',label=label)\n",
    "        \n",
    "    print(count)\n",
    "    plt.legend()\n",
    "    \n",
    "f_plot_compare_corrs(corr_list,0)"
   ]
  },
  {
   "cell_type": "code",
   "execution_count": 57,
   "metadata": {},
   "outputs": [
    {
     "data": {
      "text/plain": [
       "(197840.3088263341, 197840.30882633408)"
      ]
     },
     "execution_count": 57,
     "metadata": {},
     "output_type": "execute_result"
    }
   ],
   "source": [
    "corr_list[0][0,1],corr_list[0][1,0]"
   ]
  },
  {
   "cell_type": "code",
   "execution_count": null,
   "metadata": {},
   "outputs": [],
   "source": []
  }
 ],
 "metadata": {
  "kernelspec": {
   "display_name": "v3",
   "language": "python",
   "name": "v-jpt-3"
  },
  "language_info": {
   "codemirror_mode": {
    "name": "ipython",
    "version": 3
   },
   "file_extension": ".py",
   "mimetype": "text/x-python",
   "name": "python",
   "nbconvert_exporter": "python",
   "pygments_lexer": "ipython3",
   "version": "3.8.6"
  }
 },
 "nbformat": 4,
 "nbformat_minor": 4
}
