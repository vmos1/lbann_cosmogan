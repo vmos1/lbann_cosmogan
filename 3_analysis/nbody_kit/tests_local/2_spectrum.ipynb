{
 "cells": [
  {
   "cell_type": "markdown",
   "metadata": {},
   "source": [
    "# Testing nbodykit\n",
    "Oct 28, 2020"
   ]
  },
  {
   "cell_type": "code",
   "execution_count": 2,
   "metadata": {},
   "outputs": [],
   "source": [
    "import numpy as np\n",
    "import matplotlib.pyplot as plt\n",
    "from scipy.interpolate import InterpolatedUnivariateSpline\n",
    "\n",
    "from nbodykit.lab import *\n",
    "from nbodykit import setup_logging, style"
   ]
  },
  {
   "cell_type": "code",
   "execution_count": 3,
   "metadata": {},
   "outputs": [],
   "source": [
    "# from nbodykit.cosmology import *"
   ]
  },
  {
   "cell_type": "code",
   "execution_count": 4,
   "metadata": {},
   "outputs": [],
   "source": [
    "%matplotlib inline"
   ]
  },
  {
   "cell_type": "code",
   "execution_count": 5,
   "metadata": {},
   "outputs": [
    {
     "name": "stdout",
     "output_type": "stream",
     "text": [
      "(50, 512, 512)\n"
     ]
    },
    {
     "data": {
      "text/plain": [
       "(16, 16)"
      ]
     },
     "execution_count": 5,
     "metadata": {},
     "output_type": "execute_result"
    }
   ],
   "source": [
    "fname='/mnt/laptop/data/2d_images_50.npy'\n",
    "a1=np.load(fname)[:,:,:,0]\n",
    "print(a1.shape)\n",
    "\n",
    "img=a1[0,:16,:16]\n",
    "img.shape\n"
   ]
  },
  {
   "cell_type": "code",
   "execution_count": 6,
   "metadata": {},
   "outputs": [],
   "source": [
    "def f_make_catalog_2d(img):\n",
    "    \n",
    "    x=np.arange(img.shape[0]) \n",
    "    y=np.arange(img.shape[1])\n",
    "\n",
    "    coord=np.array([(i,j,0) for i in x for j in y]) ## Form is (x,y,0)\n",
    "\n",
    "    ip_dict={}\n",
    "    ip_dict['Position'] = coord\n",
    "    ip_dict['Mass'] = img.flatten()\n",
    "#     ip_dict['Weight'] = img.flatten()\n",
    "\n",
    "\n",
    "    catalog=ArrayCatalog(ip_dict)\n",
    "    \n",
    "    return catalog\n"
   ]
  },
  {
   "cell_type": "code",
   "execution_count": 7,
   "metadata": {},
   "outputs": [
    {
     "name": "stdout",
     "output_type": "stream",
     "text": [
      "256 ['Mass', 'Position', 'Selection', 'Value', 'Weight']\n"
     ]
    }
   ],
   "source": [
    "cat1=f_make_catalog_2d(img)\n",
    "print(cat1.csize,cat1.columns)\n",
    "\n"
   ]
  },
  {
   "cell_type": "code",
   "execution_count": 8,
   "metadata": {},
   "outputs": [],
   "source": [
    "mesh=cat1.to_mesh(Nmesh=16,BoxSize=300)\n",
    "# mesh=catalog.to_mesh(window='tsc', Nmesh=256,BoxSize=100)"
   ]
  },
  {
   "cell_type": "code",
   "execution_count": 9,
   "metadata": {},
   "outputs": [
    {
     "data": {
      "text/plain": [
       "{'BoxSize': array([300., 300., 300.]),\n",
       " 'Nmesh': array([16, 16, 16]),\n",
       " 'interlaced': False,\n",
       " 'compensated': False,\n",
       " 'resampler': 'cic'}"
      ]
     },
     "execution_count": 9,
     "metadata": {},
     "output_type": "execute_result"
    }
   ],
   "source": [
    "mesh.attrs"
   ]
  },
  {
   "cell_type": "code",
   "execution_count": 11,
   "metadata": {},
   "outputs": [],
   "source": [
    "# mesh['']"
   ]
  },
  {
   "cell_type": "markdown",
   "metadata": {},
   "source": [
    "## Power spectrum\n",
    "https://nbodykit.readthedocs.io/en/latest/results/algorithms/fftpower.html?highlight=FFTPower"
   ]
  },
  {
   "cell_type": "code",
   "execution_count": 12,
   "metadata": {},
   "outputs": [
    {
     "name": "stderr",
     "output_type": "stream",
     "text": [
      "/opt/conda/lib/python3.7/site-packages/ipykernel_launcher.py:1: DeprecationWarning: The window argument is deprecated. Use `resampler=` instead\n",
      "  \"\"\"Entry point for launching an IPython kernel.\n"
     ]
    }
   ],
   "source": [
    "mesh = cat1.to_mesh(window='tsc', Nmesh=256, compensated=True,BoxSize=50)\n",
    "r = FFTPower(mesh, mode='1d')"
   ]
  },
  {
   "cell_type": "code",
   "execution_count": 13,
   "metadata": {},
   "outputs": [
    {
     "name": "stdout",
     "output_type": "stream",
     "text": [
      "<BinnedStatistic: dims: (k: 128), variables: ('k', 'power', 'modes')>\n"
     ]
    }
   ],
   "source": [
    "Pk=r.power\n",
    "print(Pk)"
   ]
  },
  {
   "cell_type": "code",
   "execution_count": 14,
   "metadata": {},
   "outputs": [
    {
     "name": "stdout",
     "output_type": "stream",
     "text": [
      "Nmesh = [256 256 256]\n",
      "BoxSize = [50. 50. 50.]\n",
      "Lx = 50.0\n",
      "Ly = 50.0\n",
      "Lz = 50.0\n",
      "volume = 125000.0\n",
      "mode = 1d\n",
      "los = [0, 0, 1]\n",
      "Nmu = 1\n",
      "poles = []\n",
      "dk = 0.12566370614359174\n",
      "kmin = 0.0\n",
      "kmax = None\n",
      "N1 = 256\n",
      "N2 = 256\n",
      "shotnoise = 488.28125\n"
     ]
    }
   ],
   "source": [
    "for k in Pk.attrs:\n",
    "    print(\"%s = %s\"%(k,str(Pk.attrs[k])))"
   ]
  },
  {
   "cell_type": "code",
   "execution_count": 15,
   "metadata": {},
   "outputs": [],
   "source": [
    "r2= FFTPower(mesh, mode='2d')"
   ]
  },
  {
   "cell_type": "code",
   "execution_count": 16,
   "metadata": {},
   "outputs": [
    {
     "name": "stdout",
     "output_type": "stream",
     "text": [
      "<BinnedStatistic: dims: (k: 128, mu: 5), variables: ('k', 'mu', 'power', 'modes')>\n"
     ]
    }
   ],
   "source": [
    "Pk2=r2.power\n",
    "print(Pk2)"
   ]
  },
  {
   "cell_type": "code",
   "execution_count": 17,
   "metadata": {
    "jupyter": {
     "outputs_hidden": true
    }
   },
   "outputs": [],
   "source": [
    "r2= FFTPower(mesh, mode='2d',poles=[0,2,4])"
   ]
  },
  {
   "cell_type": "code",
   "execution_count": 18,
   "metadata": {},
   "outputs": [
    {
     "data": {
      "text/plain": [
       "<BinnedStatistic: dims: (k: 128), variables: 5 total>"
      ]
     },
     "execution_count": 18,
     "metadata": {},
     "output_type": "execute_result"
    }
   ],
   "source": [
    "r2.poles"
   ]
  },
  {
   "cell_type": "code",
   "execution_count": null,
   "metadata": {},
   "outputs": [],
   "source": []
  },
  {
   "cell_type": "markdown",
   "metadata": {},
   "source": [
    "## Two-pt function\n",
    "https://nbodykit.readthedocs.io/en/latest/api/_autosummary/nbodykit.algorithms.paircount_tpcf.tpcf.html#nbodykit.algorithms.paircount_tpcf.tpcf.SimulationBox2PCF"
   ]
  },
  {
   "cell_type": "code",
   "execution_count": 19,
   "metadata": {
    "jupyter": {
     "outputs_hidden": true
    }
   },
   "outputs": [],
   "source": [
    "obj1=SimulationBox2PCF('2d',cat1,edges=np.arange(1,11,1),Nmu=2,BoxSize=50)\n",
    "# op1=obj1.run()\n",
    "# obj.power"
   ]
  },
  {
   "cell_type": "code",
   "execution_count": 70,
   "metadata": {},
   "outputs": [],
   "source": [
    "# dir(obj1)"
   ]
  },
  {
   "cell_type": "code",
   "execution_count": 20,
   "metadata": {},
   "outputs": [
    {
     "data": {
      "text/plain": [
       "<WedgeBinnedStatistic: dims: (r: 9, mu: 2), variables: ('corr', 'r')>"
      ]
     },
     "execution_count": 20,
     "metadata": {},
     "output_type": "execute_result"
    }
   ],
   "source": [
    "obj1.corr"
   ]
  },
  {
   "cell_type": "code",
   "execution_count": 21,
   "metadata": {},
   "outputs": [
    {
     "data": {
      "text/plain": [
       "array([[240.98384488,  -1.        ],\n",
       "       [160.04867096,  -1.        ],\n",
       "       [ 93.71195649,  -1.        ],\n",
       "       [ 62.12139849,  -1.        ],\n",
       "       [ 61.28732219,  -1.        ],\n",
       "       [ 35.25557632,  -1.        ],\n",
       "       [ 30.92271451,  -1.        ],\n",
       "       [ 24.28114259,  -1.        ],\n",
       "       [ 16.54174045,  -1.        ]])"
      ]
     },
     "execution_count": 21,
     "metadata": {},
     "output_type": "execute_result"
    }
   ],
   "source": [
    "obj1.corr['corr']"
   ]
  },
  {
   "cell_type": "code",
   "execution_count": 23,
   "metadata": {},
   "outputs": [
    {
     "ename": "AttributeError",
     "evalue": "'SimulationBox2PCF' object has no attribute 'coords'",
     "output_type": "error",
     "traceback": [
      "\u001b[0;31m---------------------------------------------------------------------------\u001b[0m",
      "\u001b[0;31mAttributeError\u001b[0m                            Traceback (most recent call last)",
      "\u001b[0;32m<ipython-input-23-78ff3b2716e9>\u001b[0m in \u001b[0;36m<module>\u001b[0;34m\u001b[0m\n\u001b[0;32m----> 1\u001b[0;31m \u001b[0mobj1\u001b[0m\u001b[0;34m.\u001b[0m\u001b[0mcoords\u001b[0m\u001b[0;34m\u001b[0m\u001b[0;34m\u001b[0m\u001b[0m\n\u001b[0m",
      "\u001b[0;31mAttributeError\u001b[0m: 'SimulationBox2PCF' object has no attribute 'coords'"
     ]
    }
   ],
   "source": [
    "obj1.coords"
   ]
  },
  {
   "cell_type": "code",
   "execution_count": null,
   "metadata": {},
   "outputs": [],
   "source": []
  },
  {
   "cell_type": "code",
   "execution_count": 22,
   "metadata": {},
   "outputs": [
    {
     "data": {
      "text/plain": [
       "['D1D2',\n",
       " 'D1R2',\n",
       " 'D2R1',\n",
       " 'R1R2',\n",
       " '__class__',\n",
       " '__delattr__',\n",
       " '__dict__',\n",
       " '__dir__',\n",
       " '__doc__',\n",
       " '__eq__',\n",
       " '__format__',\n",
       " '__ge__',\n",
       " '__getattribute__',\n",
       " '__getstate__',\n",
       " '__gt__',\n",
       " '__hash__',\n",
       " '__init__',\n",
       " '__init_subclass__',\n",
       " '__le__',\n",
       " '__lt__',\n",
       " '__module__',\n",
       " '__ne__',\n",
       " '__new__',\n",
       " '__reduce__',\n",
       " '__reduce_ex__',\n",
       " '__repr__',\n",
       " '__setattr__',\n",
       " '__setstate__',\n",
       " '__sizeof__',\n",
       " '__str__',\n",
       " '__subclasshook__',\n",
       " '__weakref__',\n",
       " 'attrs',\n",
       " 'comm',\n",
       " 'corr',\n",
       " 'data1',\n",
       " 'data2',\n",
       " 'load',\n",
       " 'logger',\n",
       " 'randoms1',\n",
       " 'randoms2',\n",
       " 'run',\n",
       " 'save']"
      ]
     },
     "execution_count": 22,
     "metadata": {},
     "output_type": "execute_result"
    }
   ],
   "source": [
    "dir(obj1)"
   ]
  },
  {
   "cell_type": "code",
   "execution_count": null,
   "metadata": {},
   "outputs": [],
   "source": []
  }
 ],
 "metadata": {
  "kernelspec": {
   "display_name": "Python 3",
   "language": "python",
   "name": "python3"
  },
  "language_info": {
   "codemirror_mode": {
    "name": "ipython",
    "version": 3
   },
   "file_extension": ".py",
   "mimetype": "text/x-python",
   "name": "python",
   "nbconvert_exporter": "python",
   "pygments_lexer": "ipython3",
   "version": "3.7.3"
  }
 },
 "nbformat": 4,
 "nbformat_minor": 4
}
