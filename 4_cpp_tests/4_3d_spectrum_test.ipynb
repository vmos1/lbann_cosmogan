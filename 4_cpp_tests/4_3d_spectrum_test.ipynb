{
 "cells": [
  {
   "cell_type": "markdown",
   "metadata": {},
   "source": [
    "# Testing C++ code in python\n",
    "Jan 21, 2021 : Build 3d code and test"
   ]
  },
  {
   "cell_type": "code",
   "execution_count": 3,
   "metadata": {},
   "outputs": [],
   "source": [
    "import numpy as np"
   ]
  },
  {
   "cell_type": "markdown",
   "metadata": {},
   "source": [
    "## Multi-channel batch example"
   ]
  },
  {
   "cell_type": "markdown",
   "metadata": {},
   "source": [
    "### Save image for C++ code"
   ]
  },
  {
   "cell_type": "code",
   "execution_count": 4,
   "metadata": {},
   "outputs": [],
   "source": [
    "xsize,ysize,zsize=64,64,64\n",
    "batch_size,num_channels=20,2"
   ]
  },
  {
   "cell_type": "code",
   "execution_count": null,
   "metadata": {},
   "outputs": [],
   "source": [
    "### Create image data for 3d and store to numpy\n",
    "\n",
    "# fname='/global/cfs/cdirs/m3363/vayyar/cosmogan_data/raw_data/3d_data/3d_images_1000_64cube.npy'\n",
    "# a1=np.load(fname)\n",
    "# a1=np.expand_dims(a1,axis=1)\n",
    "# np.save('data/3d_data/gen_images.npy',a1[:100])"
   ]
  },
  {
   "cell_type": "code",
   "execution_count": null,
   "metadata": {},
   "outputs": [],
   "source": [
    "# # ### Save .npy file to csv for C++ code to handle\n",
    "# fname='data/3d_data/gen_images.npy'\n",
    "# a1=np.load(fname)\n",
    "# print(a1.shape)\n",
    "\n",
    "# a2=a1[0:batch_size*num_channels,0,:xsize,:ysize,:zsize].reshape(batch_size,num_channels,xsize,ysize,zsize)\n",
    "# print(a2.shape)\n",
    "# np.savetxt('data/3d_data/images1.csv',a2.flatten(),delimiter=',',newline=',')\n",
    "\n",
    "# # ### Save second image\n",
    "# a2=a1[batch_size*num_channels:2*batch_size*num_channels,0,:xsize,:ysize,:zsize].reshape(batch_size,num_channels,xsize,ysize,zsize)\n",
    "# print(a2.shape)\n",
    "# np.savetxt('data/3d_data/images2.csv',a2.flatten(),delimiter=',',newline=',')"
   ]
  },
  {
   "cell_type": "markdown",
   "metadata": {},
   "source": [
    "### Read input"
   ]
  },
  {
   "cell_type": "code",
   "execution_count": 5,
   "metadata": {},
   "outputs": [
    {
     "name": "stdout",
     "output_type": "stream",
     "text": [
      "(20, 2, 64, 64, 64)\n"
     ]
    }
   ],
   "source": [
    "fname='data/3d_data/images1.csv'\n",
    "x=np.loadtxt(fname,delimiter=',',dtype=str)[:-1].astype(np.float64).reshape(batch_size,num_channels,xsize,ysize,zsize)\n",
    "print(x.shape)\n",
    "# x"
   ]
  },
  {
   "cell_type": "markdown",
   "metadata": {},
   "source": [
    "### Compute batch spectrum"
   ]
  },
  {
   "cell_type": "code",
   "execution_count": 6,
   "metadata": {},
   "outputs": [],
   "source": [
    "## numpy code: 3d \n",
    "def f_radial_profile(data, center=(None,None)):\n",
    "    ''' Module to compute radial profile of a 2D image '''\n",
    "    z, y, x = np.indices((data.shape)) # Get a grid of x and y values\n",
    "    \n",
    "    center=[]\n",
    "    if not center:\n",
    "        center = np.array([(x.max()-x.min())/2.0, (y.max()-y.min())/2.0, (z.max()-z.min())/2.0]) # compute centers\n",
    "    # get radial values of every pair of points\n",
    "    r = np.sqrt((x - center[0])**2 + (y - center[1])**2+ + (z - center[2])**2)\n",
    "    r = r.astype(np.int)\n",
    "    \n",
    "    # Compute histogram of r values\n",
    "    tbin = np.bincount(r.ravel(), data.ravel())\n",
    "    nr = np.bincount(r.ravel()) \n",
    "    radialprofile = tbin / nr\n",
    "    \n",
    "    return radialprofile\n",
    "\n",
    "def f_compute_spectrum(arr):\n",
    "#     GLOBAL_MEAN=1.0\n",
    "#     arr=((arr - GLOBAL_MEAN)/GLOBAL_MEAN)\n",
    "    \n",
    "    y1=np.fft.fftn(arr)\n",
    "    y1=np.fft.fftshift(y1)\n",
    "    y2=abs(y1)**2\n",
    "    z1=f_radial_profile(y2)\n",
    "    return z1\n",
    "   \n",
    "def f_compute_batch_spectrum(arr):\n",
    "    batch_pk=np.array([f_compute_spectrum(i) for i in arr])\n",
    "    return batch_pk\n",
    "\n",
    "### Code ###\n",
    "def f_image_spectrum(x,num_channels):\n",
    "    '''\n",
    "    Data has to be in the form (batch,channel,x,y)\n",
    "    '''\n",
    "    mean=[[] for i in range(num_channels)]    \n",
    "    var=[[] for i in range(num_channels)]    \n",
    "\n",
    "    for i in range(num_channels):\n",
    "        arr=x[:,i,:,:,:]\n",
    "#         print(i,arr.shape)\n",
    "        batch_pk=f_compute_batch_spectrum(arr)\n",
    "#         print(batch_pk)\n",
    "        mean[i]=np.mean(batch_pk,axis=0)\n",
    "        var[i]=np.var(batch_pk,axis=0)\n",
    "    mean=np.array(mean)\n",
    "    var=np.array(var)\n",
    "    return mean,var\n",
    "\n"
   ]
  },
  {
   "cell_type": "code",
   "execution_count": 7,
   "metadata": {},
   "outputs": [
    {
     "name": "stdout",
     "output_type": "stream",
     "text": [
      "(2, 55) (2, 55)\n"
     ]
    }
   ],
   "source": [
    "mean,var=f_image_spectrum(x,2)\n",
    "print(mean.shape,var.shape)"
   ]
  },
  {
   "cell_type": "markdown",
   "metadata": {},
   "source": [
    "### Read from c++ files and compare"
   ]
  },
  {
   "cell_type": "code",
   "execution_count": 8,
   "metadata": {},
   "outputs": [],
   "source": [
    "### Read c++ files\n",
    "cp_ip_file='data/3d_data/op_spec_mean.csv'\n",
    "# x=np.loadtxt(fname,delimiter=',',dtype=str)[:-1].astype(np.float64).reshape(5,5)\n",
    "z_cpp1=np.loadtxt(cp_ip_file,delimiter=',',dtype=str)[:-1].astype(np.float64).reshape(num_channels,-1)\n",
    "\n",
    "cp_ip_file='data/3d_data/op_spec_var.csv'\n",
    "# x=np.loadtxt(fname,delimiter=',',dtype=str)[:-1].astype(np.float64).reshape(5,5)\n",
    "z_cpp2=np.loadtxt(cp_ip_file,delimiter=',',dtype=str)[:-1].astype(np.float64).reshape(num_channels,-1)\n",
    "# print(z_cpp1,'\\n',z_cpp2)"
   ]
  },
  {
   "cell_type": "code",
   "execution_count": 9,
   "metadata": {
    "collapsed": true,
    "jupyter": {
     "outputs_hidden": true
    }
   },
   "outputs": [
    {
     "data": {
      "text/plain": [
       "array([[1.05077e+10, 5.66667e+08, 3.31514e+08, 2.12512e+08, 1.53772e+08,\n",
       "        1.20276e+08, 9.54566e+07, 7.59563e+07, 6.27660e+07, 5.20677e+07,\n",
       "        4.27720e+07, 3.60353e+07, 2.92948e+07, 2.44590e+07, 2.02665e+07,\n",
       "        1.66532e+07, 1.37725e+07, 1.14375e+07, 9.43736e+06, 7.77411e+06,\n",
       "        6.38597e+06, 5.27820e+06, 4.36862e+06, 3.63396e+06, 2.98751e+06,\n",
       "        2.49793e+06, 2.08677e+06, 1.77039e+06, 1.50979e+06, 1.29422e+06,\n",
       "        1.13169e+06, 9.99766e+05, 8.40493e+05, 6.84134e+05, 5.49504e+05,\n",
       "        4.51334e+05, 3.70909e+05, 3.12067e+05, 2.61670e+05, 2.21553e+05,\n",
       "        1.89385e+05, 1.67627e+05, 1.42777e+05, 1.24694e+05, 1.04931e+05,\n",
       "        8.55181e+04, 7.02793e+04, 5.79066e+04, 5.04855e+04, 4.55947e+04,\n",
       "        4.06418e+04, 3.64911e+04, 3.39010e+04, 3.11390e+04, 3.45070e+04],\n",
       "       [8.03750e+09, 4.09302e+08, 2.20548e+08, 1.36791e+08, 9.68522e+07,\n",
       "        7.75061e+07, 6.13644e+07, 4.92064e+07, 4.07101e+07, 3.38963e+07,\n",
       "        2.81802e+07, 2.36207e+07, 1.97477e+07, 1.64429e+07, 1.37820e+07,\n",
       "        1.15080e+07, 9.65495e+06, 8.06496e+06, 6.69869e+06, 5.60064e+06,\n",
       "        4.67558e+06, 3.93189e+06, 3.26854e+06, 2.76111e+06, 2.28741e+06,\n",
       "        1.91268e+06, 1.62578e+06, 1.38183e+06, 1.18858e+06, 1.02977e+06,\n",
       "        9.08094e+05, 7.99052e+05, 6.74906e+05, 5.46431e+05, 4.44906e+05,\n",
       "        3.68070e+05, 3.04279e+05, 2.55016e+05, 2.15974e+05, 1.83532e+05,\n",
       "        1.56777e+05, 1.39052e+05, 1.18421e+05, 1.05031e+05, 8.78500e+04,\n",
       "        7.20980e+04, 5.90660e+04, 4.89952e+04, 4.25698e+04, 3.88627e+04,\n",
       "        3.54672e+04, 3.29657e+04, 3.08598e+04, 3.21667e+04, 2.70080e+04]])"
      ]
     },
     "execution_count": 9,
     "metadata": {},
     "output_type": "execute_result"
    }
   ],
   "source": [
    "z_cpp1"
   ]
  },
  {
   "cell_type": "code",
   "execution_count": 10,
   "metadata": {
    "collapsed": true,
    "jupyter": {
     "outputs_hidden": true
    }
   },
   "outputs": [
    {
     "data": {
      "text/plain": [
       "array([[1.05076752e+10, 5.66667132e+08, 3.31513508e+08, 2.12511912e+08,\n",
       "        1.53771872e+08, 1.20275673e+08, 9.54565849e+07, 7.59562614e+07,\n",
       "        6.27660323e+07, 5.20677236e+07, 4.27720268e+07, 3.60352884e+07,\n",
       "        2.92948419e+07, 2.44590127e+07, 2.02664642e+07, 1.66531784e+07,\n",
       "        1.37725480e+07, 1.14374986e+07, 9.43735563e+06, 7.77410872e+06,\n",
       "        6.38596938e+06, 5.27819937e+06, 4.36862430e+06, 3.63395705e+06,\n",
       "        2.98750562e+06, 2.49792779e+06, 2.08677485e+06, 1.77038863e+06,\n",
       "        1.50979205e+06, 1.29422034e+06, 1.13169382e+06, 9.99766190e+05,\n",
       "        8.40493367e+05, 6.84134160e+05, 5.49503942e+05, 4.51334285e+05,\n",
       "        3.70908566e+05, 3.12066713e+05, 2.61670465e+05, 2.21552931e+05,\n",
       "        1.89384774e+05, 1.67626822e+05, 1.42776504e+05, 1.24693650e+05,\n",
       "        1.04930732e+05, 8.55181103e+04, 7.02792723e+04, 5.79066102e+04,\n",
       "        5.04854527e+04, 4.55946552e+04, 4.06418330e+04, 3.64910609e+04,\n",
       "        3.39010196e+04, 3.11390260e+04, 3.45070232e+04],\n",
       "       [8.03750424e+09, 4.09302436e+08, 2.20547543e+08, 1.36790701e+08,\n",
       "        9.68521741e+07, 7.75061486e+07, 6.13644186e+07, 4.92064274e+07,\n",
       "        4.07101350e+07, 3.38963192e+07, 2.81802193e+07, 2.36206843e+07,\n",
       "        1.97477460e+07, 1.64429252e+07, 1.37820056e+07, 1.15079874e+07,\n",
       "        9.65495227e+06, 8.06495555e+06, 6.69868794e+06, 5.60064070e+06,\n",
       "        4.67558375e+06, 3.93188682e+06, 3.26854368e+06, 2.76111059e+06,\n",
       "        2.28740971e+06, 1.91267783e+06, 1.62578121e+06, 1.38183285e+06,\n",
       "        1.18857656e+06, 1.02976922e+06, 9.08093943e+05, 7.99052142e+05,\n",
       "        6.74906354e+05, 5.46431125e+05, 4.44906451e+05, 3.68070191e+05,\n",
       "        3.04279356e+05, 2.55016362e+05, 2.15974434e+05, 1.83532420e+05,\n",
       "        1.56777287e+05, 1.39051561e+05, 1.18420659e+05, 1.05031167e+05,\n",
       "        8.78499957e+04, 7.20980471e+04, 5.90659556e+04, 4.89952255e+04,\n",
       "        4.25697887e+04, 3.88627056e+04, 3.54671670e+04, 3.29656562e+04,\n",
       "        3.08598270e+04, 3.21667178e+04, 2.70079509e+04]])"
      ]
     },
     "execution_count": 10,
     "metadata": {},
     "output_type": "execute_result"
    }
   ],
   "source": [
    "mean"
   ]
  },
  {
   "cell_type": "code",
   "execution_count": 11,
   "metadata": {},
   "outputs": [
    {
     "name": "stdout",
     "output_type": "stream",
     "text": [
      "True\n",
      "True\n"
     ]
    }
   ],
   "source": [
    "### Check arrays\n",
    "print(np.allclose(mean,z_cpp1[:,:mean.shape[1]],rtol=1e-4,atol=1e-8))\n",
    "print(np.allclose(var,z_cpp2[:,:var.shape[1]],rtol=1e-4,atol=1e-8))\n"
   ]
  },
  {
   "cell_type": "markdown",
   "metadata": {},
   "source": [
    "## Testing spectral loss"
   ]
  },
  {
   "cell_type": "code",
   "execution_count": 12,
   "metadata": {},
   "outputs": [],
   "source": [
    "fname='data/3d_data/images1.csv'\n",
    "x1=np.loadtxt(fname,delimiter=',',dtype=str)[:-1].astype(np.float64).reshape(batch_size,num_channels,xsize,ysize,zsize)\n",
    "fname='data/3d_data/images2.csv'\n",
    "x2=np.loadtxt(fname,delimiter=',',dtype=str)[:-1].astype(np.float64).reshape(batch_size,num_channels,xsize,ysize,zsize)\n"
   ]
  },
  {
   "cell_type": "code",
   "execution_count": 13,
   "metadata": {},
   "outputs": [
    {
     "data": {
      "text/plain": [
       "((20, 2, 64, 64, 64),\n",
       " (20, 2, 64, 64, 64),\n",
       " 0.990128432953664,\n",
       " 0.9988072654821961)"
      ]
     },
     "execution_count": 13,
     "metadata": {},
     "output_type": "execute_result"
    }
   ],
   "source": [
    "x1.shape,x2.shape,np.mean(x1),np.mean(x2)"
   ]
  },
  {
   "cell_type": "code",
   "execution_count": 16,
   "metadata": {},
   "outputs": [
    {
     "name": "stdout",
     "output_type": "stream",
     "text": [
      "(2, 55) (2, 55)\n"
     ]
    }
   ],
   "source": [
    "mean1,var1=f_image_spectrum(x1,num_channels)\n",
    "mean2,var2=f_image_spectrum(x2,num_channels)\n",
    "print(mean1.shape,var1.shape)"
   ]
  },
  {
   "cell_type": "code",
   "execution_count": 15,
   "metadata": {},
   "outputs": [
    {
     "data": {
      "text/plain": [
       "(37.57350187248992, 82.15832780120526)"
      ]
     },
     "execution_count": 15,
     "metadata": {},
     "output_type": "execute_result"
    }
   ],
   "source": [
    "k_crop=int(xsize/2) ## =32\n",
    "np.log(np.mean(np.square(mean1[:,:k_crop]-mean2[:,:k_crop]))),np.log(np.mean(np.square(var1[:,:k_crop]-var2[:,:k_crop])))"
   ]
  },
  {
   "cell_type": "markdown",
   "metadata": {},
   "source": [
    "### Conclusion:\n",
    "Jan 21, 2021\n",
    "\n",
    "Results matches c++ code output exactly, both spectra and losses \\\n",
    "One caveat: This code varies from the pytorch code in one way: the module f_radial_profile has a [1:-1] at the end there, but not here.\n",
    "\n",
    "#### Update \n"
   ]
  },
  {
   "cell_type": "code",
   "execution_count": null,
   "metadata": {},
   "outputs": [],
   "source": []
  }
 ],
 "metadata": {
  "kernelspec": {
   "display_name": "v3",
   "language": "python",
   "name": "v-jpt-3"
  },
  "language_info": {
   "codemirror_mode": {
    "name": "ipython",
    "version": 3
   },
   "file_extension": ".py",
   "mimetype": "text/x-python",
   "name": "python",
   "nbconvert_exporter": "python",
   "pygments_lexer": "ipython3",
   "version": "3.8.6"
  }
 },
 "nbformat": 4,
 "nbformat_minor": 4
}
