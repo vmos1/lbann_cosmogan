{
 "cells": [
  {
   "cell_type": "markdown",
   "metadata": {},
   "source": [
    "# Testing C++ code in python\n",
    "June 12, 2020 \\\n",
    "June 20, 2020 : Added test for batch of images with multi-channels"
   ]
  },
  {
   "cell_type": "code",
   "execution_count": 1,
   "metadata": {},
   "outputs": [],
   "source": [
    "import numpy as np"
   ]
  },
  {
   "cell_type": "code",
   "execution_count": 2,
   "metadata": {},
   "outputs": [],
   "source": [
    "xsize,ysize=128,128\n",
    "# xsize,ysize=10,10\n",
    "batch_size,num_channels=100,2"
   ]
  },
  {
   "cell_type": "markdown",
   "metadata": {},
   "source": [
    "## Save image for C++ code"
   ]
  },
  {
   "cell_type": "code",
   "execution_count": null,
   "metadata": {},
   "outputs": [],
   "source": [
    "# ### Save single 2D image to csv for C++ code to handle\n",
    "fname='data/gen_images.npy'\n",
    "a1=np.load(fname)\n",
    "print(a1.shape)\n",
    "\n",
    "a2=a1[0:batch_size*num_channels,0,:xsize,:ysize]\n",
    "print(a2.shape)\n",
    "np.savetxt('data/images.csv',a2.flatten(),delimiter=',',newline=',')\n",
    "\n",
    "### Save second image\n",
    "a2=a1[1*batch_size*num_channels:2*batch_size*num_channels,0,:xsize,:ysize]\n",
    "print(a2.shape)\n",
    "np.savetxt('data/images2.csv',a2.flatten(),delimiter=',',newline=',')"
   ]
  },
  {
   "cell_type": "markdown",
   "metadata": {},
   "source": [
    "### Test for single image"
   ]
  },
  {
   "cell_type": "code",
   "execution_count": null,
   "metadata": {},
   "outputs": [],
   "source": [
    "fname='data/images.csv'\n",
    "x=np.loadtxt(fname,delimiter=',',dtype=str)[:-1].astype(np.float64).reshape(xsize,ysize)\n",
    "print(x.shape)\n",
    "# x"
   ]
  },
  {
   "cell_type": "code",
   "execution_count": null,
   "metadata": {},
   "outputs": [],
   "source": [
    "arr=np.array([(i+1)*10+ 5*j for i in range(0,5) for j in range (0,5)]).reshape(5,5).T\n",
    "arr"
   ]
  },
  {
   "cell_type": "code",
   "execution_count": null,
   "metadata": {},
   "outputs": [],
   "source": [
    "y1=np.fft.fft2(arr)\n",
    "# y1=np.fft.fftshift(y1)\n",
    "y2=abs(y1)"
   ]
  },
  {
   "cell_type": "code",
   "execution_count": null,
   "metadata": {},
   "outputs": [],
   "source": [
    "print(y2)"
   ]
  },
  {
   "cell_type": "code",
   "execution_count": null,
   "metadata": {},
   "outputs": [],
   "source": [
    "y1"
   ]
  },
  {
   "cell_type": "code",
   "execution_count": null,
   "metadata": {},
   "outputs": [],
   "source": [
    "### Read c++ file\n",
    "cp_ip_file='data/op.csv'\n",
    "# x=np.loadtxt(fname,delimiter=',',dtype=str)[:-1].astype(np.float64).reshape(5,5)\n",
    "z_cpp=np.loadtxt(cp_ip_file,delimiter=',',dtype=str)[:-1].astype(np.float64)\n",
    "print(z_cpp)"
   ]
  },
  {
   "cell_type": "code",
   "execution_count": null,
   "metadata": {},
   "outputs": [],
   "source": [
    "### Check arrays\n",
    "np.allclose(z1,z_cpp[:z1.shape[0]],rtol=1e-4,atol=1e-8)"
   ]
  },
  {
   "cell_type": "code",
   "execution_count": null,
   "metadata": {},
   "outputs": [],
   "source": [
    "### Check manually elementwise\n",
    "for i in range(z1.shape[0]):\n",
    "    if (np.around(z1[i],4)!=np.around(z_cpp[i],4)): \n",
    "          print(i,z1[i],z_cpp[i])"
   ]
  },
  {
   "cell_type": "markdown",
   "metadata": {},
   "source": [
    "## Multi-channel batch example"
   ]
  },
  {
   "cell_type": "markdown",
   "metadata": {},
   "source": [
    "### Read input"
   ]
  },
  {
   "cell_type": "code",
   "execution_count": 3,
   "metadata": {},
   "outputs": [
    {
     "name": "stdout",
     "output_type": "stream",
     "text": [
      "(100, 2, 128, 128)\n"
     ]
    }
   ],
   "source": [
    "fname='data/images2.csv'\n",
    "x=np.loadtxt(fname,delimiter=',',dtype=str)[:-1].astype(np.float64).reshape(batch_size,num_channels,xsize,ysize)\n",
    "print(x.shape)\n",
    "# x"
   ]
  },
  {
   "cell_type": "markdown",
   "metadata": {},
   "source": [
    "### Compute batch spectrum"
   ]
  },
  {
   "cell_type": "code",
   "execution_count": 4,
   "metadata": {},
   "outputs": [],
   "source": [
    "def f_radial_profile(data, center=(None,None)):\n",
    "    ''' Module to compute radial profile of a 2D image '''\n",
    "    y, x = np.indices((data.shape)) # Get a grid of x and y values\n",
    "    \n",
    "    if center[0]==None and center[1]==None:\n",
    "        center = np.array([(x.max()-x.min())/2.0, (y.max()-y.min())/2.0]) # compute centers\n",
    "        \n",
    "    # get radial values of every pair of points\n",
    "    r = np.sqrt((x - center[0])**2 + (y - center[1])**2)\n",
    "    r = r.astype(np.int)\n",
    "    \n",
    "    # Compute histogram of r values\n",
    "    tbin = np.bincount(r.ravel(), data.ravel())\n",
    "    nr = np.bincount(r.ravel()) \n",
    "    radialprofile = tbin / nr\n",
    "    \n",
    "    return radialprofile\n",
    "\n",
    "def f_compute_spectrum(arr):\n",
    "    y1=np.fft.fft2(arr)\n",
    "    y1=np.fft.fftshift(y1)\n",
    "    y2=abs(y1)\n",
    "    z1=f_radial_profile(y2)\n",
    "    return(z1)\n",
    "   \n",
    "def f_compute_batch_spectrum(arr):\n",
    "    batch_pk=np.array([f_compute_spectrum(i) for i in arr])\n",
    "    return batch_pk\n",
    "\n",
    "\n",
    "### Code ###\n",
    "def f_image_spectrum(x):\n",
    "    '''\n",
    "    Data has to be in the form (batch,channel,x,y)\n",
    "    '''\n",
    "    print(x.shape)\n",
    "    mean=[[] for i in range(num_channels)]    \n",
    "    sdev=[[] for i in range(num_channels)]    \n",
    "\n",
    "    for i in range(num_channels):\n",
    "        arr=x[:,i,:,:]\n",
    "#         print(i,arr.shape)\n",
    "        batch_pk=f_compute_batch_spectrum(arr)\n",
    "#         print(batch_pk)\n",
    "        mean[i]=np.mean(batch_pk,axis=0)\n",
    "        sdev[i]=np.std(batch_pk,axis=0)\n",
    "    mean=np.array(mean)\n",
    "    sdev=np.array(sdev)\n",
    "    return mean,sdev\n"
   ]
  },
  {
   "cell_type": "code",
   "execution_count": 5,
   "metadata": {},
   "outputs": [
    {
     "name": "stdout",
     "output_type": "stream",
     "text": [
      "(100, 2, 128, 128)\n",
      "(2, 90) (2, 90)\n"
     ]
    }
   ],
   "source": [
    "mean,sdev=f_image_spectrum(x)\n",
    "print(mean.shape,sdev.shape)"
   ]
  },
  {
   "cell_type": "code",
   "execution_count": 6,
   "metadata": {},
   "outputs": [],
   "source": [
    "# print(mean,sdev)"
   ]
  },
  {
   "cell_type": "markdown",
   "metadata": {},
   "source": [
    "### Read from c++ files and compare"
   ]
  },
  {
   "cell_type": "code",
   "execution_count": 7,
   "metadata": {},
   "outputs": [],
   "source": [
    "### Read c++ files\n",
    "cp_ip_file='data/op_spec_mean.csv'\n",
    "# x=np.loadtxt(fname,delimiter=',',dtype=str)[:-1].astype(np.float64).reshape(5,5)\n",
    "z_cpp1=np.loadtxt(cp_ip_file,delimiter=',',dtype=str)[:-1].astype(np.float64).reshape(num_channels,-1)\n",
    "\n",
    "cp_ip_file='data/op_spec_sdev.csv'\n",
    "# x=np.loadtxt(fname,delimiter=',',dtype=str)[:-1].astype(np.float64).reshape(5,5)\n",
    "z_cpp2=np.loadtxt(cp_ip_file,delimiter=',',dtype=str)[:-1].astype(np.float64).reshape(num_channels,-1)\n",
    "# print(z_cpp1,'\\n',z_cpp2)"
   ]
  },
  {
   "cell_type": "code",
   "execution_count": 8,
   "metadata": {},
   "outputs": [
    {
     "data": {
      "text/plain": [
       "array([[3110.45   ,  232.301  ,  208.574  ,  179.257  ,  163.541  ,\n",
       "         147.482  ,  132.39   ,  119.615  ,  112.616  ,  101.257  ,\n",
       "          95.034  ,   90.4084 ,   83.3991 ,   78.0702 ,   72.7444 ,\n",
       "          68.5949 ,   64.5804 ,   60.9793 ,   55.5383 ,   51.097  ,\n",
       "          47.7847 ,   45.0424 ,   42.6496 ,   40.1907 ,   37.9842 ,\n",
       "          35.5928 ,   33.8078 ,   32.5531 ,   31.614  ,   29.471  ,\n",
       "          27.6195 ,   26.932  ,   25.9147 ,   24.3856 ,   22.7196 ,\n",
       "          22.1321 ,   20.7962 ,   19.4705 ,   18.6831 ,   17.8452 ,\n",
       "          17.3083 ,   16.5005 ,   15.9245 ,   15.3207 ,   14.6979 ,\n",
       "          14.5066 ,   13.5859 ,   13.4838 ,   13.0238 ,   12.422  ,\n",
       "          11.6107 ,   11.6651 ,   11.1717 ,   10.8709 ,   10.6746 ,\n",
       "          10.4208 ,   10.581  ,   10.4803 ,    9.98672,    9.69886,\n",
       "           9.4879 ,    9.39094,    9.10467,    9.11069,    8.57453,\n",
       "           7.7591 ,    7.30037,    7.18052,    7.25239,    6.60582,\n",
       "           6.567  ,    6.73298,    6.34804,    6.61971,    6.22415,\n",
       "           5.98071,    5.78856,    5.51961,    5.51332,    6.69045,\n",
       "           5.068  ,    5.16856,    4.94195,    4.9088 ,    5.35513,\n",
       "           4.55878,    4.42603,    4.63449,    4.39698,    7.01081],\n",
       "       [3095.99   ,  240.826  ,  217.484  ,  190.566  ,  168.996  ,\n",
       "         155.349  ,  137.291  ,  124.764  ,  114.051  ,  104.408  ,\n",
       "          97.1251 ,   92.2432 ,   85.8053 ,   78.8018 ,   73.8411 ,\n",
       "          69.0666 ,   65.7133 ,   61.1078 ,   56.5144 ,   51.681  ,\n",
       "          48.4603 ,   45.7065 ,   42.6377 ,   40.369  ,   38.3331 ,\n",
       "          35.95   ,   34.0979 ,   32.6849 ,   31.7233 ,   29.6295 ,\n",
       "          27.8572 ,   27.0605 ,   26.3003 ,   24.7359 ,   23.0317 ,\n",
       "          22.1432 ,   21.0438 ,   19.8035 ,   18.8585 ,   18.0125 ,\n",
       "          17.4796 ,   16.7292 ,   16.1536 ,   15.3333 ,   14.7197 ,\n",
       "          14.5196 ,   13.5617 ,   13.5032 ,   13.1407 ,   12.4258 ,\n",
       "          11.7617 ,   11.7556 ,   11.2454 ,   10.9608 ,   10.6573 ,\n",
       "          10.5145 ,   10.6055 ,   10.5203 ,   10.0367 ,    9.73505,\n",
       "           9.5492 ,    9.37764,    9.06445,    9.0478 ,    8.61194,\n",
       "           7.77996,    7.32554,    7.21532,    7.27832,    6.7894 ,\n",
       "           6.66436,    6.76039,    6.43722,    6.75263,    6.40117,\n",
       "           6.02017,    5.75011,    5.54517,    5.59211,    6.65643,\n",
       "           5.1699 ,    5.14843,    5.00192,    4.90403,    5.39691,\n",
       "           4.54512,    4.4034 ,    4.57196,    4.33828,    7.00179]])"
      ]
     },
     "execution_count": 8,
     "metadata": {},
     "output_type": "execute_result"
    }
   ],
   "source": [
    "z_cpp1"
   ]
  },
  {
   "cell_type": "code",
   "execution_count": 9,
   "metadata": {},
   "outputs": [
    {
     "data": {
      "text/plain": [
       "array([[3110.45170677,  232.30093957,  208.5740333 ,  179.25690948,\n",
       "         163.54105753,  147.48208321,  132.39015146,  119.61487282,\n",
       "         112.61634237,  101.25726236,   95.03403846,   90.40839065,\n",
       "          83.39909775,   78.07020817,   72.74441356,   68.59485977,\n",
       "          64.58042604,   60.97933525,   55.53832231,   51.09702481,\n",
       "          47.78465445,   45.04238529,   42.64957716,   40.1906578 ,\n",
       "          37.98417557,   35.59281844,   33.80782908,   32.55306526,\n",
       "          31.61396659,   29.47102245,   27.61949628,   26.93199773,\n",
       "          25.91474823,   24.38558906,   22.71963417,   22.13209269,\n",
       "          20.79618852,   19.4704603 ,   18.68313299,   17.84518891,\n",
       "          17.30831066,   16.50052629,   15.92451878,   15.32071781,\n",
       "          14.6978647 ,   14.50658415,   13.58588147,   13.48380015,\n",
       "          13.0237923 ,   12.42202254,   11.61071318,   11.66509301,\n",
       "          11.1716751 ,   10.87085079,   10.67456735,   10.42075577,\n",
       "          10.58102541,   10.48032836,    9.98671949,    9.69886277,\n",
       "           9.4878994 ,    9.39093987,    9.10466933,    9.11068595,\n",
       "           8.57452724,    7.75909668,    7.30037348,    7.18052389,\n",
       "           7.25239157,    6.6058211 ,    6.56699683,    6.73298409,\n",
       "           6.34804421,    6.61971036,    6.2241466 ,    5.98071075,\n",
       "           5.78855531,    5.51961115,    5.51331524,    6.6904533 ,\n",
       "           5.06800054,    5.16855966,    4.94194526,    4.90879664,\n",
       "           5.35513126,    4.55877969,    4.42603034,    4.6344937 ,\n",
       "           4.39697665,    7.01080798],\n",
       "       [3095.99001156,  240.82551912,  217.48438802,  190.56574381,\n",
       "         168.99646089,  155.34917555,  137.2910077 ,  124.76431534,\n",
       "         114.05082406,  104.40824723,   97.12506067,   92.24315686,\n",
       "          85.80534628,   78.80182972,   73.84110946,   69.06663438,\n",
       "          65.71334958,   61.10782018,   56.5143979 ,   51.68095681,\n",
       "          48.46028197,   45.70650362,   42.63769734,   40.36898955,\n",
       "          38.33307653,   35.95002564,   34.09793557,   32.68492732,\n",
       "          31.72328089,   29.62946987,   27.85724889,   27.06049411,\n",
       "          26.30026919,   24.73588961,   23.03165148,   22.14317338,\n",
       "          21.0438413 ,   19.80346291,   18.85853365,   18.01254447,\n",
       "          17.47959981,   16.72920312,   16.15360996,   15.3333087 ,\n",
       "          14.71967756,   14.51957636,   13.56174306,   13.50319391,\n",
       "          13.14073274,   12.42581944,   11.76171275,   11.75561877,\n",
       "          11.24538578,   10.96079311,   10.65729923,   10.51449813,\n",
       "          10.60550519,   10.52031519,   10.03672992,    9.73505407,\n",
       "           9.54920051,    9.37763689,    9.06445444,    9.04779672,\n",
       "           8.6119383 ,    7.77995852,    7.3255426 ,    7.21532215,\n",
       "           7.27832473,    6.78940136,    6.66435703,    6.7603949 ,\n",
       "           6.4372213 ,    6.75262907,    6.40116822,    6.02017447,\n",
       "           5.75011261,    5.54517327,    5.59210884,    6.65643349,\n",
       "           5.16989994,    5.14842689,    5.00192448,    4.9040252 ,\n",
       "           5.39691334,    4.54511641,    4.40339706,    4.57195904,\n",
       "           4.33827503,    7.0017908 ]])"
      ]
     },
     "execution_count": 9,
     "metadata": {},
     "output_type": "execute_result"
    }
   ],
   "source": [
    "mean"
   ]
  },
  {
   "cell_type": "code",
   "execution_count": 10,
   "metadata": {},
   "outputs": [
    {
     "name": "stdout",
     "output_type": "stream",
     "text": [
      "True\n",
      "True\n"
     ]
    }
   ],
   "source": [
    "### Check arrays\n",
    "print(np.allclose(mean,z_cpp1[:,:mean.shape[1]],rtol=1e-4,atol=1e-8))\n",
    "print(np.allclose(sdev,z_cpp2[:,:sdev.shape[1]],rtol=1e-4,atol=1e-8))\n"
   ]
  },
  {
   "cell_type": "markdown",
   "metadata": {},
   "source": [
    "## Conclusion:\n",
    "###### July 2, 2020\n",
    "Reading input + computing FFT + computing Modulus + Getting Radial profile \\\n",
    "Arrays from python and C++ match !!\\\n",
    "The C++ code is correct and ready to port to LBANN\n",
    "\n",
    "###### July 20, 2020\n",
    "Reading input + computing FFT + computing Modulus + Getting Radial profile + computing mean, sdev \\\n",
    "Arrays from python and C++ match !!\\\n"
   ]
  },
  {
   "cell_type": "markdown",
   "metadata": {},
   "source": [
    "####  Update\n",
    "October 26, 2020 \\\n",
    "Adding a fix for $ fftshift $ \\\n",
    "Checked results for 2 different images. Success!!\\"
   ]
  },
  {
   "cell_type": "markdown",
   "metadata": {},
   "source": [
    "## Testing spectral loss"
   ]
  },
  {
   "cell_type": "code",
   "execution_count": 11,
   "metadata": {},
   "outputs": [],
   "source": [
    "fname='data/images.csv'\n",
    "x1=np.loadtxt(fname,delimiter=',',dtype=str)[:-1].astype(np.float64).reshape(batch_size,num_channels,xsize,ysize)\n",
    "fname='data/images2.csv'\n",
    "x2=np.loadtxt(fname,delimiter=',',dtype=str)[:-1].astype(np.float64).reshape(batch_size,num_channels,xsize,ysize)\n"
   ]
  },
  {
   "cell_type": "code",
   "execution_count": 12,
   "metadata": {},
   "outputs": [
    {
     "name": "stdout",
     "output_type": "stream",
     "text": [
      "(100, 2, 128, 128)\n",
      "(100, 2, 128, 128)\n"
     ]
    }
   ],
   "source": [
    "mean1,sdev1=f_image_spectrum(x1)\n",
    "mean2,sdev2=f_image_spectrum(x2)\n"
   ]
  },
  {
   "cell_type": "code",
   "execution_count": 13,
   "metadata": {},
   "outputs": [
    {
     "data": {
      "text/plain": [
       "(2, 90)"
      ]
     },
     "execution_count": 13,
     "metadata": {},
     "output_type": "execute_result"
    }
   ],
   "source": [
    "mean1.shape"
   ]
  },
  {
   "cell_type": "code",
   "execution_count": 14,
   "metadata": {},
   "outputs": [
    {
     "data": {
      "text/plain": [
       "(2.38995646839355, 1.682616115504929)"
      ]
     },
     "execution_count": 14,
     "metadata": {},
     "output_type": "execute_result"
    }
   ],
   "source": [
    "k_crop=int(xsize/2) ## =64\n",
    "np.log(np.mean(np.square(mean1[:,:k_crop]-mean2[:,:k_crop]))),np.log(np.mean(np.square(sdev1[:,:k_crop]-sdev2[:,:k_crop])))"
   ]
  },
  {
   "cell_type": "markdown",
   "metadata": {},
   "source": [
    "### Conclusion:\n",
    "July 28,2020\n",
    "\n",
    "Results matches c++ code output exactly\n",
    "\n",
    "#### Update \n",
    "October 26, 2020\n",
    "Results matches after the fix for fftshift\n"
   ]
  },
  {
   "cell_type": "code",
   "execution_count": null,
   "metadata": {},
   "outputs": [],
   "source": []
  }
 ],
 "metadata": {
  "kernelspec": {
   "display_name": "v_py3",
   "language": "python",
   "name": "v_jpt_py3"
  },
  "language_info": {
   "codemirror_mode": {
    "name": "ipython",
    "version": 3
   },
   "file_extension": ".py",
   "mimetype": "text/x-python",
   "name": "python",
   "nbconvert_exporter": "python",
   "pygments_lexer": "ipython3",
   "version": "3.6.8"
  }
 },
 "nbformat": 4,
 "nbformat_minor": 4
}
