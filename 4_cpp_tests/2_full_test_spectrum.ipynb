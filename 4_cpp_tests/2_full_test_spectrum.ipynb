{
 "cells": [
  {
   "cell_type": "markdown",
   "metadata": {},
   "source": [
    "# Testing C++ code in python\n",
    "June 12, 2020 \\\n",
    "June 20, 2020 : Added test for batch of images with multi-channels"
   ]
  },
  {
   "cell_type": "code",
   "execution_count": 1,
   "metadata": {},
   "outputs": [],
   "source": [
    "import numpy as np"
   ]
  },
  {
   "cell_type": "code",
   "execution_count": 2,
   "metadata": {},
   "outputs": [],
   "source": [
    "xsize,ysize=128,128\n",
    "# xsize,ysize=10,10\n",
    "batch_size,num_channels=100,2"
   ]
  },
  {
   "cell_type": "markdown",
   "metadata": {},
   "source": [
    "## Save image for C++ code"
   ]
  },
  {
   "cell_type": "code",
   "execution_count": null,
   "metadata": {},
   "outputs": [],
   "source": [
    "# # ### Save single 2D image to csv for C++ code to handle\n",
    "# fname='data/gen_images.npy'\n",
    "# a1=np.load(fname)\n",
    "# print(a1.shape)\n",
    "\n",
    "# a2=a1[0:batch_size*num_channels,0,:xsize,:ysize]\n",
    "# print(a2.shape)\n",
    "# np.savetxt('data/images.csv',a2.flatten(),delimiter=',',newline=',')\n",
    "\n",
    "# ### Save second image\n",
    "# a2=a1[1*batch_size*num_channels:2*batch_size*num_channels,0,:xsize,:ysize]\n",
    "# print(a2.shape)\n",
    "# np.savetxt('data/images2.csv',a2.flatten(),delimiter=',',newline=',')"
   ]
  },
  {
   "cell_type": "markdown",
   "metadata": {},
   "source": [
    "### Test for single image"
   ]
  },
  {
   "cell_type": "code",
   "execution_count": null,
   "metadata": {},
   "outputs": [],
   "source": [
    "# fname='data/images.csv'\n",
    "# x=np.loadtxt(fname,delimiter=',',dtype=str)[:-1].astype(np.float64).reshape(xsize,ysize)\n",
    "# print(x.shape)\n",
    "# # x\n",
    "\n",
    "\n",
    "# arr=np.array([(i+1)*10+ 5*j for i in range(0,5) for j in range (0,5)]).reshape(5,5).T\n",
    "# arr\n",
    "\n",
    "\n",
    "# y1=np.fft.fft2(arr)\n",
    "# # y1=np.fft.fftshift(y1)\n",
    "# y2=abs(y1)"
   ]
  },
  {
   "cell_type": "code",
   "execution_count": null,
   "metadata": {},
   "outputs": [],
   "source": [
    "# ### Read c++ file\n",
    "# cp_ip_file='data/op.csv'\n",
    "# # x=np.loadtxt(fname,delimiter=',',dtype=str)[:-1].astype(np.float64).reshape(5,5)\n",
    "# z_cpp=np.loadtxt(cp_ip_file,delimiter=',',dtype=str)[:-1].astype(np.float64)\n",
    "# print(z_cpp)"
   ]
  },
  {
   "cell_type": "code",
   "execution_count": null,
   "metadata": {},
   "outputs": [],
   "source": [
    "# ### Check arrays\n",
    "# np.allclose(z1,z_cpp[:z1.shape[0]],rtol=1e-4,atol=1e-8)"
   ]
  },
  {
   "cell_type": "code",
   "execution_count": null,
   "metadata": {},
   "outputs": [],
   "source": [
    "# ### Check manually elementwise\n",
    "# for i in range(z1.shape[0]):\n",
    "#     if (np.around(z1[i],4)!=np.around(z_cpp[i],4)): \n",
    "#           print(i,z1[i],z_cpp[i])"
   ]
  },
  {
   "cell_type": "markdown",
   "metadata": {},
   "source": [
    "## Multi-channel batch example"
   ]
  },
  {
   "cell_type": "markdown",
   "metadata": {},
   "source": [
    "### Read input"
   ]
  },
  {
   "cell_type": "code",
   "execution_count": 28,
   "metadata": {},
   "outputs": [
    {
     "name": "stdout",
     "output_type": "stream",
     "text": [
      "(100, 2, 128, 128)\n"
     ]
    }
   ],
   "source": [
    "fname='data/images.csv'\n",
    "x=np.loadtxt(fname,delimiter=',',dtype=str)[:-1].astype(np.float64).reshape(batch_size,num_channels,xsize,ysize)\n",
    "print(x.shape)\n",
    "# x"
   ]
  },
  {
   "cell_type": "markdown",
   "metadata": {},
   "source": [
    "### Compute batch spectrum"
   ]
  },
  {
   "cell_type": "code",
   "execution_count": 29,
   "metadata": {},
   "outputs": [],
   "source": [
    "def f_radial_profile(data, center=(None,None)):\n",
    "    ''' Module to compute radial profile of a 2D image '''\n",
    "    y, x = np.indices((data.shape)) # Get a grid of x and y values\n",
    "    \n",
    "    if center[0]==None and center[1]==None:\n",
    "        center = np.array([(x.max()-x.min())/2.0, (y.max()-y.min())/2.0]) # compute centers\n",
    "        \n",
    "    # get radial values of every pair of points\n",
    "    r = np.sqrt((x - center[0])**2 + (y - center[1])**2)\n",
    "    r = r.astype(np.int)\n",
    "    \n",
    "    # Compute histogram of r values\n",
    "    tbin = np.bincount(r.ravel(), data.ravel())\n",
    "    nr = np.bincount(r.ravel()) \n",
    "    radialprofile = tbin / nr\n",
    "    \n",
    "    return radialprofile\n",
    "\n",
    "def f_compute_spectrum(arr):\n",
    "#     GLOBAL_MEAN=1.0\n",
    "#     arr=((arr - GLOBAL_MEAN)/GLOBAL_MEAN)\n",
    "    y1=np.fft.fft2(arr)\n",
    "    y1=np.fft.fftshift(y1)\n",
    "    y2=abs(y1)**2\n",
    "    z1=f_radial_profile(y2)\n",
    "    return(z1)\n",
    "   \n",
    "def f_compute_batch_spectrum(arr):\n",
    "    batch_pk=np.array([f_compute_spectrum(i) for i in arr])\n",
    "    return batch_pk\n",
    "\n",
    "\n",
    "### Code ###\n",
    "def f_image_spectrum(x):\n",
    "    '''\n",
    "    Data has to be in the form (batch,channel,x,y)\n",
    "    '''\n",
    "    print(x.shape)\n",
    "    mean=[[] for i in range(num_channels)]    \n",
    "    sdev=[[] for i in range(num_channels)]    \n",
    "\n",
    "    for i in range(num_channels):\n",
    "        arr=x[:,i,:,:]\n",
    "#         print(i,arr.shape)\n",
    "        batch_pk=f_compute_batch_spectrum(arr)\n",
    "#         print(batch_pk)\n",
    "        mean[i]=np.mean(batch_pk,axis=0)\n",
    "        sdev[i]=np.std(batch_pk,axis=0)\n",
    "    mean=np.array(mean)\n",
    "    sdev=np.array(sdev)\n",
    "    return mean,sdev\n"
   ]
  },
  {
   "cell_type": "code",
   "execution_count": 30,
   "metadata": {},
   "outputs": [
    {
     "name": "stdout",
     "output_type": "stream",
     "text": [
      "(100, 2, 128, 128)\n",
      "(2, 90) (2, 90)\n"
     ]
    }
   ],
   "source": [
    "mean,sdev=f_image_spectrum(x)\n",
    "print(mean.shape,sdev.shape)"
   ]
  },
  {
   "cell_type": "markdown",
   "metadata": {},
   "source": [
    "### Read from c++ files and compare"
   ]
  },
  {
   "cell_type": "code",
   "execution_count": 31,
   "metadata": {},
   "outputs": [],
   "source": [
    "### Read c++ files\n",
    "cp_ip_file='data/op_spec_mean.csv'\n",
    "# x=np.loadtxt(fname,delimiter=',',dtype=str)[:-1].astype(np.float64).reshape(5,5)\n",
    "z_cpp1=np.loadtxt(cp_ip_file,delimiter=',',dtype=str)[:-1].astype(np.float64).reshape(num_channels,-1)\n",
    "\n",
    "cp_ip_file='data/op_spec_sdev.csv'\n",
    "# x=np.loadtxt(fname,delimiter=',',dtype=str)[:-1].astype(np.float64).reshape(5,5)\n",
    "z_cpp2=np.loadtxt(cp_ip_file,delimiter=',',dtype=str)[:-1].astype(np.float64).reshape(num_channels,-1)\n",
    "# print(z_cpp1,'\\n',z_cpp2)"
   ]
  },
  {
   "cell_type": "code",
   "execution_count": 32,
   "metadata": {},
   "outputs": [
    {
     "data": {
      "text/plain": [
       "array([[3.35616e+07, 8.37788e+04, 6.53382e+04, 4.53748e+04, 3.71107e+04,\n",
       "        2.99426e+04, 2.47575e+04, 2.04060e+04, 1.75443e+04, 1.41365e+04,\n",
       "        1.24007e+04, 1.10736e+04, 9.41233e+03, 8.11342e+03, 6.94294e+03,\n",
       "        6.23430e+03, 5.45892e+03, 5.01255e+03, 4.10544e+03, 3.45309e+03,\n",
       "        3.01188e+03, 2.63551e+03, 2.38433e+03, 2.13505e+03, 1.91546e+03,\n",
       "        1.68012e+03, 1.47601e+03, 1.37052e+03, 1.31731e+03, 1.14710e+03,\n",
       "        1.00499e+03, 1.00979e+03, 9.47904e+02, 7.80218e+02, 6.87833e+02,\n",
       "        6.48472e+02, 5.81977e+02, 5.06747e+02, 4.62655e+02, 4.28049e+02,\n",
       "        4.18774e+02, 3.81848e+02, 3.40941e+02, 3.12729e+02, 2.81141e+02,\n",
       "        2.93893e+02, 2.47112e+02, 2.52697e+02, 2.47536e+02, 2.17739e+02,\n",
       "        1.85645e+02, 1.88557e+02, 1.68892e+02, 1.60808e+02, 1.54097e+02,\n",
       "        1.49148e+02, 1.55979e+02, 1.54880e+02, 1.41140e+02, 1.27993e+02,\n",
       "        1.23136e+02, 1.20102e+02, 1.11583e+02, 1.17513e+02, 1.02039e+02,\n",
       "        8.48641e+01, 7.10699e+01, 6.99338e+01, 7.30814e+01, 5.85103e+01,\n",
       "        6.17284e+01, 6.45560e+01, 5.34921e+01, 6.03427e+01, 5.50020e+01,\n",
       "        4.73300e+01, 4.26198e+01, 3.91404e+01, 4.00723e+01, 8.17619e+01,\n",
       "        3.51474e+01, 3.51596e+01, 3.26486e+01, 3.16397e+01, 4.82021e+01,\n",
       "        2.68742e+01, 2.57759e+01, 2.70067e+01, 2.56832e+01, 1.27088e+02],\n",
       "       [3.34668e+07, 8.19005e+04, 6.37764e+04, 4.55291e+04, 3.80909e+04,\n",
       "        3.07942e+04, 2.46765e+04, 2.01636e+04, 1.70953e+04, 1.45872e+04,\n",
       "        1.25029e+04, 1.10596e+04, 9.52642e+03, 8.23302e+03, 7.04920e+03,\n",
       "        6.31597e+03, 5.77169e+03, 5.00931e+03, 4.16390e+03, 3.50672e+03,\n",
       "        3.03141e+03, 2.70117e+03, 2.42611e+03, 2.12744e+03, 1.89132e+03,\n",
       "        1.68518e+03, 1.50753e+03, 1.38963e+03, 1.33440e+03, 1.12937e+03,\n",
       "        9.96167e+02, 1.01824e+03, 9.59209e+02, 7.76203e+02, 6.92094e+02,\n",
       "        6.48082e+02, 5.84346e+02, 5.11470e+02, 4.68004e+02, 4.28203e+02,\n",
       "        4.19135e+02, 3.82366e+02, 3.44201e+02, 3.14053e+02, 2.83153e+02,\n",
       "        2.95215e+02, 2.46704e+02, 2.51167e+02, 2.46839e+02, 2.16532e+02,\n",
       "        1.83174e+02, 1.85371e+02, 1.66857e+02, 1.59147e+02, 1.51933e+02,\n",
       "        1.48677e+02, 1.54434e+02, 1.55922e+02, 1.41190e+02, 1.28404e+02,\n",
       "        1.23331e+02, 1.19949e+02, 1.12546e+02, 1.17994e+02, 1.01951e+02,\n",
       "        8.48172e+01, 7.03520e+01, 7.01132e+01, 7.23894e+01, 6.00600e+01,\n",
       "        6.17144e+01, 6.48179e+01, 5.35038e+01, 6.00528e+01, 5.56494e+01,\n",
       "        4.83510e+01, 4.28701e+01, 3.96252e+01, 4.09514e+01, 8.08159e+01,\n",
       "        3.44410e+01, 3.48356e+01, 3.16960e+01, 3.14328e+01, 4.89746e+01,\n",
       "        2.65119e+01, 2.50302e+01, 2.77884e+01, 2.43381e+01, 1.32268e+02]])"
      ]
     },
     "execution_count": 32,
     "metadata": {},
     "output_type": "execute_result"
    }
   ],
   "source": [
    "z_cpp1"
   ]
  },
  {
   "cell_type": "code",
   "execution_count": 33,
   "metadata": {},
   "outputs": [
    {
     "data": {
      "text/plain": [
       "array([[3.35615801e+07, 8.37787838e+04, 6.53382318e+04, 4.53748105e+04,\n",
       "        3.71107162e+04, 2.99426116e+04, 2.47574663e+04, 2.04059979e+04,\n",
       "        1.75442856e+04, 1.41365088e+04, 1.24006927e+04, 1.10735809e+04,\n",
       "        9.41232667e+03, 8.11342311e+03, 6.94294066e+03, 6.23430462e+03,\n",
       "        5.45891791e+03, 5.01254670e+03, 4.10543565e+03, 3.45308767e+03,\n",
       "        3.01188035e+03, 2.63551069e+03, 2.38433352e+03, 2.13504891e+03,\n",
       "        1.91545771e+03, 1.68012075e+03, 1.47601015e+03, 1.37052451e+03,\n",
       "        1.31730895e+03, 1.14710158e+03, 1.00498640e+03, 1.00978722e+03,\n",
       "        9.47904106e+02, 7.80217781e+02, 6.87832702e+02, 6.48472135e+02,\n",
       "        5.81977342e+02, 5.06746732e+02, 4.62655301e+02, 4.28048814e+02,\n",
       "        4.18773617e+02, 3.81848240e+02, 3.40941366e+02, 3.12729425e+02,\n",
       "        2.81141319e+02, 2.93893096e+02, 2.47111890e+02, 2.52697377e+02,\n",
       "        2.47535659e+02, 2.17739400e+02, 1.85644588e+02, 1.88556984e+02,\n",
       "        1.68892349e+02, 1.60808213e+02, 1.54097189e+02, 1.49148346e+02,\n",
       "        1.55979247e+02, 1.54880023e+02, 1.41140206e+02, 1.27993081e+02,\n",
       "        1.23135532e+02, 1.20102259e+02, 1.11582860e+02, 1.17513129e+02,\n",
       "        1.02039432e+02, 8.48641274e+01, 7.10698684e+01, 6.99338267e+01,\n",
       "        7.30813739e+01, 5.85103001e+01, 6.17284441e+01, 6.45560325e+01,\n",
       "        5.34920577e+01, 6.03426605e+01, 5.50019813e+01, 4.73300335e+01,\n",
       "        4.26198154e+01, 3.91404203e+01, 4.00722723e+01, 8.17619446e+01,\n",
       "        3.51473535e+01, 3.51595666e+01, 3.26485753e+01, 3.16397170e+01,\n",
       "        4.82021099e+01, 2.68742335e+01, 2.57759440e+01, 2.70067120e+01,\n",
       "        2.56832444e+01, 1.27087859e+02],\n",
       "       [3.34667729e+07, 8.19005145e+04, 6.37763882e+04, 4.55291117e+04,\n",
       "        3.80908620e+04, 3.07941907e+04, 2.46765288e+04, 2.01636356e+04,\n",
       "        1.70952998e+04, 1.45871597e+04, 1.25029346e+04, 1.10595558e+04,\n",
       "        9.52642143e+03, 8.23301940e+03, 7.04919842e+03, 6.31597389e+03,\n",
       "        5.77168521e+03, 5.00930931e+03, 4.16389720e+03, 3.50672290e+03,\n",
       "        3.03140664e+03, 2.70116796e+03, 2.42610680e+03, 2.12744190e+03,\n",
       "        1.89132123e+03, 1.68517873e+03, 1.50753102e+03, 1.38963393e+03,\n",
       "        1.33439916e+03, 1.12937410e+03, 9.96167125e+02, 1.01824207e+03,\n",
       "        9.59209322e+02, 7.76203089e+02, 6.92094223e+02, 6.48081716e+02,\n",
       "        5.84345858e+02, 5.11470072e+02, 4.68003596e+02, 4.28203015e+02,\n",
       "        4.19134682e+02, 3.82366465e+02, 3.44200848e+02, 3.14053488e+02,\n",
       "        2.83152701e+02, 2.95214625e+02, 2.46703881e+02, 2.51167081e+02,\n",
       "        2.46839420e+02, 2.16531784e+02, 1.83173548e+02, 1.85370914e+02,\n",
       "        1.66857048e+02, 1.59146714e+02, 1.51933249e+02, 1.48677055e+02,\n",
       "        1.54433759e+02, 1.55921637e+02, 1.41189944e+02, 1.28404379e+02,\n",
       "        1.23331431e+02, 1.19949109e+02, 1.12545811e+02, 1.17993578e+02,\n",
       "        1.01951017e+02, 8.48172296e+01, 7.03519590e+01, 7.01132019e+01,\n",
       "        7.23893788e+01, 6.00599524e+01, 6.17144435e+01, 6.48178860e+01,\n",
       "        5.35038029e+01, 6.00527727e+01, 5.56493644e+01, 4.83510026e+01,\n",
       "        4.28701084e+01, 3.96252434e+01, 4.09514052e+01, 8.08159024e+01,\n",
       "        3.44409742e+01, 3.48356358e+01, 3.16959553e+01, 3.14328275e+01,\n",
       "        4.89746059e+01, 2.65118736e+01, 2.50301779e+01, 2.77884018e+01,\n",
       "        2.43380668e+01, 1.32268284e+02]])"
      ]
     },
     "execution_count": 33,
     "metadata": {},
     "output_type": "execute_result"
    }
   ],
   "source": [
    "mean"
   ]
  },
  {
   "cell_type": "code",
   "execution_count": 34,
   "metadata": {},
   "outputs": [
    {
     "name": "stdout",
     "output_type": "stream",
     "text": [
      "True\n",
      "True\n"
     ]
    }
   ],
   "source": [
    "### Check arrays\n",
    "print(np.allclose(mean,z_cpp1[:,:mean.shape[1]],rtol=1e-4,atol=1e-8))\n",
    "print(np.allclose(sdev,z_cpp2[:,:sdev.shape[1]],rtol=1e-4,atol=1e-8))\n"
   ]
  },
  {
   "cell_type": "markdown",
   "metadata": {},
   "source": [
    "## Conclusion:\n",
    "###### July 2, 2020\n",
    "Reading input + computing FFT + computing Modulus + Getting Radial profile \\\n",
    "Arrays from python and C++ match !!\\\n",
    "The C++ code is correct and ready to port to LBANN\n",
    "\n",
    "###### July 20, 2020\n",
    "Reading input + computing FFT + computing Modulus + Getting Radial profile + computing mean, sdev \\\n",
    "Arrays from python and C++ match !!\\\n"
   ]
  },
  {
   "cell_type": "markdown",
   "metadata": {},
   "source": [
    "####  Update\n",
    "October 26, 2020 \\\n",
    "Adding a fix for $ fftshift $ \\\n",
    "Checked results for 2 different images. Success!!\\\n",
    "\n",
    "#### Update\n",
    "Oct 30, 2020 \\\n",
    "Added square for abs value of spectrum \\\n",
    "Results match \n",
    "\n",
    "#### Update \n",
    "Nov 12, 2020 \\\n",
    "Note : both these codes compute the spectral err as sqrt{variance}. The pytorch code used to compute it as standard error.\n",
    "Peter Harrington's code computes variance."
   ]
  },
  {
   "cell_type": "markdown",
   "metadata": {},
   "source": [
    "## Testing spectral loss"
   ]
  },
  {
   "cell_type": "code",
   "execution_count": 10,
   "metadata": {},
   "outputs": [],
   "source": [
    "fname='data/images.csv'\n",
    "x1=np.loadtxt(fname,delimiter=',',dtype=str)[:-1].astype(np.float64).reshape(batch_size,num_channels,xsize,ysize)\n",
    "fname='data/images2.csv'\n",
    "x2=np.loadtxt(fname,delimiter=',',dtype=str)[:-1].astype(np.float64).reshape(batch_size,num_channels,xsize,ysize)\n"
   ]
  },
  {
   "cell_type": "code",
   "execution_count": 11,
   "metadata": {},
   "outputs": [
    {
     "name": "stdout",
     "output_type": "stream",
     "text": [
      "(100, 2, 128, 128)\n",
      "(100, 2, 128, 128)\n",
      "(2, 90)\n"
     ]
    }
   ],
   "source": [
    "mean1,sdev1=f_image_spectrum(x1)\n",
    "mean2,sdev2=f_image_spectrum(x2)\n",
    "print(mean1.shape)"
   ]
  },
  {
   "cell_type": "code",
   "execution_count": 12,
   "metadata": {},
   "outputs": [
    {
     "data": {
      "text/plain": [
       "(22.307540969987837, 20.199064649307886)"
      ]
     },
     "execution_count": 12,
     "metadata": {},
     "output_type": "execute_result"
    }
   ],
   "source": [
    "k_crop=int(xsize/2) ## =64\n",
    "np.log(np.mean(np.square(mean1[:,:k_crop]-mean2[:,:k_crop]))),np.log(np.mean(np.square(sdev1[:,:k_crop]-sdev2[:,:k_crop])))"
   ]
  },
  {
   "cell_type": "markdown",
   "metadata": {},
   "source": [
    "### Conclusion:\n",
    "July 28,2020\n",
    "\n",
    "Results matches c++ code output exactly\n",
    "\n",
    "#### Update \n",
    "October 26, 2020\n",
    "Results matches after the fix for fftshift\n",
    "\n",
    "#### Update\n",
    "Oct 30, 2020\n",
    "Added change to get square of spectrum.\n",
    "Results match"
   ]
  },
  {
   "cell_type": "code",
   "execution_count": null,
   "metadata": {},
   "outputs": [],
   "source": []
  }
 ],
 "metadata": {
  "kernelspec": {
   "display_name": "v3",
   "language": "python",
   "name": "v-jpt-3"
  },
  "language_info": {
   "codemirror_mode": {
    "name": "ipython",
    "version": 3
   },
   "file_extension": ".py",
   "mimetype": "text/x-python",
   "name": "python",
   "nbconvert_exporter": "python",
   "pygments_lexer": "ipython3",
   "version": "3.8.6"
  }
 },
 "nbformat": 4,
 "nbformat_minor": 4
}
