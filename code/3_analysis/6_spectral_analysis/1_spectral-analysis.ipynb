{
 "cells": [
  {
   "cell_type": "markdown",
   "metadata": {},
   "source": [
    "# Process images to extract spectral features\n",
    "\n",
    "April 13, 2020"
   ]
  },
  {
   "cell_type": "code",
   "execution_count": 1,
   "metadata": {},
   "outputs": [],
   "source": [
    "import numpy as np\n",
    "import matplotlib.pyplot as plt\n",
    "import pandas as pd\n",
    "\n",
    "import subprocess as sp\n",
    "import sys\n",
    "import os\n",
    "import glob"
   ]
  },
  {
   "cell_type": "code",
   "execution_count": 2,
   "metadata": {},
   "outputs": [],
   "source": [
    "%matplotlib widget"
   ]
  },
  {
   "cell_type": "code",
   "execution_count": 4,
   "metadata": {},
   "outputs": [
    {
     "data": {
      "text/plain": [
       "'/global/u1/v/vpa/project/jpt_notebooks/Cosmology/Cosmo_GAN/repositories/lbann_cosmogan/3_analysis/6_spectral_analysis'"
      ]
     },
     "execution_count": 4,
     "metadata": {},
     "output_type": "execute_result"
    }
   ],
   "source": [
    "pwd"
   ]
  },
  {
   "cell_type": "code",
   "execution_count": 5,
   "metadata": {
    "collapsed": true,
    "jupyter": {
     "outputs_hidden": true
    }
   },
   "outputs": [
    {
     "name": "stdout",
     "output_type": "stream",
     "text": [
      "[NbConvertApp] WARNING | pattern 'modules_image_analysis.ipynb' matched no files\n",
      "This application is used to convert notebook files (*.ipynb) to various other\n",
      "formats.\n",
      "\n",
      "WARNING: THE COMMANDLINE INTERFACE MAY CHANGE IN FUTURE RELEASES.\n",
      "\n",
      "Options\n",
      "-------\n",
      "\n",
      "Arguments that take values are actually convenience aliases to full\n",
      "Configurables, whose aliases are listed on the help line. For more information\n",
      "on full configurables, see '--help-all'.\n",
      "\n",
      "--debug\n",
      "    set log level to logging.DEBUG (maximize logging output)\n",
      "--generate-config\n",
      "    generate default config file\n",
      "-y\n",
      "    Answer yes to any questions instead of prompting.\n",
      "--execute\n",
      "    Execute the notebook prior to export.\n",
      "--allow-errors\n",
      "    Continue notebook execution even if one of the cells throws an error and include the error message in the cell output (the default behaviour is to abort conversion). This flag is only relevant if '--execute' was specified, too.\n",
      "--stdin\n",
      "    read a single notebook file from stdin. Write the resulting notebook with default basename 'notebook.*'\n",
      "--stdout\n",
      "    Write notebook output to stdout instead of files.\n",
      "--inplace\n",
      "    Run nbconvert in place, overwriting the existing notebook (only \n",
      "    relevant when converting to notebook format)\n",
      "--clear-output\n",
      "    Clear output of current file and save in place, \n",
      "    overwriting the existing notebook.\n",
      "--no-prompt\n",
      "    Exclude input and output prompts from converted document.\n",
      "--no-input\n",
      "    Exclude input cells and output prompts from converted document. \n",
      "    This mode is ideal for generating code-free reports.\n",
      "--log-level=<Enum> (Application.log_level)\n",
      "    Default: 30\n",
      "    Choices: (0, 10, 20, 30, 40, 50, 'DEBUG', 'INFO', 'WARN', 'ERROR', 'CRITICAL')\n",
      "    Set the log level by value or name.\n",
      "--config=<Unicode> (JupyterApp.config_file)\n",
      "    Default: ''\n",
      "    Full path of a config file.\n",
      "--to=<Unicode> (NbConvertApp.export_format)\n",
      "    Default: 'html'\n",
      "    The export format to be used, either one of the built-in formats\n",
      "    ['asciidoc', 'custom', 'html', 'latex', 'markdown', 'notebook', 'pdf',\n",
      "    'python', 'rst', 'script', 'slides'] or a dotted object name that represents\n",
      "    the import path for an `Exporter` class\n",
      "--template=<Unicode> (TemplateExporter.template_file)\n",
      "    Default: ''\n",
      "    Name of the template file to use\n",
      "--writer=<DottedObjectName> (NbConvertApp.writer_class)\n",
      "    Default: 'FilesWriter'\n",
      "    Writer class used to write the  results of the conversion\n",
      "--post=<DottedOrNone> (NbConvertApp.postprocessor_class)\n",
      "    Default: ''\n",
      "    PostProcessor class used to write the results of the conversion\n",
      "--output=<Unicode> (NbConvertApp.output_base)\n",
      "    Default: ''\n",
      "    overwrite base name use for output files. can only be used when converting\n",
      "    one notebook at a time.\n",
      "--output-dir=<Unicode> (FilesWriter.build_directory)\n",
      "    Default: ''\n",
      "    Directory to write output(s) to. Defaults to output to the directory of each\n",
      "    notebook. To recover previous default behaviour (outputting to the current\n",
      "    working directory) use . as the flag value.\n",
      "--reveal-prefix=<Unicode> (SlidesExporter.reveal_url_prefix)\n",
      "    Default: ''\n",
      "    The URL prefix for reveal.js (version 3.x). This defaults to the reveal CDN,\n",
      "    but can be any url pointing to a copy  of reveal.js.\n",
      "    For speaker notes to work, this must be a relative path to a local  copy of\n",
      "    reveal.js: e.g., \"reveal.js\".\n",
      "    If a relative path is given, it must be a subdirectory of the current\n",
      "    directory (from which the server is run).\n",
      "    See the usage documentation\n",
      "    (https://nbconvert.readthedocs.io/en/latest/usage.html#reveal-js-html-\n",
      "    slideshow) for more details.\n",
      "--nbformat=<Enum> (NotebookExporter.nbformat_version)\n",
      "    Default: 4\n",
      "    Choices: [1, 2, 3, 4]\n",
      "    The nbformat version to write. Use this to downgrade notebooks.\n",
      "\n",
      "To see all available configurables, use `--help-all`\n",
      "\n",
      "Examples\n",
      "--------\n",
      "\n",
      "    The simplest way to use nbconvert is\n",
      "    \n",
      "    > jupyter nbconvert mynotebook.ipynb\n",
      "    \n",
      "    which will convert mynotebook.ipynb to the default format (probably HTML).\n",
      "    \n",
      "    You can specify the export format with `--to`.\n",
      "    Options include ['asciidoc', 'custom', 'html', 'latex', 'markdown', 'notebook', 'pdf', 'python', 'rst', 'script', 'slides'].\n",
      "    \n",
      "    > jupyter nbconvert --to latex mynotebook.ipynb\n",
      "    \n",
      "    Both HTML and LaTeX support multiple output templates. LaTeX includes\n",
      "    'base', 'article' and 'report'.  HTML includes 'basic' and 'full'. You\n",
      "    can specify the flavor of the format used.\n",
      "    \n",
      "    > jupyter nbconvert --to html --template basic mynotebook.ipynb\n",
      "    \n",
      "    You can also pipe the output to stdout, rather than a file\n",
      "    \n",
      "    > jupyter nbconvert mynotebook.ipynb --stdout\n",
      "    \n",
      "    PDF is generated via latex\n",
      "    \n",
      "    > jupyter nbconvert mynotebook.ipynb --to pdf\n",
      "    \n",
      "    You can get (and serve) a Reveal.js-powered slideshow\n",
      "    \n",
      "    > jupyter nbconvert myslides.ipynb --to slides --post serve\n",
      "    \n",
      "    Multiple notebooks can be given at the command line in a couple of \n",
      "    different ways:\n",
      "    \n",
      "    > jupyter nbconvert notebook*.ipynb\n",
      "    > jupyter nbconvert notebook1.ipynb notebook2.ipynb\n",
      "    \n",
      "    or you can specify the notebooks list in a config file, containing::\n",
      "    \n",
      "        c.NbConvertApp.notebooks = [\"my_notebook.ipynb\"]\n",
      "    \n",
      "    > jupyter nbconvert --config mycfg.py\n",
      "\n"
     ]
    }
   ],
   "source": [
    "sys.path.append('/global/u1/v/vpa/project/jpt_notebooks/Cosmology/Cosmo_GAN/repositories/lbann_cosmogan/3_analysis/')\n",
    "from modules_image_analysis import *"
   ]
  },
  {
   "cell_type": "code",
   "execution_count": 80,
   "metadata": {},
   "outputs": [
    {
     "name": "stdout",
     "output_type": "stream",
     "text": [
      "(128, 16384)\n",
      "(128, 128)\n"
     ]
    }
   ],
   "source": [
    "### Get imput image\n",
    "\n",
    "##### From file #####\n",
    "main_dir='/global/cfs/cdirs/m3363/vayyar/cosmogan_data/results_data/'\n",
    "# f1='20200513_121910_peters_dataset/dump_outs/model0-validation-epoch38-step11972-gen_img_instance1_activation-output0.npy'\n",
    "f1='20200513_121910_peters_dataset/dump_outs/model0-validation-epoch38-step11972-inp_img-output0.npy'\n",
    "fname=main_dir+f1\n",
    "a1=np.load(fname)\n",
    "print(a1.shape)\n",
    "a1=a1.reshape(128,128,128)\n",
    "img=a1[0]\n",
    "print(img.shape)"
   ]
  },
  {
   "cell_type": "markdown",
   "metadata": {},
   "source": [
    "To do : \n",
    "- Read an image\n",
    "- Compute radial profile\n",
    "- Compute 2D fourier transform\n",
    "- Compute radial profile of Mod of fourier transform -> Power spectrum\n",
    "\n"
   ]
  },
  {
   "cell_type": "markdown",
   "metadata": {},
   "source": [
    "## 2-point function"
   ]
  },
  {
   "cell_type": "code",
   "execution_count": 73,
   "metadata": {},
   "outputs": [],
   "source": [
    "def f_radial_profile(data, center=(None,None)):\n",
    "    ''' Module to compute radial profile of a 2D image '''\n",
    "    y, x = np.indices((data.shape)) # Get a grid of x and y values\n",
    "    \n",
    "    if center[0]==None and center[1]==None:\n",
    "        center = np.array([(x.max()-x.min())/2.0, (y.max()-y.min())/2.0]) # compute centers\n",
    "    # get radial values of every pair of points\n",
    "    r = np.sqrt((x - center[0])**2 + (y - center[1])**2)\n",
    "    r = r.astype(np.int)\n",
    "    \n",
    "    # Compute histogram of r values\n",
    "    tbin = np.bincount(r.ravel(), data.ravel())\n",
    "    nr = np.bincount(r.ravel()) \n",
    "    radialprofile = tbin / nr\n",
    "    \n",
    "    return radialprofile\n",
    "\n",
    "\n",
    "def f_get_power_spectrum(image,GLOBAL_MEAN=0.9998563):\n",
    "    \"\"\"\n",
    "    Computes azimuthal average of 2D power spectrum of a np array image\n",
    "    GLOBAL_MEAN is the mean pixel value of the training+validation datasets\n",
    "    \"\"\"\n",
    "    ### Compute 2D fourier transform\n",
    "    F1 = fftpack.fft2((image - GLOBAL_MEAN)/GLOBAL_MEAN)\n",
    "    F2 = fftpack.fftshift(F1)\n",
    "    ### Absolute value of F-transform\n",
    "    pspec2d = np.abs(F2)**2\n",
    "    \n",
    "    ### Compute azimuthal average\n",
    "    P_k = f_radial_profile(pspec2d)\n",
    "    \n",
    "    return P_k"
   ]
  },
  {
   "cell_type": "code",
   "execution_count": 85,
   "metadata": {},
   "outputs": [],
   "source": [
    "GLOBAL_MEAN=0.9998563\n",
    "F1=fftpack.fft2((img - GLOBAL_MEAN)/GLOBAL_MEAN)\n",
    "F2 = fftpack.fftshift(F1)\n",
    "pspec2d = np.abs(F2)**2\n",
    "P_k = f_radial_profile(pspec2d)\n"
   ]
  },
  {
   "cell_type": "code",
   "execution_count": 86,
   "metadata": {},
   "outputs": [
    {
     "name": "stderr",
     "output_type": "stream",
     "text": [
      "/global/homes/v/vpa/.conda/envs/v_py3/lib/python3.6/site-packages/ipykernel_launcher.py:1: RuntimeWarning: More than 20 figures have been opened. Figures created through the pyplot interface (`matplotlib.pyplot.figure`) are retained until explicitly closed and may consume too much memory. (To control this warning, see the rcParam `figure.max_open_warning`).\n",
      "  \"\"\"Entry point for launching an IPython kernel.\n"
     ]
    },
    {
     "data": {
      "application/vnd.jupyter.widget-view+json": {
       "model_id": "e22e66ac65564e2eb0b52333ac1d46ef",
       "version_major": 2,
       "version_minor": 0
      },
      "text/plain": [
       "Canvas(toolbar=Toolbar(toolitems=[('Home', 'Reset original view', 'home', 'home'), ('Back', 'Back to previous …"
      ]
     },
     "metadata": {},
     "output_type": "display_data"
    },
    {
     "data": {
      "text/plain": [
       "<matplotlib.image.AxesImage at 0x2aaadec06160>"
      ]
     },
     "execution_count": 86,
     "metadata": {},
     "output_type": "execute_result"
    }
   ],
   "source": [
    "plt.figure()\n",
    "# plt.imshow(F.img)\n",
    "plt.imshow(pspec2d)"
   ]
  },
  {
   "cell_type": "code",
   "execution_count": 89,
   "metadata": {},
   "outputs": [
    {
     "name": "stderr",
     "output_type": "stream",
     "text": [
      "/global/homes/v/vpa/.conda/envs/v_py3/lib/python3.6/site-packages/ipykernel_launcher.py:1: RuntimeWarning: More than 20 figures have been opened. Figures created through the pyplot interface (`matplotlib.pyplot.figure`) are retained until explicitly closed and may consume too much memory. (To control this warning, see the rcParam `figure.max_open_warning`).\n",
      "  \"\"\"Entry point for launching an IPython kernel.\n"
     ]
    },
    {
     "data": {
      "application/vnd.jupyter.widget-view+json": {
       "model_id": "c6598d1b2e654601a32043ed2f8de404",
       "version_major": 2,
       "version_minor": 0
      },
      "text/plain": [
       "Canvas(toolbar=Toolbar(toolitems=[('Home', 'Reset original view', 'home', 'home'), ('Back', 'Back to previous …"
      ]
     },
     "metadata": {},
     "output_type": "display_data"
    },
    {
     "data": {
      "text/plain": [
       "[<matplotlib.lines.Line2D at 0x2aaaded2a9e8>]"
      ]
     },
     "execution_count": 89,
     "metadata": {},
     "output_type": "execute_result"
    }
   ],
   "source": [
    "plt.figure()\n",
    "# plt.plot(F1.real.flatten())\n",
    "# plt.plot(F2.real.flatten())\n",
    "plt.plot(P_k)"
   ]
  },
  {
   "cell_type": "code",
   "execution_count": 58,
   "metadata": {},
   "outputs": [
    {
     "data": {
      "text/plain": [
       "(128, 128)"
      ]
     },
     "execution_count": 58,
     "metadata": {},
     "output_type": "execute_result"
    }
   ],
   "source": [
    "# plt.figure()\n",
    "# plt.imshow(img)"
   ]
  },
  {
   "cell_type": "code",
   "execution_count": 77,
   "metadata": {},
   "outputs": [
    {
     "data": {
      "application/vnd.jupyter.widget-view+json": {
       "model_id": "3d7ab83514764e7e8351c8e028276bf2",
       "version_major": 2,
       "version_minor": 0
      },
      "text/plain": [
       "Canvas(toolbar=Toolbar(toolitems=[('Home', 'Reset original view', 'home', 'home'), ('Back', 'Back to previous …"
      ]
     },
     "metadata": {},
     "output_type": "display_data"
    },
    {
     "data": {
      "text/plain": [
       "[<matplotlib.lines.Line2D at 0x2aaadea4d0f0>]"
      ]
     },
     "execution_count": 77,
     "metadata": {},
     "output_type": "execute_result"
    }
   ],
   "source": [
    "pwr=f_get_power_spectrum(a1[100])\n",
    "plt.figure()\n",
    "plt.plot(pwr,marker='o',linestyle='')"
   ]
  },
  {
   "cell_type": "code",
   "execution_count": 90,
   "metadata": {},
   "outputs": [],
   "source": [
    "_=f_radial_profile(img,center=(0,0))"
   ]
  },
  {
   "cell_type": "code",
   "execution_count": null,
   "metadata": {},
   "outputs": [],
   "source": []
  }
 ],
 "metadata": {
  "kernelspec": {
   "display_name": "PyROOT",
   "language": "python",
   "name": "pyroot"
  },
  "language_info": {
   "codemirror_mode": {
    "name": "ipython",
    "version": 2
   },
   "file_extension": ".py",
   "mimetype": "text/x-python",
   "name": "python",
   "nbconvert_exporter": "python",
   "pygments_lexer": "ipython2",
   "version": "2.7.12"
  }
 },
 "nbformat": 4,
 "nbformat_minor": 4
}
