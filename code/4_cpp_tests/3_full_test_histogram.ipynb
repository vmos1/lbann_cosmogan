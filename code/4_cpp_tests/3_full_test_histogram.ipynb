{
 "cells": [
  {
   "cell_type": "markdown",
   "metadata": {},
   "source": [
    "# Testing C++ code in python\n",
    "June 12, 2020 \\\n",
    "June 20, 2020 : Added test for batch of images with multi-channels"
   ]
  },
  {
   "cell_type": "code",
   "execution_count": 1,
   "metadata": {},
   "outputs": [],
   "source": [
    "import numpy as np"
   ]
  },
  {
   "cell_type": "markdown",
   "metadata": {},
   "source": [
    "## Save image for C++ code"
   ]
  },
  {
   "cell_type": "code",
   "execution_count": 2,
   "metadata": {},
   "outputs": [],
   "source": [
    "xsize,ysize=128,128\n",
    "# xsize,ysize=10,10\n",
    "batch_size,num_channels=200,2"
   ]
  },
  {
   "cell_type": "code",
   "execution_count": 49,
   "metadata": {},
   "outputs": [
    {
     "name": "stdout",
     "output_type": "stream",
     "text": [
      "(512, 1, 128, 128)\n",
      "(400, 128, 128)\n"
     ]
    }
   ],
   "source": [
    "\n",
    "### Save single 2D image to csv for C++ code to handle\n",
    "fname='data/gen_images.npy'\n",
    "a1=np.load(fname)\n",
    "print(a1.shape)\n",
    "\n",
    "a2=a1[0:(batch_size*num_channels),0,:xsize,:ysize]\n",
    "print(a2.shape)\n",
    "np.savetxt('data/images.csv',a2.flatten(),delimiter=',',newline=',')\n"
   ]
  },
  {
   "cell_type": "markdown",
   "metadata": {},
   "source": [
    "## Multi-channel batch example"
   ]
  },
  {
   "cell_type": "markdown",
   "metadata": {},
   "source": [
    "### Read input"
   ]
  },
  {
   "cell_type": "code",
   "execution_count": 51,
   "metadata": {},
   "outputs": [
    {
     "name": "stdout",
     "output_type": "stream",
     "text": [
      "(200, 2, 128, 128)\n"
     ]
    }
   ],
   "source": [
    "fname='data/images.csv'\n",
    "x=np.loadtxt(fname,delimiter=',',dtype=str)[:-1].astype(np.float64).reshape(batch_size,num_channels,xsize,ysize)\n",
    "print(x.shape)\n",
    "# x"
   ]
  },
  {
   "cell_type": "code",
   "execution_count": 52,
   "metadata": {},
   "outputs": [],
   "source": [
    "### Transformation functions for image pixel values\n",
    "def f_transform(x):\n",
    "    return 2.*x/(x + 4. + 1e-8) - 1.\n",
    "\n",
    "\n",
    "def f_invtransform(s):\n",
    "    return 4.*(1. + s)/(1. - s + 1e-8)"
   ]
  },
  {
   "cell_type": "code",
   "execution_count": 53,
   "metadata": {},
   "outputs": [],
   "source": [
    "def f_batch_histogram(img_arr,bins,norm,hist_range):\n",
    "    ''' Compute histogram statistics for a batch of images'''\n",
    "\n",
    "    ## Extracting the range. This is important to ensure that the different histograms are compared correctly\n",
    "    if hist_range==None : ulim,llim=np.max(img_arr),np.min(img_arr)\n",
    "    else: ulim,llim=hist_range[1],hist_range[0]\n",
    "#         print(ulim,llim)\n",
    "    ### array of histogram of each image\n",
    "    hist_arr=np.array([np.histogram(arr.flatten(), bins=bins, range=(llim,ulim), density=norm) for arr in img_arr]) ## range is important\n",
    "    hist=np.stack(hist_arr[:,0]) # First element is histogram array\n",
    "#         print(hist.shape)\n",
    "    bin_list=np.stack(hist_arr[:,1]) # Second element is bin value \n",
    "    ### Compute statistics over histograms of individual images\n",
    "    mean,err=np.mean(hist,axis=0),np.std(hist,axis=0)/np.sqrt(hist.shape[0])\n",
    "    bin_edges=bin_list[0]\n",
    "    centers = (bin_edges[:-1] + bin_edges[1:]) / 2\n",
    "\n",
    "    return mean,err,centers"
   ]
  },
  {
   "cell_type": "code",
   "execution_count": 54,
   "metadata": {},
   "outputs": [
    {
     "name": "stdout",
     "output_type": "stream",
     "text": [
      "[-1.28571428 -0.77777778 -0.45454546 -0.23076923 -0.06666667  0.05882353\n",
      "  0.15789474  0.23809524  0.30434782  0.36        0.42857143  0.66666667\n",
      "  0.76470588  0.81818182  0.85185185  0.875       0.89189189  0.9047619\n",
      "  0.91489362  0.92307692  0.97368421  0.98412698  0.98863636  0.99115044\n",
      "  0.99275362  0.99386503  0.99468085  0.99530516  0.99579832  0.99619772\n",
      "  0.99652778]\n"
     ]
    }
   ],
   "source": [
    "bins=np.array([-0.5,0.5,1.5,2.5,3.5,4.5,5.5,6.5,7.5,8.5,10,20,30,40,50,60,70,80,90,100,300,500,700,900,1100,1300,1500,1700,1900,2100,2300]).astype(np.float64)\n",
    "bins=f_transform(bins)\n",
    "print(bins)\n"
   ]
  },
  {
   "cell_type": "code",
   "execution_count": 55,
   "metadata": {},
   "outputs": [],
   "source": [
    "a=np.array([f_batch_histogram(x[:,channel,:,:],bins,False,None) for channel in range(num_channels)])\n",
    "mean=a[:,0,:]\n",
    "sdev=a[:,1,:]*np.sqrt(batch_size)"
   ]
  },
  {
   "cell_type": "code",
   "execution_count": 63,
   "metadata": {},
   "outputs": [],
   "source": [
    "# mean,sdev"
   ]
  },
  {
   "cell_type": "markdown",
   "metadata": {},
   "source": [
    "### Read from c++ files and compare"
   ]
  },
  {
   "cell_type": "code",
   "execution_count": 59,
   "metadata": {},
   "outputs": [],
   "source": [
    "### Read c++ files\n",
    "cp_ip_file='data/op_hist_mean.csv'\n",
    "z_cpp1=np.loadtxt(cp_ip_file,delimiter=',',dtype=str)[:-1].astype(np.float64).reshape(num_channels,-1)\n",
    "\n",
    "cp_ip_file='data/op_hist_sdev.csv'\n",
    "z_cpp2=np.loadtxt(cp_ip_file,delimiter=',',dtype=str)[:-1].astype(np.float64).reshape(num_channels,-1)\n",
    "# print(z_cpp1,'\\n',z_cpp2)"
   ]
  },
  {
   "cell_type": "code",
   "execution_count": null,
   "metadata": {},
   "outputs": [],
   "source": []
  },
  {
   "cell_type": "code",
   "execution_count": 60,
   "metadata": {},
   "outputs": [
    {
     "name": "stdout",
     "output_type": "stream",
     "text": [
      "True\n",
      "True\n"
     ]
    }
   ],
   "source": [
    "### Check arrays\n",
    "print(np.allclose(mean,z_cpp1,rtol=1e-4,atol=1e-8))\n",
    "\n",
    "print(np.allclose(sdev,z_cpp2,rtol=1e-4,atol=1e-8))"
   ]
  },
  {
   "cell_type": "markdown",
   "metadata": {},
   "source": [
    "## Conclusion:\n",
    "###### July 23, 2020\n",
    "Reading input + computing histogram mean and sdev \\\n",
    "Arrays from python and C++ match !!\\\n"
   ]
  },
  {
   "cell_type": "code",
   "execution_count": null,
   "metadata": {},
   "outputs": [],
   "source": []
  }
 ],
 "metadata": {
  "kernelspec": {
   "display_name": "v3",
   "language": "python",
   "name": "v-jpt-3"
  },
  "language_info": {
   "codemirror_mode": {
    "name": "ipython",
    "version": 3
   },
   "file_extension": ".py",
   "mimetype": "text/x-python",
   "name": "python",
   "nbconvert_exporter": "python",
   "pygments_lexer": "ipython3",
   "version": "3.8.6"
  }
 },
 "nbformat": 4,
 "nbformat_minor": 4
}
