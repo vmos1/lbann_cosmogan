{
 "cells": [
  {
   "cell_type": "markdown",
   "metadata": {},
   "source": [
    "# Testing C++ code in python\n",
    "June 12, 2020"
   ]
  },
  {
   "cell_type": "code",
   "execution_count": 1,
   "metadata": {},
   "outputs": [],
   "source": [
    "import numpy as np"
   ]
  },
  {
   "cell_type": "markdown",
   "metadata": {},
   "source": [
    "Steps to implement spectrum calculation\n",
    "- Compute FFT\n",
    "- Shift frequencies\n",
    "- Compute radial average"
   ]
  },
  {
   "cell_type": "markdown",
   "metadata": {},
   "source": [
    "## Save image for C++ code"
   ]
  },
  {
   "cell_type": "code",
   "execution_count": 3,
   "metadata": {},
   "outputs": [
    {
     "name": "stdout",
     "output_type": "stream",
     "text": [
      "(512, 1, 128, 128)\n"
     ]
    }
   ],
   "source": [
    "### Save single 2D image to csv for C++ code to handle\n",
    "fname='data/gen_images.npy'\n",
    "a1=np.load(fname)\n",
    "print(a1.shape)\n",
    "np.savetxt('data/images.csv',a1[0,0,:5,:5],delimiter=',',newline=',')\n",
    "# np.savetxt('data/images2.csv',a1[0:10,:,:5,:5].flatten(),delimiter=',',newline=',')"
   ]
  },
  {
   "cell_type": "markdown",
   "metadata": {},
   "source": [
    "## Read input"
   ]
  },
  {
   "cell_type": "code",
   "execution_count": 5,
   "metadata": {},
   "outputs": [
    {
     "name": "stdout",
     "output_type": "stream",
     "text": [
      "(5, 2, 5, 5)\n"
     ]
    }
   ],
   "source": [
    "fname='data/images2.csv'\n",
    "# a1=np.loadtxt(fname,delimiter=',',dtype=str)[:-1].astype(np.float64).reshape(5,5)\n",
    "# a1=np.loadtxt(fname,delimiter=',',dtype=str)[:-1].astype(np.float64).reshape(5,2,128,128)\n",
    "a1=np.loadtxt(fname,delimiter=',',dtype=str)[:-1].astype(np.float64).reshape(5,2,5,5)\n",
    "print(a1.shape)\n",
    "# a1"
   ]
  },
  {
   "cell_type": "markdown",
   "metadata": {},
   "source": [
    "## FFT"
   ]
  },
  {
   "cell_type": "markdown",
   "metadata": {},
   "source": [
    "#### 1D FFT"
   ]
  },
  {
   "cell_type": "code",
   "execution_count": 28,
   "metadata": {},
   "outputs": [
    {
     "name": "stdout",
     "output_type": "stream",
     "text": [
      "[(10-1j), (20-2j), (30-3j), (40-4j), (50-5j), (60-6j)]\n"
     ]
    }
   ],
   "source": [
    "y1=[(1.0*10.0*(e+1))-(1.0j*(e+1)) for e in range(6)]\n",
    "# y1=[(i+1)*12.0 for i in range(6)]\n",
    "print(y1)"
   ]
  },
  {
   "cell_type": "code",
   "execution_count": 29,
   "metadata": {},
   "outputs": [
    {
     "name": "stdout",
     "output_type": "stream",
     "text": [
      "(210-21j)\n",
      "(-24.803847577293368+54.96152422706631j)\n",
      "(-28.26794919243112+20.32050807568877j)\n",
      "(-30+3j)\n",
      "(-31.73205080756888-14.320508075688771j)\n",
      "(-35.19615242270663-48.96152422706631j)\n",
      "[211.04738804  60.29925373  34.81379037  30.14962686  34.81379037\n",
      "  60.29925373]\n"
     ]
    }
   ],
   "source": [
    "z1=np.fft.fft(y1)\n",
    "# z1=np.fft.fftshift(np.fft.fft(y1))\n",
    "\n",
    "for i in z1:\n",
    "    print(i)\n",
    "    \n",
    "print(abs(z1))"
   ]
  },
  {
   "cell_type": "markdown",
   "metadata": {},
   "source": [
    "### 2D FFT"
   ]
  },
  {
   "cell_type": "code",
   "execution_count": 33,
   "metadata": {},
   "outputs": [
    {
     "data": {
      "text/plain": [
       "array([[10.+0.j, 20.+0.j, 30.+0.j, 40.+0.j, 50.+0.j],\n",
       "       [15.+0.j, 25.+0.j, 35.+0.j, 45.+0.j, 55.+0.j],\n",
       "       [20.+0.j, 30.+0.j, 40.+0.j, 50.+0.j, 60.+0.j],\n",
       "       [25.+0.j, 35.+0.j, 45.+0.j, 55.+0.j, 65.+0.j],\n",
       "       [30.+0.j, 40.+0.j, 50.+0.j, 60.+0.j, 70.+0.j]])"
      ]
     },
     "execution_count": 33,
     "metadata": {},
     "output_type": "execute_result"
    }
   ],
   "source": [
    "y2=np.array([(10.0*(x+1)+5*y)+(0.0j*(((x+3)+y*2.0))) for y in range(5) for x in range(5)]).reshape(5,5)\n",
    "# y2=a1\n",
    "y2"
   ]
  },
  {
   "cell_type": "code",
   "execution_count": 34,
   "metadata": {},
   "outputs": [],
   "source": [
    "z2=np.fft.fft2(y2)"
   ]
  },
  {
   "cell_type": "code",
   "execution_count": 39,
   "metadata": {},
   "outputs": [
    {
     "name": "stdout",
     "output_type": "stream",
     "text": [
      "(1000+0j)\t(-125+172.0477j)\t(-125+40.615j)\t(-125-40.615j)\t(-125-172.0477j)\t\n",
      "(-62.5+86.0239j)\t0j\t0j\t0j\t-0j\t\n",
      "(-62.5+20.3075j)\t(-0+0j)\t(-0-0j)\t(-0+0j)\t(-0+0j)\t\n",
      "(-62.5-20.3075j)\t(-0-0j)\t(-0-0j)\t(-0+0j)\t(-0-0j)\t\n",
      "(-62.5-86.0239j)\t0j\t-0j\t-0j\t-0j\t\n",
      "1000.0\t212.66270208800998\t131.4327780297834\t131.4327780297834\t212.66270208800998\t\n",
      "106.33135104400495\t1.386309034710929e-14\t8.84589569552496e-15\t8.84589569552496e-15\t3.4776436809271494e-16\t\n",
      "65.71638901489167\t1.1773967043451597e-14\t8.88224570866061e-15\t9.040356948573041e-15\t8.903659738939497e-15\t\n",
      "65.71638901489167\t8.903659738939497e-15\t9.040356948573041e-15\t8.88224570866061e-15\t1.1773967043451597e-14\t\n",
      "106.33135104400495\t3.4776436809271494e-16\t8.84589569552496e-15\t8.84589569552496e-15\t1.386309034710929e-14\t\n"
     ]
    }
   ],
   "source": [
    "for i in z2: \n",
    "    for j in i:\n",
    "        print(np.around(j,decimals=4),end='\\t')\n",
    "    print('')\n",
    "#     print([np.around(j,decimals=4) for j in i])\n",
    "\n",
    "\n",
    "for i in z2: \n",
    "    for j in i:\n",
    "        print(abs(j),end='\\t')\n",
    "    print('')"
   ]
  },
  {
   "cell_type": "code",
   "execution_count": null,
   "metadata": {},
   "outputs": [],
   "source": []
  },
  {
   "cell_type": "markdown",
   "metadata": {},
   "source": [
    "## Frequency shift"
   ]
  },
  {
   "cell_type": "code",
   "execution_count": null,
   "metadata": {},
   "outputs": [],
   "source": [
    "! cat data/images.csv"
   ]
  },
  {
   "cell_type": "code",
   "execution_count": null,
   "metadata": {},
   "outputs": [],
   "source": [
    "freqs = np.fft.fftfreq(9, d=1./9)\n",
    "print(freqs)\n",
    "print(np.fft.fftshift(freqs))\n",
    "\n",
    "freqs_2d=freqs.reshape(3,3)\n",
    "print(freqs_2d)\n",
    "np.fft.fftshift(freqs_2d, axes=(1,))"
   ]
  },
  {
   "cell_type": "code",
   "execution_count": null,
   "metadata": {},
   "outputs": [],
   "source": [
    "a1=np.arange(-2,10)\n",
    "print(a1)\n",
    "np.fft.fftshift(a1)"
   ]
  },
  {
   "cell_type": "code",
   "execution_count": null,
   "metadata": {},
   "outputs": [],
   "source": [
    "### C++ like code\n",
    "for i in range(3):\n",
    "    for j in range(3):\n",
    "        print(freqs_2d[i,j],'\\t',end='')\n",
    "    print()\n",
    "        "
   ]
  },
  {
   "cell_type": "markdown",
   "metadata": {},
   "source": [
    "## Radial profile"
   ]
  },
  {
   "cell_type": "code",
   "execution_count": null,
   "metadata": {},
   "outputs": [],
   "source": [
    "## Optimized python code\n",
    "def f_radial_profile(data, center=(None,None)):\n",
    "    ''' Module to compute radial profile of a 2D image '''\n",
    "    y, x = np.indices((data.shape)) # Get a grid of x and y values\n",
    "    \n",
    "    if center[0]==None and center[1]==None:\n",
    "        center = np.array([(x.max()-x.min())/2.0, (y.max()-y.min())/2.0]) # compute centers\n",
    "        \n",
    "    # get radial values of every pair of points\n",
    "    r = np.sqrt((x - center[0])**2 + (y - center[1])**2)\n",
    "    r = r.astype(np.int)\n",
    "    \n",
    "    # Compute histogram of r values\n",
    "    tbin = np.bincount(r.ravel(), data.ravel())\n",
    "    nr = np.bincount(r.ravel()) \n",
    "    radialprofile = tbin / nr\n",
    "    \n",
    "    return radialprofile"
   ]
  },
  {
   "cell_type": "code",
   "execution_count": null,
   "metadata": {},
   "outputs": [],
   "source": [
    "x_size,y_size=4,4\n",
    "x_max,x_min=x_size-1,0\n",
    "y_max,y_min=y_size-1,0\n",
    "\n",
    "center_x=(x_max-x_min)/2.0\n",
    "center_y=(y_max-y_min)/2.0\n",
    "print(center_x,center_y)"
   ]
  },
  {
   "cell_type": "code",
   "execution_count": null,
   "metadata": {},
   "outputs": [],
   "source": [
    "img_arr=np.random.randint(0,10,size=x_size*y_size).reshape(x_size,y_size)\n",
    "img_arr"
   ]
  },
  {
   "cell_type": "code",
   "execution_count": null,
   "metadata": {},
   "outputs": [],
   "source": [
    "img_arr=np.array([23, 6, 17, 35,33, 15, 26, 12,9, 21, 2, 27,10,19,3,6]).reshape(4,4)\n",
    "print(img_arr)"
   ]
  },
  {
   "cell_type": "code",
   "execution_count": null,
   "metadata": {},
   "outputs": [],
   "source": [
    "max_r=np.sqrt((x_size-center_x)**2+(y_size-center_y)**2).astype(int)\n",
    "r_bins=np.zeros(max_r,dtype=int)\n",
    "r_arr=np.zeros(max_r,dtype=np.float64)\n",
    "r_prof=np.zeros(max_r,dtype=np.float64)\n",
    "\n",
    "for x in range(x_min,x_size):\n",
    "    for y in range(y_min,y_size):\n",
    "        r=np.sqrt((x-center_x)**2+(y-center_y)**2)\n",
    "        r_int=np.int(r)\n",
    "        r_bins[r_int]+=1\n",
    "        r_arr[r_int]+=img_arr[x,y]\n",
    "        print(x,y,r,r_int,img_arr[x,y])\n",
    "\n",
    "### Take ratios to get the radial profile\n",
    "for i in np.arange(len(r_arr)):\n",
    "    if r_bins[i]!=0: \n",
    "        r_prof[i]=(r_arr[i]/r_bins[i])\n",
    "\n"
   ]
  },
  {
   "cell_type": "code",
   "execution_count": null,
   "metadata": {},
   "outputs": [],
   "source": [
    "r_bins,r_arr,r_prof"
   ]
  },
  {
   "cell_type": "code",
   "execution_count": null,
   "metadata": {},
   "outputs": [],
   "source": [
    "f_radial_profile(img_arr)"
   ]
  },
  {
   "cell_type": "code",
   "execution_count": null,
   "metadata": {},
   "outputs": [],
   "source": []
  },
  {
   "cell_type": "code",
   "execution_count": null,
   "metadata": {},
   "outputs": [],
   "source": []
  }
 ],
 "metadata": {
  "kernelspec": {
   "display_name": "v_py3",
   "language": "python",
   "name": "v_jpt_py3"
  },
  "language_info": {
   "codemirror_mode": {
    "name": "ipython",
    "version": 3
   },
   "file_extension": ".py",
   "mimetype": "text/x-python",
   "name": "python",
   "nbconvert_exporter": "python",
   "pygments_lexer": "ipython3",
   "version": "3.6.8"
  }
 },
 "nbformat": 4,
 "nbformat_minor": 4
}
