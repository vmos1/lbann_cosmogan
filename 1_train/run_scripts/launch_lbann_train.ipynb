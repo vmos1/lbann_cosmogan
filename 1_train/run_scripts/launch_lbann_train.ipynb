{
 "cells": [
  {
   "cell_type": "markdown",
   "metadata": {},
   "source": [
    "# Launch LBANN traing jobs\n",
    "Code to create a batch script for launching jobs on cori GPU\n",
    "\n",
    "Sep 1, 2020"
   ]
  },
  {
   "cell_type": "code",
   "execution_count": 1,
   "metadata": {},
   "outputs": [],
   "source": [
    "import os\n",
    "import glob,time\n",
    "import subprocess as sp\n",
    "import numpy as np"
   ]
  },
  {
   "cell_type": "code",
   "execution_count": 2,
   "metadata": {},
   "outputs": [
    {
     "name": "stdout",
     "output_type": "stream",
     "text": [
      "/global/u1/v/vpa/project/jpt_notebooks/Cosmology/Cosmo_GAN/repositories/lbann_cosmogan/1_train/run_scripts\n"
     ]
    }
   ],
   "source": [
    "curr_dir=os.getcwd()\n",
    "print(curr_dir)"
   ]
  },
  {
   "cell_type": "code",
   "execution_count": 4,
   "metadata": {},
   "outputs": [],
   "source": [
    "code_dirs={'128':'/global/u1/v/vpa/project/jpt_notebooks/Cosmology/Cosmo_GAN/repositories/lbann_cosmogan/1_train/main_code',\n",
    "         '512':'/global/u1/v/vpa/project/jpt_notebooks/Cosmology/Cosmo_GAN/repositories/lbann_cosmogan/1_train/512_sqr'}\n",
    "\n",
    "install_dirs={'off':'/global/cfs/cdirs/m3363/lbann/tom_lbann_install_20210126' # LBANN_DETERMINISTIC=OFF\n",
    "             ,'on':'/global/cfs/cdirs/m3363/lbann/tom_lbann_install_deterministic_20201201' # LBANN_DETERMINISTIC=ON\n",
    "             }"
   ]
  },
  {
   "cell_type": "code",
   "execution_count": 15,
   "metadata": {},
   "outputs": [
    {
     "name": "stdout",
     "output_type": "stream",
     "text": [
      "{'epochs': 10, 'seed': 3672323, 'nodes': 1, 'procs': 8, 'job_name': 'scale0.1_deterministic_off', 'spec_loss': '--spec_loss', 'mcr': '', 'lambda_spec': 0.1, 'learn_rate': 0.002, 'deterministic': 'off', 'time': '2:00:00', 'batchsize': 256, 'step_interval': 10, 'code_dir': '/global/u1/v/vpa/project/jpt_notebooks/Cosmology/Cosmo_GAN/repositories/lbann_cosmogan/1_train/main_code', 'install_loc': '/global/cfs/cdirs/m3363/lbann/tom_lbann_install_20210126'}\n"
     ]
    }
   ],
   "source": [
    "### Default dictionary\n",
    "img_size=128\n",
    "\n",
    "dict_pars={'epochs':10,\n",
    "           'seed':3672323, 'nodes':1, 'procs':8,'job_name':'scale0.1_deterministic_off',\n",
    "#            'spec_loss':'',\n",
    "           'spec_loss':'--spec_loss',\n",
    "           'mcr':'',\n",
    "           'lambda_spec':0.1,'learn_rate':0.002,\n",
    "           'deterministic':'off', # on or off\n",
    "          'time':'2:00:00', 'batchsize':256, 'step_interval':10}\n",
    "\n",
    "# dict_pars['job_name']=dict_pars['job_name']+dict_pars['nodes']\n",
    "dict_pars['code_dir']=code_dirs[str(img_size)]\n",
    "dict_pars['install_loc']=install_dirs[dict_pars['deterministic']]\n",
    "print(dict_pars)"
   ]
  },
  {
   "cell_type": "code",
   "execution_count": 16,
   "metadata": {},
   "outputs": [],
   "source": [
    "# ### Default dictionary\n",
    "# img_size=512\n",
    "\n",
    "# dict_pars={'epochs':30,\n",
    "#            'seed':3672323, 'nodes':1, 'procs':8,'job_name':'test_512',\n",
    "# #            'spec_loss':'',\n",
    "#            'spec_loss':'--spec_loss',\n",
    "#            'mcr':'',\n",
    "#            'learn_rate':0.0002,\n",
    "#           'time':'2:00:00', 'batchsize':64, 'step_interval':10}\n",
    "\n",
    "# # dict_pars['job_name']=dict_pars['job_name']+dict_pars['nodes']\n",
    "# dict_pars['code_dir']=code_dirs[str(img_size)]\n",
    "# print(dict_pars)"
   ]
  },
  {
   "cell_type": "code",
   "execution_count": 17,
   "metadata": {},
   "outputs": [],
   "source": [
    "bash_strg='''#!/bin/bash\n",
    "#################\n",
    "#SBATCH --nodes={nodes}\n",
    "#SBATCH --qos=regular\n",
    "#SBATCH --output=slurm-%x-%j.out\n",
    "#SBATCH --constraint=gpu\n",
    "#SBATCH --account=m3363\n",
    "#SBATCH --ntasks-per-node=8 \n",
    "#SBATCH --cpus-per-task=8 \n",
    "#SBATCH --gpus-per-task=1\n",
    "#SBATCH --time={time}\n",
    "#SBATCH --job-name={job_name}\n",
    "\n",
    "echo \"--start date\" `date` `date +%s`\n",
    "echo '--hostname ' $HOSTNAME\n",
    "\n",
    "### Initial setup\n",
    "module purge\n",
    "module load cgpu\n",
    "module load modules/3.2.11.4 gcc/8.3.0 cuda/10.2.89 mvapich2/2.3.2 cmake/3.14.4 python/3.7-anaconda-2019.10\n",
    "\n",
    "module use {install_loc}/etc/modulefiles\n",
    "module load lbann\n",
    "\n",
    "export MKL_THREADING_LAYER=GNU\n",
    "\n",
    "#export SPACK_ROOT=/global/cfs/cdirs/m3363/lbann/spack.git\n",
    "export SPACK_ROOT=/global/cfs/cdirs/m3363/lbann/tom_spack\n",
    "$SPACK_ROOT/share/spack/setup-env.sh\n",
    "export MV2_ENABLE_AFFINITY=0\n",
    "export MV2_USE_CUDA=1\n",
    "export IBV_FORK_SAFE=1\n",
    "\n",
    "### Run the main code\n",
    "code_dir={code_dir}\n",
    "\n",
    "python $code_dir/train_exagan.py --seed {seed} -b {batchsize} -stp {step_interval} {mcr} {spec_loss} --lambda_spec {lambda_spec} -lr {learn_rate} --nodes {nodes} --procs {procs} --suffix {job_name} --epochs {epochs} \n",
    "\n",
    "echo \"--end date\" `date` `date +%s`\n",
    "'''.format(**dict_pars)"
   ]
  },
  {
   "cell_type": "code",
   "execution_count": 18,
   "metadata": {},
   "outputs": [],
   "source": [
    "# bash_strg"
   ]
  },
  {
   "cell_type": "code",
   "execution_count": 19,
   "metadata": {},
   "outputs": [],
   "source": [
    "staging_loc='/global/cfs/cdirs/m3363/vayyar/cosmogan_data/results_data/'"
   ]
  },
  {
   "cell_type": "code",
   "execution_count": 20,
   "metadata": {},
   "outputs": [],
   "source": [
    "fname='batch_train.sh'\n",
    "filename=staging_loc+fname\n",
    "with open (filename,'w') as f:\n",
    "    f.write(bash_strg)"
   ]
  },
  {
   "cell_type": "code",
   "execution_count": 21,
   "metadata": {},
   "outputs": [
    {
     "name": "stdout",
     "output_type": "stream",
     "text": [
      "/global/cfs/cdirs/m3363/vayyar/cosmogan_data/results_data/batch_train.sh\n"
     ]
    }
   ],
   "source": [
    "print(filename)"
   ]
  },
  {
   "cell_type": "code",
   "execution_count": 22,
   "metadata": {},
   "outputs": [],
   "source": [
    "### Move to staging locations in project space:\n",
    "os.chdir(staging_loc)"
   ]
  },
  {
   "cell_type": "code",
   "execution_count": 23,
   "metadata": {},
   "outputs": [
    {
     "name": "stdout",
     "output_type": "stream",
     "text": [
      "#!/bin/bash\n",
      "#################\n",
      "#SBATCH --nodes=1\n",
      "#SBATCH --qos=regular\n",
      "#SBATCH --output=slurm-%x-%j.out\n",
      "#SBATCH --constraint=gpu\n",
      "#SBATCH --account=m3363\n",
      "#SBATCH --ntasks-per-node=8 \n",
      "#SBATCH --cpus-per-task=8 \n",
      "#SBATCH --gpus-per-task=1\n",
      "#SBATCH --time=2:00:00\n",
      "#SBATCH --job-name=scale0.1_deterministic_off\n",
      "\n",
      "echo \"--start date\" `date` `date +%s`\n",
      "echo '--hostname ' $HOSTNAME\n",
      "\n",
      "### Initial setup\n",
      "module purge\n",
      "module load cgpu\n",
      "module load modules/3.2.11.4 gcc/8.3.0 cuda/10.2.89 mvapich2/2.3.2 cmake/3.14.4 python3/3.7-anaconda-2019.10\n",
      "\n",
      "module use /global/cfs/cdirs/m3363/lbann/tom_lbann_install_20210126/etc/modulefiles\n",
      "module load lbann\n",
      "\n",
      "export MKL_THREADING_LAYER=GNU\n",
      "\n",
      "#export SPACK_ROOT=/global/cfs/cdirs/m3363/lbann/spack.git\n",
      "export SPACK_ROOT=/global/cfs/cdirs/m3363/lbann/tom_spack\n",
      "$SPACK_ROOT/share/spack/setup-env.sh\n",
      "export MV2_ENABLE_AFFINITY=0\n",
      "export MV2_USE_CUDA=1\n",
      "export IBV_FORK_SAFE=1\n",
      "\n",
      "### Run the main code\n",
      "code_dir=/global/u1/v/vpa/project/jpt_notebooks/Cosmology/Cosmo_GAN/repositories/lbann_cosmogan/1_train/main_code\n",
      "\n",
      "python $code_dir/train_exagan.py --seed 3672323 -b 256 -stp 10  --spec_loss --lambda_spec 0.1 -lr 0.002 --nodes 1 --procs 8 --suffix scale0.1_deterministic_off --epochs 10 \n",
      "\n",
      "echo \"--end date\" `date` `date +%s`\n"
     ]
    }
   ],
   "source": [
    "%%bash -s \"$filename\" ## Use python variable in bash\n",
    "cat $1\n",
    "chmod +x $1"
   ]
  },
  {
   "cell_type": "markdown",
   "metadata": {},
   "source": [
    "## Submit job to cori GPU"
   ]
  },
  {
   "cell_type": "code",
   "execution_count": 24,
   "metadata": {},
   "outputs": [
    {
     "name": "stdout",
     "output_type": "stream",
     "text": [
      "Submitted batch job 1440579\n"
     ]
    }
   ],
   "source": [
    "%%bash -s \"$filename\" ## Use python variable in bash\n",
    "module load cgpu\n",
    "sbatch $1"
   ]
  },
  {
   "cell_type": "code",
   "execution_count": null,
   "metadata": {},
   "outputs": [],
   "source": []
  }
 ],
 "metadata": {
  "kernelspec": {
   "display_name": "v3",
   "language": "python",
   "name": "v-jpt-3"
  },
  "language_info": {
   "codemirror_mode": {
    "name": "ipython",
    "version": 3
   },
   "file_extension": ".py",
   "mimetype": "text/x-python",
   "name": "python",
   "nbconvert_exporter": "python",
   "pygments_lexer": "ipython3",
   "version": "3.8.6"
  }
 },
 "nbformat": 4,
 "nbformat_minor": 4
}
