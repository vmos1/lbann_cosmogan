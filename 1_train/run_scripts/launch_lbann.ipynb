{
 "cells": [
  {
   "cell_type": "markdown",
   "metadata": {},
   "source": [
    "# Launch LBANN traing jobs\n",
    "Code to create a batch script for launching jobs on cori GPU\n",
    "\n",
    "Sep 1, 2020"
   ]
  },
  {
   "cell_type": "code",
   "execution_count": 1,
   "metadata": {},
   "outputs": [],
   "source": [
    "import os\n",
    "import glob,time\n",
    "import subprocess as sp\n",
    "import numpy as np"
   ]
  },
  {
   "cell_type": "code",
   "execution_count": 2,
   "metadata": {},
   "outputs": [
    {
     "name": "stdout",
     "output_type": "stream",
     "text": [
      "/global/u1/v/vpa/project/jpt_notebooks/Cosmology/Cosmo_GAN/repositories/lbann_cosmogan/1_train/run_scripts\n"
     ]
    }
   ],
   "source": [
    "curr_dir=os.getcwd()\n",
    "print(curr_dir)"
   ]
  },
  {
   "cell_type": "code",
   "execution_count": 3,
   "metadata": {},
   "outputs": [],
   "source": [
    "code_dirs={'128':'/global/u1/v/vpa/project/jpt_notebooks/Cosmology/Cosmo_GAN/repositories/lbann_cosmogan/1_train/main_code/',\n",
    "         '512':'/global/u1/v/vpa/project/jpt_notebooks/Cosmology/Cosmo_GAN/repositories/lbann_cosmogan/1_train/512_sqr/'}"
   ]
  },
  {
   "cell_type": "code",
   "execution_count": 22,
   "metadata": {},
   "outputs": [
    {
     "name": "stdout",
     "output_type": "stream",
     "text": [
      "{'tasks': 8, 'epochs': 18, 'seed': 36723723, 'nodes': 1, 'job_name': 'spec_test_128_withspec', 'procs': 8, 'time': '4:00:00', 'batchsize': 64, 'step_interval': 1, 'code_dir': '/global/u1/v/vpa/project/jpt_notebooks/Cosmology/Cosmo_GAN/repositories/lbann_cosmogan/1_train/main_code/'}\n"
     ]
    }
   ],
   "source": [
    "### Default dictionary\n",
    "img_size=128\n",
    "\n",
    "dict_pars={'tasks':8, 'epochs':18,\n",
    "           'seed':36723723, 'nodes':1,'job_name':'spec_test_128_withspec',\n",
    "           'procs':8, 'time':'4:00:00', 'batchsize':64, 'step_interval':1}\n",
    "\n",
    "dict_pars['code_dir']=code_dirs[str(img_size)]\n",
    "print(dict_pars)"
   ]
  },
  {
   "cell_type": "code",
   "execution_count": 23,
   "metadata": {},
   "outputs": [],
   "source": [
    "bash_strg='''#!/bin/bash\n",
    "#################\n",
    "#SBATCH --nodes={nodes}\n",
    "#SBATCH --qos=regular\n",
    "#SBATCH --output=slurm-%x-%j.out\n",
    "#SBATCH --constraint=gpu\n",
    "#SBATCH --account=m3363\n",
    "#SBATCH --ntasks-per-node=8 \n",
    "#SBATCH --cpus-per-task=8 \n",
    "#SBATCH --gpus-per-task=1\n",
    "#SBATCH --time={time}\n",
    "#SBATCH --job-name={job_name}\n",
    "\n",
    "### Initial setup\n",
    "module purge\n",
    "module load modules/3.2.11.4 gcc/8.3.0 cuda/10.2.89 mvapich2/2.3.2 cmake/3.14.4 python3/3.7-anaconda-2019.10\n",
    "\n",
    "module load esslurm\n",
    "module use /global/cfs/cdirs/m3363/lbann/tom_lbann_install/etc/modulefiles\n",
    "module load lbann\n",
    "\n",
    "export MKL_THREADING_LAYER=GNU\n",
    "\n",
    "#export SPACK_ROOT=/global/cfs/cdirs/m3363/lbann/spack.git\n",
    "export SPACK_ROOT=/global/cfs/cdirs/m3363/lbann/tom_spack\n",
    "$SPACK_ROOT/share/spack/setup-env.sh\n",
    "export MV2_ENABLE_AFFINITY=0\n",
    "export MV2_USE_CUDA=1\n",
    "export IBV_FORK_SAFE=1\n",
    "\n",
    "### Run the main code\n",
    "code_dir={code_dir}\n",
    "\n",
    "python $code_dir/train_exagan.py --seed {seed} -b {batchsize} -stp {step_interval} --nodes {nodes} --procs {procs} --suffix {job_name} --epochs {epochs} \n",
    "\n",
    "echo \"--end date\" `date` `date +%s`\n",
    "'''.format(**dict_pars)"
   ]
  },
  {
   "cell_type": "code",
   "execution_count": 24,
   "metadata": {},
   "outputs": [],
   "source": [
    "# bash_strg"
   ]
  },
  {
   "cell_type": "code",
   "execution_count": 25,
   "metadata": {},
   "outputs": [],
   "source": [
    "staging_loc='/global/cfs/cdirs/m3363/vayyar/cosmogan_data/results_data/'"
   ]
  },
  {
   "cell_type": "code",
   "execution_count": 26,
   "metadata": {},
   "outputs": [],
   "source": [
    "fname='batch_train.sh'\n",
    "filename=staging_loc+fname\n",
    "with open (filename,'w') as f:\n",
    "    f.write(bash_strg)"
   ]
  },
  {
   "cell_type": "code",
   "execution_count": 27,
   "metadata": {},
   "outputs": [
    {
     "name": "stdout",
     "output_type": "stream",
     "text": [
      "/global/cfs/cdirs/m3363/vayyar/cosmogan_data/results_data/batch_train.sh\n"
     ]
    }
   ],
   "source": [
    "print(filename)"
   ]
  },
  {
   "cell_type": "code",
   "execution_count": 28,
   "metadata": {},
   "outputs": [],
   "source": [
    "### Move to staging locations in project space:\n",
    "os.chdir(staging_loc)"
   ]
  },
  {
   "cell_type": "markdown",
   "metadata": {},
   "source": [
    "## Submit job to cori GPU"
   ]
  },
  {
   "cell_type": "code",
   "execution_count": 29,
   "metadata": {},
   "outputs": [
    {
     "name": "stdout",
     "output_type": "stream",
     "text": [
      "#!/bin/bash\n",
      "#################\n",
      "#SBATCH --nodes=1\n",
      "#SBATCH --qos=regular\n",
      "#SBATCH --output=slurm-%x-%j.out\n",
      "#SBATCH --constraint=gpu\n",
      "#SBATCH --account=m3363\n",
      "#SBATCH --ntasks-per-node=8 \n",
      "#SBATCH --cpus-per-task=8 \n",
      "#SBATCH --gpus-per-task=1\n",
      "#SBATCH --time=4:00:00\n",
      "#SBATCH --job-name=spec_test_128_withspec\n",
      "\n",
      "### Initial setup\n",
      "module purge\n",
      "module load modules/3.2.11.4 gcc/8.3.0 cuda/10.2.89 mvapich2/2.3.2 cmake/3.14.4 python3/3.7-anaconda-2019.10\n",
      "\n",
      "module load esslurm\n",
      "module use /global/cfs/cdirs/m3363/lbann/tom_lbann_install/etc/modulefiles\n",
      "module load lbann\n",
      "\n",
      "export MKL_THREADING_LAYER=GNU\n",
      "\n",
      "#export SPACK_ROOT=/global/cfs/cdirs/m3363/lbann/spack.git\n",
      "export SPACK_ROOT=/global/cfs/cdirs/m3363/lbann/tom_spack\n",
      "$SPACK_ROOT/share/spack/setup-env.sh\n",
      "export MV2_ENABLE_AFFINITY=0\n",
      "export MV2_USE_CUDA=1\n",
      "export IBV_FORK_SAFE=1\n",
      "\n",
      "### Run the main code\n",
      "code_dir=/global/u1/v/vpa/project/jpt_notebooks/Cosmology/Cosmo_GAN/repositories/lbann_cosmogan/1_train/main_code/\n",
      "\n",
      "python $code_dir/train_exagan.py --seed 36723723 -b 64 -stp 1 --nodes 1 --procs 8 --suffix spec_test_128_withspec --epochs 18 \n",
      "\n",
      "echo \"--end date\" `date` `date +%s`\n"
     ]
    }
   ],
   "source": [
    "%%bash -s \"$filename\" ## Use python variable in bash\n",
    "cat $1\n",
    "chmod +x $1"
   ]
  },
  {
   "cell_type": "code",
   "execution_count": 30,
   "metadata": {},
   "outputs": [
    {
     "name": "stdout",
     "output_type": "stream",
     "text": [
      "Submitted batch job 1020786\n"
     ]
    }
   ],
   "source": [
    "%%bash -s \"$filename\" ## Use python variable in bash\n",
    "module load esslurm\n",
    "sbatch $1"
   ]
  },
  {
   "cell_type": "code",
   "execution_count": null,
   "metadata": {},
   "outputs": [],
   "source": []
  },
  {
   "cell_type": "code",
   "execution_count": null,
   "metadata": {},
   "outputs": [],
   "source": []
  }
 ],
 "metadata": {
  "kernelspec": {
   "display_name": "v_py3",
   "language": "python",
   "name": "v_jpt_py3"
  },
  "language_info": {
   "codemirror_mode": {
    "name": "ipython",
    "version": 3
   },
   "file_extension": ".py",
   "mimetype": "text/x-python",
   "name": "python",
   "nbconvert_exporter": "python",
   "pygments_lexer": "ipython3",
   "version": "3.6.8"
  }
 },
 "nbformat": 4,
 "nbformat_minor": 4
}
