{
 "cells": [
  {
   "cell_type": "markdown",
   "metadata": {},
   "source": [
    "# Launch jobs\n",
    "Code to create a batch script for launching jobs on cori\n",
    "Sep 1, 2020"
   ]
  },
  {
   "cell_type": "code",
   "execution_count": 1,
   "metadata": {},
   "outputs": [],
   "source": [
    "import os\n",
    "import glob\n",
    "import time\n",
    "import subprocess as sp\n",
    "import numpy as np"
   ]
  },
  {
   "cell_type": "code",
   "execution_count": 2,
   "metadata": {},
   "outputs": [
    {
     "name": "stdout",
     "output_type": "stream",
     "text": [
      "/global/u1/v/vpa/project/jpt_notebooks/Cosmology/Cosmo_GAN/repositories/lbann_cosmogan/1_train/run_scripts\n"
     ]
    }
   ],
   "source": [
    "curr_dir=os.getcwd()\n",
    "print(curr_dir)"
   ]
  },
  {
   "cell_type": "code",
   "execution_count": 3,
   "metadata": {},
   "outputs": [],
   "source": [
    "img_size=512\n",
    "code_dirs={'128':'/global/u1/v/vpa/project/jpt_notebooks/Cosmology/Cosmo_GAN/repositories/lbann_cosmogan/1_train/main_code/',\n",
    "         '512':'/global/u1/v/vpa/project/jpt_notebooks/Cosmology/Cosmo_GAN/repositories/lbann_cosmogan/1_train/512_sqr/'}\n",
    "\n",
    "\n",
    "results_loc='/global/cscratch1/sd/vpa/proj/cosmogan/results_dir/{0}square/'.format(img_size)"
   ]
  },
  {
   "cell_type": "code",
   "execution_count": 4,
   "metadata": {},
   "outputs": [],
   "source": [
    "# ls /global/cscratch1/sd/vpa/proj/cosmogan/results_dir/512square/20200901_200005_bsize50_30eph/chkpt/trainer0/sgd.shared.training.epoch.30.step.13500/model0/"
   ]
  },
  {
   "cell_type": "code",
   "execution_count": 5,
   "metadata": {},
   "outputs": [],
   "source": [
    "# glob.glob(results_loc+'*')"
   ]
  },
  {
   "cell_type": "code",
   "execution_count": 41,
   "metadata": {},
   "outputs": [
    {
     "name": "stdout",
     "output_type": "stream",
     "text": [
      "{'job_name': 'gen_img', 'time': '00:15:00', 'procs': 8, 'seed': 282, 'batchsize': 200, 'data_dir': '/global/cscratch1/sd/vpa/proj/cosmogan/results_dir/512square/20200905_080143_bsize25_test/chkpt/trainer0/sgd.shared.training.epoch.34.step.30600/model0/', 'code_dir': '/global/u1/v/vpa/project/jpt_notebooks/Cosmology/Cosmo_GAN/repositories/lbann_cosmogan/1_train/512_sqr/'}\n"
     ]
    }
   ],
   "source": [
    "### Default dictionary\n",
    "dict_pars={'job_name':'gen_img', 'time':'00:15:00', 'procs':8,\n",
    "          'seed':282,'batchsize':200}\n",
    "\n",
    "# data_dir=results_loc+''\n",
    "# data_dir='/global/cscratch1/sd/vpa/proj/cosmogan/results_dir/512square/20200901_200005_bsize50_30eph/chkpt/trainer0/sgd.shared.training.epoch.30.step.13500/model0/'\n",
    "# data_dir='/global/cscratch1/sd/vpa/proj/cosmogan/results_dir/128square/20200812_072615_bsize256_8gpurun/chkpt/trainer0/sgd.shared.training.epoch.20.step.17580/model0/'\n",
    "fldr,epoch,step='20200905_080143_bsize25_test',34,30600\n",
    "data_dir='/global/cscratch1/sd/vpa/proj/cosmogan/results_dir/512square/{0}/chkpt/trainer0/sgd.shared.training.epoch.{1}.step.{2}/model0/'.format(fldr,epoch,step)\n",
    "\n",
    "dict_pars['data_dir']=data_dir\n",
    "dict_pars['code_dir']=code_dirs[str(img_size)]\n",
    "\n",
    "\n",
    "print(dict_pars)\n"
   ]
  },
  {
   "cell_type": "code",
   "execution_count": 42,
   "metadata": {},
   "outputs": [],
   "source": [
    "assert os.path.isdir(dict_pars['data_dir'])"
   ]
  },
  {
   "cell_type": "code",
   "execution_count": 43,
   "metadata": {},
   "outputs": [],
   "source": [
    "bash_strg='''#!/bin/bash\n",
    "#################\n",
    "#SBATCH --nodes=1\n",
    "#SBATCH --qos=regular\n",
    "#SBATCH --output=slurm-%x-%j.out\n",
    "#SBATCH --constraint=gpu\n",
    "#SBATCH --account=m3363\n",
    "#SBATCH --ntasks-per-node=8\n",
    "#SBATCH --cpus-per-task=8\n",
    "#SBATCH --gpus-per-task=1\n",
    "#SBATCH --time={time}\n",
    "#SBATCH --job-name={job_name}\n",
    "\n",
    "### Initial setup\n",
    "module purge\n",
    "module load modules/3.2.11.4 gcc/8.3.0 cuda/10.2.89 mvapich2/2.3.2 cmake/3.14.4 python3/3.7-anaconda-2019.10                                                                                                       \n",
    "\n",
    "module load esslurm\n",
    "#module load python3/3.7-anaconda-2019.10\n",
    "##module use /global/cfs/cdirs/m3363/lbann/tom_lbann_install/etc/modulefiles\n",
    "##module load gcc/8.2.0\n",
    "##module load lbann\n",
    "\n",
    "###unset MKL_THREADING_LAYER\n",
    "export MKL_THREADING_LAYER=GNU\n",
    "\n",
    "#export SPACK_ROOT=/global/cfs/cdirs/m3363/lbann/spack.git\n",
    "#export SPACK_ROOT=/global/cfs/cdirs/m3363/lbann/tom_spack\n",
    "#$SPACK_ROOT/share/spack/setup-env.sh\n",
    "\n",
    "### Brian's installation\n",
    "export SPACK_ROOT=/global/cfs/cdirs/m3363/lbann/spack.git; . $SPACK_ROOT/share/spack/setup-env.sh\n",
    "spack env activate -p lbann-dev-skylake_avx512\n",
    "\n",
    "module use /global/cfs/cdirs/m3363/lbann/lbann.git/build/gnu.Release.cgpu.nersc.gov/install/etc/modulefiles/                                                                                                       \n",
    "module load lbann\n",
    "\n",
    "export MV2_ENABLE_AFFINITY=0\n",
    "export MV2_USE_CUDA=1\n",
    "export IBV_FORK_SAFE=1\n",
    "\n",
    "### Run the main code\n",
    "code_dir={code_dir}\n",
    "data_dir={data_dir}                                                 \n",
    "\n",
    "python $code_dir/test_exagan.py --seed {seed} --nodes 1 --procs {procs} --epochs 1 -dr $data_dir -b {batchsize}\n",
    "echo \"--end date\" `date` `date +%s`\n",
    "'''.format(**dict_pars)"
   ]
  },
  {
   "cell_type": "code",
   "execution_count": 44,
   "metadata": {},
   "outputs": [],
   "source": [
    "# bash_strg"
   ]
  },
  {
   "cell_type": "code",
   "execution_count": 45,
   "metadata": {},
   "outputs": [
    {
     "name": "stdout",
     "output_type": "stream",
     "text": [
      "/global/cfs/cdirs/m3363/vayyar/cosmogan_data/results_data/batch_gen_images.sh\n"
     ]
    }
   ],
   "source": [
    "### Write bash file\n",
    "staging_loc='/global/cfs/cdirs/m3363/vayyar/cosmogan_data/results_data/'\n",
    "fname='batch_gen_images.sh'\n",
    "filename=staging_loc+fname\n",
    "print(filename)\n",
    "with open (filename,'w') as f:\n",
    "    f.write(bash_strg)"
   ]
  },
  {
   "cell_type": "code",
   "execution_count": 46,
   "metadata": {},
   "outputs": [
    {
     "name": "stdout",
     "output_type": "stream",
     "text": [
      "#!/bin/bash\n",
      "#################\n",
      "#SBATCH --nodes=1\n",
      "#SBATCH --qos=regular\n",
      "#SBATCH --output=slurm-%x-%j.out\n",
      "#SBATCH --constraint=gpu\n",
      "#SBATCH --account=m3363\n",
      "#SBATCH --ntasks-per-node=8\n",
      "#SBATCH --cpus-per-task=8\n",
      "#SBATCH --gpus-per-task=1\n",
      "#SBATCH --time=00:15:00\n",
      "#SBATCH --job-name=gen_img\n",
      "\n",
      "### Initial setup\n",
      "module purge\n",
      "module load modules/3.2.11.4 gcc/8.3.0 cuda/10.2.89 mvapich2/2.3.2 cmake/3.14.4 python3/3.7-anaconda-2019.10                                                                                                       \n",
      "\n",
      "module load esslurm\n",
      "#module load python3/3.7-anaconda-2019.10\n",
      "##module use /global/cfs/cdirs/m3363/lbann/tom_lbann_install/etc/modulefiles\n",
      "##module load gcc/8.2.0\n",
      "##module load lbann\n",
      "\n",
      "###unset MKL_THREADING_LAYER\n",
      "export MKL_THREADING_LAYER=GNU\n",
      "\n",
      "#export SPACK_ROOT=/global/cfs/cdirs/m3363/lbann/spack.git\n",
      "#export SPACK_ROOT=/global/cfs/cdirs/m3363/lbann/tom_spack\n",
      "#$SPACK_ROOT/share/spack/setup-env.sh\n",
      "\n",
      "### Brian's installation\n",
      "export SPACK_ROOT=/global/cfs/cdirs/m3363/lbann/spack.git; . $SPACK_ROOT/share/spack/setup-env.sh\n",
      "spack env activate -p lbann-dev-skylake_avx512\n",
      "\n",
      "module use /global/cfs/cdirs/m3363/lbann/lbann.git/build/gnu.Release.cgpu.nersc.gov/install/etc/modulefiles/                                                                                                       \n",
      "module load lbann\n",
      "\n",
      "export MV2_ENABLE_AFFINITY=0\n",
      "export MV2_USE_CUDA=1\n",
      "export IBV_FORK_SAFE=1\n",
      "\n",
      "### Run the main code\n",
      "code_dir=/global/u1/v/vpa/project/jpt_notebooks/Cosmology/Cosmo_GAN/repositories/lbann_cosmogan/1_train/512_sqr/\n",
      "data_dir=/global/cscratch1/sd/vpa/proj/cosmogan/results_dir/512square/20200905_080143_bsize25_test/chkpt/trainer0/sgd.shared.training.epoch.34.step.30600/model0/                                                 \n",
      "\n",
      "python $code_dir/test_exagan.py --seed 282 --nodes 1 --procs 8 --epochs 1 -dr $data_dir -b 200\n",
      "echo \"--end date\" `date` `date +%s`\n"
     ]
    }
   ],
   "source": [
    "%%bash -s \"$filename\" ## Use python variable in bash\n",
    "cat $1\n",
    "chmod +x $1"
   ]
  },
  {
   "cell_type": "code",
   "execution_count": 47,
   "metadata": {},
   "outputs": [],
   "source": [
    "### Move to staging locations in project space:\n",
    "os.chdir(staging_loc)"
   ]
  },
  {
   "cell_type": "markdown",
   "metadata": {},
   "source": [
    "### Submit jobs to cori queue"
   ]
  },
  {
   "cell_type": "code",
   "execution_count": 48,
   "metadata": {},
   "outputs": [
    {
     "name": "stdout",
     "output_type": "stream",
     "text": [
      "Submitted batch job 1010789\n"
     ]
    }
   ],
   "source": [
    "%%bash -s \"$filename\" ## Use python variable in bash\n",
    "module load esslurm\n",
    "sbatch $1"
   ]
  },
  {
   "cell_type": "code",
   "execution_count": null,
   "metadata": {},
   "outputs": [],
   "source": []
  }
 ],
 "metadata": {
  "kernelspec": {
   "display_name": "v_py3",
   "language": "python",
   "name": "v_jpt_py3"
  },
  "language_info": {
   "codemirror_mode": {
    "name": "ipython",
    "version": 3
   },
   "file_extension": ".py",
   "mimetype": "text/x-python",
   "name": "python",
   "nbconvert_exporter": "python",
   "pygments_lexer": "ipython3",
   "version": "3.6.8"
  }
 },
 "nbformat": 4,
 "nbformat_minor": 4
}
