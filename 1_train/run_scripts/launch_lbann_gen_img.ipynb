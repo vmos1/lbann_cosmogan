{
 "cells": [
  {
   "cell_type": "markdown",
   "metadata": {},
   "source": [
    "# Launch LBANN traing jobs\n",
    "Code to create a batch script for launching jobs on cori GPU\n",
    "\n",
    "Sep 1, 2020"
   ]
  },
  {
   "cell_type": "code",
   "execution_count": 1,
   "metadata": {},
   "outputs": [],
   "source": [
    "import os\n",
    "import glob,time\n",
    "import subprocess as sp\n",
    "import numpy as np\n",
    "\n",
    "import yaml\n"
   ]
  },
  {
   "cell_type": "code",
   "execution_count": 2,
   "metadata": {},
   "outputs": [
    {
     "name": "stdout",
     "output_type": "stream",
     "text": [
      "/global/u1/v/vpa/project/jpt_notebooks/Cosmology/Cosmo_GAN/repositories/lbann_cosmogan/1_train/run_scripts\n"
     ]
    }
   ],
   "source": [
    "curr_dir=os.getcwd()\n",
    "print(curr_dir)"
   ]
  },
  {
   "cell_type": "markdown",
   "metadata": {},
   "source": [
    "## Define machine and code "
   ]
  },
  {
   "cell_type": "code",
   "execution_count": 3,
   "metadata": {},
   "outputs": [],
   "source": [
    "machine='cori'\n",
    "img_size=128\n",
    "assert machine in ['cori','summit'], \"Error%s\"%(machine)"
   ]
  },
  {
   "cell_type": "markdown",
   "metadata": {},
   "source": [
    "## Read ref_launch.yaml and define dictionary"
   ]
  },
  {
   "cell_type": "code",
   "execution_count": 4,
   "metadata": {},
   "outputs": [],
   "source": [
    "config_file='ref_launch.yaml'\n",
    "\n",
    "with open(config_file) as f:\n",
    "    config_dict= yaml.load(f, Loader=yaml.SafeLoader)\n",
    "    \n",
    "## Read ref_launch.yaml\n",
    "dict_pars=config_dict[machine][img_size]"
   ]
  },
  {
   "cell_type": "code",
   "execution_count": 5,
   "metadata": {},
   "outputs": [
    {
     "name": "stdout",
     "output_type": "stream",
     "text": [
      "20200911_083711_bsize64_spec_test_128_nospec\n",
      "20200911_084729_bsize64_spec_test_128_withspec\n",
      "20200914_220904_bsize64_spec_test_128_withspec\n",
      "20201202_200004_bsize256_scale0.5\n",
      "20201203_084645_bsize256_scale0.1\n",
      "20201208_165658_bsize256_scale0.1_deterministic_on\n",
      "20201209_055955_bsize256_scale0.1_deterministic_on\n",
      "20210202_061803_bsize256_scale0.1_deterministic_off\n",
      "20210226_175209_bsize256_scale0.1_deterministic_off\n",
      "20210407_110817_bsize128_train\n",
      "20210407_131151_bsize128_train_layer_norm_100kdata\n",
      "20210408_100355_bsize128_layer-norm_200kdata\n",
      "20210409_083631_bsize128_with_bnorm_200kdata\n",
      "20210422_132856_bsize128_bnorm_new_decay\n",
      "20210507_084712_bsize128_bnorm_new_decay\n",
      "norm_1_train_val.npy\n",
      "scaling_runs\n",
      "test\n"
     ]
    }
   ],
   "source": [
    "! ls /global/cscratch1/sd/vpa/proj/cosmogan/results_dir/128square/\n"
   ]
  },
  {
   "cell_type": "code",
   "execution_count": 7,
   "metadata": {},
   "outputs": [],
   "source": [
    "# 13,18850\n",
    "# 17,24250\n",
    "# 18,25800\n",
    "lst=[(9, 13050), (10, 15450), (11, 15800), (11, 16350), (11, 16500), \n",
    " (12, 18200), (16, 22950), (16, 23200), (17, 24150), (19, 27650)]"
   ]
  },
  {
   "cell_type": "code",
   "execution_count": 11,
   "metadata": {},
   "outputs": [
    {
     "data": {
      "text/plain": [
       "(9, 13050)"
      ]
     },
     "execution_count": 11,
     "metadata": {},
     "output_type": "execute_result"
    }
   ],
   "source": [
    "epoch,step=lst[0]\n",
    "epoch,step"
   ]
  },
  {
   "cell_type": "code",
   "execution_count": 48,
   "metadata": {},
   "outputs": [],
   "source": [
    "epoch,step=lst[8]"
   ]
  },
  {
   "cell_type": "code",
   "execution_count": 49,
   "metadata": {},
   "outputs": [
    {
     "name": "stdout",
     "output_type": "stream",
     "text": [
      "{'install_loc': '/global/cfs/cdirs/m3363/lbann/tom_lbann_install_20210223', 'spack_loc': '/global/cfs/cdirs/m3363/lbann/tom_spack', 'code_dir': '/global/u1/v/vpa/project/jpt_notebooks/Cosmology/Cosmo_GAN/repositories/lbann_cosmogan/1_train/main_code/', 'config': 'config_cori_128.yaml', 'staging_loc': '/global/cfs/cdirs/m3363/vayyar/cosmogan_data/results_data/', 'nodes': 1, 'time': '10', 'job_name': 'gen_img', 'data_dir': '/global/cscratch1/sd/vpa/proj/cosmogan/results_dir/128square/20210507_084712_bsize128_bnorm_new_decay/chkpt/trainer0/sgd.shared.training_batch_begin.epoch.17.step.24150/model0/'}\n"
     ]
    }
   ],
   "source": [
    "fldr='20210507_084712_bsize128_bnorm_new_decay'\n",
    "data_dir='/global/cscratch1/sd/vpa/proj/cosmogan/results_dir/{3}square/{0}/chkpt/trainer0/sgd.shared.training_batch_begin.epoch.{1}.step.{2}/model0/'.format(fldr,epoch,step,img_size)\n",
    "\n",
    "dict_pars.update({'nodes':1,'time':'10','job_name':'gen_img',\n",
    "                 'data_dir':data_dir})\n",
    "print(dict_pars)"
   ]
  },
  {
   "cell_type": "code",
   "execution_count": 50,
   "metadata": {},
   "outputs": [],
   "source": [
    "cori_strg='''#!/bin/bash\n",
    "#################\n",
    "#SBATCH --nodes={nodes}\n",
    "#SBATCH --qos=regular\n",
    "#SBATCH --output=slurm-%x-%j.out\n",
    "#SBATCH --constraint=gpu\n",
    "#SBATCH --account=m3363\n",
    "#SBATCH --ntasks-per-node=8 \n",
    "#SBATCH --cpus-per-task=8 \n",
    "#SBATCH --gpus-per-task=1\n",
    "#SBATCH --time={time}\n",
    "#SBATCH --job-name={job_name}\n",
    "\n",
    "echo \"--start date\" `date` `date +%s`\n",
    "echo '--hostname ' $HOSTNAME\n",
    "\n",
    "### Initial setup\n",
    "module purge\n",
    "module load cgpu\n",
    "module load modules/3.2.11.4 gcc/8.3.0 cuda/10.2.89 mvapich2/2.3.2 cmake/3.14.4 python/3.7-anaconda-2019.10\n",
    "\n",
    "module use {install_loc}/etc/modulefiles\n",
    "module load lbann\n",
    "\n",
    "export MKL_THREADING_LAYER=GNU\n",
    "\n",
    "export SPACK_ROOT={spack_loc}\n",
    "$SPACK_ROOT/share/spack/setup-env.sh\n",
    "export MV2_ENABLE_AFFINITY=0\n",
    "export MV2_USE_CUDA=1\n",
    "export IBV_FORK_SAFE=1\n",
    "\n",
    "### Run the main code\n",
    "code_dir={code_dir}\n",
    "data_dir={data_dir}\n",
    "export config_file=$code_dir'/{config}'\n",
    "python $code_dir/test_exagan.py -dr $data_dir\n",
    "\n",
    "echo \"--end date\" `date` `date +%s`\n",
    "'''\n"
   ]
  },
  {
   "cell_type": "code",
   "execution_count": 51,
   "metadata": {},
   "outputs": [],
   "source": [
    "# Build bash string\n",
    "if machine=='cori':\n",
    "    bash_strg=cori_strg.format(**dict_pars)\n",
    "elif machine=='summit':\n",
    "    bash_strg=summit_strg.format(**dict_pars)\n"
   ]
  },
  {
   "cell_type": "code",
   "execution_count": 52,
   "metadata": {},
   "outputs": [
    {
     "name": "stdout",
     "output_type": "stream",
     "text": [
      "/global/cfs/cdirs/m3363/vayyar/cosmogan_data/results_data/batch_inference.sh\n"
     ]
    }
   ],
   "source": [
    "fname='batch_inference.sh'\n",
    "filename=dict_pars['staging_loc']+fname\n",
    "with open (filename,'w') as f:\n",
    "    f.write(bash_strg)\n",
    "print(filename)"
   ]
  },
  {
   "cell_type": "code",
   "execution_count": 53,
   "metadata": {},
   "outputs": [],
   "source": [
    "### Move to staging locations in project space:\n",
    "os.chdir(dict_pars['staging_loc'])"
   ]
  },
  {
   "cell_type": "code",
   "execution_count": 54,
   "metadata": {},
   "outputs": [
    {
     "name": "stdout",
     "output_type": "stream",
     "text": [
      "#!/bin/bash\n",
      "#################\n",
      "#SBATCH --nodes=1\n",
      "#SBATCH --qos=regular\n",
      "#SBATCH --output=slurm-%x-%j.out\n",
      "#SBATCH --constraint=gpu\n",
      "#SBATCH --account=m3363\n",
      "#SBATCH --ntasks-per-node=8 \n",
      "#SBATCH --cpus-per-task=8 \n",
      "#SBATCH --gpus-per-task=1\n",
      "#SBATCH --time=10\n",
      "#SBATCH --job-name=gen_img\n",
      "\n",
      "echo \"--start date\" `date` `date +%s`\n",
      "echo '--hostname ' $HOSTNAME\n",
      "\n",
      "### Initial setup\n",
      "module purge\n",
      "module load cgpu\n",
      "module load modules/3.2.11.4 gcc/8.3.0 cuda/10.2.89 mvapich2/2.3.2 cmake/3.14.4 python/3.7-anaconda-2019.10\n",
      "\n",
      "module use /global/cfs/cdirs/m3363/lbann/tom_lbann_install_20210223/etc/modulefiles\n",
      "module load lbann\n",
      "\n",
      "export MKL_THREADING_LAYER=GNU\n",
      "\n",
      "export SPACK_ROOT=/global/cfs/cdirs/m3363/lbann/tom_spack\n",
      "$SPACK_ROOT/share/spack/setup-env.sh\n",
      "export MV2_ENABLE_AFFINITY=0\n",
      "export MV2_USE_CUDA=1\n",
      "export IBV_FORK_SAFE=1\n",
      "\n",
      "### Run the main code\n",
      "code_dir=/global/u1/v/vpa/project/jpt_notebooks/Cosmology/Cosmo_GAN/repositories/lbann_cosmogan/1_train/main_code/\n",
      "data_dir=/global/cscratch1/sd/vpa/proj/cosmogan/results_dir/128square/20210507_084712_bsize128_bnorm_new_decay/chkpt/trainer0/sgd.shared.training_batch_begin.epoch.17.step.24150/model0/\n",
      "export config_file=$code_dir'/config_cori_128.yaml'\n",
      "python $code_dir/test_exagan.py -dr $data_dir\n",
      "\n",
      "echo \"--end date\" `date` `date +%s`\n"
     ]
    }
   ],
   "source": [
    "%%bash -s \"$filename\" ## Use python variable in bash\n",
    "cat $1\n",
    "chmod +x $1"
   ]
  },
  {
   "cell_type": "markdown",
   "metadata": {},
   "source": [
    "## Submit job to cori GPU"
   ]
  },
  {
   "cell_type": "code",
   "execution_count": 55,
   "metadata": {},
   "outputs": [
    {
     "name": "stdout",
     "output_type": "stream",
     "text": [
      "Submitted batch job 1894190\n"
     ]
    }
   ],
   "source": [
    "%%bash -s \"$filename\" ## Use python variable in bash\n",
    "module load cgpu\n",
    "sbatch $1"
   ]
  },
  {
   "cell_type": "code",
   "execution_count": 56,
   "metadata": {},
   "outputs": [
    {
     "name": "stdout",
     "output_type": "stream",
     "text": [
      "\u001b[0m\u001b[01;34m20200529_111342_seed3273_80epochs\u001b[0m/  slurm-analysis-41827872.out\n",
      "\u001b[01;34m20200626_075510_batchsize_256\u001b[0m/      slurm-analysis-42443214.out\n",
      "\u001b[01;32mbatch_analysis.sh\u001b[0m*                  slurm-train-1793075.out\n",
      "\u001b[01;32mbatch_inference.sh\u001b[0m*                 slurm-train-1798852.out\n",
      "\u001b[01;32mbatch_inference_test.sh\u001b[0m*            slurm-train-1835698.out\n",
      "\u001b[01;32mbatch_train.sh\u001b[0m*                     slurm-train-1893231.out\n",
      "\u001b[01;32mbatch_train_test.sh\u001b[0m*                \u001b[01;32mstartup.sh\u001b[0m*\n",
      "\u001b[01;34mold_run_files\u001b[0m/                      \u001b[01;32mtom_batch.sh\u001b[0m*\n"
     ]
    }
   ],
   "source": [
    "ls"
   ]
  },
  {
   "cell_type": "code",
   "execution_count": null,
   "metadata": {},
   "outputs": [],
   "source": []
  }
 ],
 "metadata": {
  "kernelspec": {
   "display_name": "v3",
   "language": "python",
   "name": "v-jpt-3"
  },
  "language_info": {
   "codemirror_mode": {
    "name": "ipython",
    "version": 3
   },
   "file_extension": ".py",
   "mimetype": "text/x-python",
   "name": "python",
   "nbconvert_exporter": "python",
   "pygments_lexer": "ipython3",
   "version": "3.8.6"
  }
 },
 "nbformat": 4,
 "nbformat_minor": 4
}
