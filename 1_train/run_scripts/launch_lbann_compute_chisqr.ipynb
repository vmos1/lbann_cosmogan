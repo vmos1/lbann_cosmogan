{
 "cells": [
  {
   "cell_type": "markdown",
   "metadata": {},
   "source": [
    "# Launch post-run analysis jobs\n",
    "Code to create a batch script for launching jobs on cori\n",
    "Sep 1, 2020"
   ]
  },
  {
   "cell_type": "code",
   "execution_count": 1,
   "metadata": {},
   "outputs": [],
   "source": [
    "import os\n",
    "import glob\n",
    "import time\n",
    "import subprocess as sp\n",
    "import numpy as np"
   ]
  },
  {
   "cell_type": "code",
   "execution_count": 2,
   "metadata": {},
   "outputs": [
    {
     "name": "stdout",
     "output_type": "stream",
     "text": [
      "/global/u1/v/vpa/project/jpt_notebooks/Cosmology/Cosmo_GAN/repositories/lbann_cosmogan/1_train/run_scripts\n"
     ]
    }
   ],
   "source": [
    "curr_dir=os.getcwd()\n",
    "print(curr_dir)"
   ]
  },
  {
   "cell_type": "code",
   "execution_count": 3,
   "metadata": {},
   "outputs": [],
   "source": [
    "val_files={'128':'/global/cfs/cdirs/m3363/vayyar/cosmogan_data/raw_data/128_square/dataset_2_smoothing_200k/norm_1_train_val.npy',\n",
    "          '512':'/global/cfs/cdirs/m3363/vayyar/cosmogan_data/raw_data/512_square/dataset1_smoothing_single_universe/norm_1_train_val.npy'\n",
    "}"
   ]
  },
  {
   "cell_type": "code",
   "execution_count": 4,
   "metadata": {},
   "outputs": [
    {
     "name": "stdout",
     "output_type": "stream",
     "text": [
      "/global/cscratch1/sd/vpa/proj/cosmogan/results_dir/128square/\n"
     ]
    }
   ],
   "source": [
    "img_size=128\n",
    "results_loc='/global/cscratch1/sd/vpa/proj/cosmogan/results_dir/{0}square/'.format(img_size)\n",
    "print(results_loc)"
   ]
  },
  {
   "cell_type": "code",
   "execution_count": 5,
   "metadata": {},
   "outputs": [
    {
     "name": "stdout",
     "output_type": "stream",
     "text": [
      "\u001b[0m\u001b[01;34m20200812_072615_bsize256_8gpurun\u001b[0m/\n",
      "\u001b[01;34m20200812_072639_bsize256_1gpurun\u001b[0m/\n",
      "\u001b[01;34m20200812_122131_bsize64_1gpurun\u001b[0m/\n",
      "\u001b[01;34m20200812_122250_bsize64_8gpurun\u001b[0m/\n",
      "\u001b[01;34m20200831_154646_bsize100_128test\u001b[0m/\n",
      "\u001b[01;34m20200911_083711_bsize64_spec_test_128_nospec\u001b[0m/\n",
      "\u001b[01;34m20200911_084729_bsize64_spec_test_128_withspec\u001b[0m/\n",
      "\u001b[01;34m20200914_220904_bsize64_spec_test_128_withspec\u001b[0m/\n",
      "\u001b[01;34m20201028_095913_bsize64_with_spec\u001b[0m/\n",
      "\u001b[01;34m20201029_164804_bsize64_with_spec\u001b[0m/\n",
      "\u001b[01;34m20201030_072640_bsize64_no_adv\u001b[0m/\n",
      "\u001b[01;34m20201109_075645_bsize256_test_256_with_spec_nomcr\u001b[0m/\n",
      "\u001b[01;34m20201109_140046_bsize256_test_b256_with_spec_nomcr_checkpt\u001b[0m/\n",
      "\u001b[01;34m20201109_170341_bsize256_test_b256_lr_0.002\u001b[0m/\n",
      "\u001b[01;34m20201109_171424_bsize256_test_b256_lr_0.0008\u001b[0m/\n",
      "\u001b[01;34m20201110_094334_bsize256_test_b256_lr_0.002_run2\u001b[0m/\n",
      "\u001b[01;34m20201112_073412_bsize256_test_with_invtransform\u001b[0m/\n",
      "\u001b[01;34m20201112_143907_bsize256_test_with_invtransform-scale4.0\u001b[0m/\n",
      "\u001b[01;34m20201117_075959_bsize256_test_with_invtransform-scale1.0\u001b[0m/\n",
      "\u001b[01;34m20201117_083239_bsize256_test_with_invtransform-scale0.5\u001b[0m/\n",
      "\u001b[01;34m20201130_084039_bsize256_test_with_invtransform-scale0.5\u001b[0m/\n",
      "\u001b[01;34m20201202_200004_bsize256_scale0.5\u001b[0m/\n",
      "\u001b[01;34m20201203_084645_bsize256_scale0.1\u001b[0m/\n",
      "\u001b[01;34m20201208_165658_bsize256_scale0.1_deterministic_on\u001b[0m/\n",
      "\u001b[01;34m20201209_055955_bsize256_scale0.1_deterministic_on\u001b[0m/\n",
      "\u001b[01;34m20201211_195946_bsize256_scale0.1_deterministic_on\u001b[0m/\n",
      "\u001b[01;34m20201211_201621_bsize256_scale0.1_deterministic_on\u001b[0m/\n",
      "\u001b[01;34mscaling_runs\u001b[0m/\n",
      "\u001b[01;34mtest_runs\u001b[0m/\n"
     ]
    }
   ],
   "source": [
    "ls /global/cscratch1/sd/vpa/proj/cosmogan/results_dir/128square/"
   ]
  },
  {
   "cell_type": "code",
   "execution_count": 16,
   "metadata": {},
   "outputs": [],
   "source": [
    "ip_folder='20201211_201621_bsize256_scale0.1_deterministic_on'\n"
   ]
  },
  {
   "cell_type": "code",
   "execution_count": 17,
   "metadata": {},
   "outputs": [
    {
     "name": "stdout",
     "output_type": "stream",
     "text": [
      "{'job_name': 'analysis', 'queue': 'debug', 'bins_type': 'even', 'time': '00:30:00', 'val_file': '/global/cfs/cdirs/m3363/vayyar/cosmogan_data/raw_data/128_square/dataset_2_smoothing_200k/norm_1_train_val.npy', 'ip_folder': '/global/cscratch1/sd/vpa/proj/cosmogan/results_dir/128square/20201211_201621_bsize256_scale0.1_deterministic_on'}\n"
     ]
    }
   ],
   "source": [
    "### Default dictionary\n",
    "dict_pars={'job_name':'analysis', 'queue':'debug',\n",
    "           'bins_type':'even',# even on uneven\n",
    "           'time':'00:30:00'}\n",
    "\n",
    "dict_pars['val_file']=val_files[str(img_size)]\n",
    "dict_pars['ip_folder']=results_loc+ip_folder\n",
    "\n",
    "print(dict_pars)"
   ]
  },
  {
   "cell_type": "code",
   "execution_count": 18,
   "metadata": {},
   "outputs": [],
   "source": [
    "assert os.path.isdir(dict_pars['ip_folder'])"
   ]
  },
  {
   "cell_type": "code",
   "execution_count": 19,
   "metadata": {},
   "outputs": [],
   "source": [
    "bash_strg='''#!/bin/bash\n",
    "#################\n",
    "#SBATCH --nodes=1\n",
    "#SBATCH --qos={queue}\n",
    "#SBATCH --output=slurm-%x-%j.out\n",
    "#SBATCH --account=m3363\n",
    "#SBATCH -C haswell\n",
    "#SBATCH --time={time}\n",
    "#SBATCH --job-name={job_name}\n",
    "\n",
    "echo \"--start date\" `date` `date +%s`\n",
    "echo '--hostname ' $HOSTNAME\n",
    "\n",
    "conda activate v3\n",
    "code_dir='/global/u1/v/vpa/project/jpt_notebooks/Cosmology/Cosmo_GAN/repositories/lbann_cosmogan/3_analysis/'\n",
    "\n",
    "python $code_dir/3a_analysis_pandas.py -f {ip_folder}  -v {val_file} --bins_type {bins_type}\n",
    "conda deactivate\n",
    "echo \"--end date\" `date` `date +%s`\n",
    "'''.format(**dict_pars)"
   ]
  },
  {
   "cell_type": "code",
   "execution_count": 20,
   "metadata": {},
   "outputs": [],
   "source": [
    "# bash_strg"
   ]
  },
  {
   "cell_type": "code",
   "execution_count": 21,
   "metadata": {},
   "outputs": [
    {
     "name": "stdout",
     "output_type": "stream",
     "text": [
      "/global/cfs/cdirs/m3363/vayyar/cosmogan_data/results_data/batch_analysis.sh\n"
     ]
    }
   ],
   "source": [
    "### Write bash file\n",
    "staging_loc='/global/cfs/cdirs/m3363/vayyar/cosmogan_data/results_data/'\n",
    "fname='batch_analysis.sh'\n",
    "filename=staging_loc+fname\n",
    "print(filename)\n",
    "with open (filename,'w') as f:\n",
    "    f.write(bash_strg)"
   ]
  },
  {
   "cell_type": "code",
   "execution_count": 22,
   "metadata": {},
   "outputs": [],
   "source": [
    "### Move to staging locations in project space:\n",
    "os.chdir(staging_loc)"
   ]
  },
  {
   "cell_type": "code",
   "execution_count": 23,
   "metadata": {},
   "outputs": [
    {
     "name": "stdout",
     "output_type": "stream",
     "text": [
      "#!/bin/bash\n",
      "#################\n",
      "#SBATCH --nodes=1\n",
      "#SBATCH --qos=debug\n",
      "#SBATCH --output=slurm-%x-%j.out\n",
      "#SBATCH --account=m3363\n",
      "#SBATCH -C haswell\n",
      "#SBATCH --time=00:30:00\n",
      "#SBATCH --job-name=analysis\n",
      "\n",
      "echo \"--start date\" `date` `date +%s`\n",
      "echo '--hostname ' $HOSTNAME\n",
      "\n",
      "conda activate v3\n",
      "code_dir='/global/u1/v/vpa/project/jpt_notebooks/Cosmology/Cosmo_GAN/repositories/lbann_cosmogan/3_analysis/'\n",
      "\n",
      "python $code_dir/3a_analysis_pandas.py -f /global/cscratch1/sd/vpa/proj/cosmogan/results_dir/128square/20201211_201621_bsize256_scale0.1_deterministic_on  -v /global/cfs/cdirs/m3363/vayyar/cosmogan_data/raw_data/128_square/dataset_2_smoothing_200k/norm_1_train_val.npy --bins_type even\n",
      "conda deactivate\n",
      "echo \"--end date\" `date` `date +%s`\n"
     ]
    }
   ],
   "source": [
    "%%bash -s \"$filename\" ## Use python variable in bash\n",
    "cat $1\n",
    "chmod +x $1"
   ]
  },
  {
   "cell_type": "markdown",
   "metadata": {},
   "source": [
    "### Submit jobs to cori queue"
   ]
  },
  {
   "cell_type": "code",
   "execution_count": 24,
   "metadata": {},
   "outputs": [
    {
     "name": "stdout",
     "output_type": "stream",
     "text": [
      "Submitted batch job 37236997\n"
     ]
    }
   ],
   "source": [
    "%%bash -s \"$filename\" ## Use python variable in bash\n",
    "sbatch $1"
   ]
  },
  {
   "cell_type": "code",
   "execution_count": null,
   "metadata": {},
   "outputs": [],
   "source": []
  }
 ],
 "metadata": {
  "kernelspec": {
   "display_name": "v3",
   "language": "python",
   "name": "v-jpt-3"
  },
  "language_info": {
   "codemirror_mode": {
    "name": "ipython",
    "version": 3
   },
   "file_extension": ".py",
   "mimetype": "text/x-python",
   "name": "python",
   "nbconvert_exporter": "python",
   "pygments_lexer": "ipython3",
   "version": "3.8.6"
  }
 },
 "nbformat": 4,
 "nbformat_minor": 4
}
