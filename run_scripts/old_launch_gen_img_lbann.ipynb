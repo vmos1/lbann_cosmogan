{
 "cells": [
  {
   "cell_type": "markdown",
   "metadata": {},
   "source": [
    "# Launch jobs\n",
    "Code to create a batch script for launching jobs on cori \\\n",
    "Sep 1, 2020"
   ]
  },
  {
   "cell_type": "code",
   "execution_count": 1,
   "metadata": {},
   "outputs": [],
   "source": [
    "import os\n",
    "import glob\n",
    "import time\n",
    "import subprocess as sp\n",
    "import numpy as np"
   ]
  },
  {
   "cell_type": "code",
   "execution_count": 2,
   "metadata": {},
   "outputs": [
    {
     "name": "stdout",
     "output_type": "stream",
     "text": [
      "/global/u1/v/vpa/project/jpt_notebooks/Cosmology/Cosmo_GAN/repositories/lbann_cosmogan/1_train/run_scripts\n"
     ]
    }
   ],
   "source": [
    "curr_dir=os.getcwd()\n",
    "print(curr_dir)"
   ]
  },
  {
   "cell_type": "code",
   "execution_count": 3,
   "metadata": {},
   "outputs": [],
   "source": [
    "img_size=128\n",
    "code_dirs={'128':'/global/u1/v/vpa/project/jpt_notebooks/Cosmology/Cosmo_GAN/repositories/lbann_cosmogan/1_train/main_code/',\n",
    "         '512':'/global/u1/v/vpa/project/jpt_notebooks/Cosmology/Cosmo_GAN/repositories/lbann_cosmogan/1_train/512_sqr/'}\n",
    "\n",
    "results_loc='/global/cscratch1/sd/vpa/proj/cosmogan/results_dir/{0}square/'.format(img_size)"
   ]
  },
  {
   "cell_type": "code",
   "execution_count": 4,
   "metadata": {},
   "outputs": [],
   "source": [
    "# ls /global/cscratch1/sd/vpa/proj/cosmogan/results_dir/512square/20200901_200005_bsize50_30eph/chkpt/trainer0/sgd.shared.training.epoch.30.step.13500/model0/"
   ]
  },
  {
   "cell_type": "code",
   "execution_count": 5,
   "metadata": {},
   "outputs": [],
   "source": [
    "# glob.glob(results_loc+'*')"
   ]
  },
  {
   "cell_type": "code",
   "execution_count": 6,
   "metadata": {},
   "outputs": [],
   "source": [
    "# [(8, 7200), (10, 9570), (12, 10950), (13, 12240), (15, 13390), (15, 13540)]\n",
    "# (11,10290), (12,10680), (13,11980), (14,12460) (19,17570)"
   ]
  },
  {
   "cell_type": "code",
   "execution_count": 7,
   "metadata": {},
   "outputs": [
    {
     "name": "stdout",
     "output_type": "stream",
     "text": [
      "{'epochs': 2, 'seed': 282, 'nodes': 1, 'procs': 8, 'job_name': 'gen_img', 'spec_loss': '--spec_loss', 'mcr': '', 'lambda_spec': 0.5, 'learn_rate': 0.002, 'time': '00:15:00', 'batchsize': 550, 'step_interval': 1, 'data_dir': '/global/cscratch1/sd/vpa/proj/cosmogan/results_dir/128square/20210226_175209_bsize256_scale0.1_deterministic_off/chkpt/trainer0/sgd.shared.training_batch_begin.epoch.14.step.12460/model0/', 'code_dir': '/global/u1/v/vpa/project/jpt_notebooks/Cosmology/Cosmo_GAN/repositories/lbann_cosmogan/1_train/main_code/'}\n"
     ]
    }
   ],
   "source": [
    "### Default dictionary\n",
    "dict_pars={'epochs':2, 'seed':282, 'nodes':1, 'procs':8,'job_name':'gen_img',\n",
    "#            'spec_loss':'',\n",
    "           'spec_loss':'--spec_loss','mcr':'',\n",
    "           'lambda_spec':0.5,'learn_rate':0.002,\n",
    "          'time':'00:15:00', 'batchsize':550, 'step_interval':1}\n",
    "\n",
    "fldr,epoch,step='20210226_175209_bsize256_scale0.1_deterministic_off',14,12460\n",
    "data_dir='/global/cscratch1/sd/vpa/proj/cosmogan/results_dir/{3}square/{0}/chkpt/trainer0/sgd.shared.training_batch_begin.epoch.{1}.step.{2}/model0/'.format(fldr,epoch,step,img_size)\n",
    "\n",
    "dict_pars['data_dir']=data_dir\n",
    "dict_pars['code_dir']=code_dirs[str(img_size)]\n",
    "print(dict_pars)\n"
   ]
  },
  {
   "cell_type": "code",
   "execution_count": 8,
   "metadata": {},
   "outputs": [],
   "source": [
    "assert os.path.isdir(dict_pars['data_dir'])"
   ]
  },
  {
   "cell_type": "code",
   "execution_count": 9,
   "metadata": {},
   "outputs": [],
   "source": [
    "bash_strg='''#!/bin/bash\n",
    "#################\n",
    "#SBATCH --nodes=1\n",
    "#SBATCH --qos=regular\n",
    "#SBATCH --output=slurm-%x-%j.out\n",
    "#SBATCH --constraint=gpu\n",
    "#SBATCH --account=m3363\n",
    "#SBATCH --ntasks-per-node=8\n",
    "#SBATCH --cpus-per-task=8\n",
    "#SBATCH --gpus-per-task=1\n",
    "#SBATCH --time={time}\n",
    "#SBATCH --job-name={job_name}\n",
    "\n",
    "echo \"--start date\" `date` `date +%s`\n",
    "echo '--hostname ' $HOSTNAME\n",
    "\n",
    "### Initial setup\n",
    "module purge\n",
    "module load cgpu\n",
    "module load modules/3.2.11.4 gcc/8.3.0 cuda/10.2.89 mvapich2/2.3.2 cmake/3.14.4 python/3.7-anaconda-2019.10\n",
    "module use /global/cfs/cdirs/m3363/lbann/tom_lbann_install_20210223/etc/modulefiles\n",
    "module load lbann\n",
    "\n",
    "export MKL_THREADING_LAYER=GNU\n",
    "export SPACK_ROOT=/global/cfs/cdirs/m3363/lbann/tom_spack\n",
    "$SPACK_ROOT/share/spack/setup-env.sh\n",
    "\n",
    "export MV2_ENABLE_AFFINITY=0\n",
    "export MV2_USE_CUDA=1\n",
    "export IBV_FORK_SAFE=1\n",
    "\n",
    "### Run the main code\n",
    "code_dir={code_dir}\n",
    "data_dir={data_dir}                                                 \n",
    "\n",
    "python $code_dir/test_exagan.py --seed {seed} -b {batchsize} -stp {step_interval} {mcr} {spec_loss} --lambda_spec {lambda_spec} -lr {learn_rate} --nodes {nodes} --procs {procs} --suffix {job_name} --epochs {epochs} -dr $data_dir \n",
    "echo \"--end date\" `date` `date +%s`\n",
    "'''.format(**dict_pars)"
   ]
  },
  {
   "cell_type": "code",
   "execution_count": 10,
   "metadata": {},
   "outputs": [],
   "source": [
    "# bash_strg"
   ]
  },
  {
   "cell_type": "code",
   "execution_count": 11,
   "metadata": {},
   "outputs": [
    {
     "name": "stdout",
     "output_type": "stream",
     "text": [
      "/global/cfs/cdirs/m3363/vayyar/cosmogan_data/results_data/batch_gen_images.sh\n"
     ]
    }
   ],
   "source": [
    "### Write bash file\n",
    "staging_loc='/global/cfs/cdirs/m3363/vayyar/cosmogan_data/results_data/'\n",
    "fname='batch_gen_images.sh'\n",
    "filename=staging_loc+fname\n",
    "print(filename)\n",
    "with open (filename,'w') as f:\n",
    "    f.write(bash_strg)"
   ]
  },
  {
   "cell_type": "code",
   "execution_count": 12,
   "metadata": {},
   "outputs": [
    {
     "name": "stdout",
     "output_type": "stream",
     "text": [
      "#!/bin/bash\n",
      "#################\n",
      "#SBATCH --nodes=1\n",
      "#SBATCH --qos=regular\n",
      "#SBATCH --output=slurm-%x-%j.out\n",
      "#SBATCH --constraint=gpu\n",
      "#SBATCH --account=m3363\n",
      "#SBATCH --ntasks-per-node=8\n",
      "#SBATCH --cpus-per-task=8\n",
      "#SBATCH --gpus-per-task=1\n",
      "#SBATCH --time=00:15:00\n",
      "#SBATCH --job-name=gen_img\n",
      "\n",
      "echo \"--start date\" `date` `date +%s`\n",
      "echo '--hostname ' $HOSTNAME\n",
      "\n",
      "### Initial setup\n",
      "module purge\n",
      "module load cgpu\n",
      "module load modules/3.2.11.4 gcc/8.3.0 cuda/10.2.89 mvapich2/2.3.2 cmake/3.14.4 python/3.7-anaconda-2019.10\n",
      "module use /global/cfs/cdirs/m3363/lbann/tom_lbann_install_20210223/etc/modulefiles\n",
      "module load lbann\n",
      "\n",
      "export MKL_THREADING_LAYER=GNU\n",
      "export SPACK_ROOT=/global/cfs/cdirs/m3363/lbann/tom_spack\n",
      "$SPACK_ROOT/share/spack/setup-env.sh\n",
      "\n",
      "export MV2_ENABLE_AFFINITY=0\n",
      "export MV2_USE_CUDA=1\n",
      "export IBV_FORK_SAFE=1\n",
      "\n",
      "### Run the main code\n",
      "code_dir=/global/u1/v/vpa/project/jpt_notebooks/Cosmology/Cosmo_GAN/repositories/lbann_cosmogan/1_train/main_code/\n",
      "data_dir=/global/cscratch1/sd/vpa/proj/cosmogan/results_dir/128square/20210226_175209_bsize256_scale0.1_deterministic_off/chkpt/trainer0/sgd.shared.training_batch_begin.epoch.14.step.12460/model0/                                                 \n",
      "\n",
      "python $code_dir/test_exagan.py --seed 282 -b 550 -stp 1  --spec_loss --lambda_spec 0.5 -lr 0.002 --nodes 1 --procs 8 --suffix gen_img --epochs 2 -dr $data_dir \n",
      "echo \"--end date\" `date` `date +%s`\n"
     ]
    }
   ],
   "source": [
    "%%bash -s \"$filename\" ## Use python variable in bash\n",
    "cat $1\n",
    "chmod +x $1"
   ]
  },
  {
   "cell_type": "code",
   "execution_count": 13,
   "metadata": {},
   "outputs": [],
   "source": [
    "### Move to staging locations in project space:\n",
    "os.chdir(staging_loc)"
   ]
  },
  {
   "cell_type": "markdown",
   "metadata": {},
   "source": [
    "### Submit jobs to cori queue"
   ]
  },
  {
   "cell_type": "code",
   "execution_count": 14,
   "metadata": {},
   "outputs": [
    {
     "name": "stdout",
     "output_type": "stream",
     "text": [
      "Submitted batch job 1590609\n"
     ]
    }
   ],
   "source": [
    "%%bash -s \"$filename\" ## Use python variable in bash\n",
    "module load esslurm\n",
    "sbatch $1"
   ]
  },
  {
   "cell_type": "code",
   "execution_count": null,
   "metadata": {},
   "outputs": [],
   "source": []
  }
 ],
 "metadata": {
  "kernelspec": {
   "display_name": "v3",
   "language": "python",
   "name": "v-jpt-3"
  },
  "language_info": {
   "codemirror_mode": {
    "name": "ipython",
    "version": 3
   },
   "file_extension": ".py",
   "mimetype": "text/x-python",
   "name": "python",
   "nbconvert_exporter": "python",
   "pygments_lexer": "ipython3",
   "version": "3.8.6"
  }
 },
 "nbformat": 4,
 "nbformat_minor": 4
}
